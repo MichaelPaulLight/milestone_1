{
  "cells": [
    {
      "cell_type": "markdown",
      "source": "Requirements Setting and Import Packages",
      "metadata": {
        "cell_id": "c0fc2240609a401797dbafc05d6c6cc5",
        "deepnote_cell_type": "markdown"
      },
      "block_group": "d5a2a4487bf44ad59e4fc56d257d8ca0"
    },
    {
      "cell_type": "code",
      "source": "%%writefile requirements.txt\npandas==2.1.4",
      "metadata": {
        "cell_id": "59239b41b5204d79a110f9da4fd12d25",
        "deepnote_cell_type": "code"
      },
      "outputs": [],
      "outputs_reference": null,
      "execution_count": null,
      "block_group": "5707a40e3cd7495581c354566d134c17",
      "content_dependencies": null
    },
    {
      "cell_type": "code",
      "source": "!pip install -r requirements.txt",
      "metadata": {
        "cell_id": "c352229b3e094552bec631cbb2b6276c",
        "deepnote_cell_type": "code"
      },
      "outputs": [],
      "outputs_reference": null,
      "execution_count": null,
      "block_group": "942b17e31dd44b6bb67311fd0f5221d0",
      "content_dependencies": null
    },
    {
      "cell_type": "code",
      "source": "import pandas as pd",
      "metadata": {
        "cell_id": "8cbc6d4b21b742c28b2784ddd3501f6f",
        "deepnote_cell_type": "code"
      },
      "outputs": [],
      "outputs_reference": null,
      "execution_count": null,
      "block_group": "b87b3f590bcd4193b38c64bc045d37c6",
      "content_dependencies": null
    },
    {
      "cell_type": "markdown",
      "source": "Import Data into Pandas Dataframes",
      "metadata": {
        "cell_id": "0d9b95cbd92d489b8351dea6adf80ce8",
        "deepnote_cell_type": "markdown"
      },
      "block_group": "ff9009b0bcda4c6c92fc93db149b7eca"
    },
    {
      "cell_type": "code",
      "source": "ballot_measures_2018_df = pd.read_csv('Ballot Measures/California Ballot Measures Nov 2018.csv')\nballot_measures_2020_df = pd.read_csv('Ballot Measures/California Ballot Measures Nov 2020.csv')\nballot_measures_2022_df = pd.read_csv('Ballot Measures/California Ballot Measures Nov 2022.csv')",
      "metadata": {
        "cell_id": "80f5e7d4f7944abb805525dbf134a62a",
        "deepnote_cell_type": "code"
      },
      "outputs": [],
      "outputs_reference": null,
      "execution_count": null,
      "block_group": "5b8607293be844399542d255f144db81",
      "content_dependencies": null
    },
    {
      "cell_type": "code",
      "source": "voter_reg_2018_df = pd.read_csv('Voter Registration/Voter Registration by County 2018.csv')\nvoter_reg_2020_df = pd.read_csv('Voter Registration/Voter Registration by County 2020.csv')\nvoter_reg_2022_df = pd.read_csv('Voter Registration/Voter Registration by County 2022.csv')",
      "metadata": {
        "cell_id": "da3643d3a3e24546b4211ecb8b2c140d",
        "deepnote_cell_type": "code"
      },
      "outputs": [],
      "outputs_reference": null,
      "execution_count": null,
      "block_group": "382d3eddcc234232b5a38be9ce32b735",
      "content_dependencies": null
    },
    {
      "cell_type": "markdown",
      "source": "Preprocessing Functions - Ballot Measures",
      "metadata": {
        "cell_id": "0e053171f2af4512a7826211f02a2b51",
        "deepnote_cell_type": "markdown"
      },
      "block_group": "5aa75abceb664aeeb56001082c863061"
    },
    {
      "cell_type": "code",
      "source": "''' \nBallot Measures Functions\n\n    Cleaning\n        rename_ballot_columns: lower cases column names, replaces underscores with spaces, replaces 'count' with 'vote\n        select_relevant_columns selects columns from the full datafrom\n        select_prop_data: selects rows of data relevant to the Dialysis propositions\n        str_to_int: replaces comma and converts the string to int\n        convert_vote_counts: applies the str_to_int function to the vote count columns\n        get_vote_percent: calculates the total vote count, percent yes vote, and percent no vote for each county\n        spec_year_cols: adds in the year to relevant columns for later query use\n\n    Calling\n        preprocess_ballot_data: aggregation of the function calls for preprocessing of the ballot measures data\n\n    Merging\n        merge_ballot_data: merges the ballot measures data from 3 years on the county name columns\n'''\n\ndef rename_ballot_columns(df_in: pd.DataFrame) -> pd.DataFrame:\n    '''\n        lower cases column names, replaces underscores with spaces, replaces 'count' with 'vote\n        arguments: ballot measures dataframe raw data\n        returns: ballot measures dataframe with clean column names\n    '''\n    df_in.columns = map(str.lower, df_in.columns)\n    df_in.columns = [x.replace('_', ' ').replace('votes', 'count') for x in df_in.columns]\n    return df_in\n\ndef select_relevant_columns(df_in: pd.DataFrame) -> pd.DataFrame:\n    '''\n        selects columns from the full datafrom\n        arguments: ballot measures dataframe data\n        returns: ballot measures dataframe only relevant columns\n    '''\n    return df_in[['election date', 'county name', 'ballot measure name', 'yes count', 'no count']].copy()\n\ndef select_prop_data(df_in: pd.DataFrame) -> pd.DataFrame:\n    '''\n        selects rows of data relevant to the Dialysis propositions\n        arguments: ballot measures dataframe data\n        returns: ballot measures dataframe with relevant proposition rows\n    '''\n    # checks the year in the date column and applies the relevant proposition number\n    if '2018' in df_in['election date'].unique()[0]:\n        return df_in[df_in['ballot measure name']=='Proposition 8'].copy()\n    elif '2020' in df_in['election date'].unique()[0]:\n        return df_in[df_in['ballot measure name']=='Proposition 23'].copy()\n    elif '2022' in df_in['election date'].unique()[0]:\n        return df_in[df_in['ballot measure name']=='Proposition 29'].copy()\n    \ndef str_to_int(row):\n    '''\n        replaces comma and converts the string to int\n        arguments: row of dataframe\n        returns: row of dataframe\n    '''\n    return int(row.replace(',',''))\n    \ndef convert_vote_counts(df_in: pd.DataFrame) -> pd.DataFrame:\n    '''\n        applies the str_to_int function to the vote count columns\n        arguments: ballot measures dataframe\n        returns: ballot measures dataframe\n    '''\n    df_in['yes count'] = df_in['yes count'].apply(str_to_int)\n    df_in['no count'] = df_in['no count'].apply(str_to_int)\n    return df_in\n    \ndef get_vote_percent(df_in: pd.DataFrame) -> pd.DataFrame:\n    '''\n        calculates the total vote count, percent yes vote, and percent no vote for each county\n        arguments: ballot measures dataframe\n        returns: ballot measures dataframe\n    '''\n    df_in['total count'] = df_in['yes count'] + df_in['no count']\n    df_in['yes perc'] = df_in['yes count']/df_in['total count']\n    df_in['no perc'] = df_in['no count']/df_in['total count']\n    return df_in\n\ndef spec_year_cols(df_in: pd.DataFrame) -> pd.DataFrame:\n    '''\n        adds in the year to relevant columns for later query use\n        arguments: ballot measures dataframe\n        returns: ballot measures dataframe\n    '''\n    if '2018' in df_in['election date'].unique()[0]:\n        df_in.columns = [x+' 2018' if (x!= 'county name') and (x != 'ballot measure name') and (x != 'election date') \n                         else x for x in df_in.columns]\n    elif '2020' in df_in['election date'].unique()[0]:\n        df_in.columns = [x+' 2020' if (x!= 'county name') and (x != 'ballot measure name') and (x != 'election date') \n                         else x for x in df_in.columns]\n    elif '2022' in df_in['election date'].unique()[0]:\n        df_in.columns = [x+' 2022' if (x!= 'county name') and (x != 'ballot measure name') and (x != 'election date') \n                         else x for x in df_in.columns]\n    df_in.drop(columns=['election date', 'ballot measure name'], inplace=True)\n    return df_in\n\ndef preprocess_ballot_data(df_in: pd.DataFrame) -> pd.DataFrame:\n    '''\n        aggregates the function calls for preprocessing of the ballot measures data\n        arguments: ballot measures dataframe\n        returns: ballot measures dataframe\n    '''\n    df_in = select_prop_data(select_relevant_columns(rename_ballot_columns(df_in)))\n    df_in = get_vote_percent(convert_vote_counts(df_in))\n    return spec_year_cols(df_in)\n\ndef merge_ballot_data(df_list_in: list[pd.DataFrame]) -> pd.DataFrame:\n    '''\n        merges the ballot measures data from 3 years on the county name columns\n        arguments: list of ballot measure dataframes\n        returns: merged ballot measure dataframe\n    '''\n    #print(len(df_list_in[0]), len(df_list_in[1]), len(df_list_in[2]))\n    df_merged = df_list_in[0].merge(df_list_in[1], on='county name', how='outer')\n    df_merged = df_merged.merge(df_list_in[2], on='county name', how='outer')\n    return df_merged.dropna().copy()",
      "metadata": {
        "cell_id": "ac3318ca84d94ac4bde77a5172447b34",
        "deepnote_cell_type": "code"
      },
      "outputs": [],
      "outputs_reference": null,
      "execution_count": null,
      "block_group": "781a75492e7a48f4bc76d85981b693df",
      "content_dependencies": null
    },
    {
      "cell_type": "markdown",
      "source": "Preprocessing Functions - Voter Registration",
      "metadata": {
        "cell_id": "77be5c88f5044fc38bb6e2309e9688d2",
        "deepnote_cell_type": "markdown"
      },
      "block_group": "fa7a999400584e61b7194c9693f945e4"
    },
    {
      "cell_type": "code",
      "source": "''' \nVoter Registration Functions\n\n    Cleaning\n        drop_na_percent: drops fully empty rows and the summary stat rows called percent and state total\n        rename_clean_cols: lower cases column names, renames the county column to be county name\n        assign_year_cols: adds in the year marker on each column for easier queries later on\n        get_percentage_total: calculates the percentage of each registration part from the total number of registrations\n        convert_reg_counts: applies the str_to_int function to the all voter registration count columns\n\n    Calling\n        preprocess_voter_reg: applies preprocessing functions to the voter registration data\n'''\n\ndef drop_na_percent(df_in: pd.DataFrame) -> pd.DataFrame:\n    '''\n        drops fully empty rows and the summary stat rows called percent and state total\n        arguments: voter registration dataframe\n        returns: voter registration dataframe\n    '''\n    df_in = df_in.dropna(axis=0, how='all')\n    df_in = df_in[(df_in['County']!='Percent')&(df_in['County']!='State Total')].copy()\n    return df_in.reset_index(drop=True)\n\ndef rename_clean_cols(df_in: pd.DataFrame) -> pd.DataFrame:\n    '''\n        lower cases column names, renames the county column to be county name\n        arguments: voter registration dataframe\n        returns: voter registration dataframe\n    '''\n    df_in.columns = map(str.lower, df_in.columns)\n    df_in.rename(columns={'county':'county name'}, inplace=True)\n    return df_in\n\ndef assign_year_cols(df_in: pd.DataFrame, year_in: str) -> pd.DataFrame:\n    '''\n        adds in the year marker on each column for easier queries later on\n        arguments: voter registration dataframe, year to be added to col names\n        returns: voter registration dataframe\n    '''\n    if year_in == '2018':\n        df_in.columns = [x+' 2018' if (x!= 'county name') else x for x in df_in.columns]\n        return df_in\n    elif year_in == '2020':\n        df_in.columns = [x+' 2020' if (x!= 'county name') else x for x in df_in.columns]\n        return df_in\n    elif year_in == '2022':\n        df_in.columns = [x+' 2022' if (x!= 'county name') else x for x in df_in.columns]\n        return df_in\n    \ndef get_percentage_total(df_in: pd.DataFrame) -> pd.DataFrame:\n    '''\n        calculates the percentage of each registration part from the total number of registrations\n        arguments: voter registration dataframe\n        returns: voter registration dataframe\n    '''\n    df_in[df_in.columns[3:]] = df_in[df_in.columns[3:]].div(df_in['total registered'], axis=0)\n    return df_in\n\ndef convert_reg_counts(df_in: pd.DataFrame) -> pd.DataFrame:\n    '''\n        applies the str_to_int function to the all voter registration count columns\n        arguments: voter registration dataframe\n        returns: voter registration dataframe\n    '''\n    df_in['Eligible'] = df_in['Eligible'].apply(str_to_int)\n    df_in['Total Registered'] = df_in['Total Registered'].apply(str_to_int)\n    df_in['Democratic'] = df_in['Democratic'].apply(str_to_int)\n    df_in['Republican'] = df_in['Republican'].apply(str_to_int)\n    df_in['American Independent'] = df_in['American Independent'].apply(str_to_int)\n    df_in['Green'] = df_in['Green'].apply(str_to_int)\n    df_in['Libertarian'] = df_in['Libertarian'].apply(str_to_int)\n    df_in['Peace and Freedom'] = df_in['Peace and Freedom'].apply(str_to_int)\n    df_in['Unknown'] = df_in['Unknown'].apply(str_to_int)\n    df_in['Other'] = df_in['Other'].apply(str_to_int)\n    df_in['No Party Preference'] = df_in['No Party Preference'].apply(str_to_int)\n    return df_in\n\ndef preprocess_voter_reg(df_in: pd.DataFrame) -> pd.DataFrame:\n    '''\n        applies preprocessing functions to the voter registration data\n        arguments: voter registration dataframe raw\n        returns: voter registration dataframe clean\n    '''\n    return get_percentage_total(rename_clean_cols(convert_reg_counts(drop_na_percent(voter_reg_2018_df))))",
      "metadata": {
        "cell_id": "15ed24bbfd5b4966967ef46d84bd059e",
        "deepnote_cell_type": "code"
      },
      "outputs": [],
      "outputs_reference": null,
      "execution_count": null,
      "block_group": "ad2217474b2b45a394700cb68cf7d8f2",
      "content_dependencies": null
    },
    {
      "cell_type": "markdown",
      "source": "Function Calls - Voter Registration",
      "metadata": {
        "cell_id": "6f95ad68e553460980bc235d619fbfc7",
        "deepnote_cell_type": "markdown"
      },
      "block_group": "1eda6e9488f440eba589918ab3d99ba1"
    },
    {
      "cell_type": "code",
      "source": "voter_reg_2018_df= assign_year_cols(preprocess_voter_reg(voter_reg_2018_df), '2018')\nvoter_reg_2018_df.head()",
      "metadata": {
        "cell_id": "01943c117f214ac88c7d1736bf16b6e9",
        "deepnote_cell_type": "code"
      },
      "outputs": [],
      "outputs_reference": null,
      "execution_count": null,
      "block_group": "7a3bf9c7989f4200ba8d85346353b63f",
      "content_dependencies": null
    },
    {
      "cell_type": "code",
      "source": "voter_reg_2020_df= assign_year_cols(preprocess_voter_reg(voter_reg_2020_df), '2020')\nvoter_reg_2020_df.head()",
      "metadata": {
        "cell_id": "66f43cc93b934ad19e0de4ef32cb0708",
        "deepnote_cell_type": "code"
      },
      "outputs": [],
      "outputs_reference": null,
      "execution_count": null,
      "block_group": "6f7b380f3ca74705892c4e8cc6f3146c",
      "content_dependencies": null
    },
    {
      "cell_type": "code",
      "source": "voter_reg_2022_df= assign_year_cols(preprocess_voter_reg(voter_reg_2022_df), '2022')\nvoter_reg_2022_df.head()",
      "metadata": {
        "cell_id": "de7a5ff97c254edd9d2fce8b009f7c00",
        "deepnote_cell_type": "code"
      },
      "outputs": [],
      "outputs_reference": null,
      "execution_count": null,
      "block_group": "bd2a7e1a0684436c82fbc5d96e8337f8",
      "content_dependencies": null
    },
    {
      "cell_type": "code",
      "source": "clean_voter_data = merge_ballot_data([voter_reg_2018_df, voter_reg_2020_df, voter_reg_2022_df])#.to_csv('Voter Registration Data Clean.csv')",
      "metadata": {
        "cell_id": "e04c65b6bd2f4f65a30597f38f574ef3",
        "deepnote_cell_type": "code"
      },
      "outputs": [],
      "outputs_reference": null,
      "execution_count": null,
      "block_group": "60609ffb8fa3430c936de47bb60554ff",
      "content_dependencies": null
    },
    {
      "cell_type": "code",
      "source": "clean_voter_data.head()",
      "metadata": {
        "cell_id": "2d5483a516ec48f7a97de214af8963f6",
        "deepnote_cell_type": "code"
      },
      "outputs": [],
      "outputs_reference": null,
      "execution_count": null,
      "block_group": "d83d1982500c4a71b24ae28bedccf034",
      "content_dependencies": null
    },
    {
      "cell_type": "markdown",
      "source": "Cleaning and Merging Function Calls - Ballot Measures",
      "metadata": {
        "cell_id": "ea45cbabf92c4e1bb2c79b8bab12ff30",
        "deepnote_cell_type": "markdown"
      },
      "block_group": "5dab84bde6844e35b27ddaa7568af739"
    },
    {
      "cell_type": "code",
      "source": "clean_ballot_data = merge_ballot_data([preprocess_ballot_data(ballot_measures_2020_df), preprocess_ballot_data(ballot_measures_2018_df), preprocess_ballot_data(ballot_measures_2022_df)])",
      "metadata": {
        "cell_id": "a53c3f33ad86400abde5b5434abe5d00",
        "deepnote_cell_type": "code"
      },
      "outputs": [],
      "outputs_reference": null,
      "execution_count": null,
      "block_group": "19185cab55ad4975b0fe8fc7ced25ff2",
      "content_dependencies": null
    },
    {
      "cell_type": "code",
      "source": "clean_ballot_data.head()",
      "metadata": {
        "cell_id": "34d76bca373245d0b005fcad7e3e5076",
        "deepnote_cell_type": "code"
      },
      "outputs": [],
      "outputs_reference": null,
      "execution_count": null,
      "block_group": "31841f963ed942c2aa31b8fcc8723eed",
      "content_dependencies": null
    },
    {
      "cell_type": "markdown",
      "source": "<a style='text-decoration:none;line-height:16px;display:flex;color:#5B5B62;padding:10px;justify-content:end;' href='https://deepnote.com?utm_source=created-in-deepnote-cell&projectId=9a5367f9-570e-4fa7-91cf-2de38c70a230' target=\"_blank\">\n<img alt='Created in deepnote.com' style='display:inline;max-height:16px;margin:0px;margin-right:7.5px;' src='data:image/svg+xml;base64,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' > </img>\nCreated in <span style='font-weight:600;margin-left:4px;'>Deepnote</span></a>",
      "metadata": {
        "created_in_deepnote_cell": true,
        "deepnote_cell_type": "markdown"
      }
    }
  ],
  "nbformat": 4,
  "nbformat_minor": 0,
  "metadata": {
    "deepnote_notebook_id": "bc33bfd660e14c1ca3ffb94dd349ad28",
    "deepnote_execution_queue": []
  }
}