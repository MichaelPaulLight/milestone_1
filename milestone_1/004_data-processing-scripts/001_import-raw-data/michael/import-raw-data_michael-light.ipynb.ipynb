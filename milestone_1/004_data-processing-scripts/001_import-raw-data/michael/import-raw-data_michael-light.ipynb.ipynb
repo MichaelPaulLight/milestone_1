{
  "cells": [
    {
      "cell_type": "code",
      "source": "import pandas as pd\nimport requests\nfrom io import BytesIO",
      "metadata": {
        "cell_id": "27864e34dd3947848699db4e61b0ea02",
        "deepnote_cell_type": "code"
      },
      "outputs": [],
      "outputs_reference": null,
      "execution_count": null,
      "block_group": "4453f4fa7dd8476ba099aa6f85cc2c6a",
      "content_dependencies": null
    },
    {
      "cell_type": "code",
      "source": "# Defnining a function to download and combine excel files into a dataframe. \n\n# Takes as input a list of urls, and a number of rows to skip, which varies by year.\n\ndef download_excel_files(urls, rows_to_skip, sheet_number = 1):\n    all_data = []\n\n    for i, url in enumerate(urls, 1):\n        # Download an Excel file\n        response = requests.get(url)\n        \n        if response.status_code == 200:\n            # Read the Excel file into a BytesIO object\n            excel_file = BytesIO(response.content)\n            \n            # Read the second sheet of the Excel file, skip the first 4 rows of metadata\n            df = pd.read_excel(excel_file, skiprows = rows_to_skip, sheet_name = sheet_number)\n            \n            # Add columns to identify which file this data came from\n            df['source_file'] = f\"file_{i}\"\n            df['year'] = url.split('/')[-1].split('_')[0][-2:]  # Extract year from filename\n            \n            all_data.append(df)\n            \n            print(f\"Downloaded and processed file {i}\")\n        else:\n            print(f\"Failed to download file from {url}. Status code: {response.status_code}\")\n\n    if all_data:\n        # Combine all DataFrames into one\n        combined_df = pd.concat(all_data, ignore_index=True)\n        return combined_df\n    else:\n        print(\"No data was successfully downloaded.\")\n        return None",
      "metadata": {
        "source_hash": "47793f0c",
        "execution_start": 1726503048590,
        "execution_millis": 77,
        "deepnote_to_be_reexecuted": false,
        "cell_id": "5fa57126bc754c8f81ac5c7f988504be",
        "deepnote_cell_type": "code"
      },
      "outputs": [],
      "outputs_reference": null,
      "execution_count": 1,
      "block_group": "c0f6f59976584e948956d56b227d0606",
      "content_dependencies": null
    },
    {
      "cell_type": "code",
      "source": "# Attempted to use beautifulsoup to scrape the specialty care clinic file urls, but neither xpath or css selector worked reliably. \n\n# I split the urls into 2 lists, pre_2018_urls and post_2018_urls, on account of inconsistent data structure.\n\n# I also define a data dictionary url to create a dataframe that can be used to standardize column names between the newer and older datasets. \n\n# The plan is to create two dataframes for pre- and post-2018, modify the former's structure to match the latter, and combine.\n\n# Define a list of urls for files pertaining to 2013–2017\n\npre_2018_urls = [\n    \"https://data.chhs.ca.gov/dataset/17bbc0b0-869e-4168-b03b-48fa60c78577/resource/896c699c-07fc-4049-bda0-ff98ac8e3913/download/spcl13utildatafinal.xlsx\",\n    \"https://data.chhs.ca.gov/dataset/17bbc0b0-869e-4168-b03b-48fa60c78577/resource/91fa31b7-8f40-47f1-8bca-bbc063221993/download/spcl14utildatafinal.xlsx\",\n    \"https://data.chhs.ca.gov/dataset/17bbc0b0-869e-4168-b03b-48fa60c78577/resource/171f7631-4cb2-4b20-b238-d5ab3512ae10/download/spcl15utildatafinal.xlsx\",\n    \"https://data.chhs.ca.gov/dataset/17bbc0b0-869e-4168-b03b-48fa60c78577/resource/c6a99713-427a-44df-947d-d46c3402a4d6/download/spcl16_util_data_final-ver2.xlsx\",\n    \"https://data.chhs.ca.gov/dataset/17bbc0b0-869e-4168-b03b-48fa60c78577/resource/e7a2def1-c0dd-41af-a283-46e095bc0af2/download/spcl17_util_data_final.xlsx\"\n]\n\n# Define a list of urls for files pertaining to 2018–2023\n\npost_2018_urls = [\n    \"https://data.chhs.ca.gov/dataset/17bbc0b0-869e-4168-b03b-48fa60c78577/resource/8ad9b464-cbbd-4ad5-b37d-d2daa924768b/download/spcl23_util_data_prelim.xlsx\",\n    \"https://data.chhs.ca.gov/dataset/17bbc0b0-869e-4168-b03b-48fa60c78577/resource/00a9d637-d75a-4ba5-9ed5-87bb01f3a6e3/download/spcl22_util_data_final.xlsx\",\n    \"https://data.chhs.ca.gov/dataset/17bbc0b0-869e-4168-b03b-48fa60c78577/resource/f6339c46-8e35-4466-b972-ce132c43cbf4/download/spcl21_util_data_final.xlsx\",\n    \"https://data.chhs.ca.gov/dataset/17bbc0b0-869e-4168-b03b-48fa60c78577/resource/9c883633-b661-4da3-b39f-50536f60e573/download/spcl20_util_data_final.xlsx\",\n    \"https://data.chhs.ca.gov/dataset/17bbc0b0-869e-4168-b03b-48fa60c78577/resource/188b31e3-2307-479e-9bee-632083f902ba/download/spcl19_util_data_final.xlsx\",\n    \"https://data.chhs.ca.gov/dataset/17bbc0b0-869e-4168-b03b-48fa60c78577/resource/e891cdff-6092-4316-b406-dcbcf4a9c016/download/spcl18_util_data_final.xlsx\"\n]\n\ndata_dictionary_url = \"https://data.chhs.ca.gov/dataset/17bbc0b0-869e-4168-b03b-48fa60c78577/resource/188b31e3-2307-479e-9bee-632083f902ba/download/spcl19_util_data_final.xlsx\"",
      "metadata": {
        "source_hash": "91184ef",
        "execution_start": 1726503048591,
        "execution_millis": 77,
        "deepnote_to_be_reexecuted": false,
        "cell_id": "13e4ca1eadba4bc6a25aa16bfd433345",
        "deepnote_cell_type": "code"
      },
      "outputs": [],
      "outputs_reference": null,
      "execution_count": 2,
      "block_group": "ec7f21c922e344f6b784ac6fb2b92487",
      "content_dependencies": null
    },
    {
      "cell_type": "code",
      "source": "pre_2018_df = download_excel_files(pre_2018_urls, rows_to_skip = [1,2,3])\n\npost_2018_df = download_excel_files(post_2018_urls, rows_to_skip = [1,2,3,4])\n\ndata_dictionary = download_excel_files(data_dictionary_url, rows_to_skip = 0, sheet_number = 3)",
      "metadata": {
        "source_hash": "74b74334",
        "execution_start": 1726503048639,
        "execution_millis": 626,
        "deepnote_to_be_reexecuted": false,
        "cell_id": "a5428c1e93d74f038f9c71cbd69238b1",
        "deepnote_cell_type": "code"
      },
      "outputs": [],
      "outputs_reference": null,
      "execution_count": 3,
      "block_group": "516e7cd0ab914422a664dd4c25bab773",
      "content_dependencies": null
    },
    {
      "cell_type": "code",
      "source": "pre_2018_df.head()",
      "metadata": {
        "source_hash": "4b9a50c1",
        "execution_start": 1726332454650,
        "execution_millis": 222,
        "deepnote_to_be_reexecuted": false,
        "cell_id": "ef24854abece47189f83f878493fd9a6",
        "deepnote_cell_type": "code"
      },
      "outputs": [],
      "outputs_reference": null,
      "execution_count": null,
      "block_group": "a32c8923fa9e4fe099ecabc2dc4a6eed",
      "content_dependencies": null
    },
    {
      "cell_type": "code",
      "source": "post_2018_df",
      "metadata": {
        "source_hash": "3628f9d7",
        "execution_start": 1726332563133,
        "execution_millis": 385,
        "deepnote_table_state": {
          "sortBy": [],
          "filters": [],
          "pageSize": 5,
          "pageIndex": 0,
          "conditionalFilters": []
        },
        "deepnote_table_loading": false,
        "deepnote_to_be_reexecuted": true,
        "cell_id": "adbe3af1667b494bbab3208d94029985",
        "deepnote_cell_type": "code"
      },
      "outputs": [],
      "outputs_reference": null,
      "execution_count": null,
      "block_group": "e98bf753323e4495b646dfc1eae1c342",
      "content_dependencies": null
    },
    {
      "cell_type": "code",
      "source": "\n\n",
      "metadata": {
        "source_hash": "be4985d0",
        "deepnote_to_be_reexecuted": true,
        "cell_id": "ccfab77fef254791bb9a36f0af6440cc",
        "deepnote_cell_type": "code"
      },
      "outputs": [],
      "outputs_reference": null,
      "execution_count": null,
      "block_group": "173fcfbe57de4e57adc256e9ef9e4d78",
      "content_dependencies": null
    },
    {
      "cell_type": "markdown",
      "source": "<a style='text-decoration:none;line-height:16px;display:flex;color:#5B5B62;padding:10px;justify-content:end;' href='https://deepnote.com?utm_source=created-in-deepnote-cell&projectId=9a5367f9-570e-4fa7-91cf-2de38c70a230' target=\"_blank\">\n<img alt='Created in deepnote.com' style='display:inline;max-height:16px;margin:0px;margin-right:7.5px;' src='data:image/svg+xml;base64,PD94bWwgdmVyc2lvbj0iMS4wIiBlbmNvZGluZz0iVVRGLTgiPz4KPHN2ZyB3aWR0aD0iODBweCIgaGVpZ2h0PSI4MHB4IiB2aWV3Qm94PSIwIDAgODAgODAiIHZlcnNpb249IjEuMSIgeG1sbnM9Imh0dHA6Ly93d3cudzMub3JnLzIwMDAvc3ZnIiB4bWxuczp4bGluaz0iaHR0cDovL3d3dy53My5vcmcvMTk5OS94bGluayI+CiAgICA8IS0tIEdlbmVyYXRvcjogU2tldGNoIDU0LjEgKDc2NDkwKSAtIGh0dHBzOi8vc2tldGNoYXBwLmNvbSAtLT4KICAgIDx0aXRsZT5Hcm91cCAzPC90aXRsZT4KICAgIDxkZXNjPkNyZWF0ZWQgd2l0aCBTa2V0Y2guPC9kZXNjPgogICAgPGcgaWQ9IkxhbmRpbmciIHN0cm9rZT0ibm9uZSIgc3Ryb2tlLXdpZHRoPSIxIiBmaWxsPSJub25lIiBmaWxsLXJ1bGU9ImV2ZW5vZGQiPgogICAgICAgIDxnIGlkPSJBcnRib2FyZCIgdHJhbnNmb3JtPSJ0cmFuc2xhdGUoLTEyMzUuMDAwMDAwLCAtNzkuMDAwMDAwKSI+CiAgICAgICAgICAgIDxnIGlkPSJHcm91cC0zIiB0cmFuc2Zvcm09InRyYW5zbGF0ZSgxMjM1LjAwMDAwMCwgNzkuMDAwMDAwKSI+CiAgICAgICAgICAgICAgICA8cG9seWdvbiBpZD0iUGF0aC0yMCIgZmlsbD0iIzAyNjVCNCIgcG9pbnRzPSIyLjM3NjIzNzYyIDgwIDM4LjA0NzY2NjcgODAgNTcuODIxNzgyMiA3My44MDU3NTkyIDU3LjgyMTc4MjIgMzIuNzU5MjczOSAzOS4xNDAyMjc4IDMxLjY4MzE2ODMiPjwvcG9seWdvbj4KICAgICAgICAgICAgICAgIDxwYXRoIGQ9Ik0zNS4wMDc3MTgsODAgQzQyLjkwNjIwMDcsNzYuNDU0OTM1OCA0Ny41NjQ5MTY3LDcxLjU0MjI2NzEgNDguOTgzODY2LDY1LjI2MTk5MzkgQzUxLjExMjI4OTksNTUuODQxNTg0MiA0MS42NzcxNzk1LDQ5LjIxMjIyODQgMjUuNjIzOTg0Niw0OS4yMTIyMjg0IEMyNS40ODQ5Mjg5LDQ5LjEyNjg0NDggMjkuODI2MTI5Niw0My4yODM4MjQ4IDM4LjY0NzU4NjksMzEuNjgzMTY4MyBMNzIuODcxMjg3MSwzMi41NTQ0MjUgTDY1LjI4MDk3Myw2Ny42NzYzNDIxIEw1MS4xMTIyODk5LDc3LjM3NjE0NCBMMzUuMDA3NzE4LDgwIFoiIGlkPSJQYXRoLTIyIiBmaWxsPSIjMDAyODY4Ij48L3BhdGg+CiAgICAgICAgICAgICAgICA8cGF0aCBkPSJNMCwzNy43MzA0NDA1IEwyNy4xMTQ1MzcsMC4yNTcxMTE0MzYgQzYyLjM3MTUxMjMsLTEuOTkwNzE3MDEgODAsMTAuNTAwMzkyNyA4MCwzNy43MzA0NDA1IEM4MCw2NC45NjA0ODgyIDY0Ljc3NjUwMzgsNzkuMDUwMzQxNCAzNC4zMjk1MTEzLDgwIEM0Ny4wNTUzNDg5LDc3LjU2NzA4MDggNTMuNDE4MjY3Nyw3MC4zMTM2MTAzIDUzLjQxODI2NzcsNTguMjM5NTg4NSBDNTMuNDE4MjY3Nyw0MC4xMjg1NTU3IDM2LjMwMzk1NDQsMzcuNzMwNDQwNSAyNS4yMjc0MTcsMzcuNzMwNDQwNSBDMTcuODQzMDU4NiwzNy43MzA0NDA1IDkuNDMzOTE5NjYsMzcuNzMwNDQwNSAwLDM3LjczMDQ0MDUgWiIgaWQ9IlBhdGgtMTkiIGZpbGw9IiMzNzkzRUYiPjwvcGF0aD4KICAgICAgICAgICAgPC9nPgogICAgICAgIDwvZz4KICAgIDwvZz4KPC9zdmc+' > </img>\nCreated in <span style='font-weight:600;margin-left:4px;'>Deepnote</span></a>",
      "metadata": {
        "created_in_deepnote_cell": true,
        "deepnote_cell_type": "markdown"
      }
    }
  ],
  "nbformat": 4,
  "nbformat_minor": 0,
  "metadata": {
    "deepnote_notebook_id": "32da149562af4ca6b675835936c28be0",
    "deepnote_execution_queue": []
  }
}