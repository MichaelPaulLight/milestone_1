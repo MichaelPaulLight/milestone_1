{
 "cells": [
  {
   "cell_type": "markdown",
   "metadata": {},
   "source": [
    "# Comprehensive Database Tutorial and Demonstration\n",
    "\n",
    "This notebook provides a detailed walkthrough of our custom Database class, showcasing its features and functionalities. We'll cover everything from basic table access to advanced querying and analysis.\n",
    "\n",
    "## Table of Contents\n",
    "1. [Setup and Initialization](#1-setup-and-initialization)\n",
    "2. [Exploring Database Structure](#2-exploring-database-structure)\n",
    "3. [Accessing Tables and Views](#3-accessing-tables-and-views)\n",
    "4. [Creating and Managing Views](#4-creating-and-managing-views)\n",
    "5. [Merging Data](#5-merging-data)\n",
    "6. [Querying the Database](#6-querying-the-database)\n",
    "7. [Advanced Analysis](#7-advanced-analysis)\n",
    "8. [Error Handling and Best Practices](#8-error-handling-and-best-practices)\n",
    "9. [Performance Considerations](#9-performance-considerations)\n",
    "10. [Conclusion and Next Steps](#10-conclusion-and-next-steps)"
   ]
  },
  {
   "cell_type": "markdown",
   "metadata": {},
   "source": [
    "## 1. Setup and Initialization"
   ]
  },
  {
   "cell_type": "code",
   "execution_count": null,
   "metadata": {},
   "outputs": [],
   "source": [
    "import database_functions as func\n",
    "import pandas as pd\n",
    "import matplotlib.pyplot as plt\n",
    "%matplotlib inline\n",
    "import seaborn as sns\n",
    "\n",
    "# Create a Database instance\n",
    "\n",
    "db = func.Database()\n",
    "print(\"Database initialized successfully.\")"
   ]
  },
  {
   "cell_type": "markdown",
   "metadata": {},
   "source": [
    "## 2. Exploring Database Structure"
   ]
  },
  {
   "cell_type": "code",
   "execution_count": null,
   "metadata": {},
   "outputs": [],
   "source": [
    "# List all tables in the database\n",
    "print(\"Available tables:\")\n",
    "for table_name in db.tables.keys():\n",
    "    print(f\"- {table_name}\")\n",
    "\n",
    "# Display basic information about each table\n",
    "for table_name, table in db.tables.items():\n",
    "    print(f\"\\nTable: {table_name}\")\n",
    "    print(f\"  Rows: {table().shape[0]}\")\n",
    "    print(f\"  Columns: {table.get_columns()}\")\n",
    "    print(f\"  Available views: {', '.join(table.list_views())}\")"
   ]
  },
  {
   "cell_type": "markdown",
   "metadata": {},
   "source": [
    "## 3. Accessing Tables and Views"
   ]
  },
  {
   "cell_type": "code",
   "execution_count": null,
   "metadata": {},
   "outputs": [],
   "source": [
    "# Access a specific table\n",
    "voter_table = db.voter   # retruns a Table class\n",
    "voter_table_df = db.voter() # returns a dataframe\n",
    "voter_table_df = db.dataframes['voter'] # returns a dataframe\n",
    "\n",
    "# Return a list of column names in a Table class\n",
    "    # table_name.get_columns() -> list[column_name: str]\n",
    "voter_table.get_columns()\n",
    "\n",
    "# Return a list of available views in a Table class\n",
    "    # table_name.list_views() -> list[view_name: str]\n",
    "voter_table.list_views()\n",
    "\n",
    "# Access a specific view in 2 ways from a table class:\n",
    "voter_2022 = voter_table.get_view('2022')  # table_name.get_view(view_name)\n",
    "voter_2022 = voter_table._2022  # add prefix '_' to the view name starts with digit\n",
    "\n",
    "# Access a specific view in 2 ways from the database class: \n",
    "\n",
    "voter_2022 = db.get_view('voter', '2022')   # db.get_view(table_name, view_name)\n",
    "voter_2022 = db.voter._2022   # db.table_name.view_name\n",
    "\n",
    "voter_2022.head()"
   ]
  },
  {
   "cell_type": "markdown",
   "metadata": {},
   "source": [
    "## 4. Creating and Managing Views"
   ]
  },
  {
   "cell_type": "code",
   "execution_count": null,
   "metadata": {},
   "outputs": [],
   "source": [
    "# Add a new view to the voter table\n",
    "# db.add_view(table_name, view_name, columns)\n",
    "db.add_view('voter', 'registered_voters', ['county_name', 'total_registered_2018', 'total_registered_2020', 'total_registered_2022'])\n",
    "# db.voter.add_view('registered_voters', ['county_name', 'total_registered_2018', 'total_registered_2020', 'total_registered_2022'])\n",
    "\n",
    "# Verify the new view\n",
    "registered_voters = db.get_view('voter', 'registered_voters')\n",
    "registered_voters.head()\n"
   ]
  },
  {
   "cell_type": "markdown",
   "metadata": {},
   "source": [
    "## 5. Merging Data"
   ]
  },
  {
   "cell_type": "code",
   "execution_count": null,
   "metadata": {},
   "outputs": [],
   "source": [
    "# Merge multiple views\n",
    "# db.merge_views(list[(table_name, view_name), (table_name, view_name), ...], key = 'column_name')\n",
    "merged_views = db.merge_views([('demo', 'population'), ('voter', 'registered_voters')])\n",
    "# merged_views.head()\n",
    "\n",
    "# Merge all tables\n",
    "db_merged = db.merge_all()\n",
    "# db_merged.head()"
   ]
  },
  {
   "cell_type": "markdown",
   "metadata": {},
   "source": [
    "## 6. Querying the Database"
   ]
  },
  {
   "cell_type": "code",
   "execution_count": null,
   "metadata": {},
   "outputs": [],
   "source": [
    "# Query the merged database\n",
    "    # db.query(conditions, columns)\n",
    "    # conditions: dict[column_name: function]\n",
    "\n",
    "# Query for counties with population over 1 million\n",
    "    # conditions: populatio_january_2023 > 1000000\n",
    "    # columns: ['county_name', 'population_january_2023', 'median_household_income_2021']\n",
    "    \n",
    "large_counties = db.query({'population_january_2023': lambda x: x > 1000000}, \n",
    "                          ['county_name', 'population_january_2023', 'median_household_income_2021'])\n",
    "large_counties.head()\n",
    "\n",
    "# Query for multiple conditions using a dictionary\n",
    "conditions = {'population_january_2023': lambda x: x > 1000000,\n",
    "              'median_household_income_2021': lambda x: x > 90000}\n",
    "large_high_income_counties = db.query(conditions,\n",
    "    ['county_name', 'population_january_2023', 'median_household_income_2021']\n",
    ")\n",
    "large_high_income_counties.head()\n"
   ]
  },
  {
   "cell_type": "markdown",
   "metadata": {},
   "source": [
    "## 7. Advanced Analysis"
   ]
  },
  {
   "cell_type": "code",
   "execution_count": null,
   "metadata": {},
   "outputs": [],
   "source": [
    "\n",
    "# Analyze relationship between population and voter registration\n",
    "merged_data = db.merge_views([('demo', 'population'), ('voter', 'registered_voters')])\n",
    "merged_data['registration_rate_2022'] = merged_data['total_registered_2022'] / merged_data['population_january_2023'] * 100\n",
    "\n",
    "plt.figure(figsize=(10, 6))\n",
    "plt.scatter(merged_data['population_january_2023'], merged_data['registration_rate_2022'])\n",
    "plt.title('Population vs. Voter Registration Rate (2022)')\n",
    "plt.xlabel('Population')\n",
    "plt.ylabel('Voter Registration Rate (%)')\n",
    "plt.xscale('log')  # Use log scale for population\n",
    "plt.tight_layout()\n",
    "plt.show()\n",
    "\n",
    "# Calculate correlation\n",
    "correlation = merged_data['population_january_2023'].corr(merged_data['registration_rate_2022'])\n",
    "print(f\"\\nCorrelation between population and voter registration rate: {correlation:.2f}\")"
   ]
  },
  {
   "cell_type": "markdown",
   "metadata": {},
   "source": [
    "## 8. Error Handling and Best Practices"
   ]
  },
  {
   "cell_type": "code",
   "execution_count": null,
   "metadata": {},
   "outputs": [],
   "source": [
    "# Demonstrate error handling\n",
    "try:\n",
    "    db.get_view('non_existent_table', 'some_view')\n",
    "except ValueError as e:\n",
    "    print(\"Error:\", str(e))\n",
    "\n",
    "try:\n",
    "    db.get_view('voter', 'non_existent_view')\n",
    "except ValueError as e:\n",
    "    print(\"Error:\", str(e))\n",
    "\n",
    "# Best practice: Check if a view exists before trying to access it\n",
    "def safe_get_view(db, table_name, view_name):\n",
    "    if table_name in db.tables:\n",
    "        table = db.tables[table_name]\n",
    "        if view_name in table.list_views():\n",
    "            return table.get_view(view_name)\n",
    "        else:\n",
    "            print(f\"View '{view_name}' not found in table '{table_name}'\")\n",
    "    else:\n",
    "        print(f\"Table '{table_name}' not found in the database\")\n",
    "    return None\n",
    "\n",
    "# Example usage of safe_get_view\n",
    "safe_view = safe_get_view(db, 'voter', '2022')\n",
    "if safe_view is not None:\n",
    "    print(\"Successfully retrieved the '2022' view from the 'voter' table\")\n",
    "    print(safe_view.head())\n",
    "\n",
    "safe_get_view(db, 'non_existent_table', 'some_view')\n",
    "safe_get_view(db, 'voter', 'non_existent_view')"
   ]
  },
  {
   "cell_type": "markdown",
   "metadata": {},
   "source": [
    "## 9. Performance Considerations"
   ]
  },
  {
   "cell_type": "code",
   "execution_count": null,
   "metadata": {},
   "outputs": [],
   "source": [
    "import time\n",
    "\n",
    "def measure_time(func):\n",
    "    start_time = time.time()\n",
    "    result = func()\n",
    "    end_time = time.time()\n",
    "    print(f\"Operation took {end_time - start_time:.4f} seconds\")\n",
    "    return result\n",
    "\n",
    "print(\"Time to merge all tables:\")\n",
    "merged_all = measure_time(db.merge_all)\n",
    "\n",
    "print(\"\\nTime to query large counties:\")\n",
    "large_counties = measure_time(lambda: db.query({'population_january_2023': lambda x: x > 1000000}))\n",
    "\n",
    "print(\"\\nTime to access a view:\")\n",
    "voter_2022 = measure_time(lambda: db.get_view('voter', '2022'))\n",
    "\n",
    "# Comparing performance of different operations\n",
    "print(\"\\nComparing performance of different operations:\")\n",
    "print(\"1. Accessing a single table:\")\n",
    "measure_time(lambda: db.voter())\n",
    "\n",
    "print(\"\\n2. Accessing a view:\")\n",
    "measure_time(lambda: db.get_view('voter', '2022'))\n",
    "\n",
    "print(\"\\n3. Merging two views:\")\n",
    "measure_time(lambda: db.merge_views([('demo', 'population'), ('voter', 'registered_voters')]))\n",
    "\n",
    "print(\"\\n4. Querying the merged dataset:\")\n",
    "measure_time(lambda: db.query({'median_household_income_2021': lambda x: x > 100000}))\n"
   ]
  },
  {
   "cell_type": "markdown",
   "metadata": {},
   "source": [
    "## 10. Conclusion and Next Steps"
   ]
  }
 ],
 "metadata": {
  "kernelspec": {
   "display_name": "Python 3",
   "language": "python",
   "name": "python3"
  },
  "language_info": {
   "codemirror_mode": {
    "name": "ipython",
    "version": 3
   },
   "file_extension": ".py",
   "mimetype": "text/x-python",
   "name": "python",
   "nbconvert_exporter": "python",
   "pygments_lexer": "ipython3",
   "version": "3.11.9"
  }
 },
 "nbformat": 4,
 "nbformat_minor": 4
}
