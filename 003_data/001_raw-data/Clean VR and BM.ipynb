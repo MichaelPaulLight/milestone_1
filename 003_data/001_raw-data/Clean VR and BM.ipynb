{
 "cells": [
  {
   "cell_type": "markdown",
   "metadata": {},
   "source": [
    "Requirements Setting and Import Packages"
   ]
  },
  {
   "cell_type": "code",
   "execution_count": null,
   "metadata": {},
   "outputs": [],
   "source": [
    "%%writefile requirements.txt\n",
    "pandas==2.1.4"
   ]
  },
  {
   "cell_type": "code",
   "execution_count": null,
   "metadata": {},
   "outputs": [],
   "source": [
    "!pip install -r requirements.txt"
   ]
  },
  {
   "cell_type": "code",
   "execution_count": 1,
   "metadata": {},
   "outputs": [],
   "source": [
    "import pandas as pd"
   ]
  },
  {
   "cell_type": "markdown",
   "metadata": {},
   "source": [
    "Import Data into Pandas Dataframes"
   ]
  },
  {
   "cell_type": "code",
   "execution_count": null,
   "metadata": {},
   "outputs": [],
   "source": [
    "ballot_measures_2018_df = pd.read_csv('Ballot Measures/California Ballot Measures Nov 2018.csv')\n",
    "ballot_measures_2020_df = pd.read_csv('Ballot Measures/California Ballot Measures Nov 2020.csv')\n",
    "ballot_measures_2022_df = pd.read_csv('Ballot Measures/California Ballot Measures Nov 2022.csv')"
   ]
  },
  {
   "cell_type": "code",
   "execution_count": null,
   "metadata": {},
   "outputs": [],
   "source": [
    "voter_reg_2018_df = pd.read_csv('Voter Registration/Voter Registration by County 2018.csv')\n",
    "voter_reg_2020_df = pd.read_csv('Voter Registration/Voter Registration by County 2020.csv')\n",
    "voter_reg_2022_df = pd.read_csv('Voter Registration/Voter Registration by County 2022.csv')"
   ]
  },
  {
   "cell_type": "code",
   "execution_count": 15,
   "metadata": {},
   "outputs": [],
   "source": [
    "census_demo_df = pd.read_csv('Census Demographics\\DECENNIALDP2020.DP1-2024-09-18T002341.csv')"
   ]
  },
  {
   "cell_type": "markdown",
   "metadata": {},
   "source": [
    "Preprocessing Functions - Census Demos"
   ]
  },
  {
   "cell_type": "code",
   "execution_count": 17,
   "metadata": {},
   "outputs": [
    {
     "ename": "",
     "evalue": "",
     "output_type": "error",
     "traceback": [
      "\u001b[1;31mThe Kernel crashed while executing code in the current cell or a previous cell. \n",
      "\u001b[1;31mPlease review the code in the cell(s) to identify a possible cause of the failure. \n",
      "\u001b[1;31mClick <a href='https://aka.ms/vscodeJupyterKernelCrash'>here</a> for more info. \n",
      "\u001b[1;31mView Jupyter <a href='command:jupyter.viewOutput'>log</a> for further details."
     ]
    }
   ],
   "source": [
    "'''\n",
    "    Census Demographic Functions\n",
    "        \n",
    "        Cleaning\n",
    "            clean_cols_transpose: cleans and transposes column names to remove 'california' and 'county' to match county name conversion\n",
    "            rename_rows_cols: renames rows and columns, columns are stripped of whitespace, rows are cleaned of 'Percent' text\n",
    "'''\n",
    "\n",
    "def clean_cols_transpose(df_in: pd.DataFrame) -> pd.DataFrame:\n",
    "    '''\n",
    "        cleans and transposes column names to remove 'california' and 'county' to match county name conversion\n",
    "        arguments: census demo dataframe\n",
    "        returns: census demo dataframe with clean column names\n",
    "    '''\n",
    "    df_in.set_index('Label (Grouping)', inplace=True)\n",
    "    df_in.dropna(axis=0, how='all', inplace=True)\n",
    "    df_in.columns = [x.replace('California!!', ' ').replace('County,', '') for x in df_in.columns]\n",
    "    df_in = df_in.filter(like='Percent', axis=1).copy()\n",
    "    return df_in.T\n",
    "\n",
    "def rename_rows_cols(df_in: pd.DataFrame) -> pd.DataFrame:\n",
    "    '''\n",
    "        renames rows and columns, columns are stripped of whitespace, rows are cleaned of 'Percent' text\n",
    "        arguments: census demo dataframe after clean_cols_transpose\n",
    "        returns: census demo dataframe with clean column names\n",
    "    '''\n",
    "    df_in.columns = [x.lstrip()+' %' for x in df_in.columns]\n",
    "    df_in.reset_index(inplace=True)\n",
    "    df_in['index'] = df_in['index'].apply(lambda x: x.replace('Percent', ''))\n",
    "    df_in = df_in.map(lambda x: float(x.replace('%', '')) if 'X' not in x  and ' ' not in x else x )\n",
    "    df_in = df_in[df_in['index']!=' '].copy()\n",
    "    df_in.rename(columns={'index':'county name'}, inplace=True)\n",
    "    return df_in.drop(columns=['Total population %'])"
   ]
  },
  {
   "cell_type": "markdown",
   "metadata": {},
   "source": [
    "Preprocessing Functions - Ballot Measures"
   ]
  },
  {
   "cell_type": "code",
   "execution_count": null,
   "metadata": {},
   "outputs": [],
   "source": [
    "''' \n",
    "Ballot Measures Functions\n",
    "\n",
    "    Cleaning\n",
    "        rename_ballot_columns: lower cases column names, replaces underscores with spaces, replaces 'count' with 'vote\n",
    "        select_relevant_columns selects columns from the full datafrom\n",
    "        select_prop_data: selects rows of data relevant to the Dialysis propositions\n",
    "        str_to_int: replaces comma and converts the string to int\n",
    "        convert_vote_counts: applies the str_to_int function to the vote count columns\n",
    "        get_vote_percent: calculates the total vote count, percent yes vote, and percent no vote for each county\n",
    "        spec_year_cols: adds in the year to relevant columns for later query use\n",
    "\n",
    "    Calling\n",
    "        preprocess_ballot_data: aggregation of the function calls for preprocessing of the ballot measures data\n",
    "\n",
    "    Merging\n",
    "        merge_ballot_data: merges the ballot measures data from 3 years on the county name columns\n",
    "'''\n",
    "\n",
    "def rename_ballot_columns(df_in: pd.DataFrame) -> pd.DataFrame:\n",
    "    '''\n",
    "        lower cases column names, replaces underscores with spaces, replaces 'count' with 'vote\n",
    "        arguments: ballot measures dataframe raw data\n",
    "        returns: ballot measures dataframe with clean column names\n",
    "    '''\n",
    "    df_in.columns = map(str.lower, df_in.columns)\n",
    "    df_in.columns = [x.replace('_', ' ').replace('votes', 'count') for x in df_in.columns]\n",
    "    return df_in\n",
    "\n",
    "def select_relevant_columns(df_in: pd.DataFrame) -> pd.DataFrame:\n",
    "    '''\n",
    "        selects columns from the full datafrom\n",
    "        arguments: ballot measures dataframe data\n",
    "        returns: ballot measures dataframe only relevant columns\n",
    "    '''\n",
    "    return df_in[['election date', 'county name', 'ballot measure name', 'yes count', 'no count']].copy()\n",
    "\n",
    "def select_prop_data(df_in: pd.DataFrame) -> pd.DataFrame:\n",
    "    '''\n",
    "        selects rows of data relevant to the Dialysis propositions\n",
    "        arguments: ballot measures dataframe data\n",
    "        returns: ballot measures dataframe with relevant proposition rows\n",
    "    '''\n",
    "    # checks the year in the date column and applies the relevant proposition number\n",
    "    if '2018' in df_in['election date'].unique()[0]:\n",
    "        return df_in[df_in['ballot measure name']=='Proposition 8'].copy()\n",
    "    elif '2020' in df_in['election date'].unique()[0]:\n",
    "        return df_in[df_in['ballot measure name']=='Proposition 23'].copy()\n",
    "    elif '2022' in df_in['election date'].unique()[0]:\n",
    "        return df_in[df_in['ballot measure name']=='Proposition 29'].copy()\n",
    "    \n",
    "def str_to_int(row):\n",
    "    '''\n",
    "        replaces comma and converts the string to int\n",
    "        arguments: row of dataframe\n",
    "        returns: row of dataframe\n",
    "    '''\n",
    "    return int(row.replace(',',''))\n",
    "    \n",
    "def convert_vote_counts(df_in: pd.DataFrame) -> pd.DataFrame:\n",
    "    '''\n",
    "        applies the str_to_int function to the vote count columns\n",
    "        arguments: ballot measures dataframe\n",
    "        returns: ballot measures dataframe\n",
    "    '''\n",
    "    df_in['yes count'] = df_in['yes count'].apply(str_to_int)\n",
    "    df_in['no count'] = df_in['no count'].apply(str_to_int)\n",
    "    return df_in\n",
    "    \n",
    "def get_vote_percent(df_in: pd.DataFrame) -> pd.DataFrame:\n",
    "    '''\n",
    "        calculates the total vote count, percent yes vote, and percent no vote for each county\n",
    "        arguments: ballot measures dataframe\n",
    "        returns: ballot measures dataframe\n",
    "    '''\n",
    "    df_in['total count'] = df_in['yes count'] + df_in['no count']\n",
    "    df_in['yes perc'] = df_in['yes count']/df_in['total count']\n",
    "    df_in['no perc'] = df_in['no count']/df_in['total count']\n",
    "    return df_in\n",
    "\n",
    "def spec_year_cols(df_in: pd.DataFrame) -> pd.DataFrame:\n",
    "    '''\n",
    "        adds in the year to relevant columns for later query use\n",
    "        arguments: ballot measures dataframe\n",
    "        returns: ballot measures dataframe\n",
    "    '''\n",
    "    if '2018' in df_in['election date'].unique()[0]:\n",
    "        df_in.columns = [x+' 2018' if (x!= 'county name') and (x != 'ballot measure name') and (x != 'election date') \n",
    "                         else x for x in df_in.columns]\n",
    "    elif '2020' in df_in['election date'].unique()[0]:\n",
    "        df_in.columns = [x+' 2020' if (x!= 'county name') and (x != 'ballot measure name') and (x != 'election date') \n",
    "                         else x for x in df_in.columns]\n",
    "    elif '2022' in df_in['election date'].unique()[0]:\n",
    "        df_in.columns = [x+' 2022' if (x!= 'county name') and (x != 'ballot measure name') and (x != 'election date') \n",
    "                         else x for x in df_in.columns]\n",
    "    df_in.drop(columns=['election date', 'ballot measure name'], inplace=True)\n",
    "    return df_in\n",
    "\n",
    "def preprocess_ballot_data(df_in: pd.DataFrame) -> pd.DataFrame:\n",
    "    '''\n",
    "        aggregates the function calls for preprocessing of the ballot measures data\n",
    "        arguments: ballot measures dataframe\n",
    "        returns: ballot measures dataframe\n",
    "    '''\n",
    "    df_in = select_prop_data(select_relevant_columns(rename_ballot_columns(df_in)))\n",
    "    df_in = get_vote_percent(convert_vote_counts(df_in))\n",
    "    return spec_year_cols(df_in)\n",
    "\n",
    "def merge_ballot_data(df_list_in: list[pd.DataFrame]) -> pd.DataFrame:\n",
    "    '''\n",
    "        merges the ballot measures data from 3 years on the county name columns\n",
    "        arguments: list of ballot measure dataframes\n",
    "        returns: merged ballot measure dataframe\n",
    "    '''\n",
    "    #print(len(df_list_in[0]), len(df_list_in[1]), len(df_list_in[2]))\n",
    "    df_merged = df_list_in[0].merge(df_list_in[1], on='county name', how='outer')\n",
    "    df_merged = df_merged.merge(df_list_in[2], on='county name', how='outer')\n",
    "    return df_merged.dropna().copy()"
   ]
  },
  {
   "cell_type": "markdown",
   "metadata": {},
   "source": [
    "Preprocessing Functions - Voter Registration"
   ]
  },
  {
   "cell_type": "code",
   "execution_count": null,
   "metadata": {},
   "outputs": [],
   "source": [
    "''' \n",
    "Voter Registration Functions\n",
    "\n",
    "    Cleaning\n",
    "        drop_na_percent: drops fully empty rows and the summary stat rows called percent and state total\n",
    "        rename_clean_cols: lower cases column names, renames the county column to be county name\n",
    "        assign_year_cols: adds in the year marker on each column for easier queries later on\n",
    "        get_percentage_total: calculates the percentage of each registration part from the total number of registrations\n",
    "        convert_reg_counts: applies the str_to_int function to the all voter registration count columns\n",
    "\n",
    "    Calling\n",
    "        preprocess_voter_reg: applies preprocessing functions to the voter registration data\n",
    "'''\n",
    "\n",
    "def drop_na_percent(df_in: pd.DataFrame) -> pd.DataFrame:\n",
    "    '''\n",
    "        drops fully empty rows and the summary stat rows called percent and state total\n",
    "        arguments: voter registration dataframe\n",
    "        returns: voter registration dataframe\n",
    "    '''\n",
    "    df_in = df_in.dropna(axis=0, how='all')\n",
    "    df_in = df_in[(df_in['County']!='Percent')&(df_in['County']!='State Total')].copy()\n",
    "    return df_in.reset_index(drop=True)\n",
    "\n",
    "def rename_clean_cols(df_in: pd.DataFrame) -> pd.DataFrame:\n",
    "    '''\n",
    "        lower cases column names, renames the county column to be county name\n",
    "        arguments: voter registration dataframe\n",
    "        returns: voter registration dataframe\n",
    "    '''\n",
    "    df_in.columns = map(str.lower, df_in.columns)\n",
    "    df_in.rename(columns={'county':'county name'}, inplace=True)\n",
    "    return df_in\n",
    "\n",
    "def assign_year_cols(df_in: pd.DataFrame, year_in: str) -> pd.DataFrame:\n",
    "    '''\n",
    "        adds in the year marker on each column for easier queries later on\n",
    "        arguments: voter registration dataframe, year to be added to col names\n",
    "        returns: voter registration dataframe\n",
    "    '''\n",
    "    if year_in == '2018':\n",
    "        df_in.columns = [x+' 2018' if (x!= 'county name') else x for x in df_in.columns]\n",
    "        return df_in\n",
    "    elif year_in == '2020':\n",
    "        df_in.columns = [x+' 2020' if (x!= 'county name') else x for x in df_in.columns]\n",
    "        return df_in\n",
    "    elif year_in == '2022':\n",
    "        df_in.columns = [x+' 2022' if (x!= 'county name') else x for x in df_in.columns]\n",
    "        return df_in\n",
    "    \n",
    "def get_percentage_total(df_in: pd.DataFrame) -> pd.DataFrame:\n",
    "    '''\n",
    "        calculates the percentage of each registration part from the total number of registrations\n",
    "        arguments: voter registration dataframe\n",
    "        returns: voter registration dataframe\n",
    "    '''\n",
    "    df_in[df_in.columns[3:]] = df_in[df_in.columns[3:]].div(df_in['total registered'], axis=0)\n",
    "    return df_in\n",
    "\n",
    "def convert_reg_counts(df_in: pd.DataFrame) -> pd.DataFrame:\n",
    "    '''\n",
    "        applies the str_to_int function to the all voter registration count columns\n",
    "        arguments: voter registration dataframe\n",
    "        returns: voter registration dataframe\n",
    "    '''\n",
    "    df_in['Eligible'] = df_in['Eligible'].apply(str_to_int)\n",
    "    df_in['Total Registered'] = df_in['Total Registered'].apply(str_to_int)\n",
    "    df_in['Democratic'] = df_in['Democratic'].apply(str_to_int)\n",
    "    df_in['Republican'] = df_in['Republican'].apply(str_to_int)\n",
    "    df_in['American Independent'] = df_in['American Independent'].apply(str_to_int)\n",
    "    df_in['Green'] = df_in['Green'].apply(str_to_int)\n",
    "    df_in['Libertarian'] = df_in['Libertarian'].apply(str_to_int)\n",
    "    df_in['Peace and Freedom'] = df_in['Peace and Freedom'].apply(str_to_int)\n",
    "    df_in['Unknown'] = df_in['Unknown'].apply(str_to_int)\n",
    "    df_in['Other'] = df_in['Other'].apply(str_to_int)\n",
    "    df_in['No Party Preference'] = df_in['No Party Preference'].apply(str_to_int)\n",
    "    return df_in\n",
    "\n",
    "def preprocess_voter_reg(df_in: pd.DataFrame) -> pd.DataFrame:\n",
    "    '''\n",
    "        applies preprocessing functions to the voter registration data\n",
    "        arguments: voter registration dataframe raw\n",
    "        returns: voter registration dataframe clean\n",
    "    '''\n",
    "    return get_percentage_total(rename_clean_cols(convert_reg_counts(drop_na_percent(voter_reg_2018_df))))"
   ]
  },
  {
   "cell_type": "markdown",
   "metadata": {},
   "source": [
    "Function Calls - Voter Registration"
   ]
  },
  {
   "cell_type": "code",
   "execution_count": null,
   "metadata": {},
   "outputs": [],
   "source": [
    "voter_reg_2018_df= assign_year_cols(preprocess_voter_reg(voter_reg_2018_df), '2018')\n",
    "voter_reg_2020_df= assign_year_cols(preprocess_voter_reg(voter_reg_2020_df), '2020')\n",
    "voter_reg_2022_df= assign_year_cols(preprocess_voter_reg(voter_reg_2022_df), '2022')"
   ]
  },
  {
   "cell_type": "code",
   "execution_count": null,
   "metadata": {},
   "outputs": [],
   "source": [
    "clean_voter_data = merge_ballot_data([voter_reg_2018_df, voter_reg_2020_df, voter_reg_2022_df])\n",
    "clean_voter_data.head()"
   ]
  },
  {
   "cell_type": "markdown",
   "metadata": {},
   "source": [
    "Function Calls - Ballot Measures"
   ]
  },
  {
   "cell_type": "code",
   "execution_count": null,
   "metadata": {},
   "outputs": [],
   "source": [
    "clean_ballot_data = merge_ballot_data([preprocess_ballot_data(ballot_measures_2020_df), preprocess_ballot_data(ballot_measures_2018_df), preprocess_ballot_data(ballot_measures_2022_df)])"
   ]
  },
  {
   "cell_type": "code",
   "execution_count": null,
   "metadata": {},
   "outputs": [],
   "source": [
    "clean_ballot_data.head()"
   ]
  },
  {
   "cell_type": "markdown",
   "metadata": {},
   "source": [
    "Function Calls - Census Demographics"
   ]
  },
  {
   "cell_type": "code",
   "execution_count": 16,
   "metadata": {},
   "outputs": [],
   "source": [
    "rename_rows_cols(clean_cols_transpose(census_demo_df)).head()"
   ]
  }
 ],
 "metadata": {
  "kernelspec": {
   "display_name": "base",
   "language": "python",
   "name": "python3"
  },
  "language_info": {
   "codemirror_mode": {
    "name": "ipython",
    "version": 3
   },
   "file_extension": ".py",
   "mimetype": "text/x-python",
   "name": "python",
   "nbconvert_exporter": "python",
   "pygments_lexer": "ipython3",
   "version": "3.11.5"
  }
 },
 "nbformat": 4,
 "nbformat_minor": 2
}
