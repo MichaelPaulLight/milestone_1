{
 "cells": [
  {
   "cell_type": "markdown",
   "metadata": {},
   "source": [
    "Jupyter Notebook to Install Packages"
   ]
  },
  {
   "cell_type": "code",
   "execution_count": 14,
   "metadata": {},
   "outputs": [
    {
     "name": "stdout",
     "output_type": "stream",
     "text": [
      "Overwriting requirements.txt\n"
     ]
    }
   ],
   "source": [
    "%%writefile requirements.txt\n",
    "\n",
    "pandas>=2.2.3\n",
    "seaborn>=0.12.2\n",
    "numpy>=1.23.2\n",
    "matplotlib>=3.8.0\n",
    "matplotlib-inline>=0.1.6\n",
    "requests>=2.31.0\n",
    "regex>=2023.10.3\n",
    "polars>=1.9.0\n",
    "pyarrow>=11.0.0\n",
    "plotly>=5.9.0\n",
    "scripts>=3.0\n",
    "json5 >= 0.9.6\n",
    "requests>=2.31.0\n",
    "pathlib>=1.0.1"
   ]
  },
  {
   "cell_type": "code",
   "execution_count": 15,
   "metadata": {},
   "outputs": [],
   "source": [
    "!pip install -q -r requirements.txt"
   ]
  }
 ],
 "metadata": {
  "kernelspec": {
   "display_name": "base",
   "language": "python",
   "name": "python3"
  },
  "language_info": {
   "codemirror_mode": {
    "name": "ipython",
    "version": 3
   },
   "file_extension": ".py",
   "mimetype": "text/x-python",
   "name": "python",
   "nbconvert_exporter": "python",
   "pygments_lexer": "ipython3",
   "version": "3.11.5"
  }
 },
 "nbformat": 4,
 "nbformat_minor": 2
}
