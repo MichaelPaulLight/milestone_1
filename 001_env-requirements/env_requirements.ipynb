{
 "cells": [
  {
   "cell_type": "markdown",
   "metadata": {},
   "source": [
    "Jupyter Notebook to Install Packages"
   ]
  },
  {
   "cell_type": "code",
   "execution_count": 9,
   "metadata": {},
   "outputs": [
    {
     "name": "stdout",
     "output_type": "stream",
     "text": [
      "Overwriting requirements.txt\n"
     ]
    }
   ],
   "source": [
    "%%writefile requirements.txt\n",
    "\n",
    "pandas>=2.2.3\n",
    "seaborn>=0.12.2\n",
    "numpy>=1.23.2\n",
    "matplotlib>=3.8.0\n",
    "matplotlib-inline>=0.1.6\n",
    "requests>=2.31.0\n",
    "regex>=2023.10.3\n",
    "polars>=1.9.0\n",
    "pyarrow>=11.0.0\n",
    "zipfile>=0.1.3\n",
    "plotly>=5.9.0\n"
   ]
  },
  {
   "cell_type": "code",
   "execution_count": 6,
   "metadata": {},
   "outputs": [
    {
     "name": "stdout",
     "output_type": "stream",
     "text": [
      "Requirement already satisfied: pandas==2.2.3 in c:\\users\\iris.lin\\appdata\\local\\anaconda3\\lib\\site-packages (from -r requirements.txt (line 2)) (2.2.3)\n",
      "Requirement already satisfied: seaborn==0.12.2 in c:\\users\\iris.lin\\appdata\\local\\anaconda3\\lib\\site-packages (from -r requirements.txt (line 3)) (0.12.2)\n",
      "Requirement already satisfied: numpy>=1.23.2 in c:\\users\\iris.lin\\appdata\\local\\anaconda3\\lib\\site-packages (from -r requirements.txt (line 4)) (1.26.3)\n",
      "Requirement already satisfied: matplotlib==3.8.0 in c:\\users\\iris.lin\\appdata\\local\\anaconda3\\lib\\site-packages (from -r requirements.txt (line 5)) (3.8.0)\n",
      "Requirement already satisfied: matplotlib-inline==0.1.6 in c:\\users\\iris.lin\\appdata\\local\\anaconda3\\lib\\site-packages (from -r requirements.txt (line 6)) (0.1.6)\n",
      "Requirement already satisfied: python-dateutil>=2.8.2 in c:\\users\\iris.lin\\appdata\\local\\anaconda3\\lib\\site-packages (from pandas==2.2.3->-r requirements.txt (line 2)) (2.8.2)\n",
      "Requirement already satisfied: pytz>=2020.1 in c:\\users\\iris.lin\\appdata\\local\\anaconda3\\lib\\site-packages (from pandas==2.2.3->-r requirements.txt (line 2)) (2023.3.post1)\n",
      "Requirement already satisfied: tzdata>=2022.7 in c:\\users\\iris.lin\\appdata\\local\\anaconda3\\lib\\site-packages (from pandas==2.2.3->-r requirements.txt (line 2)) (2023.3)\n",
      "Requirement already satisfied: contourpy>=1.0.1 in c:\\users\\iris.lin\\appdata\\local\\anaconda3\\lib\\site-packages (from matplotlib==3.8.0->-r requirements.txt (line 5)) (1.2.0)\n",
      "Requirement already satisfied: cycler>=0.10 in c:\\users\\iris.lin\\appdata\\local\\anaconda3\\lib\\site-packages (from matplotlib==3.8.0->-r requirements.txt (line 5)) (0.11.0)\n",
      "Requirement already satisfied: fonttools>=4.22.0 in c:\\users\\iris.lin\\appdata\\local\\anaconda3\\lib\\site-packages (from matplotlib==3.8.0->-r requirements.txt (line 5)) (4.25.0)\n",
      "Requirement already satisfied: kiwisolver>=1.0.1 in c:\\users\\iris.lin\\appdata\\local\\anaconda3\\lib\\site-packages (from matplotlib==3.8.0->-r requirements.txt (line 5)) (1.4.4)\n",
      "Requirement already satisfied: packaging>=20.0 in c:\\users\\iris.lin\\appdata\\local\\anaconda3\\lib\\site-packages (from matplotlib==3.8.0->-r requirements.txt (line 5)) (23.1)\n",
      "Requirement already satisfied: pillow>=6.2.0 in c:\\users\\iris.lin\\appdata\\local\\anaconda3\\lib\\site-packages (from matplotlib==3.8.0->-r requirements.txt (line 5)) (10.0.1)\n",
      "Requirement already satisfied: pyparsing>=2.3.1 in c:\\users\\iris.lin\\appdata\\local\\anaconda3\\lib\\site-packages (from matplotlib==3.8.0->-r requirements.txt (line 5)) (3.0.9)\n",
      "Requirement already satisfied: traitlets in c:\\users\\iris.lin\\appdata\\local\\anaconda3\\lib\\site-packages (from matplotlib-inline==0.1.6->-r requirements.txt (line 6)) (5.7.1)\n",
      "Requirement already satisfied: six>=1.5 in c:\\users\\iris.lin\\appdata\\local\\anaconda3\\lib\\site-packages (from python-dateutil>=2.8.2->pandas==2.2.3->-r requirements.txt (line 2)) (1.16.0)\n"
     ]
    }
   ],
   "source": [
    "!pip install -r requirements.txt"
   ]
  }
 ],
 "metadata": {
  "kernelspec": {
   "display_name": "base",
   "language": "python",
   "name": "python3"
  },
  "language_info": {
   "codemirror_mode": {
    "name": "ipython",
    "version": 3
   },
   "file_extension": ".py",
   "mimetype": "text/x-python",
   "name": "python",
   "nbconvert_exporter": "python",
   "pygments_lexer": "ipython3",
   "version": "3.11.5"
  }
 },
 "nbformat": 4,
 "nbformat_minor": 2
}
