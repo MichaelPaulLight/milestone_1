{
 "cells": [
  {
   "cell_type": "code",
   "execution_count": 63,
   "metadata": {},
   "outputs": [],
   "source": [
    "import polars as pl\n",
    "\n",
    "# Load the data\n",
    "facility_df = pl.read_parquet('../../003_data/001_raw-data/2017-2024_national_cms_dialysis-facility_data.parquet')\n",
    "cahps_df = pl.read_parquet('../../003_data/001_raw-data/2017-2024_national_cms_dialysis-facility_cahps-data.parquet')\n",
    "\n",
    "# Display the first few rows of the cahps data\n",
    "cahps_df.head()\n",
    "\n",
    "# Filter the data for California\n",
    "cahps_df = cahps_df.filter(pl.col('state').is_in(['CA']))\n"
   ]
  },
  {
   "cell_type": "code",
   "execution_count": 64,
   "metadata": {},
   "outputs": [
    {
     "name": "stdout",
     "output_type": "stream",
     "text": [
      "Missing values before renaming:\n",
      "'county': 1478\n",
      "'countyparish': 3567\n",
      "\n",
      "Missing values after processing:\n",
      "'county': 0\n",
      "\n",
      "No rows were dropped. Row count remains 5045.\n"
     ]
    }
   ],
   "source": [
    "# Storing the initial number of rows to compare after cleaning\n",
    "initial_row_count = cahps_df.shape[0]\n",
    "\n",
    "# Defining a function to safely rename columns with the same name\n",
    "def safe_rename(df, old_name, new_name):\n",
    "    if old_name in df.columns and new_name not in df.columns:\n",
    "        return df.rename({old_name: new_name})\n",
    "    return df\n",
    "\n",
    "# Check missing values before renaming\n",
    "print(\"Missing values before renaming:\")\n",
    "print(f\"'county': {cahps_df['county'].null_count()}\")\n",
    "print(f\"'countyparish': {cahps_df['countyparish'].null_count()}\")\n",
    "\n",
    "# Safely rename columns\n",
    "cahps_df = safe_rename(cahps_df, 'zip', 'zip_code')\n",
    "cahps_df = safe_rename(cahps_df, 'telephone_number', 'phone_number')\n",
    "cahps_df = safe_rename(cahps_df, 'citytown', 'city')\n",
    "cahps_df = safe_rename(cahps_df, 'facility_name_', 'facility_name')\n",
    "cahps_df = safe_rename(cahps_df, 'facility', 'facility_name')\n",
    "cahps_df = safe_rename(cahps_df, 'state_', 'state')\n",
    "cahps_df = safe_rename(cahps_df, 'chain_organization_', 'chain_organization')\n",
    "cahps_df = safe_rename(cahps_df, 'ich_cahps_survey_of_patients_experiences_star_rating_', 'ich_cahps_survey_of_patients_experiences_star_rating')\n",
    "\n",
    "# Merge 'countyparish' and 'county' columns\n",
    "cahps_df = cahps_df.with_columns(pl.coalesce('county', 'countyparish').alias('county'))\n",
    "\n",
    "# Changing the name of columns with the string patientsrating to patients_rating\n",
    "for col in cahps_df.columns:\n",
    "    if 'patientsrating' in col:\n",
    "        new_col = col.replace('patientsrating', 'patients_rating')\n",
    "        if new_col in cahps_df.columns:\n",
    "            # Merge columns if the new name already exists\n",
    "            cahps_df = cahps_df.with_columns(pl.coalesce(new_col, col).alias(new_col))\n",
    "            cahps_df = cahps_df.drop(col)\n",
    "        else:\n",
    "            cahps_df = cahps_df.rename({col: new_col})\n",
    "\n",
    "# Drop the original, changed column names\n",
    "cahps_df = cahps_df.drop('zip', 'telephone_number', 'countyparish', 'facility_name_', 'facility', 'state_', 'chain_organization_', 'ich_cahps_survey_of_patients_experiences_star_rating_', 'citytown')\n",
    "\n",
    "# Check missing values after processing\n",
    "print(\"\\nMissing values after processing:\")\n",
    "print(f\"'county': {cahps_df['county'].null_count()}\")\n",
    "\n",
    "# Check if the number of rows has changed\n",
    "final_row_count = cahps_df.shape[0]\n",
    "if initial_row_count == final_row_count:\n",
    "    print(f\"\\nNo rows were dropped. Row count remains {final_row_count}.\")\n",
    "else:\n",
    "    print(f\"\\nWarning: Row count changed from {initial_row_count} to {final_row_count}.\")\n",
    "\n",
    "# Some data validation using null values in county column\n",
    "if cahps_df['county'].null_count() > 0:\n",
    "    print(\"\\nInvestigating remaining missing values in 'county':\")\n",
    "    missing_county = cahps_df.filter(pl.col('county').is_null())\n",
    "    print(missing_county.select(['facility_name', 'city', 'state', 'county']))"
   ]
  },
  {
   "cell_type": "code",
   "execution_count": null,
   "metadata": {},
   "outputs": [],
   "source": [
    "# cols i care about\n",
    "\n",
    "linearized_score_of_nephrologists_communication_and_caring, \n",
    "star_rating_of_nephrologists_communication_and_caring,\n",
    "linearized_score_of_quality_of_dialysis_center_care_and_operations,\n",
    "star_rating_of_quality_of_dialysis_center_care_and_operations,\n",
    "linearized_score_of_providing_information_to_patients,\n",
    "star_rating_of_providing_information_to_patients,\n",
    "linearized_score_of_rating_of_the_nephrologist,\n",
    "star_rating_of_the_nephrologist,\n",
    "linearized_score_of_rating_of_the_dialysis_center_staff, \n",
    "star_rating_of_the_dialysis_center_staff,\n",
    "linearized_score_of_rating_of_the_dialysis_facility,\n",
    "star_rating_of_the_dialysis_facility,\n",
    "total_number_of_completed_interviews_from_the_fall_and_spring_surveys,\n",
    "ich_cahps_survey_of_patients_experiences_star_rating,\n",
    "survey_response_rate,\n",
    "year,\n",
    "month, \n",
    "ichcahps_survey_response_rate,\n",
    "overall_ich_cahps_survey_of_patients_experiences_star_rating,\n",
    "ich_cahps_quality_of_patient_care_star_rating\n",
    "\n"
   ]
  }
 ],
 "metadata": {
  "kernelspec": {
   "display_name": "Python 3",
   "language": "python",
   "name": "python3"
  },
  "language_info": {
   "codemirror_mode": {
    "name": "ipython",
    "version": 3
   },
   "file_extension": ".py",
   "mimetype": "text/x-python",
   "name": "python",
   "nbconvert_exporter": "python",
   "pygments_lexer": "ipython3",
   "version": "3.11.10"
  }
 },
 "nbformat": 4,
 "nbformat_minor": 2
}
