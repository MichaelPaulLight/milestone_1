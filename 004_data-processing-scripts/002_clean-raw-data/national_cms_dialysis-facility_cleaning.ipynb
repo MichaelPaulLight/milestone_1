{
 "cells": [
  {
   "cell_type": "code",
   "execution_count": 90,
   "metadata": {},
   "outputs": [],
   "source": [
    "import polars as pl\n",
    "\n",
    "# Load the data\n",
    "facility_df = pl.read_parquet('../../003_data/001_raw-data/2017-2024_national_cms_dialysis-facility_data.parquet')\n",
    "cahps_df = pl.read_parquet('../../003_data/001_raw-data/2017-2024_national_cms_dialysis-facility_cahps-data.parquet')\n",
    "\n",
    "# Display the first few rows of the cahps data\n",
    "cahps_df.head()\n",
    "\n",
    "# Filter the data for California\n",
    "cahps_df = cahps_df.filter(pl.col('state').is_in(['CA']))\n"
   ]
  },
  {
   "cell_type": "code",
   "execution_count": 61,
   "metadata": {},
   "outputs": [
    {
     "name": "stdout",
     "output_type": "stream",
     "text": [
      "Missing values before renaming:\n",
      "'county': 1478\n",
      "'countyparish': 3567\n",
      "\n",
      "Missing values after processing:\n",
      "'county': 0\n",
      "\n",
      "No rows were dropped. Row count remains 5045.\n"
     ]
    }
   ],
   "source": [
    "# Storing the initial number of rows to compare after cleaning\n",
    "initial_row_count = cahps_df.shape[0]\n",
    "\n",
    "# Check missing values before renaming columns\n",
    "print(\"Missing values before renaming:\")\n",
    "print(f\"'county': {cahps_df['county'].null_count()}\")\n",
    "print(f\"'countyparish': {cahps_df['countyparish'].null_count()}\")\n",
    "\n",
    "# Merge duplicate columns\n",
    "cahps_df = cahps_df.with_columns(pl.coalesce('city', 'citytown').alias('city'))\n",
    "cahps_df = cahps_df.with_columns(pl.coalesce('county', 'countyparish').alias('county'))\n",
    "cahps_df = cahps_df.with_columns(pl.coalesce('zip_code', 'zip').alias('zip_code'))\n",
    "cahps_df = cahps_df.with_columns(pl.coalesce('phone_number', 'telephone_number').alias('phone_number'))\n",
    "cahps_df = cahps_df.with_columns(pl.coalesce('facility', 'facility_name').alias('facility_name'))\n",
    "cahps_df = cahps_df.with_columns(pl.coalesce('facility_name', 'facility_name_').alias('facility_name'))\n",
    "cahps_df = cahps_df.with_columns(pl.coalesce('state', 'state_').alias('state'))\n",
    "cahps_df = cahps_df.with_columns(pl.coalesce('chain_organization', 'chain_organization_').alias('chain_organization'))\n",
    "cahps_df = cahps_df.with_columns(pl.coalesce('ich_cahps_survey_of_patients_experiences_star_rating', 'ich_cahps_survey_of_patients_experiences_star_rating_').alias('ich_cahps_survey_of_patients_experiences_star_rating'))\n",
    "cahps_df = cahps_df.with_columns(pl.coalesce('overall_ich_cahps_survey_of_patients_experiences_star_rating', 'ich_cahps_survey_of_patients_experiences_star_rating').alias('ich_cahps_survey_of_patients_experiences_star_rating'))\n",
    "\n",
    "# Changing the name of columns with the string patientsrating to patients_rating\n",
    "for col in cahps_df.columns:\n",
    "    if 'patientsrating' in col:\n",
    "        new_col = col.replace('patientsrating', 'patients_rating')\n",
    "        if new_col in cahps_df.columns:\n",
    "            # Merge columns if the new name already exists\n",
    "            cahps_df = cahps_df.with_columns(pl.coalesce(new_col, col).alias(new_col))\n",
    "            cahps_df = cahps_df.drop(col)\n",
    "        else:\n",
    "            cahps_df = cahps_df.rename({col: new_col})\n",
    "\n",
    "# Drop the original, changed column names\n",
    "cahps_df = cahps_df.drop('citytown', 'zip', 'telephone_number', 'countyparish', 'facility_name_', 'facility', 'state_', 'chain_organization_', 'ich_cahps_survey_of_patients_experiences_star_rating_', 'citytown')\n",
    "\n",
    "# Check missing values after processing\n",
    "print(\"\\nMissing values after processing:\")\n",
    "print(f\"'county': {cahps_df['county'].null_count()}\")\n",
    "\n",
    "# Check if the number of rows has changed\n",
    "final_row_count = cahps_df.shape[0]\n",
    "if initial_row_count == final_row_count:\n",
    "    print(f\"\\nNo rows were dropped. Row count remains {final_row_count}.\")\n",
    "else:\n",
    "    print(f\"\\nWarning: Row count changed from {initial_row_count} to {final_row_count}.\")\n",
    "\n",
    "# Some data validation using null values in county column\n",
    "if cahps_df['county'].null_count() > 0:\n",
    "    print(\"\\nInvestigating remaining missing values in 'county':\")\n",
    "    missing_county = cahps_df.filter(pl.col('county').is_null())\n",
    "    print(missing_county.select(['facility_name', 'city', 'state', 'county']))"
   ]
  },
  {
   "cell_type": "code",
   "execution_count": 62,
   "metadata": {},
   "outputs": [
    {
     "data": {
      "text/html": [
       "<div><style>\n",
       ".dataframe > thead > tr,\n",
       ".dataframe > tbody > tr {\n",
       "  text-align: right;\n",
       "  white-space: pre-wrap;\n",
       "}\n",
       "</style>\n",
       "<small>shape: (9, 61)</small><table border=\"1\" class=\"dataframe\"><thead><tr><th>statistic</th><th>provider_number</th><th>network</th><th>facility_name</th><th>address_line_1</th><th>address_line_2</th><th>state</th><th>zip_code</th><th>profit_or_nonprofit</th><th>chain_owned</th><th>chain_organization</th><th>ichcahps_date</th><th>ichcahps_data_availability_code</th><th>lower_box_percent_of_patientsnephrologists_communication_and_caring</th><th>middle_box_percent_of_patientsnephrologists_communication_and_caring</th><th>top_box_percent_of_patientsnephrologists_communication_and_caring</th><th>linearized_score_of_nephrologists_communication_and_caring</th><th>star_rating_of_nephrologists_communication_and_caring</th><th>lower_box_percent_of_patientsquality_of_dialysis_center_care_and_operations</th><th>middle_box_percent_of_patientsquality_of_dialysis_center_care_and_operations</th><th>top_box_percent_of_patientsquality_of_dialysis_center_care_and_operations</th><th>linearized_score_of_quality_of_dialysis_center_care_and_operations</th><th>star_rating_of_quality_of_dialysis_center_care_and_operations</th><th>lower_box_percent_of_patientsproviding_information_to_patients</th><th>top_box_percent_of_patients_providing_information_to_patients</th><th>linearized_score_of_providing_information_to_patients</th><th>star_rating_of_providing_information_to_patients</th><th>lower_box_percent_of_patients_rating_of_the_nephrologist</th><th>middle_box_percent_of_patients_rating_of_the_nephrologist</th><th>top_box_percent_of_patients_rating_of_the_nephrologist</th><th>linearized_score_of_rating_of_the_nephrologist</th><th>star_rating_of_the_nephrologist</th><th>lower_box_percent_of_patients_rating_of_the_dialysis_center_staff</th><th>middle_box_percent_of_patients_rating_of_the_dialysis_center_staff</th><th>top_box_percent_of_patients_rating_of_the_dialysis_center_staff</th><th>linearized_score_of_rating_of_the_dialysis_center_staff</th><th>star_rating_of_the_dialysis_center_staff</th><th>lower_box_percent_of_patients_rating_of_the_dialysis_facility</th><th>middle_box_percent_of_patients_rating_of_the_dialysis_facility</th><th>top_box_percent_of_patients_rating_of_the_dialysis_facility</th><th>linearized_score_of_rating_of_the_dialysis_facility</th><th>star_rating_of_the_dialysis_facility</th><th>total_number_of_completed_interviews_from_the_fall_and_spring_surveys</th><th>ich_cahps_survey_of_patients_experiences_star_rating</th><th>survey_response_rate</th><th>year</th><th>month</th><th>city</th><th>county</th><th>phone_number</th><th>lower_box_percent_of_patientsproviding_information_to_patients_</th><th>lower_box_percent_of_patients_rating_of_the_nephrologist_</th><th>lower_box_percent_of_patients_rating_of_the_dialysis_center_staff_</th><th>top_box_percent_of_patients_rating_of_the_dialysis_center_staff_</th><th>middle_box_percent_of_patients_rating_of_the_dialysis_facility_</th><th>ichcahps_survey_response_rate</th><th>lower_box_percent_of_patients_nephrologists_communication_and_caring</th><th>middle_box_percent_of_patients_nephrologists_communication_and_caring</th><th>top_box_percent_of_patients_nephrologists_communication_and_caring</th><th>overall_ich_cahps_survey_of_patients_experiences_star_rating</th><th>ich_cahps_quality_of_patient_care_star_rating</th></tr><tr><td>str</td><td>str</td><td>str</td><td>str</td><td>str</td><td>str</td><td>str</td><td>str</td><td>str</td><td>str</td><td>str</td><td>str</td><td>str</td><td>str</td><td>str</td><td>str</td><td>str</td><td>str</td><td>str</td><td>str</td><td>str</td><td>str</td><td>str</td><td>str</td><td>str</td><td>str</td><td>str</td><td>str</td><td>str</td><td>str</td><td>str</td><td>str</td><td>str</td><td>str</td><td>str</td><td>str</td><td>str</td><td>str</td><td>str</td><td>str</td><td>str</td><td>str</td><td>str</td><td>str</td><td>str</td><td>str</td><td>str</td><td>str</td><td>str</td><td>str</td><td>str</td><td>str</td><td>str</td><td>str</td><td>str</td><td>str</td><td>str</td><td>str</td><td>str</td><td>str</td><td>str</td></tr></thead><tbody><tr><td>&quot;count&quot;</td><td>&quot;5045&quot;</td><td>&quot;5045&quot;</td><td>&quot;5045&quot;</td><td>&quot;5045&quot;</td><td>&quot;2216&quot;</td><td>&quot;5045&quot;</td><td>&quot;5045&quot;</td><td>&quot;5045&quot;</td><td>&quot;5045&quot;</td><td>&quot;5045&quot;</td><td>&quot;5045&quot;</td><td>&quot;5045&quot;</td><td>&quot;2071&quot;</td><td>&quot;2071&quot;</td><td>&quot;2071&quot;</td><td>&quot;3426&quot;</td><td>&quot;3426&quot;</td><td>&quot;3426&quot;</td><td>&quot;3426&quot;</td><td>&quot;3426&quot;</td><td>&quot;3426&quot;</td><td>&quot;3426&quot;</td><td>&quot;2190&quot;</td><td>&quot;3426&quot;</td><td>&quot;3426&quot;</td><td>&quot;3426&quot;</td><td>&quot;2190&quot;</td><td>&quot;3426&quot;</td><td>&quot;3426&quot;</td><td>&quot;3426&quot;</td><td>&quot;3426&quot;</td><td>&quot;2190&quot;</td><td>&quot;3426&quot;</td><td>&quot;2190&quot;</td><td>&quot;3426&quot;</td><td>&quot;3426&quot;</td><td>&quot;3426&quot;</td><td>&quot;2190&quot;</td><td>&quot;3426&quot;</td><td>&quot;3426&quot;</td><td>&quot;3426&quot;</td><td>&quot;3426&quot;</td><td>&quot;2763&quot;</td><td>&quot;835&quot;</td><td>&quot;5045&quot;</td><td>&quot;5045&quot;</td><td>&quot;5045&quot;</td><td>&quot;5045&quot;</td><td>&quot;5045&quot;</td><td>&quot;1236&quot;</td><td>&quot;1236&quot;</td><td>&quot;1236&quot;</td><td>&quot;1236&quot;</td><td>&quot;1236&quot;</td><td>&quot;1928&quot;</td><td>&quot;1355&quot;</td><td>&quot;1355&quot;</td><td>&quot;1355&quot;</td><td>&quot;692&quot;</td><td>&quot;663&quot;</td></tr><tr><td>&quot;null_count&quot;</td><td>&quot;0&quot;</td><td>&quot;0&quot;</td><td>&quot;0&quot;</td><td>&quot;0&quot;</td><td>&quot;2829&quot;</td><td>&quot;0&quot;</td><td>&quot;0&quot;</td><td>&quot;0&quot;</td><td>&quot;0&quot;</td><td>&quot;0&quot;</td><td>&quot;0&quot;</td><td>&quot;0&quot;</td><td>&quot;2974&quot;</td><td>&quot;2974&quot;</td><td>&quot;2974&quot;</td><td>&quot;1619&quot;</td><td>&quot;1619&quot;</td><td>&quot;1619&quot;</td><td>&quot;1619&quot;</td><td>&quot;1619&quot;</td><td>&quot;1619&quot;</td><td>&quot;1619&quot;</td><td>&quot;2855&quot;</td><td>&quot;1619&quot;</td><td>&quot;1619&quot;</td><td>&quot;1619&quot;</td><td>&quot;2855&quot;</td><td>&quot;1619&quot;</td><td>&quot;1619&quot;</td><td>&quot;1619&quot;</td><td>&quot;1619&quot;</td><td>&quot;2855&quot;</td><td>&quot;1619&quot;</td><td>&quot;2855&quot;</td><td>&quot;1619&quot;</td><td>&quot;1619&quot;</td><td>&quot;1619&quot;</td><td>&quot;2855&quot;</td><td>&quot;1619&quot;</td><td>&quot;1619&quot;</td><td>&quot;1619&quot;</td><td>&quot;1619&quot;</td><td>&quot;2282&quot;</td><td>&quot;4210&quot;</td><td>&quot;0&quot;</td><td>&quot;0&quot;</td><td>&quot;0&quot;</td><td>&quot;0&quot;</td><td>&quot;0&quot;</td><td>&quot;3809&quot;</td><td>&quot;3809&quot;</td><td>&quot;3809&quot;</td><td>&quot;3809&quot;</td><td>&quot;3809&quot;</td><td>&quot;3117&quot;</td><td>&quot;3690&quot;</td><td>&quot;3690&quot;</td><td>&quot;3690&quot;</td><td>&quot;4353&quot;</td><td>&quot;4382&quot;</td></tr><tr><td>&quot;mean&quot;</td><td>null</td><td>null</td><td>null</td><td>null</td><td>null</td><td>null</td><td>null</td><td>null</td><td>null</td><td>null</td><td>null</td><td>null</td><td>null</td><td>null</td><td>null</td><td>null</td><td>null</td><td>null</td><td>null</td><td>null</td><td>null</td><td>null</td><td>null</td><td>null</td><td>null</td><td>null</td><td>null</td><td>null</td><td>null</td><td>null</td><td>null</td><td>null</td><td>null</td><td>null</td><td>null</td><td>null</td><td>null</td><td>null</td><td>null</td><td>null</td><td>null</td><td>null</td><td>null</td><td>null</td><td>null</td><td>null</td><td>null</td><td>null</td><td>null</td><td>null</td><td>null</td><td>null</td><td>null</td><td>null</td><td>null</td><td>null</td><td>null</td><td>null</td><td>null</td><td>null</td></tr><tr><td>&quot;std&quot;</td><td>null</td><td>null</td><td>null</td><td>null</td><td>null</td><td>null</td><td>null</td><td>null</td><td>null</td><td>null</td><td>null</td><td>null</td><td>null</td><td>null</td><td>null</td><td>null</td><td>null</td><td>null</td><td>null</td><td>null</td><td>null</td><td>null</td><td>null</td><td>null</td><td>null</td><td>null</td><td>null</td><td>null</td><td>null</td><td>null</td><td>null</td><td>null</td><td>null</td><td>null</td><td>null</td><td>null</td><td>null</td><td>null</td><td>null</td><td>null</td><td>null</td><td>null</td><td>null</td><td>null</td><td>null</td><td>null</td><td>null</td><td>null</td><td>null</td><td>null</td><td>null</td><td>null</td><td>null</td><td>null</td><td>null</td><td>null</td><td>null</td><td>null</td><td>null</td><td>null</td></tr><tr><td>&quot;min&quot;</td><td>&quot;50038&quot;</td><td>&quot;17&quot;</td><td>&quot;ABORN DIALYSIS CENTER&quot;</td><td>&quot;100 SOUTH SAN MATEO DRIVE&quot;</td><td>&quot;&quot;</td><td>&quot;CA&quot;</td><td>&quot;90003&quot;</td><td>&quot;Non-Profit&quot;</td><td>&quot;No&quot;</td><td>&quot;&quot;</td><td>&quot;04/19/2019-01/10/2020&quot;</td><td>&quot;1&quot;</td><td>&quot;1&quot;</td><td>&quot;0&quot;</td><td>&quot;40&quot;</td><td>&quot;60&quot;</td><td>&quot;1&quot;</td><td>&quot;10&quot;</td><td>&quot;10&quot;</td><td>&quot;39&quot;</td><td>&quot;67&quot;</td><td>&quot;1&quot;</td><td>&quot;10&quot;</td><td>&quot;53&quot;</td><td>&quot;53&quot;</td><td>&quot;1&quot;</td><td>&quot;0&quot;</td><td>&quot;10&quot;</td><td>&quot;26&quot;</td><td>&quot;64&quot;</td><td>&quot;1&quot;</td><td>&quot;0&quot;</td><td>&quot;10&quot;</td><td>&quot;35&quot;</td><td>&quot;70&quot;</td><td>&quot;1&quot;</td><td>&quot;0&quot;</td><td>&quot;0&quot;</td><td>&quot;100&quot;</td><td>&quot;72&quot;</td><td>&quot;1&quot;</td><td>&quot;100&quot;</td><td>&quot;1&quot;</td><td>&quot;12&quot;</td><td>&quot;2018&quot;</td><td>&quot;10&quot;</td><td>&quot;ALHAMBRA&quot;</td><td>&quot;&quot;</td><td>&quot;(209) 205-1126&quot;</td><td>&quot;10&quot;</td><td>&quot;0&quot;</td><td>&quot;0&quot;</td><td>&quot;40&quot;</td><td>&quot;0&quot;</td><td>&quot;10&quot;</td><td>&quot;10&quot;</td><td>&quot;10&quot;</td><td>&quot;47&quot;</td><td>&quot;2&quot;</td><td>&quot;1&quot;</td></tr><tr><td>&quot;25%&quot;</td><td>null</td><td>null</td><td>null</td><td>null</td><td>null</td><td>null</td><td>null</td><td>null</td><td>null</td><td>null</td><td>null</td><td>null</td><td>null</td><td>null</td><td>null</td><td>null</td><td>null</td><td>null</td><td>null</td><td>null</td><td>null</td><td>null</td><td>null</td><td>null</td><td>null</td><td>null</td><td>null</td><td>null</td><td>null</td><td>null</td><td>null</td><td>null</td><td>null</td><td>null</td><td>null</td><td>null</td><td>null</td><td>null</td><td>null</td><td>null</td><td>null</td><td>null</td><td>null</td><td>null</td><td>null</td><td>null</td><td>null</td><td>null</td><td>null</td><td>null</td><td>null</td><td>null</td><td>null</td><td>null</td><td>null</td><td>null</td><td>null</td><td>null</td><td>null</td><td>null</td></tr><tr><td>&quot;50%&quot;</td><td>null</td><td>null</td><td>null</td><td>null</td><td>null</td><td>null</td><td>null</td><td>null</td><td>null</td><td>null</td><td>null</td><td>null</td><td>null</td><td>null</td><td>null</td><td>null</td><td>null</td><td>null</td><td>null</td><td>null</td><td>null</td><td>null</td><td>null</td><td>null</td><td>null</td><td>null</td><td>null</td><td>null</td><td>null</td><td>null</td><td>null</td><td>null</td><td>null</td><td>null</td><td>null</td><td>null</td><td>null</td><td>null</td><td>null</td><td>null</td><td>null</td><td>null</td><td>null</td><td>null</td><td>null</td><td>null</td><td>null</td><td>null</td><td>null</td><td>null</td><td>null</td><td>null</td><td>null</td><td>null</td><td>null</td><td>null</td><td>null</td><td>null</td><td>null</td><td>null</td></tr><tr><td>&quot;75%&quot;</td><td>null</td><td>null</td><td>null</td><td>null</td><td>null</td><td>null</td><td>null</td><td>null</td><td>null</td><td>null</td><td>null</td><td>null</td><td>null</td><td>null</td><td>null</td><td>null</td><td>null</td><td>null</td><td>null</td><td>null</td><td>null</td><td>null</td><td>null</td><td>null</td><td>null</td><td>null</td><td>null</td><td>null</td><td>null</td><td>null</td><td>null</td><td>null</td><td>null</td><td>null</td><td>null</td><td>null</td><td>null</td><td>null</td><td>null</td><td>null</td><td>null</td><td>null</td><td>null</td><td>null</td><td>null</td><td>null</td><td>null</td><td>null</td><td>null</td><td>null</td><td>null</td><td>null</td><td>null</td><td>null</td><td>null</td><td>null</td><td>null</td><td>null</td><td>null</td><td>null</td></tr><tr><td>&quot;max&quot;</td><td>&quot;752592&quot;</td><td>&quot;18&quot;</td><td>&quot;YUBA SUTTER DIALYSIS&quot;</td><td>&quot;UCSD Dialysis Center - 200 W. …</td><td>&quot;Suite B&quot;</td><td>&quot;CA&quot;</td><td>&quot;96080&quot;</td><td>&quot;Profit&quot;</td><td>&quot;Yes&quot;</td><td>&quot;US Renal Care, Inc.&quot;</td><td>&quot;31MAY2022-13JAN2023&quot;</td><td>&quot;270&quot;</td><td>&quot;9&quot;</td><td>&quot;9&quot;</td><td>&quot;90&quot;</td><td>&quot;Not Available&quot;</td><td>&quot;Not Available&quot;</td><td>&quot;Not Available&quot;</td><td>&quot;Not Available&quot;</td><td>&quot;Not Available&quot;</td><td>&quot;Not Available&quot;</td><td>&quot;Not Available&quot;</td><td>&quot;Not Available&quot;</td><td>&quot;Not Available&quot;</td><td>&quot;Not Available&quot;</td><td>&quot;Not Available&quot;</td><td>&quot;Not Available&quot;</td><td>&quot;Not Available&quot;</td><td>&quot;Not Available&quot;</td><td>&quot;Not Available&quot;</td><td>&quot;Not Available&quot;</td><td>&quot;Not Available&quot;</td><td>&quot;Not Available&quot;</td><td>&quot;Not Available&quot;</td><td>&quot;Not Available&quot;</td><td>&quot;Not Available&quot;</td><td>&quot;Not Available&quot;</td><td>&quot;Not Available&quot;</td><td>&quot;Not Available&quot;</td><td>&quot;Not Available&quot;</td><td>&quot;Not Available&quot;</td><td>&quot;Not Available&quot;</td><td>&quot;Not Available&quot;</td><td>&quot;45&quot;</td><td>&quot;2024&quot;</td><td>&quot;7&quot;</td><td>&quot;Yucca Valley&quot;</td><td>&quot;Yuba&quot;</td><td>&quot;(951) 977-9466&quot;</td><td>&quot;9&quot;</td><td>&quot;9&quot;</td><td>&quot;9&quot;</td><td>&quot;95&quot;</td><td>&quot;9&quot;</td><td>&quot;Not Available&quot;</td><td>&quot;Not Available&quot;</td><td>&quot;Not Available&quot;</td><td>&quot;Not Available&quot;</td><td>&quot;Not Available&quot;</td><td>&quot;Not Available&quot;</td></tr></tbody></table></div>"
      ],
      "text/plain": [
       "shape: (9, 61)\n",
       "┌────────────┬───────────┬─────────┬───────────┬───┬───────────┬───────────┬───────────┬───────────┐\n",
       "│ statistic  ┆ provider_ ┆ network ┆ facility_ ┆ … ┆ middle_bo ┆ top_box_p ┆ overall_i ┆ ich_cahps │\n",
       "│ ---        ┆ number    ┆ ---     ┆ name      ┆   ┆ x_percent ┆ ercent_of ┆ ch_cahps_ ┆ _quality_ │\n",
       "│ str        ┆ ---       ┆ str     ┆ ---       ┆   ┆ _of_patie ┆ _patients ┆ survey_of ┆ of_patien │\n",
       "│            ┆ str       ┆         ┆ str       ┆   ┆ nts…      ┆ _ne…      ┆ _pa…      ┆ t_c…      │\n",
       "│            ┆           ┆         ┆           ┆   ┆ ---       ┆ ---       ┆ ---       ┆ ---       │\n",
       "│            ┆           ┆         ┆           ┆   ┆ str       ┆ str       ┆ str       ┆ str       │\n",
       "╞════════════╪═══════════╪═════════╪═══════════╪═══╪═══════════╪═══════════╪═══════════╪═══════════╡\n",
       "│ count      ┆ 5045      ┆ 5045    ┆ 5045      ┆ … ┆ 1355      ┆ 1355      ┆ 692       ┆ 663       │\n",
       "│ null_count ┆ 0         ┆ 0       ┆ 0         ┆ … ┆ 3690      ┆ 3690      ┆ 4353      ┆ 4382      │\n",
       "│ mean       ┆ null      ┆ null    ┆ null      ┆ … ┆ null      ┆ null      ┆ null      ┆ null      │\n",
       "│ std        ┆ null      ┆ null    ┆ null      ┆ … ┆ null      ┆ null      ┆ null      ┆ null      │\n",
       "│ min        ┆ 50038     ┆ 17      ┆ ABORN     ┆ … ┆ 10        ┆ 47        ┆ 2         ┆ 1         │\n",
       "│            ┆           ┆         ┆ DIALYSIS  ┆   ┆           ┆           ┆           ┆           │\n",
       "│            ┆           ┆         ┆ CENTER    ┆   ┆           ┆           ┆           ┆           │\n",
       "│ 25%        ┆ null      ┆ null    ┆ null      ┆ … ┆ null      ┆ null      ┆ null      ┆ null      │\n",
       "│ 50%        ┆ null      ┆ null    ┆ null      ┆ … ┆ null      ┆ null      ┆ null      ┆ null      │\n",
       "│ 75%        ┆ null      ┆ null    ┆ null      ┆ … ┆ null      ┆ null      ┆ null      ┆ null      │\n",
       "│ max        ┆ 752592    ┆ 18      ┆ YUBA      ┆ … ┆ Not       ┆ Not       ┆ Not       ┆ Not       │\n",
       "│            ┆           ┆         ┆ SUTTER    ┆   ┆ Available ┆ Available ┆ Available ┆ Available │\n",
       "│            ┆           ┆         ┆ DIALYSIS  ┆   ┆           ┆           ┆           ┆           │\n",
       "└────────────┴───────────┴─────────┴───────────┴───┴───────────┴───────────┴───────────┴───────────┘"
      ]
     },
     "execution_count": 62,
     "metadata": {},
     "output_type": "execute_result"
    }
   ],
   "source": [
    "cahps_df.describe()"
   ]
  },
  {
   "cell_type": "code",
   "execution_count": 63,
   "metadata": {},
   "outputs": [],
   "source": [
    "# Select columns of interest\n",
    "cahps_df = cahps_df.select([\n",
    "    'year',\n",
    "    'provider_number',\n",
    "    'network',\n",
    "    'facility_name',\n",
    "    'address_line_1',\n",
    "    'address_line_2',\n",
    "    'city',\n",
    "    'state',\n",
    "    'zip_code',\n",
    "    'county',\n",
    "    'profit_or_nonprofit',\n",
    "    'phone_number',\n",
    "    'chain_owned',\n",
    "    'chain_organization',\n",
    "    'ichcahps_date',\n",
    "    'ichcahps_data_availability_code',\n",
    "    'linearized_score_of_nephrologists_communication_and_caring', \n",
    "    'star_rating_of_nephrologists_communication_and_caring',\n",
    "    'linearized_score_of_quality_of_dialysis_center_care_and_operations',\n",
    "    'star_rating_of_quality_of_dialysis_center_care_and_operations',\n",
    "    'linearized_score_of_providing_information_to_patients',\n",
    "    'star_rating_of_providing_information_to_patients',\n",
    "    'linearized_score_of_rating_of_the_nephrologist',\n",
    "    'star_rating_of_the_nephrologist',\n",
    "    'linearized_score_of_rating_of_the_dialysis_center_staff', \n",
    "    'star_rating_of_the_dialysis_center_staff',\n",
    "    'linearized_score_of_rating_of_the_dialysis_facility',\n",
    "    'star_rating_of_the_dialysis_facility',\n",
    "    'total_number_of_completed_interviews_from_the_fall_and_spring_surveys',\n",
    "    'ich_cahps_survey_of_patients_experiences_star_rating',\n",
    "    'survey_response_rate',\n",
    "    'ichcahps_survey_response_rate',\n",
    "    'ich_cahps_quality_of_patient_care_star_rating'\n",
    "])\n",
    "\n"
   ]
  },
  {
   "cell_type": "code",
   "execution_count": 64,
   "metadata": {},
   "outputs": [
    {
     "data": {
      "text/html": [
       "<div><style>\n",
       ".dataframe > thead > tr,\n",
       ".dataframe > tbody > tr {\n",
       "  text-align: right;\n",
       "  white-space: pre-wrap;\n",
       "}\n",
       "</style>\n",
       "<small>shape: (9, 34)</small><table border=\"1\" class=\"dataframe\"><thead><tr><th>statistic</th><th>year</th><th>provider_number</th><th>network</th><th>facility_name</th><th>address_line_1</th><th>address_line_2</th><th>city</th><th>state</th><th>zip_code</th><th>county</th><th>profit_or_nonprofit</th><th>phone_number</th><th>chain_owned</th><th>chain_organization</th><th>ichcahps_date</th><th>ichcahps_data_availability_code</th><th>linearized_score_of_nephrologists_communication_and_caring</th><th>star_rating_of_nephrologists_communication_and_caring</th><th>linearized_score_of_quality_of_dialysis_center_care_and_operations</th><th>star_rating_of_quality_of_dialysis_center_care_and_operations</th><th>linearized_score_of_providing_information_to_patients</th><th>star_rating_of_providing_information_to_patients</th><th>linearized_score_of_rating_of_the_nephrologist</th><th>star_rating_of_the_nephrologist</th><th>linearized_score_of_rating_of_the_dialysis_center_staff</th><th>star_rating_of_the_dialysis_center_staff</th><th>linearized_score_of_rating_of_the_dialysis_facility</th><th>star_rating_of_the_dialysis_facility</th><th>total_number_of_completed_interviews_from_the_fall_and_spring_surveys</th><th>ich_cahps_survey_of_patients_experiences_star_rating</th><th>survey_response_rate</th><th>ichcahps_survey_response_rate</th><th>ich_cahps_quality_of_patient_care_star_rating</th></tr><tr><td>str</td><td>str</td><td>str</td><td>str</td><td>str</td><td>str</td><td>str</td><td>str</td><td>str</td><td>str</td><td>str</td><td>str</td><td>str</td><td>str</td><td>str</td><td>str</td><td>str</td><td>str</td><td>str</td><td>str</td><td>str</td><td>str</td><td>str</td><td>str</td><td>str</td><td>str</td><td>str</td><td>str</td><td>str</td><td>str</td><td>str</td><td>str</td><td>str</td><td>str</td></tr></thead><tbody><tr><td>&quot;count&quot;</td><td>&quot;5045&quot;</td><td>&quot;5045&quot;</td><td>&quot;5045&quot;</td><td>&quot;5045&quot;</td><td>&quot;5045&quot;</td><td>&quot;2216&quot;</td><td>&quot;5045&quot;</td><td>&quot;5045&quot;</td><td>&quot;5045&quot;</td><td>&quot;5045&quot;</td><td>&quot;5045&quot;</td><td>&quot;5045&quot;</td><td>&quot;5045&quot;</td><td>&quot;5045&quot;</td><td>&quot;5045&quot;</td><td>&quot;5045&quot;</td><td>&quot;3426&quot;</td><td>&quot;3426&quot;</td><td>&quot;3426&quot;</td><td>&quot;3426&quot;</td><td>&quot;3426&quot;</td><td>&quot;3426&quot;</td><td>&quot;3426&quot;</td><td>&quot;3426&quot;</td><td>&quot;3426&quot;</td><td>&quot;3426&quot;</td><td>&quot;3426&quot;</td><td>&quot;3426&quot;</td><td>&quot;3426&quot;</td><td>&quot;2763&quot;</td><td>&quot;835&quot;</td><td>&quot;1928&quot;</td><td>&quot;663&quot;</td></tr><tr><td>&quot;null_count&quot;</td><td>&quot;0&quot;</td><td>&quot;0&quot;</td><td>&quot;0&quot;</td><td>&quot;0&quot;</td><td>&quot;0&quot;</td><td>&quot;2829&quot;</td><td>&quot;0&quot;</td><td>&quot;0&quot;</td><td>&quot;0&quot;</td><td>&quot;0&quot;</td><td>&quot;0&quot;</td><td>&quot;0&quot;</td><td>&quot;0&quot;</td><td>&quot;0&quot;</td><td>&quot;0&quot;</td><td>&quot;0&quot;</td><td>&quot;1619&quot;</td><td>&quot;1619&quot;</td><td>&quot;1619&quot;</td><td>&quot;1619&quot;</td><td>&quot;1619&quot;</td><td>&quot;1619&quot;</td><td>&quot;1619&quot;</td><td>&quot;1619&quot;</td><td>&quot;1619&quot;</td><td>&quot;1619&quot;</td><td>&quot;1619&quot;</td><td>&quot;1619&quot;</td><td>&quot;1619&quot;</td><td>&quot;2282&quot;</td><td>&quot;4210&quot;</td><td>&quot;3117&quot;</td><td>&quot;4382&quot;</td></tr><tr><td>&quot;mean&quot;</td><td>null</td><td>null</td><td>null</td><td>null</td><td>null</td><td>null</td><td>null</td><td>null</td><td>null</td><td>null</td><td>null</td><td>null</td><td>null</td><td>null</td><td>null</td><td>null</td><td>null</td><td>null</td><td>null</td><td>null</td><td>null</td><td>null</td><td>null</td><td>null</td><td>null</td><td>null</td><td>null</td><td>null</td><td>null</td><td>null</td><td>null</td><td>null</td><td>null</td></tr><tr><td>&quot;std&quot;</td><td>null</td><td>null</td><td>null</td><td>null</td><td>null</td><td>null</td><td>null</td><td>null</td><td>null</td><td>null</td><td>null</td><td>null</td><td>null</td><td>null</td><td>null</td><td>null</td><td>null</td><td>null</td><td>null</td><td>null</td><td>null</td><td>null</td><td>null</td><td>null</td><td>null</td><td>null</td><td>null</td><td>null</td><td>null</td><td>null</td><td>null</td><td>null</td><td>null</td></tr><tr><td>&quot;min&quot;</td><td>&quot;2018&quot;</td><td>&quot;50038&quot;</td><td>&quot;17&quot;</td><td>&quot;ABORN DIALYSIS CENTER&quot;</td><td>&quot;100 SOUTH SAN MATEO DRIVE&quot;</td><td>&quot;&quot;</td><td>&quot;ALHAMBRA&quot;</td><td>&quot;CA&quot;</td><td>&quot;90003&quot;</td><td>&quot;&quot;</td><td>&quot;Non-Profit&quot;</td><td>&quot;(209) 205-1126&quot;</td><td>&quot;No&quot;</td><td>&quot;&quot;</td><td>&quot;04/19/2019-01/10/2020&quot;</td><td>&quot;1&quot;</td><td>&quot;60&quot;</td><td>&quot;1&quot;</td><td>&quot;67&quot;</td><td>&quot;1&quot;</td><td>&quot;53&quot;</td><td>&quot;1&quot;</td><td>&quot;64&quot;</td><td>&quot;1&quot;</td><td>&quot;70&quot;</td><td>&quot;1&quot;</td><td>&quot;72&quot;</td><td>&quot;1&quot;</td><td>&quot;100&quot;</td><td>&quot;1&quot;</td><td>&quot;12&quot;</td><td>&quot;10&quot;</td><td>&quot;1&quot;</td></tr><tr><td>&quot;25%&quot;</td><td>null</td><td>null</td><td>null</td><td>null</td><td>null</td><td>null</td><td>null</td><td>null</td><td>null</td><td>null</td><td>null</td><td>null</td><td>null</td><td>null</td><td>null</td><td>null</td><td>null</td><td>null</td><td>null</td><td>null</td><td>null</td><td>null</td><td>null</td><td>null</td><td>null</td><td>null</td><td>null</td><td>null</td><td>null</td><td>null</td><td>null</td><td>null</td><td>null</td></tr><tr><td>&quot;50%&quot;</td><td>null</td><td>null</td><td>null</td><td>null</td><td>null</td><td>null</td><td>null</td><td>null</td><td>null</td><td>null</td><td>null</td><td>null</td><td>null</td><td>null</td><td>null</td><td>null</td><td>null</td><td>null</td><td>null</td><td>null</td><td>null</td><td>null</td><td>null</td><td>null</td><td>null</td><td>null</td><td>null</td><td>null</td><td>null</td><td>null</td><td>null</td><td>null</td><td>null</td></tr><tr><td>&quot;75%&quot;</td><td>null</td><td>null</td><td>null</td><td>null</td><td>null</td><td>null</td><td>null</td><td>null</td><td>null</td><td>null</td><td>null</td><td>null</td><td>null</td><td>null</td><td>null</td><td>null</td><td>null</td><td>null</td><td>null</td><td>null</td><td>null</td><td>null</td><td>null</td><td>null</td><td>null</td><td>null</td><td>null</td><td>null</td><td>null</td><td>null</td><td>null</td><td>null</td><td>null</td></tr><tr><td>&quot;max&quot;</td><td>&quot;2024&quot;</td><td>&quot;752592&quot;</td><td>&quot;18&quot;</td><td>&quot;YUBA SUTTER DIALYSIS&quot;</td><td>&quot;UCSD Dialysis Center - 200 W. …</td><td>&quot;Suite B&quot;</td><td>&quot;Yucca Valley&quot;</td><td>&quot;CA&quot;</td><td>&quot;96080&quot;</td><td>&quot;Yuba&quot;</td><td>&quot;Profit&quot;</td><td>&quot;(951) 977-9466&quot;</td><td>&quot;Yes&quot;</td><td>&quot;US Renal Care, Inc.&quot;</td><td>&quot;31MAY2022-13JAN2023&quot;</td><td>&quot;270&quot;</td><td>&quot;Not Available&quot;</td><td>&quot;Not Available&quot;</td><td>&quot;Not Available&quot;</td><td>&quot;Not Available&quot;</td><td>&quot;Not Available&quot;</td><td>&quot;Not Available&quot;</td><td>&quot;Not Available&quot;</td><td>&quot;Not Available&quot;</td><td>&quot;Not Available&quot;</td><td>&quot;Not Available&quot;</td><td>&quot;Not Available&quot;</td><td>&quot;Not Available&quot;</td><td>&quot;Not Available&quot;</td><td>&quot;Not Available&quot;</td><td>&quot;45&quot;</td><td>&quot;Not Available&quot;</td><td>&quot;Not Available&quot;</td></tr></tbody></table></div>"
      ],
      "text/plain": [
       "shape: (9, 34)\n",
       "┌────────────┬──────┬────────────┬─────────┬───┬────────────┬────────────┬────────────┬────────────┐\n",
       "│ statistic  ┆ year ┆ provider_n ┆ network ┆ … ┆ ich_cahps_ ┆ survey_res ┆ ichcahps_s ┆ ich_cahps_ │\n",
       "│ ---        ┆ ---  ┆ umber      ┆ ---     ┆   ┆ survey_of_ ┆ ponse_rate ┆ urvey_resp ┆ quality_of │\n",
       "│ str        ┆ str  ┆ ---        ┆ str     ┆   ┆ patients_e ┆ ---        ┆ onse_rate  ┆ _patient_c │\n",
       "│            ┆      ┆ str        ┆         ┆   ┆ …          ┆ str        ┆ ---        ┆ …          │\n",
       "│            ┆      ┆            ┆         ┆   ┆ ---        ┆            ┆ str        ┆ ---        │\n",
       "│            ┆      ┆            ┆         ┆   ┆ str        ┆            ┆            ┆ str        │\n",
       "╞════════════╪══════╪════════════╪═════════╪═══╪════════════╪════════════╪════════════╪════════════╡\n",
       "│ count      ┆ 5045 ┆ 5045       ┆ 5045    ┆ … ┆ 2763       ┆ 835        ┆ 1928       ┆ 663        │\n",
       "│ null_count ┆ 0    ┆ 0          ┆ 0       ┆ … ┆ 2282       ┆ 4210       ┆ 3117       ┆ 4382       │\n",
       "│ mean       ┆ null ┆ null       ┆ null    ┆ … ┆ null       ┆ null       ┆ null       ┆ null       │\n",
       "│ std        ┆ null ┆ null       ┆ null    ┆ … ┆ null       ┆ null       ┆ null       ┆ null       │\n",
       "│ min        ┆ 2018 ┆ 50038      ┆ 17      ┆ … ┆ 1          ┆ 12         ┆ 10         ┆ 1          │\n",
       "│ 25%        ┆ null ┆ null       ┆ null    ┆ … ┆ null       ┆ null       ┆ null       ┆ null       │\n",
       "│ 50%        ┆ null ┆ null       ┆ null    ┆ … ┆ null       ┆ null       ┆ null       ┆ null       │\n",
       "│ 75%        ┆ null ┆ null       ┆ null    ┆ … ┆ null       ┆ null       ┆ null       ┆ null       │\n",
       "│ max        ┆ 2024 ┆ 752592     ┆ 18      ┆ … ┆ Not        ┆ 45         ┆ Not        ┆ Not        │\n",
       "│            ┆      ┆            ┆         ┆   ┆ Available  ┆            ┆ Available  ┆ Available  │\n",
       "└────────────┴──────┴────────────┴─────────┴───┴────────────┴────────────┴────────────┴────────────┘"
      ]
     },
     "execution_count": 64,
     "metadata": {},
     "output_type": "execute_result"
    }
   ],
   "source": [
    "cahps_df.describe()\n"
   ]
  },
  {
   "cell_type": "code",
   "execution_count": 65,
   "metadata": {},
   "outputs": [
    {
     "data": {
      "text/html": [
       "<div><style>\n",
       ".dataframe > thead > tr,\n",
       ".dataframe > tbody > tr {\n",
       "  text-align: right;\n",
       "  white-space: pre-wrap;\n",
       "}\n",
       "</style>\n",
       "<small>shape: (9, 166)</small><table border=\"1\" class=\"dataframe\"><thead><tr><th>statistic</th><th>provider_number</th><th>network</th><th>facility_name</th><th>five_star_date</th><th>five_star</th><th>five_star_data_availability_code</th><th>address_line_1</th><th>address_line_2</th><th>citytown</th><th>state</th><th>zip_code</th><th>countyparish</th><th>telephone_number</th><th>profit_or_nonprofit</th><th>chain_owned</th><th>chain_organization</th><th>late_shift</th><th>_of_dialysis_stations</th><th>offers_incenter_hemodialysis</th><th>offers_peritoneal_dialysis</th><th>offers_home_hemodialysis_training</th><th>certification_date</th><th>claims_date</th><th>eqrs_date</th><th>smr_date</th><th>patient_survival_category_text</th><th>patient_survival_data_availability_code</th><th>number_of_patients_included_in_survival_summary</th><th>mortality_rate_facility</th><th>mortality_rate_upper_confidence_limit_975</th><th>mortality_rate_lower_confidence_limit_25</th><th>shr_date</th><th>patient_hospitalization_category_text</th><th>patient_hospitalization_data_availability_code</th><th>number_of_patients_included_in_hospitalization_summary</th><th>hospitalization_rate_facility</th><th>&hellip;</th><th>number_of_patients_in_long_term_catheter_summary</th><th>number_of_patient_months_in_long_term_catheter_summary</th><th>percentage_of_adult_patients_with_long_term_catheter_in_use</th><th>npcr_data_availability_code</th><th>number_of_patients_in_npcr_summary</th><th>number_of_patientmonths_in_npcr_summary</th><th>percentage_of_pediatric_hd_patients_with_npcr</th><th>year</th><th>month</th><th>city</th><th>zip</th><th>county</th><th>phone_number</th><th>certification_or_recertification_date</th><th>crownweb_date</th><th>number_of_patientmonths_in_serum_phosphorus_summary_</th><th>serum_phosphorus_data_availability_code_</th><th>dateswr</th><th>offers_incenter_peritoneal_dialysis</th><th>rate_of_hospital_readmission_category_text</th><th>percentage_of_medicare_patients_with_hgb_10_gdl</th><th>number_of_patients_included_in_transfusion_summary</th><th>standard_infection_ratio_</th><th>crownweb__date_</th><th>percentage_of_adult_hd_patients_with_ktv_12</th><th>percentage_of_adult_pd_patients_with_ktv17</th><th>percentage_of_pediatric_hd_patents_with_ktv12</th><th>percentage_of_pediatric_pd_patents_with_ktv18</th><th>number_of_adult_patients_included_in_arterial_venous_fistula_and_catheter_summaries</th><th>number_of_adult_patientmonths_included_in_arterial_venous_fistula_and_catheter_summaries</th><th>arteriovenous_fistulae_in_use_data_availability_code</th><th>percentage_of_patients_with_arteriovenous_fistulae_in_use</th><th>vascular_catheter_data_availability_code</th><th>percentage_of_patients_with_vascular_catheter_in_use_for_90_days_or_longer</th><th>hospitalization_rate_facility_</th><th>patient_hospital_readmission_category_text</th><th>readmission_rate_facility_</th></tr><tr><td>str</td><td>str</td><td>str</td><td>str</td><td>str</td><td>str</td><td>str</td><td>str</td><td>str</td><td>str</td><td>str</td><td>str</td><td>str</td><td>str</td><td>str</td><td>str</td><td>str</td><td>str</td><td>str</td><td>str</td><td>str</td><td>str</td><td>str</td><td>str</td><td>str</td><td>str</td><td>str</td><td>str</td><td>str</td><td>str</td><td>str</td><td>str</td><td>str</td><td>str</td><td>str</td><td>str</td><td>str</td><td>&hellip;</td><td>str</td><td>str</td><td>str</td><td>str</td><td>str</td><td>str</td><td>str</td><td>str</td><td>str</td><td>str</td><td>str</td><td>str</td><td>str</td><td>str</td><td>str</td><td>str</td><td>str</td><td>str</td><td>str</td><td>str</td><td>str</td><td>str</td><td>str</td><td>str</td><td>str</td><td>str</td><td>str</td><td>str</td><td>str</td><td>str</td><td>str</td><td>str</td><td>str</td><td>str</td><td>str</td><td>str</td><td>str</td></tr></thead><tbody><tr><td>&quot;count&quot;</td><td>&quot;60476&quot;</td><td>&quot;60476&quot;</td><td>&quot;60476&quot;</td><td>&quot;60476&quot;</td><td>&quot;56790&quot;</td><td>&quot;60476&quot;</td><td>&quot;60476&quot;</td><td>&quot;34634&quot;</td><td>&quot;15215&quot;</td><td>&quot;60476&quot;</td><td>&quot;15215&quot;</td><td>&quot;15214&quot;</td><td>&quot;15215&quot;</td><td>&quot;60476&quot;</td><td>&quot;60476&quot;</td><td>&quot;60475&quot;</td><td>&quot;60474&quot;</td><td>&quot;60476&quot;</td><td>&quot;60476&quot;</td><td>&quot;46190&quot;</td><td>&quot;60474&quot;</td><td>&quot;15215&quot;</td><td>&quot;60476&quot;</td><td>&quot;15215&quot;</td><td>&quot;60476&quot;</td><td>&quot;60476&quot;</td><td>&quot;60476&quot;</td><td>&quot;60093&quot;</td><td>&quot;57271&quot;</td><td>&quot;57271&quot;</td><td>&quot;57271&quot;</td><td>&quot;60476&quot;</td><td>&quot;60476&quot;</td><td>&quot;60476&quot;</td><td>&quot;60093&quot;</td><td>&quot;50873&quot;</td><td>&hellip;</td><td>&quot;53193&quot;</td><td>&quot;51911&quot;</td><td>&quot;49982&quot;</td><td>&quot;53471&quot;</td><td>&quot;53193&quot;</td><td>&quot;15874&quot;</td><td>&quot;14983&quot;</td><td>&quot;60476&quot;</td><td>&quot;60476&quot;</td><td>&quot;45261&quot;</td><td>&quot;45261&quot;</td><td>&quot;45261&quot;</td><td>&quot;45261&quot;</td><td>&quot;45261&quot;</td><td>&quot;38256&quot;</td><td>&quot;22856&quot;</td><td>&quot;23409&quot;</td><td>&quot;7566&quot;</td><td>&quot;14286&quot;</td><td>&quot;7281&quot;</td><td>&quot;7005&quot;</td><td>&quot;7005&quot;</td><td>&quot;7005&quot;</td><td>&quot;7005&quot;</td><td>&quot;7005&quot;</td><td>&quot;7005&quot;</td><td>&quot;7005&quot;</td><td>&quot;7005&quot;</td><td>&quot;7005&quot;</td><td>&quot;7005&quot;</td><td>&quot;7005&quot;</td><td>&quot;7005&quot;</td><td>&quot;7005&quot;</td><td>&quot;7005&quot;</td><td>&quot;7005&quot;</td><td>&quot;7005&quot;</td><td>&quot;7005&quot;</td></tr><tr><td>&quot;null_count&quot;</td><td>&quot;0&quot;</td><td>&quot;0&quot;</td><td>&quot;0&quot;</td><td>&quot;0&quot;</td><td>&quot;3686&quot;</td><td>&quot;0&quot;</td><td>&quot;0&quot;</td><td>&quot;25842&quot;</td><td>&quot;45261&quot;</td><td>&quot;0&quot;</td><td>&quot;45261&quot;</td><td>&quot;45262&quot;</td><td>&quot;45261&quot;</td><td>&quot;0&quot;</td><td>&quot;0&quot;</td><td>&quot;1&quot;</td><td>&quot;2&quot;</td><td>&quot;0&quot;</td><td>&quot;0&quot;</td><td>&quot;14286&quot;</td><td>&quot;2&quot;</td><td>&quot;45261&quot;</td><td>&quot;0&quot;</td><td>&quot;45261&quot;</td><td>&quot;0&quot;</td><td>&quot;0&quot;</td><td>&quot;0&quot;</td><td>&quot;383&quot;</td><td>&quot;3205&quot;</td><td>&quot;3205&quot;</td><td>&quot;3205&quot;</td><td>&quot;0&quot;</td><td>&quot;0&quot;</td><td>&quot;0&quot;</td><td>&quot;383&quot;</td><td>&quot;9603&quot;</td><td>&hellip;</td><td>&quot;7283&quot;</td><td>&quot;8565&quot;</td><td>&quot;10494&quot;</td><td>&quot;7005&quot;</td><td>&quot;7283&quot;</td><td>&quot;44602&quot;</td><td>&quot;45493&quot;</td><td>&quot;0&quot;</td><td>&quot;0&quot;</td><td>&quot;15215&quot;</td><td>&quot;15215&quot;</td><td>&quot;15215&quot;</td><td>&quot;15215&quot;</td><td>&quot;15215&quot;</td><td>&quot;22220&quot;</td><td>&quot;37620&quot;</td><td>&quot;37067&quot;</td><td>&quot;52910&quot;</td><td>&quot;46190&quot;</td><td>&quot;53195&quot;</td><td>&quot;53471&quot;</td><td>&quot;53471&quot;</td><td>&quot;53471&quot;</td><td>&quot;53471&quot;</td><td>&quot;53471&quot;</td><td>&quot;53471&quot;</td><td>&quot;53471&quot;</td><td>&quot;53471&quot;</td><td>&quot;53471&quot;</td><td>&quot;53471&quot;</td><td>&quot;53471&quot;</td><td>&quot;53471&quot;</td><td>&quot;53471&quot;</td><td>&quot;53471&quot;</td><td>&quot;53471&quot;</td><td>&quot;53471&quot;</td><td>&quot;53471&quot;</td></tr><tr><td>&quot;mean&quot;</td><td>null</td><td>null</td><td>null</td><td>null</td><td>null</td><td>null</td><td>null</td><td>null</td><td>null</td><td>null</td><td>null</td><td>null</td><td>null</td><td>null</td><td>null</td><td>null</td><td>null</td><td>null</td><td>null</td><td>null</td><td>null</td><td>null</td><td>null</td><td>null</td><td>null</td><td>null</td><td>null</td><td>null</td><td>null</td><td>null</td><td>null</td><td>null</td><td>null</td><td>null</td><td>null</td><td>null</td><td>&hellip;</td><td>null</td><td>null</td><td>null</td><td>null</td><td>null</td><td>null</td><td>null</td><td>null</td><td>null</td><td>null</td><td>null</td><td>null</td><td>null</td><td>null</td><td>null</td><td>null</td><td>null</td><td>null</td><td>null</td><td>null</td><td>null</td><td>null</td><td>null</td><td>null</td><td>null</td><td>null</td><td>null</td><td>null</td><td>null</td><td>null</td><td>null</td><td>null</td><td>null</td><td>null</td><td>null</td><td>null</td><td>null</td></tr><tr><td>&quot;std&quot;</td><td>null</td><td>null</td><td>null</td><td>null</td><td>null</td><td>null</td><td>null</td><td>null</td><td>null</td><td>null</td><td>null</td><td>null</td><td>null</td><td>null</td><td>null</td><td>null</td><td>null</td><td>null</td><td>null</td><td>null</td><td>null</td><td>null</td><td>null</td><td>null</td><td>null</td><td>null</td><td>null</td><td>null</td><td>null</td><td>null</td><td>null</td><td>null</td><td>null</td><td>null</td><td>null</td><td>null</td><td>&hellip;</td><td>null</td><td>null</td><td>null</td><td>null</td><td>null</td><td>null</td><td>null</td><td>null</td><td>null</td><td>null</td><td>null</td><td>null</td><td>null</td><td>null</td><td>null</td><td>null</td><td>null</td><td>null</td><td>null</td><td>null</td><td>null</td><td>null</td><td>null</td><td>null</td><td>null</td><td>null</td><td>null</td><td>null</td><td>null</td><td>null</td><td>null</td><td>null</td><td>null</td><td>null</td><td>null</td><td>null</td><td>null</td></tr><tr><td>&quot;min&quot;</td><td>&quot;12500&quot;</td><td>&quot;1&quot;</td><td>&quot;- LIBERTY ALBUQUERQUE DIALYSIS…</td><td>&quot;01/01/2014-12/31/2017&quot;</td><td>&quot;&quot;</td><td>&quot;1&quot;</td><td>&quot;# 7 PROFESSIONAL DRIVE&quot;</td><td>&quot;&quot;</td><td>&quot;ABBEVILLE&quot;</td><td>&quot;AK&quot;</td><td>&quot;10003&quot;</td><td>&quot;Acadia&quot;</td><td>&quot;(201) 262-0429&quot;</td><td>&quot;&quot;</td><td>&quot;N&quot;</td><td>&quot;&quot;</td><td>&quot;0&quot;</td><td>&quot;0&quot;</td><td>&quot;0&quot;</td><td>&quot;0&quot;</td><td>&quot;0&quot;</td><td>&quot;01APR1971&quot;</td><td>&quot;01/01/2017-12/31/2017&quot;</td><td>&quot;01JAN2022-31DEC2022&quot;</td><td>&quot;01/01/2014-12/31/2017&quot;</td><td>&quot; &quot;</td><td>&quot;1&quot;</td><td>&quot;&quot;</td><td>&quot;&quot;</td><td>&quot;&quot;</td><td>&quot;&quot;</td><td>&quot;01/01/2017-12/31/2017&quot;</td><td>&quot; &quot;</td><td>&quot;1&quot;</td><td>&quot;&quot;</td><td>&quot;&quot;</td><td>&hellip;</td><td>&quot;&quot;</td><td>&quot;&quot;</td><td>&quot;&quot;</td><td>&quot;1&quot;</td><td>&quot;&quot;</td><td>&quot;&quot;</td><td>&quot;&quot;</td><td>&quot;2017&quot;</td><td>&quot;10&quot;</td><td>&quot;ABBEVILLE&quot;</td><td>&quot;10003&quot;</td><td>&quot;&quot;</td><td>&quot;(201) 262-0429&quot;</td><td>&quot;01/01/1968&quot;</td><td>&quot;01/01/2017-12/31/2017&quot;</td><td>&quot;0&quot;</td><td>&quot;1&quot;</td><td>&quot;01/01/2015 - 12/31/2017&quot;</td><td>&quot;0&quot;</td><td>&quot;As Expected&quot;</td><td>&quot;&quot;</td><td>&quot;&quot;</td><td>&quot;&quot;</td><td>&quot;01JAN2016-31DEC2016&quot;</td><td>&quot;&quot;</td><td>&quot;&quot;</td><td>&quot;&quot;</td><td>&quot;&quot;</td><td>&quot;&quot;</td><td>&quot;&quot;</td><td>&quot;1&quot;</td><td>&quot;&quot;</td><td>&quot;1&quot;</td><td>&quot;&quot;</td><td>&quot;&quot;</td><td>&quot; &quot;</td><td>&quot;&quot;</td></tr><tr><td>&quot;25%&quot;</td><td>null</td><td>null</td><td>null</td><td>null</td><td>null</td><td>null</td><td>null</td><td>null</td><td>null</td><td>null</td><td>null</td><td>null</td><td>null</td><td>null</td><td>null</td><td>null</td><td>null</td><td>null</td><td>null</td><td>null</td><td>null</td><td>null</td><td>null</td><td>null</td><td>null</td><td>null</td><td>null</td><td>null</td><td>null</td><td>null</td><td>null</td><td>null</td><td>null</td><td>null</td><td>null</td><td>null</td><td>&hellip;</td><td>null</td><td>null</td><td>null</td><td>null</td><td>null</td><td>null</td><td>null</td><td>null</td><td>null</td><td>null</td><td>null</td><td>null</td><td>null</td><td>null</td><td>null</td><td>null</td><td>null</td><td>null</td><td>null</td><td>null</td><td>null</td><td>null</td><td>null</td><td>null</td><td>null</td><td>null</td><td>null</td><td>null</td><td>null</td><td>null</td><td>null</td><td>null</td><td>null</td><td>null</td><td>null</td><td>null</td><td>null</td></tr><tr><td>&quot;50%&quot;</td><td>null</td><td>null</td><td>null</td><td>null</td><td>null</td><td>null</td><td>null</td><td>null</td><td>null</td><td>null</td><td>null</td><td>null</td><td>null</td><td>null</td><td>null</td><td>null</td><td>null</td><td>null</td><td>null</td><td>null</td><td>null</td><td>null</td><td>null</td><td>null</td><td>null</td><td>null</td><td>null</td><td>null</td><td>null</td><td>null</td><td>null</td><td>null</td><td>null</td><td>null</td><td>null</td><td>null</td><td>&hellip;</td><td>null</td><td>null</td><td>null</td><td>null</td><td>null</td><td>null</td><td>null</td><td>null</td><td>null</td><td>null</td><td>null</td><td>null</td><td>null</td><td>null</td><td>null</td><td>null</td><td>null</td><td>null</td><td>null</td><td>null</td><td>null</td><td>null</td><td>null</td><td>null</td><td>null</td><td>null</td><td>null</td><td>null</td><td>null</td><td>null</td><td>null</td><td>null</td><td>null</td><td>null</td><td>null</td><td>null</td><td>null</td></tr><tr><td>&quot;75%&quot;</td><td>null</td><td>null</td><td>null</td><td>null</td><td>null</td><td>null</td><td>null</td><td>null</td><td>null</td><td>null</td><td>null</td><td>null</td><td>null</td><td>null</td><td>null</td><td>null</td><td>null</td><td>null</td><td>null</td><td>null</td><td>null</td><td>null</td><td>null</td><td>null</td><td>null</td><td>null</td><td>null</td><td>null</td><td>null</td><td>null</td><td>null</td><td>null</td><td>null</td><td>null</td><td>null</td><td>null</td><td>&hellip;</td><td>null</td><td>null</td><td>null</td><td>null</td><td>null</td><td>null</td><td>null</td><td>null</td><td>null</td><td>null</td><td>null</td><td>null</td><td>null</td><td>null</td><td>null</td><td>null</td><td>null</td><td>null</td><td>null</td><td>null</td><td>null</td><td>null</td><td>null</td><td>null</td><td>null</td><td>null</td><td>null</td><td>null</td><td>null</td><td>null</td><td>null</td><td>null</td><td>null</td><td>null</td><td>null</td><td>null</td><td>null</td></tr><tr><td>&quot;max&quot;</td><td>&quot;92531&quot;</td><td>&quot;9&quot;</td><td>&quot;zz_closed_Texas Care Dialysis&quot;</td><td>&quot;01Jan2019-31Dec2022&quot;</td><td>&quot;Not Available&quot;</td><td>&quot;270&quot;</td><td>&quot;road 174 km 6.9&quot;</td><td>&quot;suite B&quot;</td><td>&quot;pennsauken&quot;</td><td>&quot;WY&quot;</td><td>&quot;99801&quot;</td><td>&quot;Zavala&quot;</td><td>&quot;(989) 921-2170&quot;</td><td>&quot;Profit&quot;</td><td>&quot;Yes&quot;</td><td>&quot;Wake Forest University&quot;</td><td>&quot;Yes&quot;</td><td>&quot;9&quot;</td><td>&quot;Yes&quot;</td><td>&quot;Yes&quot;</td><td>&quot;Yes&quot;</td><td>&quot;31OCT2022&quot;</td><td>&quot;01OCT2022-30SEP2023&quot;</td><td>&quot;01OCT2022-30SEP2023&quot;</td><td>&quot;01Jan2019-31Dec2022&quot;</td><td>&quot;Worse than Expected&quot;</td><td>&quot;270&quot;</td><td>&quot;Not Available&quot;</td><td>&quot;Not Available&quot;</td><td>&quot;Not Available&quot;</td><td>&quot;Not Available&quot;</td><td>&quot;01Jan2022-31Dec2022&quot;</td><td>&quot;Worse than Expected&quot;</td><td>&quot;270&quot;</td><td>&quot;Not Available&quot;</td><td>&quot;Not Available&quot;</td><td>&hellip;</td><td>&quot;Not Available&quot;</td><td>&quot;Not Available&quot;</td><td>&quot;Not Available&quot;</td><td>&quot;270&quot;</td><td>&quot;Not Available&quot;</td><td>&quot;Not Available&quot;</td><td>&quot;Not Available&quot;</td><td>&quot;2024&quot;</td><td>&quot;7&quot;</td><td>&quot;pennsauken&quot;</td><td>&quot;99801&quot;</td><td>&quot;Zavala&quot;</td><td>&quot;9899212170&quot;</td><td>&quot;9/9/2016&quot;</td><td>&quot;01JAN2020-31DEC2020&quot;</td><td>&quot;999&quot;</td><td>&quot;258&quot;</td><td>&quot;01/01/2015 - 12/31/2017&quot;</td><td>&quot;Y&quot;</td><td>&quot;Worse than Expected&quot;</td><td>&quot;93&quot;</td><td>&quot;99&quot;</td><td>&quot;7&quot;</td><td>&quot;01JAN2016-31DEC2016&quot;</td><td>&quot;99&quot;</td><td>&quot;99&quot;</td><td>&quot;99&quot;</td><td>&quot;96&quot;</td><td>&quot;99&quot;</td><td>&quot;997&quot;</td><td>&quot;258&quot;</td><td>&quot;99&quot;</td><td>&quot;258&quot;</td><td>&quot;9&quot;</td><td>&quot;99&quot;</td><td>&quot;Worse than Expected&quot;</td><td>&quot;9&quot;</td></tr></tbody></table></div>"
      ],
      "text/plain": [
       "shape: (9, 166)\n",
       "┌────────────┬───────────┬─────────┬───────────┬───┬───────────┬───────────┬───────────┬───────────┐\n",
       "│ statistic  ┆ provider_ ┆ network ┆ facility_ ┆ … ┆ percentag ┆ hospitali ┆ patient_h ┆ readmissi │\n",
       "│ ---        ┆ number    ┆ ---     ┆ name      ┆   ┆ e_of_pati ┆ zation_ra ┆ ospital_r ┆ on_rate_f │\n",
       "│ str        ┆ ---       ┆ str     ┆ ---       ┆   ┆ ents_with ┆ te_facili ┆ eadmissio ┆ acility_  │\n",
       "│            ┆ str       ┆         ┆ str       ┆   ┆ _va…      ┆ ty_       ┆ n_c…      ┆ ---       │\n",
       "│            ┆           ┆         ┆           ┆   ┆ ---       ┆ ---       ┆ ---       ┆ str       │\n",
       "│            ┆           ┆         ┆           ┆   ┆ str       ┆ str       ┆ str       ┆           │\n",
       "╞════════════╪═══════════╪═════════╪═══════════╪═══╪═══════════╪═══════════╪═══════════╪═══════════╡\n",
       "│ count      ┆ 60476     ┆ 60476   ┆ 60476     ┆ … ┆ 7005      ┆ 7005      ┆ 7005      ┆ 7005      │\n",
       "│ null_count ┆ 0         ┆ 0       ┆ 0         ┆ … ┆ 53471     ┆ 53471     ┆ 53471     ┆ 53471     │\n",
       "│ mean       ┆ null      ┆ null    ┆ null      ┆ … ┆ null      ┆ null      ┆ null      ┆ null      │\n",
       "│ std        ┆ null      ┆ null    ┆ null      ┆ … ┆ null      ┆ null      ┆ null      ┆ null      │\n",
       "│ min        ┆ 12500     ┆ 1       ┆ - LIBERTY ┆ … ┆           ┆           ┆           ┆           │\n",
       "│            ┆           ┆         ┆ ALBUQUERQ ┆   ┆           ┆           ┆           ┆           │\n",
       "│            ┆           ┆         ┆ UE        ┆   ┆           ┆           ┆           ┆           │\n",
       "│            ┆           ┆         ┆ DIALYSIS… ┆   ┆           ┆           ┆           ┆           │\n",
       "│ 25%        ┆ null      ┆ null    ┆ null      ┆ … ┆ null      ┆ null      ┆ null      ┆ null      │\n",
       "│ 50%        ┆ null      ┆ null    ┆ null      ┆ … ┆ null      ┆ null      ┆ null      ┆ null      │\n",
       "│ 75%        ┆ null      ┆ null    ┆ null      ┆ … ┆ null      ┆ null      ┆ null      ┆ null      │\n",
       "│ max        ┆ 92531     ┆ 9       ┆ zz_closed ┆ … ┆ 9         ┆ 99        ┆ Worse     ┆ 9         │\n",
       "│            ┆           ┆         ┆ _Texas    ┆   ┆           ┆           ┆ than      ┆           │\n",
       "│            ┆           ┆         ┆ Care      ┆   ┆           ┆           ┆ Expected  ┆           │\n",
       "│            ┆           ┆         ┆ Dialysis  ┆   ┆           ┆           ┆           ┆           │\n",
       "└────────────┴───────────┴─────────┴───────────┴───┴───────────┴───────────┴───────────┴───────────┘"
      ]
     },
     "execution_count": 65,
     "metadata": {},
     "output_type": "execute_result"
    }
   ],
   "source": [
    "facility_df.describe()"
   ]
  },
  {
   "cell_type": "code",
   "execution_count": 40,
   "metadata": {},
   "outputs": [
    {
     "name": "stdout",
     "output_type": "stream",
     "text": [
      "Missing values before renaming:\n",
      "'county': 1\n",
      "Warning: None of the columns ['ich_cahps_survey_of_patients_experiences_star_rating', 'ich_cahps_survey_of_patients_experiences_star_rating_', 'overall_ich_cahps_survey_of_patients_experiences_star_rating'] found for merging into ich_cahps_survey_of_patients_experiences_star_rating\n",
      "\n",
      "Missing values after processing:\n",
      "\n",
      "Warning: Row count changed from 5045 to 60476.\n"
     ]
    }
   ],
   "source": [
    "print(\"Missing values before renaming:\")\n",
    "print(f\"'county': {facility_df['county'].null_count()}\")\n",
    "\n",
    "facility_df = merge_columns(facility_df)\n",
    "\n",
    "# Check missing values after processing\n",
    "print(\"\\nMissing values after processing:\")\n",
    "\n",
    "# Check if the number of rows has changed\n",
    "final_row_count = facility_df.shape[0]\n",
    "if initial_row_count == final_row_count:\n",
    "    print(f\"\\nNo rows were dropped. Row count remains {final_row_count}.\")\n",
    "else:\n",
    "    print(f\"\\nWarning: Row count changed from {initial_row_count} to {final_row_count}.\")\n"
   ]
  },
  {
   "cell_type": "code",
   "execution_count": 41,
   "metadata": {},
   "outputs": [
    {
     "data": {
      "text/html": [
       "<div><style>\n",
       ".dataframe > thead > tr,\n",
       ".dataframe > tbody > tr {\n",
       "  text-align: right;\n",
       "  white-space: pre-wrap;\n",
       "}\n",
       "</style>\n",
       "<small>shape: (9, 166)</small><table border=\"1\" class=\"dataframe\"><thead><tr><th>statistic</th><th>provider_number</th><th>network</th><th>facility_name</th><th>five_star_date</th><th>five_star</th><th>five_star_data_availability_code</th><th>address_line_1</th><th>address_line_2</th><th>citytown</th><th>state</th><th>zip_code</th><th>countyparish</th><th>telephone_number</th><th>profit_or_nonprofit</th><th>chain_owned</th><th>chain_organization</th><th>late_shift</th><th>_of_dialysis_stations</th><th>offers_incenter_hemodialysis</th><th>offers_peritoneal_dialysis</th><th>offers_home_hemodialysis_training</th><th>certification_date</th><th>claims_date</th><th>eqrs_date</th><th>smr_date</th><th>patient_survival_category_text</th><th>patient_survival_data_availability_code</th><th>number_of_patients_included_in_survival_summary</th><th>mortality_rate_facility</th><th>mortality_rate_upper_confidence_limit_975</th><th>mortality_rate_lower_confidence_limit_25</th><th>shr_date</th><th>patient_hospitalization_category_text</th><th>patient_hospitalization_data_availability_code</th><th>number_of_patients_included_in_hospitalization_summary</th><th>hospitalization_rate_facility</th><th>&hellip;</th><th>number_of_patients_in_long_term_catheter_summary</th><th>number_of_patient_months_in_long_term_catheter_summary</th><th>percentage_of_adult_patients_with_long_term_catheter_in_use</th><th>npcr_data_availability_code</th><th>number_of_patients_in_npcr_summary</th><th>number_of_patientmonths_in_npcr_summary</th><th>percentage_of_pediatric_hd_patients_with_npcr</th><th>year</th><th>month</th><th>city</th><th>zip</th><th>county</th><th>phone_number</th><th>certification_or_recertification_date</th><th>crownweb_date</th><th>number_of_patientmonths_in_serum_phosphorus_summary_</th><th>serum_phosphorus_data_availability_code_</th><th>dateswr</th><th>offers_incenter_peritoneal_dialysis</th><th>rate_of_hospital_readmission_category_text</th><th>percentage_of_medicare_patients_with_hgb_10_gdl</th><th>number_of_patients_included_in_transfusion_summary</th><th>standard_infection_ratio_</th><th>crownweb__date_</th><th>percentage_of_adult_hd_patients_with_ktv_12</th><th>percentage_of_adult_pd_patients_with_ktv17</th><th>percentage_of_pediatric_hd_patents_with_ktv12</th><th>percentage_of_pediatric_pd_patents_with_ktv18</th><th>number_of_adult_patients_included_in_arterial_venous_fistula_and_catheter_summaries</th><th>number_of_adult_patientmonths_included_in_arterial_venous_fistula_and_catheter_summaries</th><th>arteriovenous_fistulae_in_use_data_availability_code</th><th>percentage_of_patients_with_arteriovenous_fistulae_in_use</th><th>vascular_catheter_data_availability_code</th><th>percentage_of_patients_with_vascular_catheter_in_use_for_90_days_or_longer</th><th>hospitalization_rate_facility_</th><th>patient_hospital_readmission_category_text</th><th>readmission_rate_facility_</th></tr><tr><td>str</td><td>str</td><td>str</td><td>str</td><td>str</td><td>str</td><td>str</td><td>str</td><td>str</td><td>str</td><td>str</td><td>str</td><td>str</td><td>str</td><td>str</td><td>str</td><td>str</td><td>str</td><td>str</td><td>str</td><td>str</td><td>str</td><td>str</td><td>str</td><td>str</td><td>str</td><td>str</td><td>str</td><td>str</td><td>str</td><td>str</td><td>str</td><td>str</td><td>str</td><td>str</td><td>str</td><td>str</td><td>&hellip;</td><td>str</td><td>str</td><td>str</td><td>str</td><td>str</td><td>str</td><td>str</td><td>str</td><td>str</td><td>str</td><td>str</td><td>str</td><td>str</td><td>str</td><td>str</td><td>str</td><td>str</td><td>str</td><td>str</td><td>str</td><td>str</td><td>str</td><td>str</td><td>str</td><td>str</td><td>str</td><td>str</td><td>str</td><td>str</td><td>str</td><td>str</td><td>str</td><td>str</td><td>str</td><td>str</td><td>str</td><td>str</td></tr></thead><tbody><tr><td>&quot;count&quot;</td><td>&quot;60476&quot;</td><td>&quot;60476&quot;</td><td>&quot;60476&quot;</td><td>&quot;60476&quot;</td><td>&quot;56790&quot;</td><td>&quot;60476&quot;</td><td>&quot;60476&quot;</td><td>&quot;34634&quot;</td><td>&quot;15215&quot;</td><td>&quot;60476&quot;</td><td>&quot;60476&quot;</td><td>&quot;15214&quot;</td><td>&quot;15215&quot;</td><td>&quot;60476&quot;</td><td>&quot;60476&quot;</td><td>&quot;60475&quot;</td><td>&quot;60474&quot;</td><td>&quot;60476&quot;</td><td>&quot;60476&quot;</td><td>&quot;46190&quot;</td><td>&quot;60474&quot;</td><td>&quot;15215&quot;</td><td>&quot;60476&quot;</td><td>&quot;15215&quot;</td><td>&quot;60476&quot;</td><td>&quot;60476&quot;</td><td>&quot;60476&quot;</td><td>&quot;60093&quot;</td><td>&quot;57271&quot;</td><td>&quot;57271&quot;</td><td>&quot;57271&quot;</td><td>&quot;60476&quot;</td><td>&quot;60476&quot;</td><td>&quot;60476&quot;</td><td>&quot;60093&quot;</td><td>&quot;50873&quot;</td><td>&hellip;</td><td>&quot;53193&quot;</td><td>&quot;51911&quot;</td><td>&quot;49982&quot;</td><td>&quot;53471&quot;</td><td>&quot;53193&quot;</td><td>&quot;15874&quot;</td><td>&quot;14983&quot;</td><td>&quot;60476&quot;</td><td>&quot;60476&quot;</td><td>&quot;45261&quot;</td><td>&quot;45261&quot;</td><td>&quot;60475&quot;</td><td>&quot;60476&quot;</td><td>&quot;45261&quot;</td><td>&quot;38256&quot;</td><td>&quot;22856&quot;</td><td>&quot;23409&quot;</td><td>&quot;7566&quot;</td><td>&quot;14286&quot;</td><td>&quot;7281&quot;</td><td>&quot;7005&quot;</td><td>&quot;7005&quot;</td><td>&quot;7005&quot;</td><td>&quot;7005&quot;</td><td>&quot;7005&quot;</td><td>&quot;7005&quot;</td><td>&quot;7005&quot;</td><td>&quot;7005&quot;</td><td>&quot;7005&quot;</td><td>&quot;7005&quot;</td><td>&quot;7005&quot;</td><td>&quot;7005&quot;</td><td>&quot;7005&quot;</td><td>&quot;7005&quot;</td><td>&quot;7005&quot;</td><td>&quot;7005&quot;</td><td>&quot;7005&quot;</td></tr><tr><td>&quot;null_count&quot;</td><td>&quot;0&quot;</td><td>&quot;0&quot;</td><td>&quot;0&quot;</td><td>&quot;0&quot;</td><td>&quot;3686&quot;</td><td>&quot;0&quot;</td><td>&quot;0&quot;</td><td>&quot;25842&quot;</td><td>&quot;45261&quot;</td><td>&quot;0&quot;</td><td>&quot;0&quot;</td><td>&quot;45262&quot;</td><td>&quot;45261&quot;</td><td>&quot;0&quot;</td><td>&quot;0&quot;</td><td>&quot;1&quot;</td><td>&quot;2&quot;</td><td>&quot;0&quot;</td><td>&quot;0&quot;</td><td>&quot;14286&quot;</td><td>&quot;2&quot;</td><td>&quot;45261&quot;</td><td>&quot;0&quot;</td><td>&quot;45261&quot;</td><td>&quot;0&quot;</td><td>&quot;0&quot;</td><td>&quot;0&quot;</td><td>&quot;383&quot;</td><td>&quot;3205&quot;</td><td>&quot;3205&quot;</td><td>&quot;3205&quot;</td><td>&quot;0&quot;</td><td>&quot;0&quot;</td><td>&quot;0&quot;</td><td>&quot;383&quot;</td><td>&quot;9603&quot;</td><td>&hellip;</td><td>&quot;7283&quot;</td><td>&quot;8565&quot;</td><td>&quot;10494&quot;</td><td>&quot;7005&quot;</td><td>&quot;7283&quot;</td><td>&quot;44602&quot;</td><td>&quot;45493&quot;</td><td>&quot;0&quot;</td><td>&quot;0&quot;</td><td>&quot;15215&quot;</td><td>&quot;15215&quot;</td><td>&quot;1&quot;</td><td>&quot;0&quot;</td><td>&quot;15215&quot;</td><td>&quot;22220&quot;</td><td>&quot;37620&quot;</td><td>&quot;37067&quot;</td><td>&quot;52910&quot;</td><td>&quot;46190&quot;</td><td>&quot;53195&quot;</td><td>&quot;53471&quot;</td><td>&quot;53471&quot;</td><td>&quot;53471&quot;</td><td>&quot;53471&quot;</td><td>&quot;53471&quot;</td><td>&quot;53471&quot;</td><td>&quot;53471&quot;</td><td>&quot;53471&quot;</td><td>&quot;53471&quot;</td><td>&quot;53471&quot;</td><td>&quot;53471&quot;</td><td>&quot;53471&quot;</td><td>&quot;53471&quot;</td><td>&quot;53471&quot;</td><td>&quot;53471&quot;</td><td>&quot;53471&quot;</td><td>&quot;53471&quot;</td></tr><tr><td>&quot;mean&quot;</td><td>null</td><td>null</td><td>null</td><td>null</td><td>null</td><td>null</td><td>null</td><td>null</td><td>null</td><td>null</td><td>null</td><td>null</td><td>null</td><td>null</td><td>null</td><td>null</td><td>null</td><td>null</td><td>null</td><td>null</td><td>null</td><td>null</td><td>null</td><td>null</td><td>null</td><td>null</td><td>null</td><td>null</td><td>null</td><td>null</td><td>null</td><td>null</td><td>null</td><td>null</td><td>null</td><td>null</td><td>&hellip;</td><td>null</td><td>null</td><td>null</td><td>null</td><td>null</td><td>null</td><td>null</td><td>null</td><td>null</td><td>null</td><td>null</td><td>null</td><td>null</td><td>null</td><td>null</td><td>null</td><td>null</td><td>null</td><td>null</td><td>null</td><td>null</td><td>null</td><td>null</td><td>null</td><td>null</td><td>null</td><td>null</td><td>null</td><td>null</td><td>null</td><td>null</td><td>null</td><td>null</td><td>null</td><td>null</td><td>null</td><td>null</td></tr><tr><td>&quot;std&quot;</td><td>null</td><td>null</td><td>null</td><td>null</td><td>null</td><td>null</td><td>null</td><td>null</td><td>null</td><td>null</td><td>null</td><td>null</td><td>null</td><td>null</td><td>null</td><td>null</td><td>null</td><td>null</td><td>null</td><td>null</td><td>null</td><td>null</td><td>null</td><td>null</td><td>null</td><td>null</td><td>null</td><td>null</td><td>null</td><td>null</td><td>null</td><td>null</td><td>null</td><td>null</td><td>null</td><td>null</td><td>&hellip;</td><td>null</td><td>null</td><td>null</td><td>null</td><td>null</td><td>null</td><td>null</td><td>null</td><td>null</td><td>null</td><td>null</td><td>null</td><td>null</td><td>null</td><td>null</td><td>null</td><td>null</td><td>null</td><td>null</td><td>null</td><td>null</td><td>null</td><td>null</td><td>null</td><td>null</td><td>null</td><td>null</td><td>null</td><td>null</td><td>null</td><td>null</td><td>null</td><td>null</td><td>null</td><td>null</td><td>null</td><td>null</td></tr><tr><td>&quot;min&quot;</td><td>&quot;12500&quot;</td><td>&quot;1&quot;</td><td>&quot;- LIBERTY ALBUQUERQUE DIALYSIS…</td><td>&quot;01/01/2014-12/31/2017&quot;</td><td>&quot;&quot;</td><td>&quot;1&quot;</td><td>&quot;# 7 PROFESSIONAL DRIVE&quot;</td><td>&quot;&quot;</td><td>&quot;ABBEVILLE&quot;</td><td>&quot;AK&quot;</td><td>&quot;10003&quot;</td><td>&quot;Acadia&quot;</td><td>&quot;(201) 262-0429&quot;</td><td>&quot;&quot;</td><td>&quot;N&quot;</td><td>&quot;&quot;</td><td>&quot;0&quot;</td><td>&quot;0&quot;</td><td>&quot;0&quot;</td><td>&quot;0&quot;</td><td>&quot;0&quot;</td><td>&quot;01APR1971&quot;</td><td>&quot;01/01/2017-12/31/2017&quot;</td><td>&quot;01JAN2022-31DEC2022&quot;</td><td>&quot;01/01/2014-12/31/2017&quot;</td><td>&quot; &quot;</td><td>&quot;1&quot;</td><td>&quot;&quot;</td><td>&quot;&quot;</td><td>&quot;&quot;</td><td>&quot;&quot;</td><td>&quot;01/01/2017-12/31/2017&quot;</td><td>&quot; &quot;</td><td>&quot;1&quot;</td><td>&quot;&quot;</td><td>&quot;&quot;</td><td>&hellip;</td><td>&quot;&quot;</td><td>&quot;&quot;</td><td>&quot;&quot;</td><td>&quot;1&quot;</td><td>&quot;&quot;</td><td>&quot;&quot;</td><td>&quot;&quot;</td><td>&quot;2017&quot;</td><td>&quot;10&quot;</td><td>&quot;ABBEVILLE&quot;</td><td>&quot;10003&quot;</td><td>&quot;&quot;</td><td>&quot;(201) 262-0429&quot;</td><td>&quot;01/01/1968&quot;</td><td>&quot;01/01/2017-12/31/2017&quot;</td><td>&quot;0&quot;</td><td>&quot;1&quot;</td><td>&quot;01/01/2015 - 12/31/2017&quot;</td><td>&quot;0&quot;</td><td>&quot;As Expected&quot;</td><td>&quot;&quot;</td><td>&quot;&quot;</td><td>&quot;&quot;</td><td>&quot;01JAN2016-31DEC2016&quot;</td><td>&quot;&quot;</td><td>&quot;&quot;</td><td>&quot;&quot;</td><td>&quot;&quot;</td><td>&quot;&quot;</td><td>&quot;&quot;</td><td>&quot;1&quot;</td><td>&quot;&quot;</td><td>&quot;1&quot;</td><td>&quot;&quot;</td><td>&quot;&quot;</td><td>&quot; &quot;</td><td>&quot;&quot;</td></tr><tr><td>&quot;25%&quot;</td><td>null</td><td>null</td><td>null</td><td>null</td><td>null</td><td>null</td><td>null</td><td>null</td><td>null</td><td>null</td><td>null</td><td>null</td><td>null</td><td>null</td><td>null</td><td>null</td><td>null</td><td>null</td><td>null</td><td>null</td><td>null</td><td>null</td><td>null</td><td>null</td><td>null</td><td>null</td><td>null</td><td>null</td><td>null</td><td>null</td><td>null</td><td>null</td><td>null</td><td>null</td><td>null</td><td>null</td><td>&hellip;</td><td>null</td><td>null</td><td>null</td><td>null</td><td>null</td><td>null</td><td>null</td><td>null</td><td>null</td><td>null</td><td>null</td><td>null</td><td>null</td><td>null</td><td>null</td><td>null</td><td>null</td><td>null</td><td>null</td><td>null</td><td>null</td><td>null</td><td>null</td><td>null</td><td>null</td><td>null</td><td>null</td><td>null</td><td>null</td><td>null</td><td>null</td><td>null</td><td>null</td><td>null</td><td>null</td><td>null</td><td>null</td></tr><tr><td>&quot;50%&quot;</td><td>null</td><td>null</td><td>null</td><td>null</td><td>null</td><td>null</td><td>null</td><td>null</td><td>null</td><td>null</td><td>null</td><td>null</td><td>null</td><td>null</td><td>null</td><td>null</td><td>null</td><td>null</td><td>null</td><td>null</td><td>null</td><td>null</td><td>null</td><td>null</td><td>null</td><td>null</td><td>null</td><td>null</td><td>null</td><td>null</td><td>null</td><td>null</td><td>null</td><td>null</td><td>null</td><td>null</td><td>&hellip;</td><td>null</td><td>null</td><td>null</td><td>null</td><td>null</td><td>null</td><td>null</td><td>null</td><td>null</td><td>null</td><td>null</td><td>null</td><td>null</td><td>null</td><td>null</td><td>null</td><td>null</td><td>null</td><td>null</td><td>null</td><td>null</td><td>null</td><td>null</td><td>null</td><td>null</td><td>null</td><td>null</td><td>null</td><td>null</td><td>null</td><td>null</td><td>null</td><td>null</td><td>null</td><td>null</td><td>null</td><td>null</td></tr><tr><td>&quot;75%&quot;</td><td>null</td><td>null</td><td>null</td><td>null</td><td>null</td><td>null</td><td>null</td><td>null</td><td>null</td><td>null</td><td>null</td><td>null</td><td>null</td><td>null</td><td>null</td><td>null</td><td>null</td><td>null</td><td>null</td><td>null</td><td>null</td><td>null</td><td>null</td><td>null</td><td>null</td><td>null</td><td>null</td><td>null</td><td>null</td><td>null</td><td>null</td><td>null</td><td>null</td><td>null</td><td>null</td><td>null</td><td>&hellip;</td><td>null</td><td>null</td><td>null</td><td>null</td><td>null</td><td>null</td><td>null</td><td>null</td><td>null</td><td>null</td><td>null</td><td>null</td><td>null</td><td>null</td><td>null</td><td>null</td><td>null</td><td>null</td><td>null</td><td>null</td><td>null</td><td>null</td><td>null</td><td>null</td><td>null</td><td>null</td><td>null</td><td>null</td><td>null</td><td>null</td><td>null</td><td>null</td><td>null</td><td>null</td><td>null</td><td>null</td><td>null</td></tr><tr><td>&quot;max&quot;</td><td>&quot;92531&quot;</td><td>&quot;9&quot;</td><td>&quot;zz_closed_Texas Care Dialysis&quot;</td><td>&quot;01Jan2019-31Dec2022&quot;</td><td>&quot;Not Available&quot;</td><td>&quot;270&quot;</td><td>&quot;road 174 km 6.9&quot;</td><td>&quot;suite B&quot;</td><td>&quot;pennsauken&quot;</td><td>&quot;WY&quot;</td><td>&quot;99801&quot;</td><td>&quot;Zavala&quot;</td><td>&quot;(989) 921-2170&quot;</td><td>&quot;Profit&quot;</td><td>&quot;Yes&quot;</td><td>&quot;Wake Forest University&quot;</td><td>&quot;Yes&quot;</td><td>&quot;9&quot;</td><td>&quot;Yes&quot;</td><td>&quot;Yes&quot;</td><td>&quot;Yes&quot;</td><td>&quot;31OCT2022&quot;</td><td>&quot;01OCT2022-30SEP2023&quot;</td><td>&quot;01OCT2022-30SEP2023&quot;</td><td>&quot;01Jan2019-31Dec2022&quot;</td><td>&quot;Worse than Expected&quot;</td><td>&quot;270&quot;</td><td>&quot;Not Available&quot;</td><td>&quot;Not Available&quot;</td><td>&quot;Not Available&quot;</td><td>&quot;Not Available&quot;</td><td>&quot;01Jan2022-31Dec2022&quot;</td><td>&quot;Worse than Expected&quot;</td><td>&quot;270&quot;</td><td>&quot;Not Available&quot;</td><td>&quot;Not Available&quot;</td><td>&hellip;</td><td>&quot;Not Available&quot;</td><td>&quot;Not Available&quot;</td><td>&quot;Not Available&quot;</td><td>&quot;270&quot;</td><td>&quot;Not Available&quot;</td><td>&quot;Not Available&quot;</td><td>&quot;Not Available&quot;</td><td>&quot;2024&quot;</td><td>&quot;7&quot;</td><td>&quot;pennsauken&quot;</td><td>&quot;99801&quot;</td><td>&quot;Zavala&quot;</td><td>&quot;9899212170&quot;</td><td>&quot;9/9/2016&quot;</td><td>&quot;01JAN2020-31DEC2020&quot;</td><td>&quot;999&quot;</td><td>&quot;258&quot;</td><td>&quot;01/01/2015 - 12/31/2017&quot;</td><td>&quot;Y&quot;</td><td>&quot;Worse than Expected&quot;</td><td>&quot;93&quot;</td><td>&quot;99&quot;</td><td>&quot;7&quot;</td><td>&quot;01JAN2016-31DEC2016&quot;</td><td>&quot;99&quot;</td><td>&quot;99&quot;</td><td>&quot;99&quot;</td><td>&quot;96&quot;</td><td>&quot;99&quot;</td><td>&quot;997&quot;</td><td>&quot;258&quot;</td><td>&quot;99&quot;</td><td>&quot;258&quot;</td><td>&quot;9&quot;</td><td>&quot;99&quot;</td><td>&quot;Worse than Expected&quot;</td><td>&quot;9&quot;</td></tr></tbody></table></div>"
      ],
      "text/plain": [
       "shape: (9, 166)\n",
       "┌────────────┬───────────┬─────────┬───────────┬───┬───────────┬───────────┬───────────┬───────────┐\n",
       "│ statistic  ┆ provider_ ┆ network ┆ facility_ ┆ … ┆ percentag ┆ hospitali ┆ patient_h ┆ readmissi │\n",
       "│ ---        ┆ number    ┆ ---     ┆ name      ┆   ┆ e_of_pati ┆ zation_ra ┆ ospital_r ┆ on_rate_f │\n",
       "│ str        ┆ ---       ┆ str     ┆ ---       ┆   ┆ ents_with ┆ te_facili ┆ eadmissio ┆ acility_  │\n",
       "│            ┆ str       ┆         ┆ str       ┆   ┆ _va…      ┆ ty_       ┆ n_c…      ┆ ---       │\n",
       "│            ┆           ┆         ┆           ┆   ┆ ---       ┆ ---       ┆ ---       ┆ str       │\n",
       "│            ┆           ┆         ┆           ┆   ┆ str       ┆ str       ┆ str       ┆           │\n",
       "╞════════════╪═══════════╪═════════╪═══════════╪═══╪═══════════╪═══════════╪═══════════╪═══════════╡\n",
       "│ count      ┆ 60476     ┆ 60476   ┆ 60476     ┆ … ┆ 7005      ┆ 7005      ┆ 7005      ┆ 7005      │\n",
       "│ null_count ┆ 0         ┆ 0       ┆ 0         ┆ … ┆ 53471     ┆ 53471     ┆ 53471     ┆ 53471     │\n",
       "│ mean       ┆ null      ┆ null    ┆ null      ┆ … ┆ null      ┆ null      ┆ null      ┆ null      │\n",
       "│ std        ┆ null      ┆ null    ┆ null      ┆ … ┆ null      ┆ null      ┆ null      ┆ null      │\n",
       "│ min        ┆ 12500     ┆ 1       ┆ - LIBERTY ┆ … ┆           ┆           ┆           ┆           │\n",
       "│            ┆           ┆         ┆ ALBUQUERQ ┆   ┆           ┆           ┆           ┆           │\n",
       "│            ┆           ┆         ┆ UE        ┆   ┆           ┆           ┆           ┆           │\n",
       "│            ┆           ┆         ┆ DIALYSIS… ┆   ┆           ┆           ┆           ┆           │\n",
       "│ 25%        ┆ null      ┆ null    ┆ null      ┆ … ┆ null      ┆ null      ┆ null      ┆ null      │\n",
       "│ 50%        ┆ null      ┆ null    ┆ null      ┆ … ┆ null      ┆ null      ┆ null      ┆ null      │\n",
       "│ 75%        ┆ null      ┆ null    ┆ null      ┆ … ┆ null      ┆ null      ┆ null      ┆ null      │\n",
       "│ max        ┆ 92531     ┆ 9       ┆ zz_closed ┆ … ┆ 9         ┆ 99        ┆ Worse     ┆ 9         │\n",
       "│            ┆           ┆         ┆ _Texas    ┆   ┆           ┆           ┆ than      ┆           │\n",
       "│            ┆           ┆         ┆ Care      ┆   ┆           ┆           ┆ Expected  ┆           │\n",
       "│            ┆           ┆         ┆ Dialysis  ┆   ┆           ┆           ┆           ┆           │\n",
       "└────────────┴───────────┴─────────┴───────────┴───┴───────────┴───────────┴───────────┴───────────┘"
      ]
     },
     "execution_count": 41,
     "metadata": {},
     "output_type": "execute_result"
    }
   ],
   "source": [
    "facility_df.describe()"
   ]
  },
  {
   "cell_type": "code",
   "execution_count": 91,
   "metadata": {},
   "outputs": [
    {
     "data": {
      "text/html": [
       "<div><style>\n",
       ".dataframe > thead > tr,\n",
       ".dataframe > tbody > tr {\n",
       "  text-align: right;\n",
       "  white-space: pre-wrap;\n",
       "}\n",
       "</style>\n",
       "<small>shape: (60_476, 155)</small><table border=\"1\" class=\"dataframe\"><thead><tr><th>provider_number</th><th>network</th><th>facility_name</th><th>five_star_date</th><th>five_star</th><th>five_star_data_availability_code</th><th>address_line_1</th><th>address_line_2</th><th>state</th><th>zip_code</th><th>profit_or_nonprofit</th><th>chain_owned</th><th>chain_organization</th><th>late_shift</th><th>of_dialysis_stations</th><th>offers_incenter_hemodialysis</th><th>offers_peritoneal_dialysis</th><th>offers_home_hemodialysis_training</th><th>certification_date</th><th>claims_date</th><th>eqrs_date</th><th>smr_date</th><th>patient_survival_category_text</th><th>patient_survival_data_availability_code</th><th>number_of_patients_included_in_survival_summary</th><th>mortality_rate_facility</th><th>mortality_rate_upper_confidence_limit_975</th><th>mortality_rate_lower_confidence_limit_25</th><th>shr_date</th><th>patient_hospitalization_category_text</th><th>patient_hospitalization_data_availability_code</th><th>number_of_patients_included_in_hospitalization_summary</th><th>hospitalization_rate_upper_confidence_limit_975</th><th>hospitalization_rate_lower_confidence_limit_25</th><th>srr_date</th><th>patient_hospital_readmission_category</th><th>patient_hospital_readmission_data_availability_code</th><th>&hellip;</th><th>percentage_of_adult_patients_with_serum_phosphorus_between_5670_mgdl</th><th>percentage_of_adult_patients_with_serum_phosphorus_greater_than_70_mgdl</th><th>long_term_catheter_data_availability_code</th><th>number_of_patients_in_long_term_catheter_summary</th><th>number_of_patient_months_in_long_term_catheter_summary</th><th>percentage_of_adult_patients_with_long_term_catheter_in_use</th><th>npcr_data_availability_code</th><th>number_of_patients_in_npcr_summary</th><th>number_of_patientmonths_in_npcr_summary</th><th>percentage_of_pediatric_hd_patients_with_npcr</th><th>year</th><th>month</th><th>city</th><th>county</th><th>phone_number</th><th>certification_or_recertification_date</th><th>crownweb_date</th><th>serum_phosphorus_data_availability_code</th><th>dateswr</th><th>offers_incenter_peritoneal_dialysis</th><th>rate_of_hospital_readmission_category_text</th><th>percentage_of_medicare_patients_with_hgb_10_gdl</th><th>number_of_patients_included_in_transfusion_summary</th><th>standard_infection_ratio</th><th>percentage_of_adult_hd_patients_with_ktv_12</th><th>percentage_of_adult_pd_patients_with_ktv17</th><th>percentage_of_pediatric_hd_patents_with_ktv12</th><th>percentage_of_pediatric_pd_patents_with_ktv18</th><th>number_of_adult_patients_included_in_arterial_venous_fistula_and_catheter_summaries</th><th>number_of_adult_patientmonths_included_in_arterial_venous_fistula_and_catheter_summaries</th><th>arteriovenous_fistulae_in_use_data_availability_code</th><th>percentage_of_patients_with_arteriovenous_fistulae_in_use</th><th>vascular_catheter_data_availability_code</th><th>percentage_of_patients_with_vascular_catheter_in_use_for_90_days_or_longer</th><th>hospitalization_rate_facility</th><th>patient_hospital_readmission_category_text</th><th>readmission_rate_facility</th></tr><tr><td>str</td><td>str</td><td>str</td><td>str</td><td>str</td><td>str</td><td>str</td><td>str</td><td>str</td><td>str</td><td>str</td><td>str</td><td>str</td><td>str</td><td>str</td><td>str</td><td>str</td><td>str</td><td>str</td><td>str</td><td>str</td><td>str</td><td>str</td><td>str</td><td>str</td><td>str</td><td>str</td><td>str</td><td>str</td><td>str</td><td>str</td><td>str</td><td>str</td><td>str</td><td>str</td><td>str</td><td>str</td><td>&hellip;</td><td>str</td><td>str</td><td>str</td><td>str</td><td>str</td><td>str</td><td>str</td><td>str</td><td>str</td><td>str</td><td>str</td><td>str</td><td>str</td><td>str</td><td>str</td><td>str</td><td>str</td><td>str</td><td>str</td><td>str</td><td>str</td><td>str</td><td>str</td><td>str</td><td>str</td><td>str</td><td>str</td><td>str</td><td>str</td><td>str</td><td>str</td><td>str</td><td>str</td><td>str</td><td>str</td><td>str</td><td>str</td></tr></thead><tbody><tr><td>&quot;12306&quot;</td><td>&quot;8&quot;</td><td>&quot;CHILDRENS HOSPITAL DIALYSIS&quot;</td><td>&quot;01Jan2019-31Dec2022&quot;</td><td>null</td><td>&quot;260&quot;</td><td>&quot;1600 7TH AVENUE SOUTH&quot;</td><td>null</td><td>&quot;AL&quot;</td><td>&quot;35233&quot;</td><td>&quot;Non-profit&quot;</td><td>&quot;No&quot;</td><td>&quot;Independent&quot;</td><td>&quot;No&quot;</td><td>&quot;7&quot;</td><td>&quot;Yes&quot;</td><td>&quot;Yes&quot;</td><td>&quot;Yes&quot;</td><td>&quot;17NOV1982&quot;</td><td>&quot;01OCT2022-30SEP2023&quot;</td><td>&quot;01OCT2022-30SEP2023&quot;</td><td>&quot;01Jan2019-31Dec2022&quot;</td><td>&quot;Not Available&quot;</td><td>&quot;199&quot;</td><td>&quot;59&quot;</td><td>null</td><td>null</td><td>null</td><td>&quot;01Jan2022-31Dec2022&quot;</td><td>&quot;Worse than Expected&quot;</td><td>&quot;1&quot;</td><td>&quot;15&quot;</td><td>&quot;479.2&quot;</td><td>&quot;143.6&quot;</td><td>&quot;01Jan2022-31Dec2022&quot;</td><td>&quot;As Expected&quot;</td><td>&quot;1&quot;</td><td>&hellip;</td><td>null</td><td>null</td><td>&quot;199&quot;</td><td>&quot;1&quot;</td><td>&quot;11&quot;</td><td>null</td><td>&quot;1&quot;</td><td>&quot;24&quot;</td><td>&quot;177&quot;</td><td>&quot;96&quot;</td><td>&quot;2024&quot;</td><td>&quot;7&quot;</td><td>&quot;BIRMINGHAM&quot;</td><td>&quot;Jefferson&quot;</td><td>&quot;(205) 638-9275&quot;</td><td>null</td><td>null</td><td>null</td><td>null</td><td>null</td><td>null</td><td>null</td><td>null</td><td>null</td><td>null</td><td>null</td><td>null</td><td>null</td><td>null</td><td>null</td><td>null</td><td>null</td><td>null</td><td>null</td><td>null</td><td>null</td><td>null</td></tr><tr><td>&quot;12500&quot;</td><td>&quot;8&quot;</td><td>&quot;FMC CAPITOL CITY&quot;</td><td>&quot;01Jan2019-31Dec2022&quot;</td><td>&quot;1&quot;</td><td>&quot;1&quot;</td><td>&quot;255 S JACKSON STREET&quot;</td><td>null</td><td>&quot;AL&quot;</td><td>&quot;36104&quot;</td><td>&quot;Profit&quot;</td><td>&quot;Yes&quot;</td><td>&quot;Fresenius Medical Care&quot;</td><td>&quot;No&quot;</td><td>&quot;28&quot;</td><td>&quot;Yes&quot;</td><td>&quot;Yes&quot;</td><td>&quot;Yes&quot;</td><td>&quot;01SEP1976&quot;</td><td>&quot;01OCT2022-30SEP2023&quot;</td><td>&quot;01OCT2022-30SEP2023&quot;</td><td>&quot;01Jan2019-31Dec2022&quot;</td><td>&quot;As Expected&quot;</td><td>&quot;1&quot;</td><td>&quot;462&quot;</td><td>&quot;23.3&quot;</td><td>&quot;36.3&quot;</td><td>&quot;15.4&quot;</td><td>&quot;01Jan2022-31Dec2022&quot;</td><td>&quot;As Expected&quot;</td><td>&quot;1&quot;</td><td>&quot;120&quot;</td><td>&quot;188.0&quot;</td><td>&quot;83.5&quot;</td><td>&quot;01Jan2022-31Dec2022&quot;</td><td>&quot;As Expected&quot;</td><td>&quot;1&quot;</td><td>&hellip;</td><td>&quot;24&quot;</td><td>&quot;16&quot;</td><td>&quot;1&quot;</td><td>&quot;128&quot;</td><td>&quot;1142&quot;</td><td>&quot;18&quot;</td><td>&quot;259&quot;</td><td>&quot;0&quot;</td><td>null</td><td>null</td><td>&quot;2024&quot;</td><td>&quot;7&quot;</td><td>&quot;MONTGOMERY&quot;</td><td>&quot;Montgomery&quot;</td><td>&quot;(334) 263-1028&quot;</td><td>null</td><td>null</td><td>null</td><td>null</td><td>null</td><td>null</td><td>null</td><td>null</td><td>null</td><td>null</td><td>null</td><td>null</td><td>null</td><td>null</td><td>null</td><td>null</td><td>null</td><td>null</td><td>null</td><td>null</td><td>null</td><td>null</td></tr><tr><td>&quot;12501&quot;</td><td>&quot;8&quot;</td><td>&quot;DaVita Gadsden Dialysis&quot;</td><td>&quot;01Jan2019-31Dec2022&quot;</td><td>&quot;3&quot;</td><td>&quot;1&quot;</td><td>&quot;409 SOUTH FIRST STREET&quot;</td><td>null</td><td>&quot;AL&quot;</td><td>&quot;35901&quot;</td><td>&quot;Profit&quot;</td><td>&quot;Yes&quot;</td><td>&quot;DaVita&quot;</td><td>&quot;No&quot;</td><td>&quot;24&quot;</td><td>&quot;Yes&quot;</td><td>&quot;No&quot;</td><td>&quot;No&quot;</td><td>&quot;01SEP1976&quot;</td><td>&quot;01OCT2022-30SEP2023&quot;</td><td>&quot;01OCT2022-30SEP2023&quot;</td><td>&quot;01Jan2019-31Dec2022&quot;</td><td>&quot;As Expected&quot;</td><td>&quot;1&quot;</td><td>&quot;157&quot;</td><td>&quot;32.0&quot;</td><td>&quot;51.0&quot;</td><td>&quot;19.3&quot;</td><td>&quot;01Jan2022-31Dec2022&quot;</td><td>&quot;As Expected&quot;</td><td>&quot;1&quot;</td><td>&quot;47&quot;</td><td>&quot;271.8&quot;</td><td>&quot;95.9&quot;</td><td>&quot;01Jan2022-31Dec2022&quot;</td><td>&quot;As Expected&quot;</td><td>&quot;1&quot;</td><td>&hellip;</td><td>&quot;27&quot;</td><td>&quot;18&quot;</td><td>&quot;1&quot;</td><td>&quot;89&quot;</td><td>&quot;546&quot;</td><td>&quot;10&quot;</td><td>&quot;259&quot;</td><td>&quot;0&quot;</td><td>null</td><td>null</td><td>&quot;2024&quot;</td><td>&quot;7&quot;</td><td>&quot;GADSDEN&quot;</td><td>&quot;Etowah&quot;</td><td>&quot;(256) 547-2511&quot;</td><td>null</td><td>null</td><td>null</td><td>null</td><td>null</td><td>null</td><td>null</td><td>null</td><td>null</td><td>null</td><td>null</td><td>null</td><td>null</td><td>null</td><td>null</td><td>null</td><td>null</td><td>null</td><td>null</td><td>null</td><td>null</td><td>null</td></tr><tr><td>&quot;12502&quot;</td><td>&quot;8&quot;</td><td>&quot;DaVita Tuscaloosa University D…</td><td>&quot;01Jan2019-31Dec2022&quot;</td><td>&quot;1&quot;</td><td>&quot;1&quot;</td><td>&quot;220 15TH STREET&quot;</td><td>null</td><td>&quot;AL&quot;</td><td>&quot;35401&quot;</td><td>&quot;Profit&quot;</td><td>&quot;Yes&quot;</td><td>&quot;DaVita&quot;</td><td>&quot;No&quot;</td><td>&quot;23&quot;</td><td>&quot;Yes&quot;</td><td>&quot;Yes&quot;</td><td>&quot;No&quot;</td><td>&quot;21OCT1977&quot;</td><td>&quot;01OCT2022-30SEP2023&quot;</td><td>&quot;01OCT2022-30SEP2023&quot;</td><td>&quot;01Jan2019-31Dec2022&quot;</td><td>&quot;As Expected&quot;</td><td>&quot;1&quot;</td><td>&quot;415&quot;</td><td>&quot;23.7&quot;</td><td>&quot;36.7&quot;</td><td>&quot;15.8&quot;</td><td>&quot;01Jan2022-31Dec2022&quot;</td><td>&quot;As Expected&quot;</td><td>&quot;1&quot;</td><td>&quot;95&quot;</td><td>&quot;218.2&quot;</td><td>&quot;93.6&quot;</td><td>&quot;01Jan2022-31Dec2022&quot;</td><td>&quot;As Expected&quot;</td><td>&quot;1&quot;</td><td>&hellip;</td><td>&quot;22&quot;</td><td>&quot;22&quot;</td><td>&quot;1&quot;</td><td>&quot;110&quot;</td><td>&quot;965&quot;</td><td>&quot;18&quot;</td><td>&quot;259&quot;</td><td>&quot;0&quot;</td><td>null</td><td>null</td><td>&quot;2024&quot;</td><td>&quot;7&quot;</td><td>&quot;TUSCALOOSA&quot;</td><td>&quot;Tuscaloosa&quot;</td><td>&quot;(205) 345-6004&quot;</td><td>null</td><td>null</td><td>null</td><td>null</td><td>null</td><td>null</td><td>null</td><td>null</td><td>null</td><td>null</td><td>null</td><td>null</td><td>null</td><td>null</td><td>null</td><td>null</td><td>null</td><td>null</td><td>null</td><td>null</td><td>null</td><td>null</td></tr><tr><td>&quot;12505&quot;</td><td>&quot;8&quot;</td><td>&quot;DaVita PDI-Montgomery&quot;</td><td>&quot;01Jan2019-31Dec2022&quot;</td><td>&quot;3&quot;</td><td>&quot;1&quot;</td><td>&quot;1001 FOREST AVENUE&quot;</td><td>null</td><td>&quot;AL&quot;</td><td>&quot;36106&quot;</td><td>&quot;Profit&quot;</td><td>&quot;Yes&quot;</td><td>&quot;DaVita&quot;</td><td>&quot;No&quot;</td><td>&quot;18&quot;</td><td>&quot;Yes&quot;</td><td>&quot;Yes&quot;</td><td>&quot;Yes&quot;</td><td>&quot;14DEC1977&quot;</td><td>&quot;01OCT2022-30SEP2023&quot;</td><td>&quot;01OCT2022-30SEP2023&quot;</td><td>&quot;01Jan2019-31Dec2022&quot;</td><td>&quot;As Expected&quot;</td><td>&quot;1&quot;</td><td>&quot;356&quot;</td><td>&quot;26.4&quot;</td><td>&quot;39.9&quot;</td><td>&quot;17.5&quot;</td><td>&quot;01Jan2022-31Dec2022&quot;</td><td>&quot;As Expected&quot;</td><td>&quot;1&quot;</td><td>&quot;89&quot;</td><td>&quot;191.1&quot;</td><td>&quot;75.3&quot;</td><td>&quot;01Jan2022-31Dec2022&quot;</td><td>&quot;As Expected&quot;</td><td>&quot;1&quot;</td><td>&hellip;</td><td>&quot;32&quot;</td><td>&quot;15&quot;</td><td>&quot;1&quot;</td><td>&quot;82&quot;</td><td>&quot;642&quot;</td><td>&quot;13&quot;</td><td>&quot;259&quot;</td><td>&quot;0&quot;</td><td>null</td><td>null</td><td>&quot;2024&quot;</td><td>&quot;7&quot;</td><td>&quot;MONTGOMERY&quot;</td><td>&quot;Montgomery&quot;</td><td>&quot;(334) 269-9416&quot;</td><td>null</td><td>null</td><td>null</td><td>null</td><td>null</td><td>null</td><td>null</td><td>null</td><td>null</td><td>null</td><td>null</td><td>null</td><td>null</td><td>null</td><td>null</td><td>null</td><td>null</td><td>null</td><td>null</td><td>null</td><td>null</td><td>null</td></tr><tr><td>&hellip;</td><td>&hellip;</td><td>&hellip;</td><td>&hellip;</td><td>&hellip;</td><td>&hellip;</td><td>&hellip;</td><td>&hellip;</td><td>&hellip;</td><td>&hellip;</td><td>&hellip;</td><td>&hellip;</td><td>&hellip;</td><td>&hellip;</td><td>&hellip;</td><td>&hellip;</td><td>&hellip;</td><td>&hellip;</td><td>&hellip;</td><td>&hellip;</td><td>&hellip;</td><td>&hellip;</td><td>&hellip;</td><td>&hellip;</td><td>&hellip;</td><td>&hellip;</td><td>&hellip;</td><td>&hellip;</td><td>&hellip;</td><td>&hellip;</td><td>&hellip;</td><td>&hellip;</td><td>&hellip;</td><td>&hellip;</td><td>&hellip;</td><td>&hellip;</td><td>&hellip;</td><td>&hellip;</td><td>&hellip;</td><td>&hellip;</td><td>&hellip;</td><td>&hellip;</td><td>&hellip;</td><td>&hellip;</td><td>&hellip;</td><td>&hellip;</td><td>&hellip;</td><td>&hellip;</td><td>&hellip;</td><td>&hellip;</td><td>&hellip;</td><td>&hellip;</td><td>&hellip;</td><td>&hellip;</td><td>&hellip;</td><td>&hellip;</td><td>&hellip;</td><td>&hellip;</td><td>&hellip;</td><td>&hellip;</td><td>&hellip;</td><td>&hellip;</td><td>&hellip;</td><td>&hellip;</td><td>&hellip;</td><td>&hellip;</td><td>&hellip;</td><td>&hellip;</td><td>&hellip;</td><td>&hellip;</td><td>&hellip;</td><td>&hellip;</td><td>&hellip;</td><td>&hellip;</td><td>&hellip;</td></tr><tr><td>&quot;672605&quot;</td><td>&quot;14&quot;</td><td>&quot;BAYLOR COLLEGE OF MEDICINE-SCO…</td><td>&quot;01Jan2012-31Dec2015&quot;</td><td>&quot;4&quot;</td><td>&quot;1&quot;</td><td>&quot;6120 SCOTT STREET, SUITE F&quot;</td><td>&quot;&quot;</td><td>&quot;TX&quot;</td><td>&quot;77021&quot;</td><td>&quot;1&quot;</td><td>&quot;Y&quot;</td><td>&quot;US RENAL CARE, INC.&quot;</td><td>&quot;N&quot;</td><td>&quot;24&quot;</td><td>&quot;Y&quot;</td><td>null</td><td>&quot;N&quot;</td><td>null</td><td>&quot;01JAN2016-31DEC2016&quot;</td><td>null</td><td>&quot;01Jan2013-31Dec2016&quot;</td><td>&quot;As Expected&quot;</td><td>&quot;1&quot;</td><td>&quot;446&quot;</td><td>&quot;19&quot;</td><td>&quot;25.6&quot;</td><td>&quot;13.8&quot;</td><td>&quot;01Jan2016-31Dec2016&quot;</td><td>&quot;As Expected&quot;</td><td>&quot;1&quot;</td><td>&quot;80&quot;</td><td>&quot;320.5&quot;</td><td>&quot;121.6&quot;</td><td>&quot;01Jan2016-31Dec2016&quot;</td><td>null</td><td>&quot;1&quot;</td><td>&hellip;</td><td>&quot;21&quot;</td><td>&quot;14&quot;</td><td>null</td><td>null</td><td>null</td><td>null</td><td>null</td><td>null</td><td>null</td><td>null</td><td>&quot;2017&quot;</td><td>&quot;10&quot;</td><td>&quot;HOUSTON&quot;</td><td>&quot;HARRIS&quot;</td><td>&quot;7137417059&quot;</td><td>&quot;24-Jul-09&quot;</td><td>&quot;01JAN2016-31DEC2016&quot;</td><td>null</td><td>null</td><td>&quot;N&quot;</td><td>null</td><td>&quot;9&quot;</td><td>&quot;66&quot;</td><td>&quot;0.76&quot;</td><td>&quot;93&quot;</td><td>&quot;&quot;</td><td>&quot;&quot;</td><td>&quot;&quot;</td><td>&quot;81&quot;</td><td>&quot;710&quot;</td><td>&quot;1&quot;</td><td>&quot;74&quot;</td><td>&quot;1&quot;</td><td>&quot;7&quot;</td><td>&quot;194.8&quot;</td><td>&quot;As Expected&quot;</td><td>&quot;30.7&quot;</td></tr><tr><td>&quot;672606&quot;</td><td>&quot;14&quot;</td><td>&quot;SEALY DIALYSIS&quot;</td><td>&quot;01Jan2012-31Dec2015&quot;</td><td>&quot;5&quot;</td><td>&quot;1&quot;</td><td>&quot;2242 CHAMPIONSHIP DRIVE&quot;</td><td>&quot;&quot;</td><td>&quot;TX&quot;</td><td>&quot;77474&quot;</td><td>&quot;1&quot;</td><td>&quot;Y&quot;</td><td>&quot;DAVITA&quot;</td><td>&quot;N&quot;</td><td>&quot;12&quot;</td><td>&quot;Y&quot;</td><td>null</td><td>&quot;N&quot;</td><td>null</td><td>&quot;01JAN2016-31DEC2016&quot;</td><td>null</td><td>&quot;01Jan2013-31Dec2016&quot;</td><td>&quot;As Expected&quot;</td><td>&quot;1&quot;</td><td>&quot;269&quot;</td><td>&quot;15.5&quot;</td><td>&quot;22.7&quot;</td><td>&quot;10.1&quot;</td><td>&quot;01Jan2016-31Dec2016&quot;</td><td>&quot;As Expected&quot;</td><td>&quot;1&quot;</td><td>&quot;60&quot;</td><td>&quot;292.6&quot;</td><td>&quot;86.7&quot;</td><td>&quot;01Jan2016-31Dec2016&quot;</td><td>null</td><td>&quot;1&quot;</td><td>&hellip;</td><td>&quot;11&quot;</td><td>&quot;7&quot;</td><td>null</td><td>null</td><td>null</td><td>null</td><td>null</td><td>null</td><td>null</td><td>null</td><td>&quot;2017&quot;</td><td>&quot;10&quot;</td><td>&quot;SEALY&quot;</td><td>&quot;AUSTIN&quot;</td><td>&quot;9796270300&quot;</td><td>&quot;13-Jul-09&quot;</td><td>&quot;01JAN2016-31DEC2016&quot;</td><td>null</td><td>null</td><td>&quot;N&quot;</td><td>null</td><td>&quot;27&quot;</td><td>&quot;57&quot;</td><td>&quot;0.31&quot;</td><td>&quot;97&quot;</td><td>&quot;&quot;</td><td>&quot;&quot;</td><td>&quot;&quot;</td><td>&quot;54&quot;</td><td>&quot;526&quot;</td><td>&quot;1&quot;</td><td>&quot;75&quot;</td><td>&quot;1&quot;</td><td>&quot;6&quot;</td><td>&quot;156.6&quot;</td><td>&quot;As Expected&quot;</td><td>&quot;17.9&quot;</td></tr><tr><td>&quot;672607&quot;</td><td>&quot;14&quot;</td><td>&quot;US RENAL CARE CANTON DIALYSIS&quot;</td><td>&quot;01Jan2012-31Dec2015&quot;</td><td>&quot;5&quot;</td><td>&quot;1&quot;</td><td>&quot;400 EAST STATE HIGHWAY 243, SU…</td><td>&quot;&quot;</td><td>&quot;TX&quot;</td><td>&quot;75103&quot;</td><td>&quot;1&quot;</td><td>&quot;Y&quot;</td><td>&quot;US RENAL CARE, INC.&quot;</td><td>&quot;N&quot;</td><td>&quot;13&quot;</td><td>&quot;Y&quot;</td><td>null</td><td>&quot;N&quot;</td><td>null</td><td>&quot;01JAN2016-31DEC2016&quot;</td><td>null</td><td>&quot;01Jan2013-31Dec2016&quot;</td><td>&quot;As Expected&quot;</td><td>&quot;1&quot;</td><td>&quot;139&quot;</td><td>&quot;18.3&quot;</td><td>&quot;27.5&quot;</td><td>&quot;11.6&quot;</td><td>&quot;01Jan2016-31Dec2016&quot;</td><td>&quot;As Expected&quot;</td><td>&quot;1&quot;</td><td>&quot;34&quot;</td><td>&quot;377.9&quot;</td><td>&quot;108.4&quot;</td><td>&quot;01Jan2016-31Dec2016&quot;</td><td>null</td><td>&quot;1&quot;</td><td>&hellip;</td><td>&quot;22&quot;</td><td>&quot;10&quot;</td><td>null</td><td>null</td><td>null</td><td>null</td><td>null</td><td>null</td><td>null</td><td>null</td><td>&quot;2017&quot;</td><td>&quot;10&quot;</td><td>&quot;CANTON&quot;</td><td>&quot;VAN ZANDT&quot;</td><td>&quot;9035672250&quot;</td><td>&quot;10-Aug-09&quot;</td><td>&quot;01JAN2016-31DEC2016&quot;</td><td>null</td><td>null</td><td>&quot;N&quot;</td><td>null</td><td>&quot;20&quot;</td><td>&quot;27&quot;</td><td>&quot;2.05&quot;</td><td>&quot;98&quot;</td><td>&quot;&quot;</td><td>&quot;&quot;</td><td>&quot;&quot;</td><td>&quot;32&quot;</td><td>&quot;257&quot;</td><td>&quot;1&quot;</td><td>&quot;70&quot;</td><td>&quot;1&quot;</td><td>&quot;2&quot;</td><td>&quot;197.3&quot;</td><td>&quot;As Expected&quot;</td><td>&quot;23.6&quot;</td></tr><tr><td>&quot;672608&quot;</td><td>&quot;14&quot;</td><td>&quot;LIBERTY DIALYSIS BRYAN&quot;</td><td>&quot;01Jan2012-31Dec2015&quot;</td><td>&quot;4&quot;</td><td>&quot;1&quot;</td><td>&quot;2390 E 29TH STREET&quot;</td><td>&quot;&quot;</td><td>&quot;TX&quot;</td><td>&quot;77802&quot;</td><td>&quot;1&quot;</td><td>&quot;Y&quot;</td><td>&quot;FRESENIUS MEDICAL CARE&quot;</td><td>&quot;N&quot;</td><td>&quot;21&quot;</td><td>&quot;Y&quot;</td><td>null</td><td>&quot;N&quot;</td><td>null</td><td>&quot;01JAN2016-31DEC2016&quot;</td><td>null</td><td>&quot;01Jan2013-31Dec2016&quot;</td><td>&quot;As Expected&quot;</td><td>&quot;1&quot;</td><td>&quot;635&quot;</td><td>&quot;18.8&quot;</td><td>&quot;23.5&quot;</td><td>&quot;14.8&quot;</td><td>&quot;01Jan2016-31Dec2016&quot;</td><td>&quot;As Expected&quot;</td><td>&quot;1&quot;</td><td>&quot;124&quot;</td><td>&quot;289.3&quot;</td><td>&quot;127.7&quot;</td><td>&quot;01Jan2016-31Dec2016&quot;</td><td>null</td><td>&quot;1&quot;</td><td>&hellip;</td><td>&quot;20&quot;</td><td>&quot;14&quot;</td><td>null</td><td>null</td><td>null</td><td>null</td><td>null</td><td>null</td><td>null</td><td>null</td><td>&quot;2017&quot;</td><td>&quot;10&quot;</td><td>&quot;BRYAN&quot;</td><td>&quot;BRAZOS&quot;</td><td>&quot;9793141550&quot;</td><td>&quot;20-Aug-09&quot;</td><td>&quot;01JAN2016-31DEC2016&quot;</td><td>null</td><td>null</td><td>&quot;Y&quot;</td><td>null</td><td>&quot;10&quot;</td><td>&quot;103&quot;</td><td>&quot;0.8&quot;</td><td>&quot;98&quot;</td><td>&quot;99&quot;</td><td>&quot;&quot;</td><td>&quot;&quot;</td><td>&quot;104&quot;</td><td>&quot;843&quot;</td><td>&quot;1&quot;</td><td>&quot;73&quot;</td><td>&quot;1&quot;</td><td>&quot;7&quot;</td><td>&quot;185.9&quot;</td><td>&quot;As Expected&quot;</td><td>&quot;27.7&quot;</td></tr><tr><td>&quot;672610&quot;</td><td>&quot;14&quot;</td><td>&quot;NEW CENTURY DIALYSIS CENTER OF…</td><td>&quot;01Jan2012-31Dec2015&quot;</td><td>&quot;3&quot;</td><td>&quot;1&quot;</td><td>&quot;2014 S WHEELER STREET ,SUITE 3…</td><td>&quot;&quot;</td><td>&quot;TX&quot;</td><td>&quot;75951&quot;</td><td>&quot;1&quot;</td><td>&quot;N&quot;</td><td>&quot;INDEPENDENT&quot;</td><td>&quot;N&quot;</td><td>&quot;10&quot;</td><td>&quot;Y&quot;</td><td>null</td><td>&quot;N&quot;</td><td>null</td><td>&quot;01JAN2016-31DEC2016&quot;</td><td>null</td><td>&quot;01Jan2013-31Dec2016&quot;</td><td>&quot;Better than Expected&quot;</td><td>&quot;1&quot;</td><td>&quot;237&quot;</td><td>&quot;12.3&quot;</td><td>&quot;17.1&quot;</td><td>&quot;8.6&quot;</td><td>&quot;01Jan2016-31Dec2016&quot;</td><td>&quot;As Expected&quot;</td><td>&quot;1&quot;</td><td>&quot;54&quot;</td><td>&quot;274.5&quot;</td><td>&quot;101.9&quot;</td><td>&quot;01Jan2016-31Dec2016&quot;</td><td>null</td><td>&quot;1&quot;</td><td>&hellip;</td><td>&quot;15&quot;</td><td>&quot;7&quot;</td><td>null</td><td>null</td><td>null</td><td>null</td><td>null</td><td>null</td><td>null</td><td>null</td><td>&quot;2017&quot;</td><td>&quot;10&quot;</td><td>&quot;JASPER&quot;</td><td>&quot;JASPER&quot;</td><td>&quot;4093842711&quot;</td><td>&quot;27-Aug-09&quot;</td><td>&quot;01JAN2016-31DEC2016&quot;</td><td>null</td><td>null</td><td>&quot;Y&quot;</td><td>null</td><td>&quot;32&quot;</td><td>&quot;45&quot;</td><td>&quot;&quot;</td><td>&quot;93&quot;</td><td>&quot;&quot;</td><td>&quot;&quot;</td><td>&quot;&quot;</td><td>&quot;44&quot;</td><td>&quot;368&quot;</td><td>&quot;1&quot;</td><td>&quot;64&quot;</td><td>&quot;1&quot;</td><td>&quot;19&quot;</td><td>&quot;164.3&quot;</td><td>&quot;As Expected&quot;</td><td>&quot;30.1&quot;</td></tr></tbody></table></div>"
      ],
      "text/plain": [
       "shape: (60_476, 155)\n",
       "┌────────────┬─────────┬───────────┬───────────┬───┬───────────┬───────────┬───────────┬───────────┐\n",
       "│ provider_n ┆ network ┆ facility_ ┆ five_star ┆ … ┆ percentag ┆ hospitali ┆ patient_h ┆ readmissi │\n",
       "│ umber      ┆ ---     ┆ name      ┆ _date     ┆   ┆ e_of_pati ┆ zation_ra ┆ ospital_r ┆ on_rate_f │\n",
       "│ ---        ┆ str     ┆ ---       ┆ ---       ┆   ┆ ents_with ┆ te_facili ┆ eadmissio ┆ acility   │\n",
       "│ str        ┆         ┆ str       ┆ str       ┆   ┆ _va…      ┆ ty        ┆ n_c…      ┆ ---       │\n",
       "│            ┆         ┆           ┆           ┆   ┆ ---       ┆ ---       ┆ ---       ┆ str       │\n",
       "│            ┆         ┆           ┆           ┆   ┆ str       ┆ str       ┆ str       ┆           │\n",
       "╞════════════╪═════════╪═══════════╪═══════════╪═══╪═══════════╪═══════════╪═══════════╪═══════════╡\n",
       "│ 12306      ┆ 8       ┆ CHILDRENS ┆ 01Jan2019 ┆ … ┆ null      ┆ null      ┆ null      ┆ null      │\n",
       "│            ┆         ┆ HOSPITAL  ┆ -31Dec202 ┆   ┆           ┆           ┆           ┆           │\n",
       "│            ┆         ┆ DIALYSIS  ┆ 2         ┆   ┆           ┆           ┆           ┆           │\n",
       "│ 12500      ┆ 8       ┆ FMC       ┆ 01Jan2019 ┆ … ┆ null      ┆ null      ┆ null      ┆ null      │\n",
       "│            ┆         ┆ CAPITOL   ┆ -31Dec202 ┆   ┆           ┆           ┆           ┆           │\n",
       "│            ┆         ┆ CITY      ┆ 2         ┆   ┆           ┆           ┆           ┆           │\n",
       "│ 12501      ┆ 8       ┆ DaVita    ┆ 01Jan2019 ┆ … ┆ null      ┆ null      ┆ null      ┆ null      │\n",
       "│            ┆         ┆ Gadsden   ┆ -31Dec202 ┆   ┆           ┆           ┆           ┆           │\n",
       "│            ┆         ┆ Dialysis  ┆ 2         ┆   ┆           ┆           ┆           ┆           │\n",
       "│ 12502      ┆ 8       ┆ DaVita    ┆ 01Jan2019 ┆ … ┆ null      ┆ null      ┆ null      ┆ null      │\n",
       "│            ┆         ┆ Tuscaloos ┆ -31Dec202 ┆   ┆           ┆           ┆           ┆           │\n",
       "│            ┆         ┆ a Univers ┆ 2         ┆   ┆           ┆           ┆           ┆           │\n",
       "│            ┆         ┆ ity D…    ┆           ┆   ┆           ┆           ┆           ┆           │\n",
       "│ 12505      ┆ 8       ┆ DaVita    ┆ 01Jan2019 ┆ … ┆ null      ┆ null      ┆ null      ┆ null      │\n",
       "│            ┆         ┆ PDI-Montg ┆ -31Dec202 ┆   ┆           ┆           ┆           ┆           │\n",
       "│            ┆         ┆ omery     ┆ 2         ┆   ┆           ┆           ┆           ┆           │\n",
       "│ …          ┆ …       ┆ …         ┆ …         ┆ … ┆ …         ┆ …         ┆ …         ┆ …         │\n",
       "│ 672605     ┆ 14      ┆ BAYLOR    ┆ 01Jan2012 ┆ … ┆ 7         ┆ 194.8     ┆ As        ┆ 30.7      │\n",
       "│            ┆         ┆ COLLEGE   ┆ -31Dec201 ┆   ┆           ┆           ┆ Expected  ┆           │\n",
       "│            ┆         ┆ OF MEDICI ┆ 5         ┆   ┆           ┆           ┆           ┆           │\n",
       "│            ┆         ┆ NE-SCO…   ┆           ┆   ┆           ┆           ┆           ┆           │\n",
       "│ 672606     ┆ 14      ┆ SEALY     ┆ 01Jan2012 ┆ … ┆ 6         ┆ 156.6     ┆ As        ┆ 17.9      │\n",
       "│            ┆         ┆ DIALYSIS  ┆ -31Dec201 ┆   ┆           ┆           ┆ Expected  ┆           │\n",
       "│            ┆         ┆           ┆ 5         ┆   ┆           ┆           ┆           ┆           │\n",
       "│ 672607     ┆ 14      ┆ US RENAL  ┆ 01Jan2012 ┆ … ┆ 2         ┆ 197.3     ┆ As        ┆ 23.6      │\n",
       "│            ┆         ┆ CARE      ┆ -31Dec201 ┆   ┆           ┆           ┆ Expected  ┆           │\n",
       "│            ┆         ┆ CANTON    ┆ 5         ┆   ┆           ┆           ┆           ┆           │\n",
       "│            ┆         ┆ DIALYSIS  ┆           ┆   ┆           ┆           ┆           ┆           │\n",
       "│ 672608     ┆ 14      ┆ LIBERTY   ┆ 01Jan2012 ┆ … ┆ 7         ┆ 185.9     ┆ As        ┆ 27.7      │\n",
       "│            ┆         ┆ DIALYSIS  ┆ -31Dec201 ┆   ┆           ┆           ┆ Expected  ┆           │\n",
       "│            ┆         ┆ BRYAN     ┆ 5         ┆   ┆           ┆           ┆           ┆           │\n",
       "│ 672610     ┆ 14      ┆ NEW       ┆ 01Jan2012 ┆ … ┆ 19        ┆ 164.3     ┆ As        ┆ 30.1      │\n",
       "│            ┆         ┆ CENTURY   ┆ -31Dec201 ┆   ┆           ┆           ┆ Expected  ┆           │\n",
       "│            ┆         ┆ DIALYSIS  ┆ 5         ┆   ┆           ┆           ┆           ┆           │\n",
       "│            ┆         ┆ CENTER    ┆           ┆   ┆           ┆           ┆           ┆           │\n",
       "│            ┆         ┆ OF…       ┆           ┆   ┆           ┆           ┆           ┆           │\n",
       "└────────────┴─────────┴───────────┴───────────┴───┴───────────┴───────────┴───────────┴───────────┘"
      ]
     },
     "execution_count": 91,
     "metadata": {},
     "output_type": "execute_result"
    }
   ],
   "source": [
    "import janitor.polars\n",
    "\n",
    "facility_df = facility_df.with_columns(pl.coalesce('city', 'citytown').alias('city'))\n",
    "facility_df = facility_df.with_columns(pl.coalesce('county', 'countyparish').alias('county'))\n",
    "facility_df = facility_df.with_columns(pl.coalesce('zip_code', 'zip').alias('zip_code'))\n",
    "facility_df = facility_df.with_columns(pl.coalesce('phone_number', 'telephone_number').alias('phone_number'))\n",
    "facility_df = facility_df.with_columns(pl.coalesce('hospitalization_rate_facility_', 'hospitalization_rate_facility').alias('hospitalization_rate_facility'))\n",
    "facility_df = facility_df.with_columns(pl.coalesce('crownweb__date_', 'crownweb_date').alias('crownweb_date'))\n",
    "facility_df = facility_df.with_columns(pl.coalesce('number_of_patientmonths_in_serum_phosphorus_summary_', 'number_of_patientmonths_in_serum_phosphorus_summary').alias('number_of_patientmonths_in_serum_phosphorus_summary'))\n",
    "facility_df = facility_df.with_columns(pl.coalesce('serum_phosphorus_data_availability_code_', 'serum_phosphorus_data_availability_code').alias('serum_phosphorus_data_availability_code'))\n",
    "facility_df = facility_df.with_columns(pl.coalesce('standard_infection_ratio_', 'standard_infection_ratio').alias('standard_infection_ratio'))\n",
    "facility_df = facility_df.with_columns(pl.coalesce('hospitalization_rate_facility_', 'hospitalization_rate_facility').alias('hospitalization_rate_facility'))\n",
    "facility_df = facility_df.with_columns(pl.coalesce('readmission_rate_facility', 'readmission_rate_facility_').alias('readmission_rate_facility'))\n",
    "\n",
    "facility_df = facility_df.drop('readmission_rate_facility','hospitalization_rate_facility','standard_infection_ratio', 'number_of_patientmonths_in_serum_phosphorus_summary_', 'crownweb__date_', 'serum_phosphorus_data_availability_code', 'citytown', 'zip', 'telephone_number', 'countyparish')\n",
    "\n",
    "facility_df.clean_names(strip_underscores=True)"
   ]
  },
  {
   "cell_type": "code",
   "execution_count": 48,
   "metadata": {},
   "outputs": [
    {
     "name": "stdout",
     "output_type": "stream",
     "text": [
      "shape: (5, 155)\n",
      "┌────────────┬─────────┬───────────┬───────────┬───┬───────────┬───────────┬───────────┬───────────┐\n",
      "│ provider_n ┆ network ┆ facility_ ┆ five_star ┆ … ┆ percentag ┆ vascular_ ┆ percentag ┆ patient_h │\n",
      "│ umber      ┆ ---     ┆ name      ┆ _date     ┆   ┆ e_of_pati ┆ catheter_ ┆ e_of_pati ┆ ospital_r │\n",
      "│ ---        ┆ str     ┆ ---       ┆ ---       ┆   ┆ ents_with ┆ data_avai ┆ ents_with ┆ eadmissio │\n",
      "│ str        ┆         ┆ str       ┆ str       ┆   ┆ _ar…      ┆ lab…      ┆ _va…      ┆ n_c…      │\n",
      "│            ┆         ┆           ┆           ┆   ┆ ---       ┆ ---       ┆ ---       ┆ ---       │\n",
      "│            ┆         ┆           ┆           ┆   ┆ str       ┆ str       ┆ str       ┆ str       │\n",
      "╞════════════╪═════════╪═══════════╪═══════════╪═══╪═══════════╪═══════════╪═══════════╪═══════════╡\n",
      "│ 12306      ┆ 8       ┆ CHILDRENS ┆ 01Jan2019 ┆ … ┆ null      ┆ null      ┆ null      ┆ null      │\n",
      "│            ┆         ┆ HOSPITAL  ┆ -31Dec202 ┆   ┆           ┆           ┆           ┆           │\n",
      "│            ┆         ┆ DIALYSIS  ┆ 2         ┆   ┆           ┆           ┆           ┆           │\n",
      "│ 12500      ┆ 8       ┆ FMC       ┆ 01Jan2019 ┆ … ┆ null      ┆ null      ┆ null      ┆ null      │\n",
      "│            ┆         ┆ CAPITOL   ┆ -31Dec202 ┆   ┆           ┆           ┆           ┆           │\n",
      "│            ┆         ┆ CITY      ┆ 2         ┆   ┆           ┆           ┆           ┆           │\n",
      "│ 12501      ┆ 8       ┆ DaVita    ┆ 01Jan2019 ┆ … ┆ null      ┆ null      ┆ null      ┆ null      │\n",
      "│            ┆         ┆ Gadsden   ┆ -31Dec202 ┆   ┆           ┆           ┆           ┆           │\n",
      "│            ┆         ┆ Dialysis  ┆ 2         ┆   ┆           ┆           ┆           ┆           │\n",
      "│ 12502      ┆ 8       ┆ DaVita    ┆ 01Jan2019 ┆ … ┆ null      ┆ null      ┆ null      ┆ null      │\n",
      "│            ┆         ┆ Tuscaloos ┆ -31Dec202 ┆   ┆           ┆           ┆           ┆           │\n",
      "│            ┆         ┆ a Univers ┆ 2         ┆   ┆           ┆           ┆           ┆           │\n",
      "│            ┆         ┆ ity D…    ┆           ┆   ┆           ┆           ┆           ┆           │\n",
      "│ 12505      ┆ 8       ┆ DaVita    ┆ 01Jan2019 ┆ … ┆ null      ┆ null      ┆ null      ┆ null      │\n",
      "│            ┆         ┆ PDI-Montg ┆ -31Dec202 ┆   ┆           ┆           ┆           ┆           │\n",
      "│            ┆         ┆ omery     ┆ 2         ┆   ┆           ┆           ┆           ┆           │\n",
      "└────────────┴─────────┴───────────┴───────────┴───┴───────────┴───────────┴───────────┴───────────┘\n",
      "\n",
      "New column names:\n",
      "['provider_number', 'network', 'facility_name', 'five_star_date', 'five_star', 'five_star_data_availability_code', 'address_line_1', 'address_line_2', 'citytown', 'state', 'zip_code', 'countyparish', 'telephone_number', 'profit_or_nonprofit', 'chain_owned', 'chain_organization', 'late_shift', 'of_dialysis_stations', 'offers_incenter_hemodialysis', 'offers_peritoneal_dialysis', 'offers_home_hemodialysis_training', 'certification_date', 'claims_date', 'eqrs_date', 'smr_date', 'patient_survival_category_text', 'patient_survival_data_availability_code', 'number_of_patients_included_in_survival_summary', 'mortality_rate_facility', 'mortality_rate_upper_confidence_limit_975', 'mortality_rate_lower_confidence_limit_25', 'shr_date', 'patient_hospitalization_category_text', 'patient_hospitalization_data_availability_code', 'number_of_patients_included_in_hospitalization_summary', 'hospitalization_rate_upper_confidence_limit_975', 'hospitalization_rate_lower_confidence_limit_25', 'srr_date', 'patient_hospital_readmission_category', 'patient_hospital_readmission_data_availability_code', 'number_of_hospitalizations_included_in_hospital_readmission_summary', 'readmission_rate_upper_confidence_limit_975', 'readmission_rate_lower_confidence_limit_25', 'strr_date', 'patient_transfusion_category_text', 'patient_transfusion_data_availability_code', 'number_of_patients_included_in_the_transfusion_summary', 'transfusion_rate_facility', 'transfusion_rate_upper_confidence_limit_975', 'transfusion_rate_lower_confidence_limit_25', 'swr_date', 'swr_category_text', 'patient_transplant_waitlist_data_availability_code', 'number_of_patients_in_this_facility_for_swr', 'standardized_first_kidney_transplant_waitlist_ratio', '95_ci_upper_limit_for_swr', '95_ci_lower_limit_for_swr', 'pppw_category_text', 'patient_prevalent_transplant_waitlist_data_availability_code', 'number_of_patients_for_pppw', 'percentage_of_prevalent_patients_waitlisted', '95_ci_upper_limit_for_pppw', '95_ci_lower_limit_for_pppw', 'sedr_date', 'sedr_category_text', 'emergency_department_encounter_data_availability_code', 'number_of_patients_included_in_sedr_summary', 'standardized_ed_visits_ratio_facility', 'sedr_upper_confidence_limit_975', 'sedr_lower_confidence_limit_25', 'ed30_date', 'ed30_category_text', 'emergency_department_encounter_ratio_occurring_within_30_days_of_hospital_discharge_data_availability_code', 'number_of_hospitalizations_included_in_ed30_summary', 'standardized_ed_visits_within_30_days_of_hospital_discharge_ratio_facility', 'ed30_upper_confidence_limit_975', 'ed30_lower_confidence_limit_25', 'sir_date', 'patient_infection_category_text', 'patient_infection_data_availability_code', 'sir_upper_confidence_limit_975', 'sir_lower_confidence_limit_25', 'fistula_category_text', 'fistula_data_availability_code', 'number_of_patients_included_in_fistula_summary', 'fistula_rate_facility', 'fistula_rate_upper_confidence_limit_975', 'fistula_rate_lower_confidence_limit_25', 'hcp_vaccination_data_collection_dates', 'hcp_vaccination_data_availability_code', 'healthcare_worker_covid19_vaccination_adherence_percentage', 'adult_hd_ktv_data_availability_code', 'number_of_adult_hd_patients_with_ktv_data', 'number_of_adult_hd_patientmonths_with_ktv_data', 'percent_of_adult_hd_patients_with_ktv__12', 'adult_pd_ktv_data_availability_code', 'number_of_adult_pd_patients_with_ktv_data', 'number_of_adult_pd_patientmonths_with_ktv_data', 'percentage_of_adult_pd_pts_with_ktv__17', 'pediatric_hd_ktv_data_availability_code', 'number_of_pediatric_hd_patients_with_ktv_data', 'number_of_pediatric_hd_patientmonths_with_ktv_data', 'percentage_of_pediatric_hd_patients_with_ktv__12', 'pediatric_pd_ktv_data_availability_code', 'number_of_pediatric_pd_patients_with_ktv_data', 'number_of_pediatric_pd_patientmonths_with_ktv_data', 'percentage_of_pediatric_pd_patients_with_ktv18', 'percentage_of_medicare_patients_with_hgb10_gdl', 'hgb10_data_availability_code', 'percentage_of_medicare_patients_with_hgb12_gdl', 'hgb__12_data_availability_code', 'number_of_dialysis_patients_with_hgb_data', 'hypercalcemia_data_availability_code', 'number_of_patients_in_hypercalcemia_summary', 'number_of_patientmonths_in_hypercalcemia_summary', 'percentage_of_adult_patients_with_hypercalcemia_serum_calcium_greater_than_102_mgdl', 'number_of_patients_in_serum_phosphorus_summary', 'percentage_of_adult_patients_with_serum_phosphorus_less_than_35_mgdl', 'percentage_of_adult_patients_with_serum_phosphorus_between_3545_mgdl', 'percentage_of_adult_patients_with_serum_phosphorus_between_4655_mgdl', 'percentage_of_adult_patients_with_serum_phosphorus_between_5670_mgdl', 'percentage_of_adult_patients_with_serum_phosphorus_greater_than_70_mgdl', 'long_term_catheter_data_availability_code', 'number_of_patients_in_long_term_catheter_summary', 'number_of_patient_months_in_long_term_catheter_summary', 'percentage_of_adult_patients_with_long_term_catheter_in_use', 'npcr_data_availability_code', 'number_of_patients_in_npcr_summary', 'number_of_patientmonths_in_npcr_summary', 'percentage_of_pediatric_hd_patients_with_npcr', 'year', 'month', 'city', 'zip', 'county', 'phone_number', 'certification_or_recertification_date', 'crownweb_date', 'dateswr', 'offers_incenter_peritoneal_dialysis', 'rate_of_hospital_readmission_category_text', 'percentage_of_medicare_patients_with_hgb_10_gdl', 'number_of_patients_included_in_transfusion_summary', 'crownweb__date', 'percentage_of_adult_hd_patients_with_ktv_12', 'percentage_of_adult_pd_patients_with_ktv17', 'percentage_of_pediatric_hd_patents_with_ktv12', 'percentage_of_pediatric_pd_patents_with_ktv18', 'number_of_adult_patients_included_in_arterial_venous_fistula_and_catheter_summaries', 'number_of_adult_patientmonths_included_in_arterial_venous_fistula_and_catheter_summaries', 'arteriovenous_fistulae_in_use_data_availability_code', 'percentage_of_patients_with_arteriovenous_fistulae_in_use', 'vascular_catheter_data_availability_code', 'percentage_of_patients_with_vascular_catheter_in_use_for_90_days_or_longer', 'patient_hospital_readmission_category_text']\n"
     ]
    }
   ],
   "source": [
    "import re\n",
    "from collections import defaultdict\n",
    "\n",
    "def to_snake_case_and_merge(df):\n",
    "    # Function to convert a string to snake case and remove leading/trailing underscores\n",
    "    def to_snake_case(string):\n",
    "        s1 = re.sub('(.)([A-Z][a-z]+)', r'\\1_\\2', string)\n",
    "        s2 = re.sub('([a-z0-9])([A-Z])', r'\\1_\\2', s1).lower()\n",
    "        return s2.strip('_')  # Remove leading/trailing underscores\n",
    "\n",
    "    # Convert all column names to snake case\n",
    "    new_names = [to_snake_case(col) for col in df.columns]\n",
    "\n",
    "    # Create a dictionary to store columns with the same snake case name\n",
    "    name_groups = defaultdict(list)\n",
    "    for old_name, new_name in zip(df.columns, new_names):\n",
    "        name_groups[new_name].append(old_name)\n",
    "\n",
    "    # Create a list to store the expressions for the new DataFrame\n",
    "    new_columns = []\n",
    "    columns_to_drop = []\n",
    "\n",
    "    # Iterate through the grouped names\n",
    "    for new_name, old_names in name_groups.items():\n",
    "        if len(old_names) == 1:\n",
    "            # If there's only one column with this name, just rename it\n",
    "            new_columns.append(pl.col(old_names[0]).alias(new_name))\n",
    "            if old_names[0] != new_name:\n",
    "                columns_to_drop.append(old_names[0])\n",
    "        else:\n",
    "            # If there are multiple columns, use coalesce to merge them\n",
    "            new_columns.append(pl.coalesce([pl.col(name) for name in old_names]).alias(new_name))\n",
    "            columns_to_drop.extend(old_names)\n",
    "\n",
    "    # Create a new DataFrame with the updated column names and merged columns\n",
    "    df = df.select(new_columns)\n",
    "    \n",
    "    # Drop the original columns that were merged or renamed, but only if they exist\n",
    "    columns_to_drop = [col for col in columns_to_drop if col in df.columns]\n",
    "    if columns_to_drop:\n",
    "        df = df.drop(columns_to_drop)\n",
    "\n",
    "    return df\n",
    "\n",
    "# Apply the function to your DataFrame\n",
    "facility_df = to_snake_case_and_merge(facility_df)\n",
    "\n",
    "# Display the first few rows and the new column names\n",
    "print(facility_df.head())\n",
    "print(\"\\nNew column names:\")\n",
    "print(facility_df.columns)"
   ]
  },
  {
   "cell_type": "code",
   "execution_count": 68,
   "metadata": {},
   "outputs": [],
   "source": []
  },
  {
   "cell_type": "code",
   "execution_count": 69,
   "metadata": {},
   "outputs": [
    {
     "data": {
      "text/html": [
       "<div><style>\n",
       ".dataframe > thead > tr,\n",
       ".dataframe > tbody > tr {\n",
       "  text-align: right;\n",
       "  white-space: pre-wrap;\n",
       "}\n",
       "</style>\n",
       "<small>shape: (9, 166)</small><table border=\"1\" class=\"dataframe\"><thead><tr><th>statistic</th><th>provider_number</th><th>network</th><th>facility_name</th><th>five_star_date</th><th>five_star</th><th>five_star_data_availability_code</th><th>address_line_1</th><th>address_line_2</th><th>citytown</th><th>state</th><th>zip_code</th><th>countyparish</th><th>telephone_number</th><th>profit_or_nonprofit</th><th>chain_owned</th><th>chain_organization</th><th>late_shift</th><th>_of_dialysis_stations</th><th>offers_incenter_hemodialysis</th><th>offers_peritoneal_dialysis</th><th>offers_home_hemodialysis_training</th><th>certification_date</th><th>claims_date</th><th>eqrs_date</th><th>smr_date</th><th>patient_survival_category_text</th><th>patient_survival_data_availability_code</th><th>number_of_patients_included_in_survival_summary</th><th>mortality_rate_facility</th><th>mortality_rate_upper_confidence_limit_975</th><th>mortality_rate_lower_confidence_limit_25</th><th>shr_date</th><th>patient_hospitalization_category_text</th><th>patient_hospitalization_data_availability_code</th><th>number_of_patients_included_in_hospitalization_summary</th><th>hospitalization_rate_facility</th><th>&hellip;</th><th>number_of_patients_in_long_term_catheter_summary</th><th>number_of_patient_months_in_long_term_catheter_summary</th><th>percentage_of_adult_patients_with_long_term_catheter_in_use</th><th>npcr_data_availability_code</th><th>number_of_patients_in_npcr_summary</th><th>number_of_patientmonths_in_npcr_summary</th><th>percentage_of_pediatric_hd_patients_with_npcr</th><th>year</th><th>month</th><th>city</th><th>zip</th><th>county</th><th>phone_number</th><th>certification_or_recertification_date</th><th>crownweb_date</th><th>number_of_patientmonths_in_serum_phosphorus_summary_</th><th>serum_phosphorus_data_availability_code_</th><th>dateswr</th><th>offers_incenter_peritoneal_dialysis</th><th>rate_of_hospital_readmission_category_text</th><th>percentage_of_medicare_patients_with_hgb_10_gdl</th><th>number_of_patients_included_in_transfusion_summary</th><th>standard_infection_ratio_</th><th>crownweb__date_</th><th>percentage_of_adult_hd_patients_with_ktv_12</th><th>percentage_of_adult_pd_patients_with_ktv17</th><th>percentage_of_pediatric_hd_patents_with_ktv12</th><th>percentage_of_pediatric_pd_patents_with_ktv18</th><th>number_of_adult_patients_included_in_arterial_venous_fistula_and_catheter_summaries</th><th>number_of_adult_patientmonths_included_in_arterial_venous_fistula_and_catheter_summaries</th><th>arteriovenous_fistulae_in_use_data_availability_code</th><th>percentage_of_patients_with_arteriovenous_fistulae_in_use</th><th>vascular_catheter_data_availability_code</th><th>percentage_of_patients_with_vascular_catheter_in_use_for_90_days_or_longer</th><th>hospitalization_rate_facility_</th><th>patient_hospital_readmission_category_text</th><th>readmission_rate_facility_</th></tr><tr><td>str</td><td>str</td><td>str</td><td>str</td><td>str</td><td>str</td><td>str</td><td>str</td><td>str</td><td>str</td><td>str</td><td>str</td><td>str</td><td>str</td><td>str</td><td>str</td><td>str</td><td>str</td><td>str</td><td>str</td><td>str</td><td>str</td><td>str</td><td>str</td><td>str</td><td>str</td><td>str</td><td>str</td><td>str</td><td>str</td><td>str</td><td>str</td><td>str</td><td>str</td><td>str</td><td>str</td><td>str</td><td>&hellip;</td><td>str</td><td>str</td><td>str</td><td>str</td><td>str</td><td>str</td><td>str</td><td>str</td><td>str</td><td>str</td><td>str</td><td>str</td><td>str</td><td>str</td><td>str</td><td>str</td><td>str</td><td>str</td><td>str</td><td>str</td><td>str</td><td>str</td><td>str</td><td>str</td><td>str</td><td>str</td><td>str</td><td>str</td><td>str</td><td>str</td><td>str</td><td>str</td><td>str</td><td>str</td><td>str</td><td>str</td><td>str</td></tr></thead><tbody><tr><td>&quot;count&quot;</td><td>&quot;60476&quot;</td><td>&quot;60476&quot;</td><td>&quot;60476&quot;</td><td>&quot;60476&quot;</td><td>&quot;56790&quot;</td><td>&quot;60476&quot;</td><td>&quot;60476&quot;</td><td>&quot;34634&quot;</td><td>&quot;15215&quot;</td><td>&quot;60476&quot;</td><td>&quot;60476&quot;</td><td>&quot;15214&quot;</td><td>&quot;15215&quot;</td><td>&quot;60476&quot;</td><td>&quot;60476&quot;</td><td>&quot;60475&quot;</td><td>&quot;60474&quot;</td><td>&quot;60476&quot;</td><td>&quot;60476&quot;</td><td>&quot;46190&quot;</td><td>&quot;60474&quot;</td><td>&quot;15215&quot;</td><td>&quot;60476&quot;</td><td>&quot;15215&quot;</td><td>&quot;60476&quot;</td><td>&quot;60476&quot;</td><td>&quot;60476&quot;</td><td>&quot;60093&quot;</td><td>&quot;57271&quot;</td><td>&quot;57271&quot;</td><td>&quot;57271&quot;</td><td>&quot;60476&quot;</td><td>&quot;60476&quot;</td><td>&quot;60476&quot;</td><td>&quot;60093&quot;</td><td>&quot;57878&quot;</td><td>&hellip;</td><td>&quot;53193&quot;</td><td>&quot;51911&quot;</td><td>&quot;49982&quot;</td><td>&quot;53471&quot;</td><td>&quot;53193&quot;</td><td>&quot;15874&quot;</td><td>&quot;14983&quot;</td><td>&quot;60476&quot;</td><td>&quot;60476&quot;</td><td>&quot;60476&quot;</td><td>&quot;45261&quot;</td><td>&quot;60475&quot;</td><td>&quot;60476&quot;</td><td>&quot;45261&quot;</td><td>&quot;38256&quot;</td><td>&quot;22856&quot;</td><td>&quot;23409&quot;</td><td>&quot;7566&quot;</td><td>&quot;14286&quot;</td><td>&quot;7281&quot;</td><td>&quot;7005&quot;</td><td>&quot;7005&quot;</td><td>&quot;7005&quot;</td><td>&quot;7005&quot;</td><td>&quot;7005&quot;</td><td>&quot;7005&quot;</td><td>&quot;7005&quot;</td><td>&quot;7005&quot;</td><td>&quot;7005&quot;</td><td>&quot;7005&quot;</td><td>&quot;7005&quot;</td><td>&quot;7005&quot;</td><td>&quot;7005&quot;</td><td>&quot;7005&quot;</td><td>&quot;7005&quot;</td><td>&quot;7005&quot;</td><td>&quot;7005&quot;</td></tr><tr><td>&quot;null_count&quot;</td><td>&quot;0&quot;</td><td>&quot;0&quot;</td><td>&quot;0&quot;</td><td>&quot;0&quot;</td><td>&quot;3686&quot;</td><td>&quot;0&quot;</td><td>&quot;0&quot;</td><td>&quot;25842&quot;</td><td>&quot;45261&quot;</td><td>&quot;0&quot;</td><td>&quot;0&quot;</td><td>&quot;45262&quot;</td><td>&quot;45261&quot;</td><td>&quot;0&quot;</td><td>&quot;0&quot;</td><td>&quot;1&quot;</td><td>&quot;2&quot;</td><td>&quot;0&quot;</td><td>&quot;0&quot;</td><td>&quot;14286&quot;</td><td>&quot;2&quot;</td><td>&quot;45261&quot;</td><td>&quot;0&quot;</td><td>&quot;45261&quot;</td><td>&quot;0&quot;</td><td>&quot;0&quot;</td><td>&quot;0&quot;</td><td>&quot;383&quot;</td><td>&quot;3205&quot;</td><td>&quot;3205&quot;</td><td>&quot;3205&quot;</td><td>&quot;0&quot;</td><td>&quot;0&quot;</td><td>&quot;0&quot;</td><td>&quot;383&quot;</td><td>&quot;2598&quot;</td><td>&hellip;</td><td>&quot;7283&quot;</td><td>&quot;8565&quot;</td><td>&quot;10494&quot;</td><td>&quot;7005&quot;</td><td>&quot;7283&quot;</td><td>&quot;44602&quot;</td><td>&quot;45493&quot;</td><td>&quot;0&quot;</td><td>&quot;0&quot;</td><td>&quot;0&quot;</td><td>&quot;15215&quot;</td><td>&quot;1&quot;</td><td>&quot;0&quot;</td><td>&quot;15215&quot;</td><td>&quot;22220&quot;</td><td>&quot;37620&quot;</td><td>&quot;37067&quot;</td><td>&quot;52910&quot;</td><td>&quot;46190&quot;</td><td>&quot;53195&quot;</td><td>&quot;53471&quot;</td><td>&quot;53471&quot;</td><td>&quot;53471&quot;</td><td>&quot;53471&quot;</td><td>&quot;53471&quot;</td><td>&quot;53471&quot;</td><td>&quot;53471&quot;</td><td>&quot;53471&quot;</td><td>&quot;53471&quot;</td><td>&quot;53471&quot;</td><td>&quot;53471&quot;</td><td>&quot;53471&quot;</td><td>&quot;53471&quot;</td><td>&quot;53471&quot;</td><td>&quot;53471&quot;</td><td>&quot;53471&quot;</td><td>&quot;53471&quot;</td></tr><tr><td>&quot;mean&quot;</td><td>null</td><td>null</td><td>null</td><td>null</td><td>null</td><td>null</td><td>null</td><td>null</td><td>null</td><td>null</td><td>null</td><td>null</td><td>null</td><td>null</td><td>null</td><td>null</td><td>null</td><td>null</td><td>null</td><td>null</td><td>null</td><td>null</td><td>null</td><td>null</td><td>null</td><td>null</td><td>null</td><td>null</td><td>null</td><td>null</td><td>null</td><td>null</td><td>null</td><td>null</td><td>null</td><td>null</td><td>&hellip;</td><td>null</td><td>null</td><td>null</td><td>null</td><td>null</td><td>null</td><td>null</td><td>null</td><td>null</td><td>null</td><td>null</td><td>null</td><td>null</td><td>null</td><td>null</td><td>null</td><td>null</td><td>null</td><td>null</td><td>null</td><td>null</td><td>null</td><td>null</td><td>null</td><td>null</td><td>null</td><td>null</td><td>null</td><td>null</td><td>null</td><td>null</td><td>null</td><td>null</td><td>null</td><td>null</td><td>null</td><td>null</td></tr><tr><td>&quot;std&quot;</td><td>null</td><td>null</td><td>null</td><td>null</td><td>null</td><td>null</td><td>null</td><td>null</td><td>null</td><td>null</td><td>null</td><td>null</td><td>null</td><td>null</td><td>null</td><td>null</td><td>null</td><td>null</td><td>null</td><td>null</td><td>null</td><td>null</td><td>null</td><td>null</td><td>null</td><td>null</td><td>null</td><td>null</td><td>null</td><td>null</td><td>null</td><td>null</td><td>null</td><td>null</td><td>null</td><td>null</td><td>&hellip;</td><td>null</td><td>null</td><td>null</td><td>null</td><td>null</td><td>null</td><td>null</td><td>null</td><td>null</td><td>null</td><td>null</td><td>null</td><td>null</td><td>null</td><td>null</td><td>null</td><td>null</td><td>null</td><td>null</td><td>null</td><td>null</td><td>null</td><td>null</td><td>null</td><td>null</td><td>null</td><td>null</td><td>null</td><td>null</td><td>null</td><td>null</td><td>null</td><td>null</td><td>null</td><td>null</td><td>null</td><td>null</td></tr><tr><td>&quot;min&quot;</td><td>&quot;12500&quot;</td><td>&quot;1&quot;</td><td>&quot;- LIBERTY ALBUQUERQUE DIALYSIS…</td><td>&quot;01/01/2014-12/31/2017&quot;</td><td>&quot;&quot;</td><td>&quot;1&quot;</td><td>&quot;# 7 PROFESSIONAL DRIVE&quot;</td><td>&quot;&quot;</td><td>&quot;ABBEVILLE&quot;</td><td>&quot;AK&quot;</td><td>&quot;10003&quot;</td><td>&quot;Acadia&quot;</td><td>&quot;(201) 262-0429&quot;</td><td>&quot;&quot;</td><td>&quot;N&quot;</td><td>&quot;&quot;</td><td>&quot;0&quot;</td><td>&quot;0&quot;</td><td>&quot;0&quot;</td><td>&quot;0&quot;</td><td>&quot;0&quot;</td><td>&quot;01APR1971&quot;</td><td>&quot;01/01/2017-12/31/2017&quot;</td><td>&quot;01JAN2022-31DEC2022&quot;</td><td>&quot;01/01/2014-12/31/2017&quot;</td><td>&quot; &quot;</td><td>&quot;1&quot;</td><td>&quot;&quot;</td><td>&quot;&quot;</td><td>&quot;&quot;</td><td>&quot;&quot;</td><td>&quot;01/01/2017-12/31/2017&quot;</td><td>&quot; &quot;</td><td>&quot;1&quot;</td><td>&quot;&quot;</td><td>&quot;&quot;</td><td>&hellip;</td><td>&quot;&quot;</td><td>&quot;&quot;</td><td>&quot;&quot;</td><td>&quot;1&quot;</td><td>&quot;&quot;</td><td>&quot;&quot;</td><td>&quot;&quot;</td><td>&quot;2017&quot;</td><td>&quot;10&quot;</td><td>&quot;ABBEVILLE&quot;</td><td>&quot;10003&quot;</td><td>&quot;&quot;</td><td>&quot;(201) 262-0429&quot;</td><td>&quot;01/01/1968&quot;</td><td>&quot;01/01/2017-12/31/2017&quot;</td><td>&quot;0&quot;</td><td>&quot;1&quot;</td><td>&quot;01/01/2015 - 12/31/2017&quot;</td><td>&quot;0&quot;</td><td>&quot;As Expected&quot;</td><td>&quot;&quot;</td><td>&quot;&quot;</td><td>&quot;&quot;</td><td>&quot;01JAN2016-31DEC2016&quot;</td><td>&quot;&quot;</td><td>&quot;&quot;</td><td>&quot;&quot;</td><td>&quot;&quot;</td><td>&quot;&quot;</td><td>&quot;&quot;</td><td>&quot;1&quot;</td><td>&quot;&quot;</td><td>&quot;1&quot;</td><td>&quot;&quot;</td><td>&quot;&quot;</td><td>&quot; &quot;</td><td>&quot;&quot;</td></tr><tr><td>&quot;25%&quot;</td><td>null</td><td>null</td><td>null</td><td>null</td><td>null</td><td>null</td><td>null</td><td>null</td><td>null</td><td>null</td><td>null</td><td>null</td><td>null</td><td>null</td><td>null</td><td>null</td><td>null</td><td>null</td><td>null</td><td>null</td><td>null</td><td>null</td><td>null</td><td>null</td><td>null</td><td>null</td><td>null</td><td>null</td><td>null</td><td>null</td><td>null</td><td>null</td><td>null</td><td>null</td><td>null</td><td>null</td><td>&hellip;</td><td>null</td><td>null</td><td>null</td><td>null</td><td>null</td><td>null</td><td>null</td><td>null</td><td>null</td><td>null</td><td>null</td><td>null</td><td>null</td><td>null</td><td>null</td><td>null</td><td>null</td><td>null</td><td>null</td><td>null</td><td>null</td><td>null</td><td>null</td><td>null</td><td>null</td><td>null</td><td>null</td><td>null</td><td>null</td><td>null</td><td>null</td><td>null</td><td>null</td><td>null</td><td>null</td><td>null</td><td>null</td></tr><tr><td>&quot;50%&quot;</td><td>null</td><td>null</td><td>null</td><td>null</td><td>null</td><td>null</td><td>null</td><td>null</td><td>null</td><td>null</td><td>null</td><td>null</td><td>null</td><td>null</td><td>null</td><td>null</td><td>null</td><td>null</td><td>null</td><td>null</td><td>null</td><td>null</td><td>null</td><td>null</td><td>null</td><td>null</td><td>null</td><td>null</td><td>null</td><td>null</td><td>null</td><td>null</td><td>null</td><td>null</td><td>null</td><td>null</td><td>&hellip;</td><td>null</td><td>null</td><td>null</td><td>null</td><td>null</td><td>null</td><td>null</td><td>null</td><td>null</td><td>null</td><td>null</td><td>null</td><td>null</td><td>null</td><td>null</td><td>null</td><td>null</td><td>null</td><td>null</td><td>null</td><td>null</td><td>null</td><td>null</td><td>null</td><td>null</td><td>null</td><td>null</td><td>null</td><td>null</td><td>null</td><td>null</td><td>null</td><td>null</td><td>null</td><td>null</td><td>null</td><td>null</td></tr><tr><td>&quot;75%&quot;</td><td>null</td><td>null</td><td>null</td><td>null</td><td>null</td><td>null</td><td>null</td><td>null</td><td>null</td><td>null</td><td>null</td><td>null</td><td>null</td><td>null</td><td>null</td><td>null</td><td>null</td><td>null</td><td>null</td><td>null</td><td>null</td><td>null</td><td>null</td><td>null</td><td>null</td><td>null</td><td>null</td><td>null</td><td>null</td><td>null</td><td>null</td><td>null</td><td>null</td><td>null</td><td>null</td><td>null</td><td>&hellip;</td><td>null</td><td>null</td><td>null</td><td>null</td><td>null</td><td>null</td><td>null</td><td>null</td><td>null</td><td>null</td><td>null</td><td>null</td><td>null</td><td>null</td><td>null</td><td>null</td><td>null</td><td>null</td><td>null</td><td>null</td><td>null</td><td>null</td><td>null</td><td>null</td><td>null</td><td>null</td><td>null</td><td>null</td><td>null</td><td>null</td><td>null</td><td>null</td><td>null</td><td>null</td><td>null</td><td>null</td><td>null</td></tr><tr><td>&quot;max&quot;</td><td>&quot;92531&quot;</td><td>&quot;9&quot;</td><td>&quot;zz_closed_Texas Care Dialysis&quot;</td><td>&quot;01Jan2019-31Dec2022&quot;</td><td>&quot;Not Available&quot;</td><td>&quot;270&quot;</td><td>&quot;road 174 km 6.9&quot;</td><td>&quot;suite B&quot;</td><td>&quot;pennsauken&quot;</td><td>&quot;WY&quot;</td><td>&quot;99801&quot;</td><td>&quot;Zavala&quot;</td><td>&quot;(989) 921-2170&quot;</td><td>&quot;Profit&quot;</td><td>&quot;Yes&quot;</td><td>&quot;Wake Forest University&quot;</td><td>&quot;Yes&quot;</td><td>&quot;9&quot;</td><td>&quot;Yes&quot;</td><td>&quot;Yes&quot;</td><td>&quot;Yes&quot;</td><td>&quot;31OCT2022&quot;</td><td>&quot;01OCT2022-30SEP2023&quot;</td><td>&quot;01OCT2022-30SEP2023&quot;</td><td>&quot;01Jan2019-31Dec2022&quot;</td><td>&quot;Worse than Expected&quot;</td><td>&quot;270&quot;</td><td>&quot;Not Available&quot;</td><td>&quot;Not Available&quot;</td><td>&quot;Not Available&quot;</td><td>&quot;Not Available&quot;</td><td>&quot;01Jan2022-31Dec2022&quot;</td><td>&quot;Worse than Expected&quot;</td><td>&quot;270&quot;</td><td>&quot;Not Available&quot;</td><td>&quot;Not Available&quot;</td><td>&hellip;</td><td>&quot;Not Available&quot;</td><td>&quot;Not Available&quot;</td><td>&quot;Not Available&quot;</td><td>&quot;270&quot;</td><td>&quot;Not Available&quot;</td><td>&quot;Not Available&quot;</td><td>&quot;Not Available&quot;</td><td>&quot;2024&quot;</td><td>&quot;7&quot;</td><td>&quot;pennsauken&quot;</td><td>&quot;99801&quot;</td><td>&quot;Zavala&quot;</td><td>&quot;9899212170&quot;</td><td>&quot;9/9/2016&quot;</td><td>&quot;01JAN2020-31DEC2020&quot;</td><td>&quot;999&quot;</td><td>&quot;258&quot;</td><td>&quot;01/01/2015 - 12/31/2017&quot;</td><td>&quot;Y&quot;</td><td>&quot;Worse than Expected&quot;</td><td>&quot;93&quot;</td><td>&quot;99&quot;</td><td>&quot;7&quot;</td><td>&quot;01JAN2016-31DEC2016&quot;</td><td>&quot;99&quot;</td><td>&quot;99&quot;</td><td>&quot;99&quot;</td><td>&quot;96&quot;</td><td>&quot;99&quot;</td><td>&quot;997&quot;</td><td>&quot;258&quot;</td><td>&quot;99&quot;</td><td>&quot;258&quot;</td><td>&quot;9&quot;</td><td>&quot;99&quot;</td><td>&quot;Worse than Expected&quot;</td><td>&quot;9&quot;</td></tr></tbody></table></div>"
      ],
      "text/plain": [
       "shape: (9, 166)\n",
       "┌────────────┬───────────┬─────────┬───────────┬───┬───────────┬───────────┬───────────┬───────────┐\n",
       "│ statistic  ┆ provider_ ┆ network ┆ facility_ ┆ … ┆ percentag ┆ hospitali ┆ patient_h ┆ readmissi │\n",
       "│ ---        ┆ number    ┆ ---     ┆ name      ┆   ┆ e_of_pati ┆ zation_ra ┆ ospital_r ┆ on_rate_f │\n",
       "│ str        ┆ ---       ┆ str     ┆ ---       ┆   ┆ ents_with ┆ te_facili ┆ eadmissio ┆ acility_  │\n",
       "│            ┆ str       ┆         ┆ str       ┆   ┆ _va…      ┆ ty_       ┆ n_c…      ┆ ---       │\n",
       "│            ┆           ┆         ┆           ┆   ┆ ---       ┆ ---       ┆ ---       ┆ str       │\n",
       "│            ┆           ┆         ┆           ┆   ┆ str       ┆ str       ┆ str       ┆           │\n",
       "╞════════════╪═══════════╪═════════╪═══════════╪═══╪═══════════╪═══════════╪═══════════╪═══════════╡\n",
       "│ count      ┆ 60476     ┆ 60476   ┆ 60476     ┆ … ┆ 7005      ┆ 7005      ┆ 7005      ┆ 7005      │\n",
       "│ null_count ┆ 0         ┆ 0       ┆ 0         ┆ … ┆ 53471     ┆ 53471     ┆ 53471     ┆ 53471     │\n",
       "│ mean       ┆ null      ┆ null    ┆ null      ┆ … ┆ null      ┆ null      ┆ null      ┆ null      │\n",
       "│ std        ┆ null      ┆ null    ┆ null      ┆ … ┆ null      ┆ null      ┆ null      ┆ null      │\n",
       "│ min        ┆ 12500     ┆ 1       ┆ - LIBERTY ┆ … ┆           ┆           ┆           ┆           │\n",
       "│            ┆           ┆         ┆ ALBUQUERQ ┆   ┆           ┆           ┆           ┆           │\n",
       "│            ┆           ┆         ┆ UE        ┆   ┆           ┆           ┆           ┆           │\n",
       "│            ┆           ┆         ┆ DIALYSIS… ┆   ┆           ┆           ┆           ┆           │\n",
       "│ 25%        ┆ null      ┆ null    ┆ null      ┆ … ┆ null      ┆ null      ┆ null      ┆ null      │\n",
       "│ 50%        ┆ null      ┆ null    ┆ null      ┆ … ┆ null      ┆ null      ┆ null      ┆ null      │\n",
       "│ 75%        ┆ null      ┆ null    ┆ null      ┆ … ┆ null      ┆ null      ┆ null      ┆ null      │\n",
       "│ max        ┆ 92531     ┆ 9       ┆ zz_closed ┆ … ┆ 9         ┆ 99        ┆ Worse     ┆ 9         │\n",
       "│            ┆           ┆         ┆ _Texas    ┆   ┆           ┆           ┆ than      ┆           │\n",
       "│            ┆           ┆         ┆ Care      ┆   ┆           ┆           ┆ Expected  ┆           │\n",
       "│            ┆           ┆         ┆ Dialysis  ┆   ┆           ┆           ┆           ┆           │\n",
       "└────────────┴───────────┴─────────┴───────────┴───┴───────────┴───────────┴───────────┴───────────┘"
      ]
     },
     "execution_count": 69,
     "metadata": {},
     "output_type": "execute_result"
    }
   ],
   "source": [
    "facility_df.describe()"
   ]
  },
  {
   "cell_type": "code",
   "execution_count": null,
   "metadata": {},
   "outputs": [],
   "source": [
    "year,\n",
    "provider_number,\n",
    "network,\n",
    "facility_name,\n",
    "five_star_date,\n",
    "five_star,\n",
    "five_star_data_availability_code,\n",
    "address_line_1,\n",
    "address_line_2,\n",
    "city,\n",
    "state,\n",
    "zip_code,\n",
    "county,\n",
    "profit_or_nonprofit,\n",
    "phone_number,\n",
    "chain_owned,\n",
    "chain_organization,\n",
    "late_shift,\n",
    "_of_dialysis_stations,\n",
    "offers_incenter_hemodialysis,\n",
    "offers_peritoneal_dialysis,\n",
    "offers_home_hemodialysis_training,\n",
    "certification_date,\n",
    "claims_date,\n",
    "eqrs_date,\n",
    "smr_date,\n",
    "patient_survival_category_text,\n",
    "patient_survival_data_availability_code,\n",
    "number_of_patients_included_in_survival_summary,\n",
    "mortality_rate_facility,\n",
    "patient_hospitalization_category_text,\n",
    "patient_hospitalization_data_availability_code,\n",
    "number_of_patients_included_in_hospitalization_summary,\n",
    "hospitalization_rate_facility,\n",
    "number_of_patients_in_long_term_catheter_summary,\n",
    "number_of_patient_months_in_long_term_catheter_summary,\n",
    "percentage_of_adult_patients_with_long_term_catheter_in_use,\n",
    "npcr_data_availability_code,\n",
    "number_of_patients_in_npcr_summary,\n",
    "number_of_patientmonths_in_npcr_summary,\n",
    "percentage_of_pediatric_hd_patients_with_npcr,\n",
    "certification_or_recertification_date,\n",
    "crownweb_date,"
   ]
  }
 ],
 "metadata": {
  "kernelspec": {
   "display_name": "Python 3",
   "language": "python",
   "name": "python3"
  },
  "language_info": {
   "codemirror_mode": {
    "name": "ipython",
    "version": 3
   },
   "file_extension": ".py",
   "mimetype": "text/x-python",
   "name": "python",
   "nbconvert_exporter": "python",
   "pygments_lexer": "ipython3",
   "version": "3.11.10"
  }
 },
 "nbformat": 4,
 "nbformat_minor": 2
}
