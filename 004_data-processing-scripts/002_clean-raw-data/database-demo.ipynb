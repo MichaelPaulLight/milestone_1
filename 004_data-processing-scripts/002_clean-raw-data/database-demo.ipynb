{
 "cells": [
  {
   "cell_type": "markdown",
   "metadata": {},
   "source": [
    "# Comprehensive Database Tutorial and Demonstration\n",
    "\n",
    "This notebook provides a detailed walkthrough of our custom Database class, showcasing its features and functionalities. We'll cover everything from basic table access to advanced querying and analysis.\n",
    "\n",
    "## Table of Contents\n",
    "1. [Setup and Initialization](#1-setup-and-initialization)\n",
    "2. [Exploring Database Structure](#2-exploring-database-structure)\n",
    "3. [Accessing Tables and Views](#3-accessing-tables-and-views)\n",
    "4. [Creating and Managing Views](#4-creating-and-managing-views)\n",
    "5. [Merging Data](#5-merging-data)\n",
    "6. [Querying the Database](#6-querying-the-database)\n",
    "7. [Advanced Analysis](#7-advanced-analysis)\n",
    "8. [Error Handling and Best Practices](#8-error-handling-and-best-practices)\n",
    "9. [Performance Considerations](#9-performance-considerations)\n",
    "10. [Conclusion and Next Steps](#10-conclusion-and-next-steps)"
   ]
  },
  {
   "cell_type": "markdown",
   "metadata": {},
   "source": [
    "## 1. Setup and Initialization"
   ]
  },
  {
   "cell_type": "code",
   "execution_count": 1,
   "metadata": {},
   "outputs": [
    {
     "name": "stdout",
     "output_type": "stream",
     "text": [
      "Database initialized successfully.\n"
     ]
    }
   ],
   "source": [
    "import database_functions as func\n",
    "import pandas as pd\n",
    "import matplotlib.pyplot as plt\n",
    "%matplotlib inline\n",
    "import seaborn as sns\n",
    "\n",
    "# Create a Database instance\n",
    "path = r'003_data\\002_clean-data'\n",
    "db = func.Database(path)\n",
    "print(\"Database initialized successfully.\")"
   ]
  },
  {
   "cell_type": "code",
   "execution_count": null,
   "metadata": {},
   "outputs": [],
   "source": []
  },
  {
   "cell_type": "code",
   "execution_count": 2,
   "metadata": {},
   "outputs": [
    {
     "data": {
      "text/plain": [
       "dict_keys(['ballot', 'census', 'demo', 'fascility', 'medicare', 'voter'])"
      ]
     },
     "execution_count": 2,
     "metadata": {},
     "output_type": "execute_result"
    }
   ],
   "source": [
    "db.tables.keys()"
   ]
  },
  {
   "cell_type": "markdown",
   "metadata": {},
   "source": [
    "## 2. Exploring Database Structure"
   ]
  },
  {
   "cell_type": "code",
   "execution_count": 3,
   "metadata": {},
   "outputs": [
    {
     "name": "stdout",
     "output_type": "stream",
     "text": [
      "Available tables:\n",
      "- ballot\n",
      "- census\n",
      "- demo\n",
      "- fascility\n",
      "- medicare\n",
      "- voter\n",
      "\n",
      "Table: ballot\n",
      "  Rows: 174\n",
      "  Columns: ['year', 'county_name', 'yes_count', 'no_count', 'total_count', 'yes_perc', 'no_perc']\n",
      "  Available views: \n",
      "\n",
      "Table: census\n",
      "  Rows: 58\n",
      "  Columns: ['year', 'county_name', 'under_5_years', 'age_5_9', 'age_10_14', 'age_15_19', 'age_20_24', 'age_25_29', 'age_30_34', 'age_35_39', 'age_40_44', 'age_45_49', 'age_50_54', 'age_55_59', 'age_60_64', 'age_65_69', 'age_70_74', 'age_75_79', 'age_80_84', 'age_85_plus', 'age_16_plus', 'age_18_plus', 'age_21_plus', 'age_62_plus', 'age_65_plus', 'male_population', 'under_5_years_1', 'age_5_9_1', 'age_10_14_1', 'age_15_19_1', 'age_20_24_1', 'age_25_29_1', 'age_30_34_1', 'age_35_39_1', 'age_40_44_1', 'age_45_49_1', 'age_50_54_1', 'age_55_59_1', 'age_60_64_1', 'age_65_69_1', 'age_70_74_1', 'age_75_79_1', 'age_80_84_1', 'age_85_plus_1', 'age_16_plus_1', 'age_18_plus_1', 'age_21_plus_1', 'age_62_plus_1', 'age_65_plus_1', 'female_population', 'under_5_years_2', 'age_5_9_2', 'age_10_14_2', 'age_15_19_2', 'age_20_24_2', 'age_25_29_2', 'age_30_34_2', 'age_35_39_2', 'age_40_44_2', 'age_45_49_2', 'age_50_54_2', 'age_55_59_2', 'age_60_64_2', 'age_65_69_2', 'age_70_74_2', 'age_75_79_2', 'age_80_84_2', 'age_85_plus_2', 'age_16_plus_2', 'age_18_plus_2', 'age_21_plus_2', 'age_62_plus_2', 'age_65_plus_2', 'both_sexes', 'male', 'female', 'one_race', 'white', 'black_or_african_american', 'american_indian_and_alaska_native', 'asian', 'native_hawaiian_and_other_pacific_islander', 'some_other_race', 'two_or_more_races', 'total_races_tallied', 'white_alone_or_in_combination_with_one_or_more_other_races', 'black_or_african_american_alone_or_in_combination_with_one_or_more_other_races', 'american_indian_and_alaska_native_alone_or_in_combination_with_one_or_more_other_races', 'asian_alone_or_in_combination_with_one_or_more_other_races', 'native_hawaiian_and_other_pacific_islander_alone_or_in_combination_with_one_or_more_other_races', 'some_other_race_alone_or_in_combination_with_one_or_more_other_races', 'hispanic_or_latino_of_any_race', 'not_hispanic_or_latino', 'hispanic_or_latino', 'white_alone', 'black_or_african_american_alone', 'american_indian_and_alaska_native_alone', 'asian_alone', 'native_hawaiian_and_other_pacific_islander_alone', 'some_other_race_alone', 'two_or_more_races_1', 'not_hispanic_or_latino_1', 'white_alone_1', 'black_or_african_american_alone_1', 'american_indian_and_alaska_native_alone_1', 'asian_alone_1', 'native_hawaiian_and_other_pacific_islander_alone_1', 'some_other_race_alone_1', 'two_or_more_races_2', 'in_households', 'householder', 'opposite_sex_spouse', 'same_sex_spouse', 'opposite_sex_unmarried_partner', 'same_sex_unmarried_partner', 'child_2', 'under_18_years', 'grandchild', 'under_18_years_1', 'other_relatives', 'nonrelatives', 'in_group_quarters', 'institutionalized_population', 'male_1', 'female_1', 'noninstitutionalized_population', 'male_2', 'female_2', 'total_households', 'married_couple_household', 'with_own_children_under_18_3', 'cohabiting_couple_household', 'with_own_children_under_18_3_1', 'male_householder_no_spouse_or_partner_present', 'living_alone', 'age_65_plus_3', 'with_own_children_under_18_3_2', 'female_householder_no_spouse_or_partner_present', 'living_alone_1', 'age_65_plus_4', 'with_own_children_under_18_3_3', 'households_with_individuals_under_18_years', 'households_with_individuals_age_65_plus', 'total_housing_units', 'occupied_housing_units', 'vacant_housing_units', 'for_rent', 'rented_not_occupied', 'for_sale_only', 'sold_not_occupied', 'for_seasonal_recreational_or_occasional_use', 'all_other_vacants', 'homeowner_vacancy_rate_percent_4', 'rental_vacancy_rate_percent_5', 'occupied_housing_units_1', 'owner_occupied_housing_units', 'renter_occupied_housing_units']\n",
      "  Available views: \n",
      "\n",
      "Table: demo\n",
      "  Rows: 116\n",
      "  Columns: ['year', 'county_name', 'median_household_income', 'population', 'race_american_indian', 'race_asian', 'race_black', 'race_hispanic', 'race_multi_racial', 'race_hawaiian_pacific', 'race_white', 'age_0_5', 'age_6_17', 'age_18_64', 'age_65_plus_5']\n",
      "  Available views: \n",
      "\n",
      "Table: fascility\n",
      "  Rows: 309\n",
      "  Columns: ['year', 'county_name', 'fac_count', 'stations', 'prof_np', 'chain_own', 'survey_count', 'survey_rate', 'fac_star', 'xp_star', 'comm_scr', 'quality_scr', 'info_scr', 'phys_scr', 'staff_scr', 'fac_scr']\n",
      "  Available views: \n",
      "\n",
      "Table: medicare\n",
      "  Rows: 531\n",
      "  Columns: ['year', 'county_name', 'pymt_amt', 'pymt_pct', 'pymt_pc', 'pymt_per_user', 'stdz_pymt_amt', 'stdz_pymt_pct', 'stdz_pymt_pc', 'stdz_pymt_per_user', 'user_cnt', 'user_pct', 'visits_per_1000']\n",
      "  Available views: \n",
      "\n",
      "Table: voter\n",
      "  Rows: 174\n",
      "  Columns: ['year', 'county_name', 'eligible', 'total_registered', 'democratic_perc', 'republican_perc', 'american_independent_perc', 'green_perc', 'libertarian_perc', 'peace_and_freedom_perc', 'unknown_perc', 'other_perc', 'no_party_preference_perc']\n",
      "  Available views: \n"
     ]
    }
   ],
   "source": [
    "# List all tables in the database\n",
    "print(\"Available tables:\")\n",
    "for table_name in db.tables.keys():\n",
    "    print(f\"- {table_name}\")\n",
    "\n",
    "# Display basic information about each table\n",
    "for table_name, table in db.tables.items():\n",
    "    print(f\"\\nTable: {table_name}\")\n",
    "    print(f\"  Rows: {table().shape[0]}\")\n",
    "    print(f\"  Columns: {table.get_columns()}\")\n",
    "    print(f\"  Available views: {', '.join(table.list_views())}\")"
   ]
  },
  {
   "cell_type": "markdown",
   "metadata": {},
   "source": [
    "## 3. Accessing Tables and Columns"
   ]
  },
  {
   "cell_type": "code",
   "execution_count": 7,
   "metadata": {},
   "outputs": [
    {
     "name": "stdout",
     "output_type": "stream",
     "text": [
      "   year county_name  eligible  total_registered  democratic_perc  \\\n",
      "0  2018     Alameda   1089154            881491         0.556651   \n",
      "1  2018      Alpine       939               758         0.411609   \n",
      "2  2018      Amador     27117             22305         0.287962   \n",
      "3  2018       Butte    171771            122741         0.349052   \n",
      "4  2018   Calaveras     36101             29591         0.273698   \n",
      "\n",
      "   republican_perc  american_independent_perc  green_perc  libertarian_perc  \\\n",
      "0         0.110469                   0.018620    0.007602          0.005286   \n",
      "1         0.270449                   0.032982    0.006596          0.007916   \n",
      "2         0.439901                   0.042233    0.004573          0.013226   \n",
      "3         0.341817                   0.034552    0.007626          0.011259   \n",
      "4         0.414450                   0.045453    0.006353          0.015106   \n",
      "\n",
      "   peace_and_freedom_perc  unknown_perc  other_perc  no_party_preference_perc  \n",
      "0                0.003049      0.000034    0.006646                  0.291643  \n",
      "1                0.002639      0.000000    0.003958                  0.263852  \n",
      "2                0.002735      0.000269    0.002286                  0.206815  \n",
      "3                0.003120      0.002623    0.009752                  0.240197  \n",
      "4                0.003177      0.002940    0.007908                  0.230915  \n",
      "(174, 13)\n",
      "Index(['year', 'county_name', 'eligible', 'total_registered',\n",
      "       'democratic_perc', 'republican_perc', 'american_independent_perc',\n",
      "       'green_perc', 'libertarian_perc', 'peace_and_freedom_perc',\n",
      "       'unknown_perc', 'other_perc', 'no_party_preference_perc'],\n",
      "      dtype='object')\n"
     ]
    }
   ],
   "source": [
    "# Access voter table\n",
    "print(db.voter().head())\n",
    "print(db.voter().shape)\n",
    "print(db.voter().columns)"
   ]
  },
  {
   "cell_type": "markdown",
   "metadata": {},
   "source": [
    "## 4. Creating and Managing Views"
   ]
  },
  {
   "cell_type": "code",
   "execution_count": 26,
   "metadata": {},
   "outputs": [
    {
     "name": "stdout",
     "output_type": "stream",
     "text": [
      "voter/registration_rate view: \n",
      "\n",
      "   year county_name  eligible  total_registered  registration_rate\n",
      "0  2018     Alameda   1089154            881491           0.809336\n",
      "1  2018      Alpine       939               758           0.807242\n",
      "2  2018      Amador     27117             22305           0.822547\n",
      "3  2018       Butte    171771            122741           0.714562\n",
      "4  2018   Calaveras     36101             29591           0.819673\n",
      "\n",
      " ballot/casted_votes view: \n",
      "\n",
      "   year county_name  total_count\n",
      "0  2018     Alameda     556285.0\n",
      "1  2018      Alpine        579.0\n",
      "2  2018      Amador      17031.0\n",
      "3  2018       Butte      86302.0\n",
      "4  2018   Calaveras      20912.0\n"
     ]
    },
    {
     "name": "stderr",
     "output_type": "stream",
     "text": [
      "C:\\Users\\kasra\\AppData\\Local\\Temp\\ipykernel_18764\\1624564293.py:6: SettingWithCopyWarning: \n",
      "A value is trying to be set on a copy of a slice from a DataFrame.\n",
      "Try using .loc[row_indexer,col_indexer] = value instead\n",
      "\n",
      "See the caveats in the documentation: https://pandas.pydata.org/pandas-docs/stable/user_guide/indexing.html#returning-a-view-versus-a-copy\n",
      "  registration_rate_df['registration_rate'] = db.voter.registration_rate['total_registered'] / db.voter.registration_rate['eligible']\n"
     ]
    }
   ],
   "source": [
    "# Create registration_rate view for voter table\n",
    "db.voter.add_view(\"registration_rate\", ['year', 'county_name', 'eligible', 'total_registered'])\n",
    "\n",
    "# Access registration_rate view\n",
    "registration_rate_df = db.voter.registration_rate\n",
    "registration_rate_df['registration_rate'] = db.voter.registration_rate['total_registered'] / db.voter.registration_rate['eligible']\n",
    "print('voter/registration_rate view: \\n')\n",
    "print(registration_rate_df.head())\n",
    "\n",
    "# Create casted_votes view for ballot table\n",
    "db.ballot.add_view(\"casted_votes\", ['year', 'county_name', 'total_count'])\n",
    "\n",
    "print('\\n ballot/casted_votes view: \\n')\n",
    "print(db.ballot.casted_votes.head())\n"
   ]
  },
  {
   "cell_type": "markdown",
   "metadata": {},
   "source": [
    "## 5. Merging Data"
   ]
  },
  {
   "cell_type": "code",
   "execution_count": 28,
   "metadata": {},
   "outputs": [
    {
     "name": "stdout",
     "output_type": "stream",
     "text": [
      "\n",
      " turnout_df: \n",
      "\n",
      "  county_name  year  eligible  total_registered  total_count   turnout\n",
      "0     Alameda  2018   1089154            881491     556285.0  0.631073\n",
      "1      Alpine  2018       939               758        579.0  0.763852\n",
      "2      Amador  2018     27117             22305      17031.0  0.763551\n",
      "3       Butte  2018    171771            122741      86302.0  0.703123\n",
      "4   Calaveras  2018     36101             29591      20912.0  0.706701\n"
     ]
    }
   ],
   "source": [
    "# Merge multiple views\n",
    "# db.merge_views(list[(table_name, view_name), (table_name, view_name), ...])\n",
    "# assumes all columsn have county_name and year column, if not creates an empty column and merge on key = ['year', 'column_name'])\n",
    "turnout_df = db.merge_views([('voter', 'registration_rate'), ('ballot', 'casted_votes')]) \n",
    "turnout_df['turnout'] = turnout_df['total_count'] / turnout_df['total_registered']\n",
    "print('\\n turnout_df: \\n')\n",
    "print(turnout_df.head())\n"
   ]
  },
  {
   "cell_type": "markdown",
   "metadata": {},
   "source": [
    "## 6. Querying the Database"
   ]
  },
  {
   "cell_type": "code",
   "execution_count": 36,
   "metadata": {},
   "outputs": [
    {
     "name": "stdout",
     "output_type": "stream",
     "text": [
      "\n",
      " highest_population: \n",
      "\n",
      "      county_name  population\n",
      "232       Alameda   1636194.0\n",
      "238  Contra Costa   1147653.0\n",
      "241        Fresno   1011499.0\n",
      "250   Los Angeles   9761210.0\n",
      "261        Orange   3137164.0\n",
      "\n",
      " highest_population_high_children: \n",
      "\n",
      "      county_name  population   age_0_5\n",
      "232       Alameda   1636194.0  0.064737\n",
      "238  Contra Costa   1147653.0  0.065946\n",
      "241        Fresno   1011499.0  0.083688\n",
      "250   Los Angeles   9761210.0  0.063692\n",
      "261        Orange   3137164.0  0.065930\n"
     ]
    }
   ],
   "source": [
    "# Query the merged database\n",
    "    # db.query(conditions, columns)\n",
    "    # conditions: dict[column_name: function]\n",
    "\n",
    "# Query for counties with population over 1 million\n",
    "    # conditions: populatio_january_2023 > 1000000\n",
    "    # columns: ['county_name', 'population_january_2023', 'median_household_income_2021']\n",
    "    \n",
    "highest_population = db.query({'population': lambda x: x > 1000000}, \n",
    "                          ['county_name', 'population'])\n",
    "print('\\n highest_population: \\n')\n",
    "print(highest_population.head())\n",
    "\n",
    "# Query for multiple conditions using a dictionary\n",
    "conditions = {'population': lambda x: x > 1000000, # population over 1 million\n",
    "              'age_0_5': lambda x: x > 0.05} # 5% of population is 0-5 years old\n",
    "highest_population_high_children = db.query(conditions,\n",
    "    ['county_name', 'population', 'age_0_5']\n",
    ")\n",
    "\n",
    "print('\\n highest_population_high_children: \\n')\n",
    "print(highest_population_high_children.head())\n"
   ]
  },
  {
   "cell_type": "markdown",
   "metadata": {},
   "source": [
    "## 7. Error Handling and Best Practices"
   ]
  },
  {
   "cell_type": "code",
   "execution_count": 37,
   "metadata": {},
   "outputs": [
    {
     "name": "stdout",
     "output_type": "stream",
     "text": [
      "Error: Table 'non_existent_table' not found\n",
      "Error: View 'non_existent_view' not found\n",
      "View '2022' not found in table 'voter'\n",
      "Table 'non_existent_table' not found in the database\n",
      "View 'non_existent_view' not found in table 'voter'\n"
     ]
    }
   ],
   "source": [
    "# Demonstrate error handling\n",
    "try:\n",
    "    db.get_view('non_existent_table', 'some_view')\n",
    "except ValueError as e:\n",
    "    print(\"Error:\", str(e))\n",
    "\n",
    "try:\n",
    "    db.get_view('voter', 'non_existent_view')\n",
    "except ValueError as e:\n",
    "    print(\"Error:\", str(e))\n",
    "\n",
    "# Best practice: Check if a view exists before trying to access it\n",
    "def safe_get_view(db, table_name, view_name):\n",
    "    if table_name in db.tables:\n",
    "        table = db.tables[table_name]\n",
    "        if view_name in table.list_views():\n",
    "            return table.get_view(view_name)\n",
    "        else:\n",
    "            print(f\"View '{view_name}' not found in table '{table_name}'\")\n",
    "    else:\n",
    "        print(f\"Table '{table_name}' not found in the database\")\n",
    "    return None\n",
    "\n",
    "# Example usage of safe_get_view\n",
    "safe_view = safe_get_view(db, 'voter', '2022')\n",
    "if safe_view is not None:\n",
    "    print(\"Successfully retrieved the '2022' view from the 'voter' table\")\n",
    "    print(safe_view.head())\n",
    "\n",
    "safe_get_view(db, 'non_existent_table', 'some_view')\n",
    "safe_get_view(db, 'voter', 'non_existent_view')"
   ]
  }
 ],
 "metadata": {
  "kernelspec": {
   "display_name": "Python 3",
   "language": "python",
   "name": "python3"
  },
  "language_info": {
   "codemirror_mode": {
    "name": "ipython",
    "version": 3
   },
   "file_extension": ".py",
   "mimetype": "text/x-python",
   "name": "python",
   "nbconvert_exporter": "python",
   "pygments_lexer": "ipython3",
   "version": "3.11.9"
  }
 },
 "nbformat": 4,
 "nbformat_minor": 4
}
