{
 "cells": [
  {
   "cell_type": "code",
   "execution_count": 1,
   "metadata": {},
   "outputs": [],
   "source": [
    "import polars as pl\n",
    "from datetime import datetime\n",
    "import pyarrow.parquet as pq\n"
   ]
  },
  {
   "cell_type": "code",
   "execution_count": 2,
   "metadata": {},
   "outputs": [
    {
     "name": "stdout",
     "output_type": "stream",
     "text": [
      "Combined Data:\n",
      "shape: (5, 5)\n",
      "┌────────────────┬───────────────┬─────────────────────┬────────────────────┬──────┐\n",
      "│ county         ┆ sub_county    ┆ yes                 ┆ no                 ┆ year │\n",
      "│ ---            ┆ ---           ┆ ---                 ┆ ---                ┆ ---  │\n",
      "│ str            ┆ str           ┆ str                 ┆ str                ┆ i32  │\n",
      "╞════════════════╪═══════════════╪═════════════════════╪════════════════════╪══════╡\n",
      "   ┆ null               ┆ 2022 │ ┆ Regulates Kidney\n",
      "│                ┆               ┆ Dialysis Cli…       ┆                    ┆      │\n",
      "│ null           ┆ null          ┆ YES                 ┆ NO                 ┆ 2022 │\n",
      "│ Alameda County ┆ null          ┆ null                ┆ null               ┆ 2022 │\n",
      "│ null           ┆ County Totals ┆ 182697              ┆ 290746             ┆ 2022 │\n",
      "│ null           ┆ Percent       ┆ 0.38589017051683094 ┆ 0.6141098294831691 ┆ 2022 │\n",
      "└────────────────┴───────────────┴─────────────────────┴────────────────────┴──────┘\n"
     ]
    }
   ],
   "source": [
    "# URL of the Excel file\n",
    "url_2022 = \"https://elections.cdn.sos.ca.gov/sov/2022-general/ssov/ballot-measures-political-districts.xlsx\"\n",
    "\n",
    "url_2020 = \"https://elections.cdn.sos.ca.gov/sov/2020-general/ssov/ballot-measure-all.xlsx\"\n",
    "\n",
    "url_2018 = \"https://elections.cdn.sos.ca.gov/sov/2018-general/ssov/ballot-measures-pol-districts.xls\"\n",
    "\n",
    "# Function processing Excel files \n",
    "# Returns a combined DataFrame\n",
    "\n",
    "def process_excel_files(urls_and_years):\n",
    "    combined_df = pl.DataFrame()\n",
    "    \n",
    "    for url, year in urls_and_years:\n",
    "        # Read the Excel file\n",
    "        df = pl.read_excel(url)\n",
    "        \n",
    "        # Get the first two columns\n",
    "        # This works because the first two columns are always the county and sub_county\n",
    "        first_two_cols = df.columns[:2]\n",
    "        \n",
    "        # The below code chunk finds columns with \"Kidney\" or \"Dialysis\" (yes votes) and their following columns\n",
    "        # This works because the yes vote/no vote columns appear consecutively in the original data\n",
    "        \n",
    "        # Initialize an empty list to store columns related to kidney/dialysis propositions\n",
    "        kidney_dialysis_cols = []\n",
    "\n",
    "        # Iterate through all the columns in the DataFrame\n",
    "        for i, col in enumerate(df.columns):\n",
    "            # Checking if the current column contains \"Kidney\" or \"Dialysis\" in any of its values\n",
    "            if df[col].str.contains(\"Kidney|Dialysis\").any():\n",
    "                # Adding matching columns to the list\n",
    "                kidney_dialysis_cols.extend([\n",
    "                    col,  # yes vote column\n",
    "                    df.columns[i+1] if i+1 < len(df.columns) else None  # no vote column\n",
    "                ])\n",
    "        \n",
    "        # Combining all required columns\n",
    "        selected_cols = first_two_cols + kidney_dialysis_cols\n",
    "        \n",
    "        # Select only the required columns\n",
    "        df_processed = df.select(selected_cols)\n",
    "        \n",
    "        # Renaming columns\n",
    "        new_names = {\n",
    "            df_processed.columns[0]: \"county\",\n",
    "            df_processed.columns[1]: \"sub_county\"\n",
    "        }\n",
    "        for col in df_processed.columns[2:]:\n",
    "            if \"Proposition\" in col:\n",
    "                new_names[col] = \"yes\"\n",
    "            else:\n",
    "                new_names[col] = \"no\"\n",
    "        \n",
    "        df_processed = df_processed.rename(new_names)\n",
    "        \n",
    "        # Add the year column\n",
    "        df_processed = df_processed.with_columns(pl.lit(year).alias(\"year\"))\n",
    "        \n",
    "        # Append to the combined DataFrame\n",
    "        combined_df = pl.concat([combined_df, df_processed])\n",
    "    \n",
    "    return combined_df\n",
    "\n",
    "# URLs and corresponding years\n",
    "urls_and_years = [\n",
    "    (url_2022, 2022),\n",
    "    (url_2020, 2020),\n",
    "    (url_2018, 2018)\n",
    "]\n",
    "\n",
    "# Process all files and store the combined DataFrame as df\n",
    "df = process_excel_files(urls_and_years)\n",
    "\n",
    "# Display the first few rows of the combined DataFrame\n",
    "print(\"Combined Data:\")\n",
    "print(df.head())\n"
   ]
  },
  {
   "cell_type": "code",
   "execution_count": 11,
   "metadata": {},
   "outputs": [
    {
     "name": "stdout",
     "output_type": "stream",
     "text": [
      "\n",
      "DataFrame Info:\n",
      "Shape: (4560, 7)\n",
      "Columns: ['county', 'sub_county', 'yes', 'no', 'year', 'geo_type', 'sub_county_id']\n",
      "\n",
      "Year distribution:\n",
      "shape: (3, 2)\n",
      "┌──────┬──────┐\n",
      "│ year ┆ len  │\n",
      "│ ---  ┆ ---  │\n",
      "│ i32  ┆ u32  │\n",
      "╞══════╪══════╡\n",
      "│ 2018 ┆ 1518 │\n",
      "│ 2020 ┆ 1517 │\n",
      "│ 2022 ┆ 1525 │\n",
      "└──────┴──────┘\n"
     ]
    }
   ],
   "source": [
    "# Displaying some basic information about the combined DataFrame\n",
    "# This should help with data validation\n",
    "print(\"\\nDataFrame Info:\")\n",
    "print(f\"Shape: {df.shape}\")\n",
    "print(f\"Columns: {df.columns}\")\n",
    "print(\"\\nYear distribution:\")\n",
    "print(df.group_by(\"year\").agg(pl.len()).sort(\"year\"))"
   ]
  },
  {
   "cell_type": "code",
   "execution_count": 4,
   "metadata": {},
   "outputs": [],
   "source": [
    "# Forward filling county names\n",
    "\n",
    "df = df.with_columns(pl.col(\"county\").forward_fill())\n"
   ]
  },
  {
   "cell_type": "code",
   "execution_count": 5,
   "metadata": {},
   "outputs": [],
   "source": [
    "\n",
    "# Creating a column to identify the geopolitical entity of observations\n",
    "\n",
    "df = df.with_columns(\n",
    "    pl.when(pl.col(\"sub_county\") == \"Cities\")\n",
    "    .then(pl.lit(\"city\"))\n",
    "    .when(pl.col(\"sub_county\") == \"County Totals\")\n",
    "    .then(pl.lit(\"city_end\"))\n",
    "    .when(pl.col(\"sub_county\").str.contains(\"State Senate\"))\n",
    "    .then(pl.lit(\"state_senate_district\"))\n",
    "    .when(pl.col(\"sub_county\").str.contains(\"State Assembly\"))  # Changed this line\n",
    "    .then(pl.lit(\"state_assembly_district\"))\n",
    "    .when(pl.col(\"sub_county\").str.contains(\"Congressional\"))\n",
    "    .then(pl.lit(\"federal_congressional_district\"))\n",
    "    .when(pl.col(\"sub_county\").str.contains(\"County Supervisorial|Supervisorial District\"))\n",
    "    .then(pl.lit(\"county_supervisorial_district\"))\n",
    "    .when(pl.col(\"sub_county\").str.contains(\"Equalization\"))\n",
    "    .then(pl.lit(\"state_board_of_equalization_district\"))\n",
    "    .otherwise(None)\n",
    "    .alias(\"geo_type\")\n",
    ").with_columns(pl.col(\"geo_type\").forward_fill())\n",
    "\n",
    "df = (df.with_columns(\n",
    "    pl.col(\"sub_county\").str.extract(r\"\\d+\", 0).alias(\"sub_county_id\"))\n",
    ") \n",
    "\n",
    "# Stripping the \"County\" suffix from the county names\n",
    "df = (df.with_columns(\n",
    "    pl.col(\"county\").str.strip_suffix(\" County\").alias(\"county\"))\n",
    ")\n",
    "\n",
    "# Stripping the \"County1\" suffix from the county names\n",
    "# This is necessary because County1 is an erroneous suffix in the original data\n",
    "\n",
    "df = (df.with_columns(\n",
    "    pl.col(\"county\").str.strip_suffix(\" County1\").alias(\"county\"))\n",
    ")\n",
    "\n"
   ]
  },
  {
   "cell_type": "code",
   "execution_count": 6,
   "metadata": {},
   "outputs": [
    {
     "data": {
      "text/html": [
       "<div><style>\n",
       ".dataframe > thead > tr,\n",
       ".dataframe > tbody > tr {\n",
       "  text-align: right;\n",
       "  white-space: pre-wrap;\n",
       "}\n",
       "</style>\n",
       "<small>shape: (5, 7)</small><table border=\"1\" class=\"dataframe\"><thead><tr><th>county</th><th>sub_county</th><th>yes</th><th>no</th><th>year</th><th>geo_type</th><th>sub_county_id</th></tr><tr><td>str</td><td>str</td><td>str</td><td>str</td><td>i32</td><td>str</td><td>str</td></tr></thead><tbody><tr><td>null</td><td>null</td><td>&quot;Regulates Kidney\r\n",
       "Dialysis Cli…</td><td>null</td><td>2022</td><td>null</td><td>null</td></tr><tr><td>null</td><td>null</td><td>&quot;YES&quot;</td><td>&quot;NO&quot;</td><td>2022</td><td>null</td><td>null</td></tr><tr><td>&quot;Alameda&quot;</td><td>null</td><td>null</td><td>null</td><td>2022</td><td>null</td><td>null</td></tr><tr><td>&quot;Alameda&quot;</td><td>&quot;County Totals&quot;</td><td>&quot;182697&quot;</td><td>&quot;290746&quot;</td><td>2022</td><td>&quot;city_end&quot;</td><td>null</td></tr><tr><td>&quot;Alameda&quot;</td><td>&quot;Percent&quot;</td><td>&quot;0.38589017051683094&quot;</td><td>&quot;0.6141098294831691&quot;</td><td>2022</td><td>&quot;city_end&quot;</td><td>null</td></tr></tbody></table></div>"
      ],
      "text/plain": [
       "shape: (5, 7)\n",
       "┌─────────┬───────────────┬───────────────────┬──────────────────┬──────┬──────────┬───────────────┐\n",
       "│ county  ┆ sub_county    ┆ yes               ┆ no               ┆ year ┆ geo_type ┆ sub_county_id │\n",
       "│ ---     ┆ ---           ┆ ---               ┆ ---              ┆ ---  ┆ ---      ┆ ---           │\n",
       "│ str     ┆ str           ┆ str               ┆ str              ┆ i32  ┆ str      ┆ str           │\n",
       "╞═════════╪═══════════════╪═══════════════════╪══════════════════╪══════╪══════════╪═══════════════╡\n",
       "│ null    ┆ null          ┆ Regulates Kidney\n",
       " ┆ null             ┆ 2022 ┆ null     ┆ null          │\n",
       "│         ┆               ┆ Dialysis Cli…     ┆                  ┆      ┆          ┆               │\n",
       "│ null    ┆ null          ┆ YES               ┆ NO               ┆ 2022 ┆ null     ┆ null          │\n",
       "│ Alameda ┆ null          ┆ null              ┆ null             ┆ 2022 ┆ null     ┆ null          │\n",
       "│ Alameda ┆ County Totals ┆ 182697            ┆ 290746           ┆ 2022 ┆ city_end ┆ null          │\n",
       "│ Alameda ┆ Percent       ┆ 0.385890170516830 ┆ 0.61410982948316 ┆ 2022 ┆ city_end ┆ null          │\n",
       "│         ┆               ┆ 94                ┆ 91               ┆      ┆          ┆               │\n",
       "└─────────┴───────────────┴───────────────────┴──────────────────┴──────┴──────────┴───────────────┘"
      ]
     },
     "execution_count": 6,
     "metadata": {},
     "output_type": "execute_result"
    }
   ],
   "source": [
    "df.head()"
   ]
  },
  {
   "cell_type": "code",
   "execution_count": 7,
   "metadata": {},
   "outputs": [
    {
     "name": "stdout",
     "output_type": "stream",
     "text": [
      "Percentage of rows dropped: 15.39%\n"
     ]
    },
    {
     "data": {
      "text/html": [
       "<div><style>\n",
       ".dataframe > thead > tr,\n",
       ".dataframe > tbody > tr {\n",
       "  text-align: right;\n",
       "  white-space: pre-wrap;\n",
       "}\n",
       "</style>\n",
       "<small>shape: (1, 7)</small><table border=\"1\" class=\"dataframe\"><thead><tr><th>Original Rows</th><th>Rows After Cleaning</th><th>Rows Dropped</th><th>Geo Types After Cleaning</th><th>Geo Types Dropped</th><th>Sub Counties After Cleaning</th><th>Sub Counties Dropped</th></tr><tr><td>i64</td><td>i64</td><td>i64</td><td>object</td><td>object</td><td>object</td><td>object</td></tr></thead><tbody><tr><td>4560</td><td>3858</td><td>702</td><td>shape: (1, 1)\n",
       "┌──────────┐\n",
       "│ geo_type │\n",
       "│ ---      │\n",
       "│ u32      │\n",
       "╞══════════╡\n",
       "│ 6        │\n",
       "└──────────┘</td><td>shape: (1, 1)\n",
       "┌──────────┐\n",
       "│ geo_type │\n",
       "│ ---      │\n",
       "│ u32      │\n",
       "╞══════════╡\n",
       "│ 1        │\n",
       "└──────────┘</td><td>shape: (1, 1)\n",
       "┌────────────┐\n",
       "│ sub_county │\n",
       "│ ---        │\n",
       "│ u32        │\n",
       "╞════════════╡\n",
       "│ 924        │\n",
       "└────────────┘</td><td>shape: (1, 1)\n",
       "┌────────────┐\n",
       "│ sub_county │\n",
       "│ ---        │\n",
       "│ u32        │\n",
       "╞════════════╡\n",
       "│ 3          │\n",
       "└────────────┘</td></tr></tbody></table></div>"
      ],
      "text/plain": [
       "shape: (1, 7)\n",
       "┌──────────┬───────────────┬─────────┬───────────────┬───────────────┬──────────────┬──────────────┐\n",
       "│ Original ┆ Rows After    ┆ Rows    ┆ Geo Types     ┆ Geo Types     ┆ Sub Counties ┆ Sub Counties │\n",
       "│ Rows     ┆ Cleaning      ┆ Dropped ┆ After         ┆ Dropped       ┆ After        ┆ Dropped      │\n",
       "│ ---      ┆ ---           ┆ ---     ┆ Cleaning      ┆ ---           ┆ Cleaning     ┆ ---          │\n",
       "│ i64      ┆ i64           ┆ i64     ┆ ---           ┆ object        ┆ ---          ┆ object       │\n",
       "│          ┆               ┆         ┆ object        ┆               ┆ object       ┆              │\n",
       "╞══════════╪═══════════════╪═════════╪═══════════════╪═══════════════╪══════════════╪══════════════╡\n",
       "│ 4560     ┆ 3858          ┆ 702     ┆ shape: (1, 1) ┆ shape: (1, 1) ┆ shape: (1,   ┆ shape: (1,   │\n",
       "│          ┆               ┆         ┆ ┌──────────┐  ┆ ┌──────────┐  ┆ 1)           ┆ 1)           │\n",
       "│          ┆               ┆         ┆ │ g…          ┆ │ g…          ┆ ┌─────────── ┆ ┌─────────── │\n",
       "│          ┆               ┆         ┆               ┆               ┆ ─┐           ┆ ─┐           │\n",
       "│          ┆               ┆         ┆               ┆               ┆ │…           ┆ │…           │\n",
       "└──────────┴───────────────┴─────────┴───────────────┴───────────────┴──────────────┴──────────────┘"
      ]
     },
     "execution_count": 7,
     "metadata": {},
     "output_type": "execute_result"
    }
   ],
   "source": [
    "# Get the original number of rows for data validation\n",
    "original_row_count = df.shape[0]\n",
    "\n",
    "original_geo_type_count = df.select(\"geo_type\").unique().count()\n",
    "\n",
    "original_sub_county_count = df.select(\"sub_county\").unique().count()\n",
    "\n",
    "# Drop rows where 'geo_type' is null or 'city_end', and where 'sub_county' is 'Cities'\n",
    "df_cleaned = (df\n",
    "    .drop_nulls(subset=['geo_type'])\n",
    "    .filter((pl.col('geo_type') != 'city_end') & (pl.col('sub_county') != 'Cities'))\n",
    ")\n",
    "\n",
    "# Get the new number of rows\n",
    "new_row_count = df_cleaned.shape[0]\n",
    "\n",
    "new_geo_type_count = df_cleaned.select(\"geo_type\").unique().count()\n",
    "\n",
    "new_sub_county_count = df_cleaned.select(\"sub_county\").unique().count()\n",
    "\n",
    "# Calculate the number of dropped rows\n",
    "dropped_row_count = original_row_count - new_row_count\n",
    "dropped_geo_type_count = original_geo_type_count - new_geo_type_count\n",
    "dropped_sub_county_count = original_sub_county_count - new_sub_county_count\n",
    "\n",
    "# Create a DataFrame to show the results\n",
    "result_df = pl.DataFrame({\n",
    "    'Original Rows': [original_row_count],\n",
    "    'Rows After Cleaning': [new_row_count],\n",
    "    'Rows Dropped': [dropped_row_count],\n",
    "    'Geo Types After Cleaning': [new_geo_type_count],\n",
    "    'Geo Types Dropped': [dropped_geo_type_count],\n",
    "    'Sub Counties After Cleaning': [new_sub_county_count],\n",
    "    'Sub Counties Dropped': [dropped_sub_county_count]\n",
    "})\n",
    "\n",
    "# Calculate and display the percentage of rows dropped\n",
    "percentage_dropped = (dropped_row_count / original_row_count) * 100\n",
    "print(f\"Percentage of rows dropped: {percentage_dropped:.2f}%\")\n",
    "\n",
    "\n",
    "# Display the result\n",
    "result_df\n"
   ]
  },
  {
   "cell_type": "code",
   "execution_count": 8,
   "metadata": {},
   "outputs": [
    {
     "data": {
      "text/html": [
       "<div><style>\n",
       ".dataframe > thead > tr,\n",
       ".dataframe > tbody > tr {\n",
       "  text-align: right;\n",
       "  white-space: pre-wrap;\n",
       "}\n",
       "</style>\n",
       "<small>shape: (5, 7)</small><table border=\"1\" class=\"dataframe\"><thead><tr><th>county</th><th>sub_county</th><th>yes</th><th>no</th><th>year</th><th>geo_type</th><th>sub_county_id</th></tr><tr><td>str</td><td>str</td><td>str</td><td>str</td><td>i32</td><td>str</td><td>str</td></tr></thead><tbody><tr><td>&quot;Alameda&quot;</td><td>&quot;County Supervisorial 1&quot;</td><td>&quot;31161&quot;</td><td>&quot;65845&quot;</td><td>2022</td><td>&quot;county_supervisorial_district&quot;</td><td>&quot;1&quot;</td></tr><tr><td>&quot;Alameda&quot;</td><td>&quot;County Supervisorial 2&quot;</td><td>&quot;28778&quot;</td><td>&quot;44258&quot;</td><td>2022</td><td>&quot;county_supervisorial_district&quot;</td><td>&quot;2&quot;</td></tr><tr><td>&quot;Alameda&quot;</td><td>&quot;County Supervisorial 3&quot;</td><td>&quot;34338&quot;</td><td>&quot;48590&quot;</td><td>2022</td><td>&quot;county_supervisorial_district&quot;</td><td>&quot;3&quot;</td></tr><tr><td>&quot;Alameda&quot;</td><td>&quot;County Supervisorial 4&quot;</td><td>&quot;33897&quot;</td><td>&quot;60759&quot;</td><td>2022</td><td>&quot;county_supervisorial_district&quot;</td><td>&quot;4&quot;</td></tr><tr><td>&quot;Alameda&quot;</td><td>&quot;County Supervisorial 5&quot;</td><td>&quot;54523&quot;</td><td>&quot;71294&quot;</td><td>2022</td><td>&quot;county_supervisorial_district&quot;</td><td>&quot;5&quot;</td></tr></tbody></table></div>"
      ],
      "text/plain": [
       "shape: (5, 7)\n",
       "┌─────────┬────────────────────────┬───────┬───────┬──────┬────────────────────────┬───────────────┐\n",
       "│ county  ┆ sub_county             ┆ yes   ┆ no    ┆ year ┆ geo_type               ┆ sub_county_id │\n",
       "│ ---     ┆ ---                    ┆ ---   ┆ ---   ┆ ---  ┆ ---                    ┆ ---           │\n",
       "│ str     ┆ str                    ┆ str   ┆ str   ┆ i32  ┆ str                    ┆ str           │\n",
       "╞═════════╪════════════════════════╪═══════╪═══════╪══════╪════════════════════════╪═══════════════╡\n",
       "│ Alameda ┆ County Supervisorial 1 ┆ 31161 ┆ 65845 ┆ 2022 ┆ county_supervisorial_d ┆ 1             │\n",
       "│         ┆                        ┆       ┆       ┆      ┆ istrict                ┆               │\n",
       "│ Alameda ┆ County Supervisorial 2 ┆ 28778 ┆ 44258 ┆ 2022 ┆ county_supervisorial_d ┆ 2             │\n",
       "│         ┆                        ┆       ┆       ┆      ┆ istrict                ┆               │\n",
       "│ Alameda ┆ County Supervisorial 3 ┆ 34338 ┆ 48590 ┆ 2022 ┆ county_supervisorial_d ┆ 3             │\n",
       "│         ┆                        ┆       ┆       ┆      ┆ istrict                ┆               │\n",
       "│ Alameda ┆ County Supervisorial 4 ┆ 33897 ┆ 60759 ┆ 2022 ┆ county_supervisorial_d ┆ 4             │\n",
       "│         ┆                        ┆       ┆       ┆      ┆ istrict                ┆               │\n",
       "│ Alameda ┆ County Supervisorial 5 ┆ 54523 ┆ 71294 ┆ 2022 ┆ county_supervisorial_d ┆ 5             │\n",
       "│         ┆                        ┆       ┆       ┆      ┆ istrict                ┆               │\n",
       "└─────────┴────────────────────────┴───────┴───────┴──────┴────────────────────────┴───────────────┘"
      ]
     },
     "execution_count": 8,
     "metadata": {},
     "output_type": "execute_result"
    }
   ],
   "source": [
    "df_cleaned.head()"
   ]
  },
  {
   "cell_type": "code",
   "execution_count": 9,
   "metadata": {},
   "outputs": [],
   "source": [
    "# Unpivoting the data so it's in \"tidy\" format\n",
    "# Tidy essentially means  each variable has its own column, and each observation has its own row\n",
    "# This makes it easier to merge, analyze, model, and visualize data\n",
    "# Also in this step we rename columns to be more informative\n",
    "\n",
    "df_cleaned = (\n",
    "    df_cleaned\n",
    "    .unpivot(\n",
    "        index = ['county', 'sub_county', 'geo_type', 'sub_county_id', 'year'],\n",
    "        on = ['yes', 'no'],\n",
    "        value_name = \"vote_count\"\n",
    "    )\n",
    "    .with_columns(\n",
    "        pl.col(\"variable\")\n",
    "    .alias(\"vote_type\"))\n",
    "    .with_columns(\n",
    "        pl.col(\"sub_county_id\")\n",
    "        .alias(\"district_id\"))\n",
    "    .drop(pl.col([\"variable\", \"sub_county_id\"]))\n",
    ")"
   ]
  },
  {
   "cell_type": "code",
   "execution_count": 10,
   "metadata": {},
   "outputs": [
    {
     "data": {
      "text/html": [
       "<div><style>\n",
       ".dataframe > thead > tr,\n",
       ".dataframe > tbody > tr {\n",
       "  text-align: right;\n",
       "  white-space: pre-wrap;\n",
       "}\n",
       "</style>\n",
       "<small>shape: (5, 7)</small><table border=\"1\" class=\"dataframe\"><thead><tr><th>year</th><th>county</th><th>sub_county</th><th>district_id</th><th>geo_type</th><th>vote_type</th><th>vote_count</th></tr><tr><td>i32</td><td>str</td><td>str</td><td>str</td><td>str</td><td>str</td><td>str</td></tr></thead><tbody><tr><td>2022</td><td>&quot;Alameda&quot;</td><td>&quot;County Supervisorial 1&quot;</td><td>&quot;1&quot;</td><td>&quot;county_supervisorial_district&quot;</td><td>&quot;yes&quot;</td><td>&quot;31161&quot;</td></tr><tr><td>2022</td><td>&quot;Alameda&quot;</td><td>&quot;County Supervisorial 2&quot;</td><td>&quot;2&quot;</td><td>&quot;county_supervisorial_district&quot;</td><td>&quot;yes&quot;</td><td>&quot;28778&quot;</td></tr><tr><td>2022</td><td>&quot;Alameda&quot;</td><td>&quot;County Supervisorial 3&quot;</td><td>&quot;3&quot;</td><td>&quot;county_supervisorial_district&quot;</td><td>&quot;yes&quot;</td><td>&quot;34338&quot;</td></tr><tr><td>2022</td><td>&quot;Alameda&quot;</td><td>&quot;County Supervisorial 4&quot;</td><td>&quot;4&quot;</td><td>&quot;county_supervisorial_district&quot;</td><td>&quot;yes&quot;</td><td>&quot;33897&quot;</td></tr><tr><td>2022</td><td>&quot;Alameda&quot;</td><td>&quot;County Supervisorial 5&quot;</td><td>&quot;5&quot;</td><td>&quot;county_supervisorial_district&quot;</td><td>&quot;yes&quot;</td><td>&quot;54523&quot;</td></tr></tbody></table></div>"
      ],
      "text/plain": [
       "shape: (5, 7)\n",
       "┌──────┬─────────┬─────────────────┬─────────────┬────────────────────────┬───────────┬────────────┐\n",
       "│ year ┆ county  ┆ sub_county      ┆ district_id ┆ geo_type               ┆ vote_type ┆ vote_count │\n",
       "│ ---  ┆ ---     ┆ ---             ┆ ---         ┆ ---                    ┆ ---       ┆ ---        │\n",
       "│ i32  ┆ str     ┆ str             ┆ str         ┆ str                    ┆ str       ┆ str        │\n",
       "╞══════╪═════════╪═════════════════╪═════════════╪════════════════════════╪═══════════╪════════════╡\n",
       "│ 2022 ┆ Alameda ┆ County          ┆ 1           ┆ county_supervisorial_d ┆ yes       ┆ 31161      │\n",
       "│      ┆         ┆ Supervisorial 1 ┆             ┆ istrict                ┆           ┆            │\n",
       "│ 2022 ┆ Alameda ┆ County          ┆ 2           ┆ county_supervisorial_d ┆ yes       ┆ 28778      │\n",
       "│      ┆         ┆ Supervisorial 2 ┆             ┆ istrict                ┆           ┆            │\n",
       "│ 2022 ┆ Alameda ┆ County          ┆ 3           ┆ county_supervisorial_d ┆ yes       ┆ 34338      │\n",
       "│      ┆         ┆ Supervisorial 3 ┆             ┆ istrict                ┆           ┆            │\n",
       "│ 2022 ┆ Alameda ┆ County          ┆ 4           ┆ county_supervisorial_d ┆ yes       ┆ 33897      │\n",
       "│      ┆         ┆ Supervisorial 4 ┆             ┆ istrict                ┆           ┆            │\n",
       "│ 2022 ┆ Alameda ┆ County          ┆ 5           ┆ county_supervisorial_d ┆ yes       ┆ 54523      │\n",
       "│      ┆         ┆ Supervisorial 5 ┆             ┆ istrict                ┆           ┆            │\n",
       "└──────┴─────────┴─────────────────┴─────────────┴────────────────────────┴───────────┴────────────┘"
      ]
     },
     "execution_count": 10,
     "metadata": {},
     "output_type": "execute_result"
    }
   ],
   "source": [
    "\n",
    "# Reordering the columns for clarity/readability\n",
    "\n",
    "df_cleaned = df_cleaned.select([\"year\", \"county\", \"sub_county\", \"district_id\", \"geo_type\", \"vote_type\", \"vote_count\"])\n",
    "\n",
    "df_cleaned.head()"
   ]
  },
  {
   "cell_type": "code",
   "execution_count": 264,
   "metadata": {},
   "outputs": [
    {
     "name": "stdout",
     "output_type": "stream",
     "text": [
      "Data saved to ../../../003_data/001_raw-data/2018-2022_ballot-measure_sub-county_data.parquet\n"
     ]
    }
   ],
   "source": [
    "\n",
    "# Generating a timestamp for the files\n",
    "timestamp = datetime.now().strftime(\"%Y%m%d_%H%M%S\")\n",
    "\n",
    "# Defining output paths without timestamp to replace the prior version\n",
    "output_path = '../../../003_data/001_raw-data/2018-2022_ballot-measure_sub-county_data.parquet'\n",
    "\n",
    "# Function to save Polars DataFrame as Parquet with metadata\n",
    "def save_polars_parquet_with_metadata(df, output_path, description):\n",
    "    try:\n",
    "        # Convert Polars DataFrame to Arrow Table\n",
    "        arrow_table = df.to_arrow()\n",
    "\n",
    "        # Get existing metadata\n",
    "        metadata = arrow_table.schema.metadata if arrow_table.schema.metadata else {}\n",
    "\n",
    "        # Update metadata\n",
    "        metadata.update({\n",
    "            b'created_at': str(datetime.now()).encode('utf-8'),\n",
    "            b'description': description.encode('utf-8'),\n",
    "            b'version': b'1.0',\n",
    "            b'cleaning_steps': b'''\n",
    "                1. Downloaded Excel files from California Secretary of State website for 2018, 2020, and 2022 elections.\n",
    "                2. Processed each Excel file:\n",
    "                   a. Selected first two columns (county and sub_county).\n",
    "                   b. Identified and selected columns related to kidney/dialysis propositions and their corresponding No vote columns.\n",
    "                   c. Renamed columns: first two as 'county' and 'sub_county', proposition column as 'yes', following column as 'no'.\n",
    "                   d. Added 'year' column to each dataset.\n",
    "                3. Combined data from all years into a single DataFrame.\n",
    "                4. Unnested sub-county data into geo_type and sub_county_id.\n",
    "                5. Reshaped data:\n",
    "                   a. Unpivoted 'yes' and 'no' columns.\n",
    "                6. Renamed columns to make them easier to interpret :\n",
    "                   a. yes/no vote column as 'vote_type'\n",
    "                   b. sub_county_id as 'district_id'\n",
    "                7. Reordered columns for clarity/readability\n",
    "            '''\n",
    "        })\n",
    "\n",
    "        # Creating a new Arrow Table with updated metadata\n",
    "        updated_table = arrow_table.replace_schema_metadata(metadata)\n",
    "\n",
    "        # Writing the updated table to a Parquet file with Snappy compression to reduce file size\n",
    "        pq.write_table(updated_table, output_path, compression='snappy')\n",
    "\n",
    "        print(f\"Data saved to {output_path}\")\n",
    "    except Exception as e:\n",
    "        print(f\"Error saving data: {e}\")\n",
    "        raise\n",
    "\n",
    "# Saving the merged dataframes as parquet files\n",
    "save_polars_parquet_with_metadata(df_cleaned, output_path, \"Merged 2018-2022 ballot measure sub-county data\")"
   ]
  }
 ],
 "metadata": {
  "kernelspec": {
   "display_name": "base",
   "language": "python",
   "name": "python3"
  },
  "language_info": {
   "codemirror_mode": {
    "name": "ipython",
    "version": 3
   },
   "file_extension": ".py",
   "mimetype": "text/x-python",
   "name": "python",
   "nbconvert_exporter": "python",
   "pygments_lexer": "ipython3",
   "version": "3.11.5"
  }
 },
 "nbformat": 4,
 "nbformat_minor": 2
}
