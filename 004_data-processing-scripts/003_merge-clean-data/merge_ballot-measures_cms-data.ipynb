{
 "cells": [
  {
   "cell_type": "code",
   "execution_count": 1,
   "metadata": {},
   "outputs": [],
   "source": [
    "import polars as pl"
   ]
  },
  {
   "cell_type": "code",
   "execution_count": 37,
   "metadata": {},
   "outputs": [],
   "source": [
    "facility_df = pl.read_parquet('../../003_data/002_clean-data/national_cms_dialysis-facility_data.parquet')\n",
    "ballot_measures_df = pl.read_csv('../../003_data/001_raw-data/Ballot Measures Data Clean.csv')\n",
    "\n"
   ]
  },
  {
   "cell_type": "code",
   "execution_count": 38,
   "metadata": {},
   "outputs": [
    {
     "data": {
      "text/html": [
       "<div><style>\n",
       ".dataframe > thead > tr,\n",
       ".dataframe > tbody > tr {\n",
       "  text-align: right;\n",
       "  white-space: pre-wrap;\n",
       "}\n",
       "</style>\n",
       "<small>shape: (58, 17)</small><table border=\"1\" class=\"dataframe\"><thead><tr><th></th><th>county name</th><th>yes count 2020</th><th>no count 2020</th><th>total count 2020</th><th>yes perc 2020</th><th>no perc 2020</th><th>yes count 2018</th><th>no count 2018</th><th>total count 2018</th><th>yes perc 2018</th><th>no perc 2018</th><th>yes count 2022</th><th>no count 2022</th><th>total count 2022</th><th>yes perc 2022</th><th>no perc 2022</th></tr><tr><td>i64</td><td>str</td><td>f64</td><td>f64</td><td>f64</td><td>f64</td><td>f64</td><td>i64</td><td>i64</td><td>i64</td><td>f64</td><td>f64</td><td>f64</td><td>f64</td><td>f64</td><td>f64</td><td>f64</td></tr></thead><tbody><tr><td>0</td><td>&quot;Alameda&quot;</td><td>329873.0</td><td>413277.0</td><td>743150.0</td><td>0.443885</td><td>0.556115</td><td>275550</td><td>280735</td><td>556285</td><td>0.49534</td><td>0.50466</td><td>182697.0</td><td>290746.0</td><td>473443.0</td><td>0.38589</td><td>0.61411</td></tr><tr><td>1</td><td>&quot;Alpine&quot;</td><td>344.0</td><td>369.0</td><td>713.0</td><td>0.482468</td><td>0.517532</td><td>298</td><td>281</td><td>579</td><td>0.51468</td><td>0.48532</td><td>272.0</td><td>317.0</td><td>589.0</td><td>0.4618</td><td>0.5382</td></tr><tr><td>2</td><td>&quot;Amador&quot;</td><td>4615.0</td><td>17149.0</td><td>21764.0</td><td>0.212047</td><td>0.787953</td><td>5256</td><td>11775</td><td>17031</td><td>0.308614</td><td>0.691386</td><td>3590.0</td><td>14569.0</td><td>18159.0</td><td>0.197698</td><td>0.802302</td></tr><tr><td>3</td><td>&quot;Butte&quot;</td><td>29338.0</td><td>70174.0</td><td>99512.0</td><td>0.294819</td><td>0.705181</td><td>30908</td><td>55394</td><td>86302</td><td>0.358138</td><td>0.641862</td><td>16478.0</td><td>54015.0</td><td>70493.0</td><td>0.233754</td><td>0.766246</td></tr><tr><td>4</td><td>&quot;Calaveras&quot;</td><td>5538.0</td><td>20896.0</td><td>26434.0</td><td>0.209503</td><td>0.790497</td><td>6688</td><td>14224</td><td>20912</td><td>0.319816</td><td>0.680184</td><td>4280.0</td><td>16440.0</td><td>20720.0</td><td>0.206564</td><td>0.793436</td></tr><tr><td>&hellip;</td><td>&hellip;</td><td>&hellip;</td><td>&hellip;</td><td>&hellip;</td><td>&hellip;</td><td>&hellip;</td><td>&hellip;</td><td>&hellip;</td><td>&hellip;</td><td>&hellip;</td><td>&hellip;</td><td>&hellip;</td><td>&hellip;</td><td>&hellip;</td><td>&hellip;</td><td>&hellip;</td></tr><tr><td>53</td><td>&quot;Tulare&quot;</td><td>44506.0</td><td>99331.0</td><td>143837.0</td><td>0.30942</td><td>0.69058</td><td>28109</td><td>69542</td><td>97651</td><td>0.287852</td><td>0.712148</td><td>22954.0</td><td>66604.0</td><td>89558.0</td><td>0.256303</td><td>0.743697</td></tr><tr><td>54</td><td>&quot;Tuolumne&quot;</td><td>6541.0</td><td>23103.0</td><td>29644.0</td><td>0.220652</td><td>0.779348</td><td>7554</td><td>15546</td><td>23100</td><td>0.327013</td><td>0.672987</td><td>4746.0</td><td>17874.0</td><td>22620.0</td><td>0.209814</td><td>0.790186</td></tr><tr><td>55</td><td>&quot;Ventura&quot;</td><td>140977.0</td><td>270965.0</td><td>411942.0</td><td>0.342225</td><td>0.657775</td><td>114221</td><td>187357</td><td>301578</td><td>0.378744</td><td>0.621256</td><td>85257.0</td><td>187577.0</td><td>272834.0</td><td>0.312487</td><td>0.687513</td></tr><tr><td>56</td><td>&quot;Yolo&quot;</td><td>33531.0</td><td>60559.0</td><td>94090.0</td><td>0.356372</td><td>0.643628</td><td>29461</td><td>41882</td><td>71343</td><td>0.412949</td><td>0.587051</td><td>19118.0</td><td>46561.0</td><td>65679.0</td><td>0.291082</td><td>0.708918</td></tr><tr><td>57</td><td>&quot;Yuba&quot;</td><td>7688.0</td><td>20846.0</td><td>28534.0</td><td>0.269433</td><td>0.730567</td><td>5967</td><td>12845</td><td>18812</td><td>0.317191</td><td>0.682809</td><td>4491.0</td><td>14859.0</td><td>19350.0</td><td>0.232093</td><td>0.767907</td></tr></tbody></table></div>"
      ],
      "text/plain": [
       "shape: (58, 17)\n",
       "┌─────┬────────────┬────────────┬────────────┬───┬────────────┬────────────┬───────────┬───────────┐\n",
       "│     ┆ county     ┆ yes count  ┆ no count   ┆ … ┆ no count   ┆ total      ┆ yes perc  ┆ no perc   │\n",
       "│ --- ┆ name       ┆ 2020       ┆ 2020       ┆   ┆ 2022       ┆ count 2022 ┆ 2022      ┆ 2022      │\n",
       "│ i64 ┆ ---        ┆ ---        ┆ ---        ┆   ┆ ---        ┆ ---        ┆ ---       ┆ ---       │\n",
       "│     ┆ str        ┆ f64        ┆ f64        ┆   ┆ f64        ┆ f64        ┆ f64       ┆ f64       │\n",
       "╞═════╪════════════╪════════════╪════════════╪═══╪════════════╪════════════╪═══════════╪═══════════╡\n",
       "│ 0   ┆ Alameda    ┆ 329873.0   ┆ 413277.0   ┆ … ┆ 290746.0   ┆ 473443.0   ┆ 0.38589   ┆ 0.61411   │\n",
       "│ 1   ┆ Alpine     ┆ 344.0      ┆ 369.0      ┆ … ┆ 317.0      ┆ 589.0      ┆ 0.4618    ┆ 0.5382    │\n",
       "│ 2   ┆ Amador     ┆ 4615.0     ┆ 17149.0    ┆ … ┆ 14569.0    ┆ 18159.0    ┆ 0.197698  ┆ 0.802302  │\n",
       "│ 3   ┆ Butte      ┆ 29338.0    ┆ 70174.0    ┆ … ┆ 54015.0    ┆ 70493.0    ┆ 0.233754  ┆ 0.766246  │\n",
       "│ 4   ┆ Calaveras  ┆ 5538.0     ┆ 20896.0    ┆ … ┆ 16440.0    ┆ 20720.0    ┆ 0.206564  ┆ 0.793436  │\n",
       "│ …   ┆ …          ┆ …          ┆ …          ┆ … ┆ …          ┆ …          ┆ …         ┆ …         │\n",
       "│ 53  ┆ Tulare     ┆ 44506.0    ┆ 99331.0    ┆ … ┆ 66604.0    ┆ 89558.0    ┆ 0.256303  ┆ 0.743697  │\n",
       "│ 54  ┆ Tuolumne   ┆ 6541.0     ┆ 23103.0    ┆ … ┆ 17874.0    ┆ 22620.0    ┆ 0.209814  ┆ 0.790186  │\n",
       "│ 55  ┆ Ventura    ┆ 140977.0   ┆ 270965.0   ┆ … ┆ 187577.0   ┆ 272834.0   ┆ 0.312487  ┆ 0.687513  │\n",
       "│ 56  ┆ Yolo       ┆ 33531.0    ┆ 60559.0    ┆ … ┆ 46561.0    ┆ 65679.0    ┆ 0.291082  ┆ 0.708918  │\n",
       "│ 57  ┆ Yuba       ┆ 7688.0     ┆ 20846.0    ┆ … ┆ 14859.0    ┆ 19350.0    ┆ 0.232093  ┆ 0.767907  │\n",
       "└─────┴────────────┴────────────┴────────────┴───┴────────────┴────────────┴───────────┴───────────┘"
      ]
     },
     "execution_count": 38,
     "metadata": {},
     "output_type": "execute_result"
    }
   ],
   "source": [
    "ballot_measures_df"
   ]
  },
  {
   "cell_type": "code",
   "execution_count": 39,
   "metadata": {},
   "outputs": [],
   "source": [
    "ballot_measures_df = ballot_measures_df.rename({\"county name\": \"county\"})\n",
    "\n",
    "ballot_measures_df = (\n",
    "    ballot_measures_df\n",
    "    .unpivot(\n",
    "        index = ['county'],\n",
    "        on = ['yes count 2022', 'no count 2022' ,'yes count 2020', 'no count 2020', 'yes count 2018', 'no count 2018'],\n",
    "        value_name = \"vote_count\"\n",
    "    )\n",
    "    .with_columns(\n",
    "    pl.col(\"variable\")\n",
    "    .str.split_exact(\" count \", 1)\n",
    "    .struct.rename_fields([\"vote_type\", \"year\"])\n",
    "    .alias(\"fields\")\n",
    "    ).unnest(\"fields\")\n",
    "    .drop(\"variable\")\n",
    ")\n",
    "\n"
   ]
  },
  {
   "cell_type": "code",
   "execution_count": 41,
   "metadata": {},
   "outputs": [
    {
     "data": {
      "text/html": [
       "<div><style>\n",
       ".dataframe > thead > tr,\n",
       ".dataframe > tbody > tr {\n",
       "  text-align: right;\n",
       "  white-space: pre-wrap;\n",
       "}\n",
       "</style>\n",
       "<small>shape: (348, 4)</small><table border=\"1\" class=\"dataframe\"><thead><tr><th>county</th><th>vote_count</th><th>vote_type</th><th>year</th></tr><tr><td>str</td><td>f64</td><td>str</td><td>date</td></tr></thead><tbody><tr><td>&quot;Alameda&quot;</td><td>182697.0</td><td>&quot;yes&quot;</td><td>2022-01-01</td></tr><tr><td>&quot;Alpine&quot;</td><td>272.0</td><td>&quot;yes&quot;</td><td>2022-01-01</td></tr><tr><td>&quot;Amador&quot;</td><td>3590.0</td><td>&quot;yes&quot;</td><td>2022-01-01</td></tr><tr><td>&quot;Butte&quot;</td><td>16478.0</td><td>&quot;yes&quot;</td><td>2022-01-01</td></tr><tr><td>&quot;Calaveras&quot;</td><td>4280.0</td><td>&quot;yes&quot;</td><td>2022-01-01</td></tr><tr><td>&hellip;</td><td>&hellip;</td><td>&hellip;</td><td>&hellip;</td></tr><tr><td>&quot;Tulare&quot;</td><td>69542.0</td><td>&quot;no&quot;</td><td>2018-01-01</td></tr><tr><td>&quot;Tuolumne&quot;</td><td>15546.0</td><td>&quot;no&quot;</td><td>2018-01-01</td></tr><tr><td>&quot;Ventura&quot;</td><td>187357.0</td><td>&quot;no&quot;</td><td>2018-01-01</td></tr><tr><td>&quot;Yolo&quot;</td><td>41882.0</td><td>&quot;no&quot;</td><td>2018-01-01</td></tr><tr><td>&quot;Yuba&quot;</td><td>12845.0</td><td>&quot;no&quot;</td><td>2018-01-01</td></tr></tbody></table></div>"
      ],
      "text/plain": [
       "shape: (348, 4)\n",
       "┌───────────┬────────────┬───────────┬────────────┐\n",
       "│ county    ┆ vote_count ┆ vote_type ┆ year       │\n",
       "│ ---       ┆ ---        ┆ ---       ┆ ---        │\n",
       "│ str       ┆ f64        ┆ str       ┆ date       │\n",
       "╞═══════════╪════════════╪═══════════╪════════════╡\n",
       "│ Alameda   ┆ 182697.0   ┆ yes       ┆ 2022-01-01 │\n",
       "│ Alpine    ┆ 272.0      ┆ yes       ┆ 2022-01-01 │\n",
       "│ Amador    ┆ 3590.0     ┆ yes       ┆ 2022-01-01 │\n",
       "│ Butte     ┆ 16478.0    ┆ yes       ┆ 2022-01-01 │\n",
       "│ Calaveras ┆ 4280.0     ┆ yes       ┆ 2022-01-01 │\n",
       "│ …         ┆ …          ┆ …         ┆ …          │\n",
       "│ Tulare    ┆ 69542.0    ┆ no        ┆ 2018-01-01 │\n",
       "│ Tuolumne  ┆ 15546.0    ┆ no        ┆ 2018-01-01 │\n",
       "│ Ventura   ┆ 187357.0   ┆ no        ┆ 2018-01-01 │\n",
       "│ Yolo      ┆ 41882.0    ┆ no        ┆ 2018-01-01 │\n",
       "│ Yuba      ┆ 12845.0    ┆ no        ┆ 2018-01-01 │\n",
       "└───────────┴────────────┴───────────┴────────────┘"
      ]
     },
     "execution_count": 41,
     "metadata": {},
     "output_type": "execute_result"
    }
   ],
   "source": [
    "ballot_measures_df = (\n",
    "    ballot_measures_df\n",
    "    .with_columns(\n",
    "        pl.col(\"year\")\n",
    "        .str.to_date(\"%Y\")\n",
    "    )\n",
    ")\n",
    "\n",
    "ballot_measures_df"
   ]
  },
  {
   "cell_type": "code",
   "execution_count": 42,
   "metadata": {},
   "outputs": [
    {
     "data": {
      "text/html": [
       "<div><style>\n",
       ".dataframe > thead > tr,\n",
       ".dataframe > tbody > tr {\n",
       "  text-align: right;\n",
       "  white-space: pre-wrap;\n",
       "}\n",
       "</style>\n",
       "<small>shape: (5, 155)</small><table border=\"1\" class=\"dataframe\"><thead><tr><th>provider_number</th><th>network</th><th>facility_name</th><th>five_star_date</th><th>five_star</th><th>five_star_data_availability_code</th><th>address_line_1</th><th>address_line_2</th><th>state</th><th>zip_code</th><th>profit_or_nonprofit</th><th>chain_owned</th><th>chain_organization</th><th>late_shift</th><th>_of_dialysis_stations</th><th>offers_incenter_hemodialysis</th><th>offers_peritoneal_dialysis</th><th>offers_home_hemodialysis_training</th><th>certification_date</th><th>claims_date</th><th>eqrs_date</th><th>smr_date</th><th>patient_survival_category_text</th><th>patient_survival_data_availability_code</th><th>number_of_patients_included_in_survival_summary</th><th>mortality_rate_facility</th><th>mortality_rate_upper_confidence_limit_975</th><th>mortality_rate_lower_confidence_limit_25</th><th>shr_date</th><th>patient_hospitalization_category_text</th><th>patient_hospitalization_data_availability_code</th><th>number_of_patients_included_in_hospitalization_summary</th><th>hospitalization_rate_upper_confidence_limit_975</th><th>hospitalization_rate_lower_confidence_limit_25</th><th>srr_date</th><th>patient_hospital_readmission_category</th><th>patient_hospital_readmission_data_availability_code</th><th>&hellip;</th><th>percentage_of_adult_patients_with_serum_phosphorus_between_5670_mgdl</th><th>percentage_of_adult_patients_with_serum_phosphorus_greater_than_70_mgdl</th><th>long_term_catheter_data_availability_code</th><th>number_of_patients_in_long_term_catheter_summary</th><th>number_of_patient_months_in_long_term_catheter_summary</th><th>percentage_of_adult_patients_with_long_term_catheter_in_use</th><th>npcr_data_availability_code</th><th>number_of_patients_in_npcr_summary</th><th>number_of_patientmonths_in_npcr_summary</th><th>percentage_of_pediatric_hd_patients_with_npcr</th><th>year</th><th>month</th><th>city</th><th>county</th><th>phone_number</th><th>certification_or_recertification_date</th><th>crownweb_date</th><th>serum_phosphorus_data_availability_code_</th><th>dateswr</th><th>offers_incenter_peritoneal_dialysis</th><th>rate_of_hospital_readmission_category_text</th><th>percentage_of_medicare_patients_with_hgb_10_gdl</th><th>number_of_patients_included_in_transfusion_summary</th><th>standard_infection_ratio_</th><th>percentage_of_adult_hd_patients_with_ktv_12</th><th>percentage_of_adult_pd_patients_with_ktv17</th><th>percentage_of_pediatric_hd_patents_with_ktv12</th><th>percentage_of_pediatric_pd_patents_with_ktv18</th><th>number_of_adult_patients_included_in_arterial_venous_fistula_and_catheter_summaries</th><th>number_of_adult_patientmonths_included_in_arterial_venous_fistula_and_catheter_summaries</th><th>arteriovenous_fistulae_in_use_data_availability_code</th><th>percentage_of_patients_with_arteriovenous_fistulae_in_use</th><th>vascular_catheter_data_availability_code</th><th>percentage_of_patients_with_vascular_catheter_in_use_for_90_days_or_longer</th><th>hospitalization_rate_facility_</th><th>patient_hospital_readmission_category_text</th><th>readmission_rate_facility_</th></tr><tr><td>str</td><td>str</td><td>str</td><td>str</td><td>str</td><td>str</td><td>str</td><td>str</td><td>str</td><td>str</td><td>str</td><td>str</td><td>str</td><td>str</td><td>str</td><td>str</td><td>str</td><td>str</td><td>str</td><td>str</td><td>str</td><td>str</td><td>str</td><td>str</td><td>str</td><td>str</td><td>str</td><td>str</td><td>str</td><td>str</td><td>str</td><td>str</td><td>str</td><td>str</td><td>str</td><td>str</td><td>str</td><td>&hellip;</td><td>str</td><td>str</td><td>str</td><td>str</td><td>str</td><td>str</td><td>str</td><td>str</td><td>str</td><td>str</td><td>str</td><td>str</td><td>str</td><td>str</td><td>str</td><td>str</td><td>str</td><td>str</td><td>str</td><td>str</td><td>str</td><td>str</td><td>str</td><td>str</td><td>str</td><td>str</td><td>str</td><td>str</td><td>str</td><td>str</td><td>str</td><td>str</td><td>str</td><td>str</td><td>str</td><td>str</td><td>str</td></tr></thead><tbody><tr><td>&quot;52305&quot;</td><td>&quot;17&quot;</td><td>&quot;SANTA CLARA VALLEY RENAL CARE …</td><td>&quot;01Jan2019-31Dec2022&quot;</td><td>&quot;3&quot;</td><td>&quot;1&quot;</td><td>&quot;2220 MOORPARK AVENUE&quot;</td><td>null</td><td>&quot;CA&quot;</td><td>&quot;95128&quot;</td><td>&quot;non-profit&quot;</td><td>&quot;no&quot;</td><td>&quot;Independent&quot;</td><td>&quot;yes&quot;</td><td>&quot;25&quot;</td><td>&quot;yes&quot;</td><td>&quot;yes&quot;</td><td>&quot;no&quot;</td><td>&quot;22AUG1977&quot;</td><td>&quot;01OCT2022-30SEP2023&quot;</td><td>&quot;01OCT2022-30SEP2023&quot;</td><td>&quot;01Jan2019-31Dec2022&quot;</td><td>&quot;As Expected&quot;</td><td>&quot;1&quot;</td><td>&quot;529&quot;</td><td>&quot;19.8&quot;</td><td>&quot;30.5&quot;</td><td>&quot;13.3&quot;</td><td>&quot;01Jan2022-31Dec2022&quot;</td><td>&quot;As Expected&quot;</td><td>&quot;1&quot;</td><td>&quot;117&quot;</td><td>&quot;205.7&quot;</td><td>&quot;97.9&quot;</td><td>&quot;01Jan2022-31Dec2022&quot;</td><td>&quot;As Expected&quot;</td><td>&quot;1&quot;</td><td>&hellip;</td><td>&quot;31&quot;</td><td>&quot;11&quot;</td><td>&quot;1&quot;</td><td>&quot;192&quot;</td><td>&quot;1771&quot;</td><td>&quot;22&quot;</td><td>&quot;259&quot;</td><td>&quot;0&quot;</td><td>null</td><td>null</td><td>&quot;2024&quot;</td><td>&quot;7&quot;</td><td>&quot;SAN JOSE&quot;</td><td>&quot;Santa Clara&quot;</td><td>&quot;(408) 885-5730&quot;</td><td>null</td><td>null</td><td>null</td><td>null</td><td>null</td><td>null</td><td>null</td><td>null</td><td>null</td><td>null</td><td>null</td><td>null</td><td>null</td><td>null</td><td>null</td><td>null</td><td>null</td><td>null</td><td>null</td><td>null</td><td>null</td><td>null</td></tr><tr><td>&quot;52311&quot;</td><td>&quot;18&quot;</td><td>&quot;St. Joseph Hospital Renal Cent…</td><td>&quot;01Jan2019-31Dec2022&quot;</td><td>&quot;3&quot;</td><td>&quot;1&quot;</td><td>&quot;Sr. Elizabeth Bldg. 1100 W. St…</td><td>null</td><td>&quot;CA&quot;</td><td>&quot;92868&quot;</td><td>&quot;non-profit&quot;</td><td>&quot;no&quot;</td><td>&quot;Independent&quot;</td><td>&quot;yes&quot;</td><td>&quot;39&quot;</td><td>&quot;yes&quot;</td><td>&quot;yes&quot;</td><td>&quot;yes&quot;</td><td>&quot;15AUG1977&quot;</td><td>&quot;01OCT2022-30SEP2023&quot;</td><td>&quot;01OCT2022-30SEP2023&quot;</td><td>&quot;01Jan2019-31Dec2022&quot;</td><td>&quot;As Expected&quot;</td><td>&quot;1&quot;</td><td>&quot;533&quot;</td><td>&quot;22.9&quot;</td><td>&quot;33.7&quot;</td><td>&quot;16.1&quot;</td><td>&quot;01Jan2022-31Dec2022&quot;</td><td>&quot;Better than Expected&quot;</td><td>&quot;1&quot;</td><td>&quot;111&quot;</td><td>&quot;129.0&quot;</td><td>&quot;49.7&quot;</td><td>&quot;01Jan2022-31Dec2022&quot;</td><td>&quot;As Expected&quot;</td><td>&quot;1&quot;</td><td>&hellip;</td><td>&quot;27&quot;</td><td>&quot;15&quot;</td><td>&quot;1&quot;</td><td>&quot;161&quot;</td><td>&quot;1437&quot;</td><td>&quot;14&quot;</td><td>&quot;1&quot;</td><td>&quot;14&quot;</td><td>&quot;78&quot;</td><td>&quot;97&quot;</td><td>&quot;2024&quot;</td><td>&quot;7&quot;</td><td>&quot;Orange&quot;</td><td>&quot;Orange&quot;</td><td>&quot;(714) 771-8037&quot;</td><td>null</td><td>null</td><td>null</td><td>null</td><td>null</td><td>null</td><td>null</td><td>null</td><td>null</td><td>null</td><td>null</td><td>null</td><td>null</td><td>null</td><td>null</td><td>null</td><td>null</td><td>null</td><td>null</td><td>null</td><td>null</td><td>null</td></tr><tr><td>&quot;52321&quot;</td><td>&quot;18&quot;</td><td>&quot;Childrens Hospital of Los Ange…</td><td>&quot;01Jan2019-31Dec2022&quot;</td><td>null</td><td>&quot;260&quot;</td><td>&quot;Division of Nephrology (Dialys…</td><td>null</td><td>&quot;CA&quot;</td><td>&quot;90027&quot;</td><td>&quot;non-profit&quot;</td><td>&quot;no&quot;</td><td>&quot;Independent&quot;</td><td>&quot;no&quot;</td><td>&quot;10&quot;</td><td>&quot;yes&quot;</td><td>&quot;yes&quot;</td><td>&quot;yes&quot;</td><td>&quot;28JUL1977&quot;</td><td>&quot;01OCT2022-30SEP2023&quot;</td><td>&quot;01OCT2022-30SEP2023&quot;</td><td>&quot;01Jan2019-31Dec2022&quot;</td><td>&quot;not Available&quot;</td><td>&quot;199&quot;</td><td>&quot;54&quot;</td><td>null</td><td>null</td><td>null</td><td>&quot;01Jan2022-31Dec2022&quot;</td><td>&quot;not Available&quot;</td><td>&quot;199&quot;</td><td>&quot;5&quot;</td><td>null</td><td>null</td><td>&quot;01Jan2022-31Dec2022&quot;</td><td>&quot;As Expected&quot;</td><td>&quot;1&quot;</td><td>&hellip;</td><td>null</td><td>null</td><td>&quot;199&quot;</td><td>&quot;3&quot;</td><td>&quot;28&quot;</td><td>null</td><td>&quot;1&quot;</td><td>&quot;54&quot;</td><td>&quot;456&quot;</td><td>&quot;81&quot;</td><td>&quot;2024&quot;</td><td>&quot;7&quot;</td><td>&quot;Los Angeles&quot;</td><td>&quot;Los Angeles&quot;</td><td>&quot;(323) 361-2560&quot;</td><td>null</td><td>null</td><td>null</td><td>null</td><td>null</td><td>null</td><td>null</td><td>null</td><td>null</td><td>null</td><td>null</td><td>null</td><td>null</td><td>null</td><td>null</td><td>null</td><td>null</td><td>null</td><td>null</td><td>null</td><td>null</td><td>null</td></tr><tr><td>&quot;52323&quot;</td><td>&quot;18&quot;</td><td>&quot;Kaiser Foundation Hospital Med…</td><td>&quot;01Jan2019-31Dec2022&quot;</td><td>&quot;4&quot;</td><td>&quot;1&quot;</td><td>&quot;Dialysis Unit 4700 Sunset Blvd…</td><td>null</td><td>&quot;CA&quot;</td><td>&quot;90027&quot;</td><td>&quot;non-profit&quot;</td><td>&quot;yes&quot;</td><td>&quot;Kaiser Permanente&quot;</td><td>&quot;yes&quot;</td><td>&quot;30&quot;</td><td>&quot;yes&quot;</td><td>&quot;yes&quot;</td><td>&quot;yes&quot;</td><td>&quot;25JUL1977&quot;</td><td>&quot;01OCT2022-30SEP2023&quot;</td><td>&quot;01OCT2022-30SEP2023&quot;</td><td>&quot;01Jan2019-31Dec2022&quot;</td><td>&quot;As Expected&quot;</td><td>&quot;1&quot;</td><td>&quot;793&quot;</td><td>&quot;18.9&quot;</td><td>&quot;27.4&quot;</td><td>&quot;13.6&quot;</td><td>&quot;01Jan2022-31Dec2022&quot;</td><td>&quot;As Expected&quot;</td><td>&quot;1&quot;</td><td>&quot;183&quot;</td><td>&quot;161.6&quot;</td><td>&quot;79.3&quot;</td><td>&quot;01Jan2022-31Dec2022&quot;</td><td>&quot;As Expected&quot;</td><td>&quot;1&quot;</td><td>&hellip;</td><td>&quot;30&quot;</td><td>&quot;13&quot;</td><td>&quot;1&quot;</td><td>&quot;133&quot;</td><td>&quot;1213&quot;</td><td>&quot;18&quot;</td><td>&quot;259&quot;</td><td>&quot;0&quot;</td><td>null</td><td>null</td><td>&quot;2024&quot;</td><td>&quot;7&quot;</td><td>&quot;Los Angeles&quot;</td><td>&quot;Los Angeles&quot;</td><td>&quot;(323) 783-5580&quot;</td><td>null</td><td>null</td><td>null</td><td>null</td><td>null</td><td>null</td><td>null</td><td>null</td><td>null</td><td>null</td><td>null</td><td>null</td><td>null</td><td>null</td><td>null</td><td>null</td><td>null</td><td>null</td><td>null</td><td>null</td><td>null</td><td>null</td></tr><tr><td>&quot;52334&quot;</td><td>&quot;18&quot;</td><td>&quot;Arrowhead Regional Medical Cen…</td><td>&quot;01Jan2019-31Dec2022&quot;</td><td>&quot;4&quot;</td><td>&quot;1&quot;</td><td>&quot;400 N. Pepper Avenue&quot;</td><td>null</td><td>&quot;CA&quot;</td><td>&quot;92324&quot;</td><td>&quot;non-profit&quot;</td><td>&quot;no&quot;</td><td>&quot;Independent&quot;</td><td>&quot;no&quot;</td><td>&quot;8&quot;</td><td>&quot;yes&quot;</td><td>&quot;no&quot;</td><td>&quot;no&quot;</td><td>&quot;28APR2006&quot;</td><td>&quot;01OCT2022-30SEP2023&quot;</td><td>&quot;01OCT2022-30SEP2023&quot;</td><td>&quot;01Jan2019-31Dec2022&quot;</td><td>&quot;As Expected&quot;</td><td>&quot;1&quot;</td><td>&quot;282&quot;</td><td>&quot;12.2&quot;</td><td>&quot;23.1&quot;</td><td>&quot;6.2&quot;</td><td>&quot;01Jan2022-31Dec2022&quot;</td><td>&quot;As Expected&quot;</td><td>&quot;1&quot;</td><td>&quot;68&quot;</td><td>&quot;165.7&quot;</td><td>&quot;52.7&quot;</td><td>&quot;01Jan2022-31Dec2022&quot;</td><td>&quot;As Expected&quot;</td><td>&quot;1&quot;</td><td>&hellip;</td><td>&quot;16&quot;</td><td>&quot;9&quot;</td><td>&quot;1&quot;</td><td>&quot;105&quot;</td><td>&quot;1073&quot;</td><td>&quot;9&quot;</td><td>&quot;259&quot;</td><td>&quot;0&quot;</td><td>null</td><td>null</td><td>&quot;2024&quot;</td><td>&quot;7&quot;</td><td>&quot;Colton&quot;</td><td>&quot;San Bernardino&quot;</td><td>&quot;(909) 580-3911&quot;</td><td>null</td><td>null</td><td>null</td><td>null</td><td>null</td><td>null</td><td>null</td><td>null</td><td>null</td><td>null</td><td>null</td><td>null</td><td>null</td><td>null</td><td>null</td><td>null</td><td>null</td><td>null</td><td>null</td><td>null</td><td>null</td><td>null</td></tr></tbody></table></div>"
      ],
      "text/plain": [
       "shape: (5, 155)\n",
       "┌────────────┬─────────┬───────────┬───────────┬───┬───────────┬───────────┬───────────┬───────────┐\n",
       "│ provider_n ┆ network ┆ facility_ ┆ five_star ┆ … ┆ percentag ┆ hospitali ┆ patient_h ┆ readmissi │\n",
       "│ umber      ┆ ---     ┆ name      ┆ _date     ┆   ┆ e_of_pati ┆ zation_ra ┆ ospital_r ┆ on_rate_f │\n",
       "│ ---        ┆ str     ┆ ---       ┆ ---       ┆   ┆ ents_with ┆ te_facili ┆ eadmissio ┆ acility_  │\n",
       "│ str        ┆         ┆ str       ┆ str       ┆   ┆ _va…      ┆ ty_       ┆ n_c…      ┆ ---       │\n",
       "│            ┆         ┆           ┆           ┆   ┆ ---       ┆ ---       ┆ ---       ┆ str       │\n",
       "│            ┆         ┆           ┆           ┆   ┆ str       ┆ str       ┆ str       ┆           │\n",
       "╞════════════╪═════════╪═══════════╪═══════════╪═══╪═══════════╪═══════════╪═══════════╪═══════════╡\n",
       "│ 52305      ┆ 17      ┆ SANTA     ┆ 01Jan2019 ┆ … ┆ null      ┆ null      ┆ null      ┆ null      │\n",
       "│            ┆         ┆ CLARA     ┆ -31Dec202 ┆   ┆           ┆           ┆           ┆           │\n",
       "│            ┆         ┆ VALLEY    ┆ 2         ┆   ┆           ┆           ┆           ┆           │\n",
       "│            ┆         ┆ RENAL     ┆           ┆   ┆           ┆           ┆           ┆           │\n",
       "│            ┆         ┆ CARE …    ┆           ┆   ┆           ┆           ┆           ┆           │\n",
       "│ 52311      ┆ 18      ┆ St.       ┆ 01Jan2019 ┆ … ┆ null      ┆ null      ┆ null      ┆ null      │\n",
       "│            ┆         ┆ Joseph    ┆ -31Dec202 ┆   ┆           ┆           ┆           ┆           │\n",
       "│            ┆         ┆ Hospital  ┆ 2         ┆   ┆           ┆           ┆           ┆           │\n",
       "│            ┆         ┆ Renal     ┆           ┆   ┆           ┆           ┆           ┆           │\n",
       "│            ┆         ┆ Cent…     ┆           ┆   ┆           ┆           ┆           ┆           │\n",
       "│ 52321      ┆ 18      ┆ Childrens ┆ 01Jan2019 ┆ … ┆ null      ┆ null      ┆ null      ┆ null      │\n",
       "│            ┆         ┆ Hospital  ┆ -31Dec202 ┆   ┆           ┆           ┆           ┆           │\n",
       "│            ┆         ┆ of Los    ┆ 2         ┆   ┆           ┆           ┆           ┆           │\n",
       "│            ┆         ┆ Ange…     ┆           ┆   ┆           ┆           ┆           ┆           │\n",
       "│ 52323      ┆ 18      ┆ Kaiser    ┆ 01Jan2019 ┆ … ┆ null      ┆ null      ┆ null      ┆ null      │\n",
       "│            ┆         ┆ Foundatio ┆ -31Dec202 ┆   ┆           ┆           ┆           ┆           │\n",
       "│            ┆         ┆ n         ┆ 2         ┆   ┆           ┆           ┆           ┆           │\n",
       "│            ┆         ┆ Hospital  ┆           ┆   ┆           ┆           ┆           ┆           │\n",
       "│            ┆         ┆ Med…      ┆           ┆   ┆           ┆           ┆           ┆           │\n",
       "│ 52334      ┆ 18      ┆ Arrowhead ┆ 01Jan2019 ┆ … ┆ null      ┆ null      ┆ null      ┆ null      │\n",
       "│            ┆         ┆ Regional  ┆ -31Dec202 ┆   ┆           ┆           ┆           ┆           │\n",
       "│            ┆         ┆ Medical   ┆ 2         ┆   ┆           ┆           ┆           ┆           │\n",
       "│            ┆         ┆ Cen…      ┆           ┆   ┆           ┆           ┆           ┆           │\n",
       "└────────────┴─────────┴───────────┴───────────┴───┴───────────┴───────────┴───────────┴───────────┘"
      ]
     },
     "execution_count": 42,
     "metadata": {},
     "output_type": "execute_result"
    }
   ],
   "source": [
    "facility_df.head()"
   ]
  },
  {
   "cell_type": "code",
   "execution_count": 46,
   "metadata": {},
   "outputs": [
    {
     "name": "stdout",
     "output_type": "stream",
     "text": [
      "Unique counties in ballot_measures_df:\n",
      "shape: (58,)\n",
      "Series: 'county' [str]\n",
      "[\n",
      "\t\"alameda\"\n",
      "\t\"alpine\"\n",
      "\t\"amador\"\n",
      "\t\"butte\"\n",
      "\t\"calaveras\"\n",
      "\t…\n",
      "\t\"tulare\"\n",
      "\t\"tuolumne\"\n",
      "\t\"ventura\"\n",
      "\t\"yolo\"\n",
      "\t\"yuba\"\n",
      "]\n",
      "\n",
      "Unique counties in facility_df:\n",
      "shape: (48,)\n",
      "Series: 'county' [str]\n",
      "[\n",
      "\t\"\"\n",
      "\t\"alameda\"\n",
      "\t\"butte\"\n",
      "\t\"columbia\"\n",
      "\t\"colusa\"\n",
      "\t…\n",
      "\t\"tulare\"\n",
      "\t\"tuolumne\"\n",
      "\t\"ventura\"\n",
      "\t\"yolo\"\n",
      "\t\"yuba\"\n",
      "]\n",
      "\n",
      "Counties only in ballot_measures_df:\n",
      "{'siskiyou', 'amador', 'modoc', 'alpine', 'sierra', 'plumas', 'glenn', 'calaveras', 'trinity', 'mariposa', 'mono', 'lassen'}\n",
      "\n",
      "Counties only in facility_df:\n",
      "{'', 'columbia'}\n",
      "\n",
      "Counties with case differences:\n",
      "[]\n",
      "\n",
      "Counties only in ballot_measures_df:\n",
      "{'siskiyou', 'amador', 'modoc', 'alpine', 'sierra', 'plumas', 'glenn', 'calaveras', 'trinity', 'mariposa', 'mono', 'lassen'}\n"
     ]
    }
   ],
   "source": [
    "\n",
    "# It seems like dialysis facilites aren't located in more rural parts of california\n",
    "\n",
    "facility_df = (\n",
    "    facility_df\n",
    "    .with_columns(\n",
    "        pl.col(\"county\")\n",
    "        .str.to_lowercase()\n",
    "        .alias(\"county\")\n",
    "    )\n",
    ")\n",
    "\n",
    "ballot_measures_df = (\n",
    "    ballot_measures_df\n",
    "    .with_columns(\n",
    "        pl.col(\"county\")\n",
    "        .str.to_lowercase()\n",
    "        .alias(\"county\")\n",
    "    )\n",
    ")\n",
    "\n",
    "# Get unique counties from both dataframes\n",
    "ballot_counties = ballot_measures_df['county'].unique().sort()\n",
    "facility_counties = facility_df['county'].unique().sort()\n",
    "\n",
    "print(\"Unique counties in ballot_measures_df:\")\n",
    "print(ballot_counties)\n",
    "\n",
    "print(\"\\nUnique counties in facility_df:\")\n",
    "print(facility_counties)\n",
    "\n",
    "# Find counties that are in one dataframe but not the other\n",
    "counties_only_in_ballot = set(ballot_counties) - set(facility_counties)\n",
    "counties_only_in_facility = set(facility_counties) - set(ballot_counties)\n",
    "\n",
    "print(\"\\nCounties only in ballot_measures_df:\")\n",
    "print(counties_only_in_ballot)\n",
    "\n",
    "print(\"\\nCounties only in facility_df:\")\n",
    "print(counties_only_in_facility)\n",
    "\n",
    "# Check for case differences\n",
    "case_differences = [c for c in ballot_counties if c not in facility_counties and c.lower() in [fc.lower() for fc in facility_counties]]\n",
    "\n",
    "print(\"\\nCounties with case differences:\")\n",
    "print(case_differences)\n",
    "\n",
    "counties_only_in_ballot = set(ballot_counties) - set(facility_counties)\n",
    "\n",
    "print(\"\\nCounties only in ballot_measures_df:\")\n",
    "print(counties_only_in_ballot)\n",
    "\n"
   ]
  },
  {
   "cell_type": "code",
   "execution_count": null,
   "metadata": {},
   "outputs": [],
   "source": []
  }
 ],
 "metadata": {
  "kernelspec": {
   "display_name": "Python 3",
   "language": "python",
   "name": "python3"
  },
  "language_info": {
   "codemirror_mode": {
    "name": "ipython",
    "version": 3
   },
   "file_extension": ".py",
   "mimetype": "text/x-python",
   "name": "python",
   "nbconvert_exporter": "python",
   "pygments_lexer": "ipython3",
   "version": "3.11.10"
  }
 },
 "nbformat": 4,
 "nbformat_minor": 2
}
