{
 "cells": [
  {
   "cell_type": "code",
   "execution_count": 58,
   "metadata": {},
   "outputs": [],
   "source": [
    "import polars as pl"
   ]
  },
  {
   "cell_type": "code",
   "execution_count": 59,
   "metadata": {},
   "outputs": [],
   "source": [
    "cahps_df = pl.read_parquet('../../003_data/002_clean-data/national_cms_dialysis-facility_cahps-data.parquet')\n",
    "facility_df = pl.read_parquet('../../003_data/002_clean-data/national_cms_dialysis-facility_data.parquet')\n",
    "ballot_measures_df = pl.read_csv('../../003_data/001_raw-data/Ballot Measures Data Clean.csv')\n",
    "supp_facility_df = pl.read_parquet('../../003_data/001_raw-data/2013-2023_CHHS_dialysis-facility_data.parquet')\n"
   ]
  },
  {
   "cell_type": "code",
   "execution_count": 60,
   "metadata": {},
   "outputs": [
    {
     "data": {
      "text/html": [
       "<div><style>\n",
       ".dataframe > thead > tr,\n",
       ".dataframe > tbody > tr {\n",
       "  text-align: right;\n",
       "  white-space: pre-wrap;\n",
       "}\n",
       "</style>\n",
       "<small>shape: (5_045, 33)</small><table border=\"1\" class=\"dataframe\"><thead><tr><th>year</th><th>provider_number</th><th>network</th><th>facility_name</th><th>address_line_1</th><th>address_line_2</th><th>city</th><th>state</th><th>zip_code</th><th>county</th><th>profit_or_nonprofit</th><th>phone_number</th><th>chain_owned</th><th>chain_organization</th><th>ichcahps_date</th><th>ichcahps_data_availability_code</th><th>linearized_score_of_nephrologists_communication_and_caring</th><th>star_rating_of_nephrologists_communication_and_caring</th><th>linearized_score_of_quality_of_dialysis_center_care_and_operations</th><th>star_rating_of_quality_of_dialysis_center_care_and_operations</th><th>linearized_score_of_providing_information_to_patients</th><th>star_rating_of_providing_information_to_patients</th><th>linearized_score_of_rating_of_the_nephrologist</th><th>star_rating_of_the_nephrologist</th><th>linearized_score_of_rating_of_the_dialysis_center_staff</th><th>star_rating_of_the_dialysis_center_staff</th><th>linearized_score_of_rating_of_the_dialysis_facility</th><th>star_rating_of_the_dialysis_facility</th><th>total_number_of_completed_interviews_from_the_fall_and_spring_surveys</th><th>ich_cahps_survey_of_patients_experiences_star_rating</th><th>survey_response_rate</th><th>ichcahps_survey_response_rate</th><th>ich_cahps_quality_of_patient_care_star_rating</th></tr><tr><td>str</td><td>str</td><td>str</td><td>str</td><td>str</td><td>str</td><td>str</td><td>str</td><td>str</td><td>str</td><td>str</td><td>str</td><td>str</td><td>str</td><td>str</td><td>str</td><td>str</td><td>str</td><td>str</td><td>str</td><td>str</td><td>str</td><td>str</td><td>str</td><td>str</td><td>str</td><td>str</td><td>str</td><td>str</td><td>str</td><td>str</td><td>str</td><td>str</td></tr></thead><tbody><tr><td>&quot;2024&quot;</td><td>&quot;52305&quot;</td><td>&quot;17&quot;</td><td>&quot;SANTA CLARA VALLEY RENAL CARE …</td><td>&quot;2220 MOORPARK AVENUE&quot;</td><td>null</td><td>&quot;SAN JOSE&quot;</td><td>&quot;CA&quot;</td><td>&quot;95128&quot;</td><td>&quot;Santa Clara&quot;</td><td>&quot;non-profit&quot;</td><td>&quot;(408) 885-5730&quot;</td><td>&quot;no&quot;</td><td>&quot;Independent&quot;</td><td>&quot;21OCT2022-14JUL2023&quot;</td><td>&quot;1&quot;</td><td>&quot;85&quot;</td><td>&quot;4&quot;</td><td>&quot;85&quot;</td><td>&quot;5&quot;</td><td>&quot;81&quot;</td><td>&quot;4&quot;</td><td>&quot;88&quot;</td><td>&quot;5&quot;</td><td>&quot;88&quot;</td><td>&quot;4&quot;</td><td>&quot;89&quot;</td><td>&quot;3&quot;</td><td>&quot;47&quot;</td><td>&quot;4&quot;</td><td>&quot;19&quot;</td><td>null</td><td>null</td></tr><tr><td>&quot;2024&quot;</td><td>&quot;52311&quot;</td><td>&quot;18&quot;</td><td>&quot;St. Joseph Hospital Renal Cent…</td><td>&quot;Sr. Elizabeth Bldg. 1100 W. St…</td><td>null</td><td>&quot;Orange&quot;</td><td>&quot;CA&quot;</td><td>&quot;92868&quot;</td><td>&quot;Orange&quot;</td><td>&quot;non-profit&quot;</td><td>&quot;(714) 771-8037&quot;</td><td>&quot;no&quot;</td><td>&quot;Independent&quot;</td><td>&quot;21OCT2022-14JUL2023&quot;</td><td>&quot;101&quot;</td><td>null</td><td>null</td><td>null</td><td>null</td><td>null</td><td>null</td><td>null</td><td>null</td><td>null</td><td>null</td><td>null</td><td>null</td><td>null</td><td>null</td><td>null</td><td>null</td><td>null</td></tr><tr><td>&quot;2024&quot;</td><td>&quot;52321&quot;</td><td>&quot;18&quot;</td><td>&quot;Childrens Hospital of Los Ange…</td><td>&quot;Division of Nephrology (Dialys…</td><td>null</td><td>&quot;Los Angeles&quot;</td><td>&quot;CA&quot;</td><td>&quot;90027&quot;</td><td>&quot;Los Angeles&quot;</td><td>&quot;non-profit&quot;</td><td>&quot;(323) 361-2560&quot;</td><td>&quot;no&quot;</td><td>&quot;Independent&quot;</td><td>&quot;21OCT2022-14JUL2023&quot;</td><td>&quot;102&quot;</td><td>null</td><td>null</td><td>null</td><td>null</td><td>null</td><td>null</td><td>null</td><td>null</td><td>null</td><td>null</td><td>null</td><td>null</td><td>null</td><td>null</td><td>null</td><td>null</td><td>null</td></tr><tr><td>&quot;2024&quot;</td><td>&quot;52323&quot;</td><td>&quot;18&quot;</td><td>&quot;Kaiser Foundation Hospital Med…</td><td>&quot;Dialysis Unit 4700 Sunset Blvd…</td><td>null</td><td>&quot;Los Angeles&quot;</td><td>&quot;CA&quot;</td><td>&quot;90027&quot;</td><td>&quot;Los Angeles&quot;</td><td>&quot;non-profit&quot;</td><td>&quot;(323) 783-5580&quot;</td><td>&quot;yes&quot;</td><td>&quot;Kaiser Permanente&quot;</td><td>&quot;21OCT2022-14JUL2023&quot;</td><td>&quot;1&quot;</td><td>&quot;76&quot;</td><td>&quot;2&quot;</td><td>&quot;82&quot;</td><td>&quot;4&quot;</td><td>&quot;84&quot;</td><td>&quot;5&quot;</td><td>&quot;82&quot;</td><td>&quot;3&quot;</td><td>&quot;88&quot;</td><td>&quot;4&quot;</td><td>&quot;91&quot;</td><td>&quot;4&quot;</td><td>&quot;52&quot;</td><td>&quot;4&quot;</td><td>&quot;25&quot;</td><td>null</td><td>null</td></tr><tr><td>&quot;2024&quot;</td><td>&quot;52334&quot;</td><td>&quot;18&quot;</td><td>&quot;Arrowhead Regional Medical Cen…</td><td>&quot;400 N. Pepper Avenue&quot;</td><td>null</td><td>&quot;Colton&quot;</td><td>&quot;CA&quot;</td><td>&quot;92324&quot;</td><td>&quot;San Bernardino&quot;</td><td>&quot;non-profit&quot;</td><td>&quot;(909) 580-3911&quot;</td><td>&quot;no&quot;</td><td>&quot;Independent&quot;</td><td>&quot;21OCT2022-14JUL2023&quot;</td><td>&quot;101&quot;</td><td>null</td><td>null</td><td>null</td><td>null</td><td>null</td><td>null</td><td>null</td><td>null</td><td>null</td><td>null</td><td>null</td><td>null</td><td>null</td><td>null</td><td>null</td><td>null</td><td>null</td></tr><tr><td>&hellip;</td><td>&hellip;</td><td>&hellip;</td><td>&hellip;</td><td>&hellip;</td><td>&hellip;</td><td>&hellip;</td><td>&hellip;</td><td>&hellip;</td><td>&hellip;</td><td>&hellip;</td><td>&hellip;</td><td>&hellip;</td><td>&hellip;</td><td>&hellip;</td><td>&hellip;</td><td>&hellip;</td><td>&hellip;</td><td>&hellip;</td><td>&hellip;</td><td>&hellip;</td><td>&hellip;</td><td>&hellip;</td><td>&hellip;</td><td>&hellip;</td><td>&hellip;</td><td>&hellip;</td><td>&hellip;</td><td>&hellip;</td><td>&hellip;</td><td>&hellip;</td><td>&hellip;</td><td>&hellip;</td></tr><tr><td>&quot;2018&quot;</td><td>&quot;552833&quot;</td><td>&quot;18&quot;</td><td>&quot;U.S. RENAL CARE SOUTH BAY DIAL…</td><td>&quot;4450 182ND STREET&quot;</td><td>&quot;&quot;</td><td>&quot;REDONDO BEACH&quot;</td><td>&quot;CA&quot;</td><td>&quot;90278&quot;</td><td>&quot;LOS ANGELES&quot;</td><td>&quot;profit&quot;</td><td>&quot;(310) 542-8032&quot;</td><td>&quot;yes&quot;</td><td>&quot;US RENAL CARE, INC.&quot;</td><td>&quot;04/21/2017 - 01/17/2018&quot;</td><td>&quot;258&quot;</td><td>&quot;not Available&quot;</td><td>&quot;not Available&quot;</td><td>&quot;not Available&quot;</td><td>&quot;not Available&quot;</td><td>&quot;not Available&quot;</td><td>&quot;not Available&quot;</td><td>&quot;not Available&quot;</td><td>&quot;not Available&quot;</td><td>&quot;not Available&quot;</td><td>&quot;not Available&quot;</td><td>&quot;not Available&quot;</td><td>&quot;not Available&quot;</td><td>&quot;not Available&quot;</td><td>null</td><td>null</td><td>null</td><td>&quot;not Available&quot;</td></tr><tr><td>&quot;2018&quot;</td><td>&quot;552834&quot;</td><td>&quot;18&quot;</td><td>&quot;DAVITA-VISTA DEL SOL DIALYSIS&quot;</td><td>&quot;15002 AMARGOSA ROAD&quot;</td><td>&quot;&quot;</td><td>&quot;VICTORVILLE&quot;</td><td>&quot;CA&quot;</td><td>&quot;92394&quot;</td><td>&quot;SAN BERNARDINO&quot;</td><td>&quot;profit&quot;</td><td>&quot;(442) 255-4023&quot;</td><td>&quot;yes&quot;</td><td>&quot;DAVITA&quot;</td><td>&quot;04/21/2017 - 01/17/2018&quot;</td><td>&quot;258&quot;</td><td>&quot;not Available&quot;</td><td>&quot;not Available&quot;</td><td>&quot;not Available&quot;</td><td>&quot;not Available&quot;</td><td>&quot;not Available&quot;</td><td>&quot;not Available&quot;</td><td>&quot;not Available&quot;</td><td>&quot;not Available&quot;</td><td>&quot;not Available&quot;</td><td>&quot;not Available&quot;</td><td>&quot;not Available&quot;</td><td>&quot;not Available&quot;</td><td>&quot;not Available&quot;</td><td>null</td><td>null</td><td>null</td><td>&quot;not Available&quot;</td></tr><tr><td>&quot;2018&quot;</td><td>&quot;552836&quot;</td><td>&quot;18&quot;</td><td>&quot;FMC-WEST GLENDALE&quot;</td><td>&quot;623 SOUTH CENTRAL AVENUE&quot;</td><td>&quot;&quot;</td><td>&quot;GLENDALE&quot;</td><td>&quot;CA&quot;</td><td>&quot;91204&quot;</td><td>&quot;LOS ANGELES&quot;</td><td>&quot;profit&quot;</td><td>&quot;(818) 240-1065&quot;</td><td>&quot;yes&quot;</td><td>&quot;FRESENIUS MEDICAL CARE&quot;</td><td>&quot;04/21/2017 - 01/17/2018&quot;</td><td>&quot;258&quot;</td><td>&quot;not Available&quot;</td><td>&quot;not Available&quot;</td><td>&quot;not Available&quot;</td><td>&quot;not Available&quot;</td><td>&quot;not Available&quot;</td><td>&quot;not Available&quot;</td><td>&quot;not Available&quot;</td><td>&quot;not Available&quot;</td><td>&quot;not Available&quot;</td><td>&quot;not Available&quot;</td><td>&quot;not Available&quot;</td><td>&quot;not Available&quot;</td><td>&quot;not Available&quot;</td><td>null</td><td>null</td><td>null</td><td>&quot;not Available&quot;</td></tr><tr><td>&quot;2018&quot;</td><td>&quot;552837&quot;</td><td>&quot;18&quot;</td><td>&quot;POMONA DIALYSIS CENTER, INC.&quot;</td><td>&quot;255 E. BONITA AVENUE, BUILDING…</td><td>&quot;&quot;</td><td>&quot;POMONA&quot;</td><td>&quot;CA&quot;</td><td>&quot;91767&quot;</td><td>&quot;LOS ANGELES&quot;</td><td>&quot;profit&quot;</td><td>&quot;(909) 784-2949&quot;</td><td>&quot;no&quot;</td><td>&quot;INDEPENDENT&quot;</td><td>&quot;04/21/2017 - 01/17/2018&quot;</td><td>&quot;258&quot;</td><td>&quot;not Available&quot;</td><td>&quot;not Available&quot;</td><td>&quot;not Available&quot;</td><td>&quot;not Available&quot;</td><td>&quot;not Available&quot;</td><td>&quot;not Available&quot;</td><td>&quot;not Available&quot;</td><td>&quot;not Available&quot;</td><td>&quot;not Available&quot;</td><td>&quot;not Available&quot;</td><td>&quot;not Available&quot;</td><td>&quot;not Available&quot;</td><td>&quot;not Available&quot;</td><td>null</td><td>null</td><td>null</td><td>&quot;not Available&quot;</td></tr><tr><td>&quot;2018&quot;</td><td>&quot;552838&quot;</td><td>&quot;18&quot;</td><td>&quot;DAVITA - REDHAWK DIALYSIS&quot;</td><td>&quot;44605 AVENIDA DE MISSIONES, SU…</td><td>&quot;&quot;</td><td>&quot;TEMECULA&quot;</td><td>&quot;CA&quot;</td><td>&quot;92592&quot;</td><td>&quot;RIVERSIDE&quot;</td><td>&quot;profit&quot;</td><td>&quot;(951) 302-3675&quot;</td><td>&quot;yes&quot;</td><td>&quot;DAVITA&quot;</td><td>&quot;04/21/2017 - 01/17/2018&quot;</td><td>&quot;258&quot;</td><td>&quot;not Available&quot;</td><td>&quot;not Available&quot;</td><td>&quot;not Available&quot;</td><td>&quot;not Available&quot;</td><td>&quot;not Available&quot;</td><td>&quot;not Available&quot;</td><td>&quot;not Available&quot;</td><td>&quot;not Available&quot;</td><td>&quot;not Available&quot;</td><td>&quot;not Available&quot;</td><td>&quot;not Available&quot;</td><td>&quot;not Available&quot;</td><td>&quot;not Available&quot;</td><td>null</td><td>null</td><td>null</td><td>&quot;not Available&quot;</td></tr></tbody></table></div>"
      ],
      "text/plain": [
       "shape: (5_045, 33)\n",
       "┌──────┬────────────┬─────────┬────────────┬───┬────────────┬────────────┬────────────┬────────────┐\n",
       "│ year ┆ provider_n ┆ network ┆ facility_n ┆ … ┆ ich_cahps_ ┆ survey_res ┆ ichcahps_s ┆ ich_cahps_ │\n",
       "│ ---  ┆ umber      ┆ ---     ┆ ame        ┆   ┆ survey_of_ ┆ ponse_rate ┆ urvey_resp ┆ quality_of │\n",
       "│ str  ┆ ---        ┆ str     ┆ ---        ┆   ┆ patients_e ┆ ---        ┆ onse_rate  ┆ _patient_c │\n",
       "│      ┆ str        ┆         ┆ str        ┆   ┆ …          ┆ str        ┆ ---        ┆ …          │\n",
       "│      ┆            ┆         ┆            ┆   ┆ ---        ┆            ┆ str        ┆ ---        │\n",
       "│      ┆            ┆         ┆            ┆   ┆ str        ┆            ┆            ┆ str        │\n",
       "╞══════╪════════════╪═════════╪════════════╪═══╪════════════╪════════════╪════════════╪════════════╡\n",
       "│ 2024 ┆ 52305      ┆ 17      ┆ SANTA      ┆ … ┆ 4          ┆ 19         ┆ null       ┆ null       │\n",
       "│      ┆            ┆         ┆ CLARA      ┆   ┆            ┆            ┆            ┆            │\n",
       "│      ┆            ┆         ┆ VALLEY     ┆   ┆            ┆            ┆            ┆            │\n",
       "│      ┆            ┆         ┆ RENAL CARE ┆   ┆            ┆            ┆            ┆            │\n",
       "│      ┆            ┆         ┆ …          ┆   ┆            ┆            ┆            ┆            │\n",
       "│ 2024 ┆ 52311      ┆ 18      ┆ St. Joseph ┆ … ┆ null       ┆ null       ┆ null       ┆ null       │\n",
       "│      ┆            ┆         ┆ Hospital   ┆   ┆            ┆            ┆            ┆            │\n",
       "│      ┆            ┆         ┆ Renal      ┆   ┆            ┆            ┆            ┆            │\n",
       "│      ┆            ┆         ┆ Cent…      ┆   ┆            ┆            ┆            ┆            │\n",
       "│ 2024 ┆ 52321      ┆ 18      ┆ Childrens  ┆ … ┆ null       ┆ null       ┆ null       ┆ null       │\n",
       "│      ┆            ┆         ┆ Hospital   ┆   ┆            ┆            ┆            ┆            │\n",
       "│      ┆            ┆         ┆ of Los     ┆   ┆            ┆            ┆            ┆            │\n",
       "│      ┆            ┆         ┆ Ange…      ┆   ┆            ┆            ┆            ┆            │\n",
       "│ 2024 ┆ 52323      ┆ 18      ┆ Kaiser     ┆ … ┆ 4          ┆ 25         ┆ null       ┆ null       │\n",
       "│      ┆            ┆         ┆ Foundation ┆   ┆            ┆            ┆            ┆            │\n",
       "│      ┆            ┆         ┆ Hospital   ┆   ┆            ┆            ┆            ┆            │\n",
       "│      ┆            ┆         ┆ Med…       ┆   ┆            ┆            ┆            ┆            │\n",
       "│ 2024 ┆ 52334      ┆ 18      ┆ Arrowhead  ┆ … ┆ null       ┆ null       ┆ null       ┆ null       │\n",
       "│      ┆            ┆         ┆ Regional   ┆   ┆            ┆            ┆            ┆            │\n",
       "│      ┆            ┆         ┆ Medical    ┆   ┆            ┆            ┆            ┆            │\n",
       "│      ┆            ┆         ┆ Cen…       ┆   ┆            ┆            ┆            ┆            │\n",
       "│ …    ┆ …          ┆ …       ┆ …          ┆ … ┆ …          ┆ …          ┆ …          ┆ …          │\n",
       "│ 2018 ┆ 552833     ┆ 18      ┆ U.S. RENAL ┆ … ┆ null       ┆ null       ┆ null       ┆ not        │\n",
       "│      ┆            ┆         ┆ CARE SOUTH ┆   ┆            ┆            ┆            ┆ Available  │\n",
       "│      ┆            ┆         ┆ BAY DIAL…  ┆   ┆            ┆            ┆            ┆            │\n",
       "│ 2018 ┆ 552834     ┆ 18      ┆ DAVITA-VIS ┆ … ┆ null       ┆ null       ┆ null       ┆ not        │\n",
       "│      ┆            ┆         ┆ TA DEL SOL ┆   ┆            ┆            ┆            ┆ Available  │\n",
       "│      ┆            ┆         ┆ DIALYSIS   ┆   ┆            ┆            ┆            ┆            │\n",
       "│ 2018 ┆ 552836     ┆ 18      ┆ FMC-WEST   ┆ … ┆ null       ┆ null       ┆ null       ┆ not        │\n",
       "│      ┆            ┆         ┆ GLENDALE   ┆   ┆            ┆            ┆            ┆ Available  │\n",
       "│ 2018 ┆ 552837     ┆ 18      ┆ POMONA     ┆ … ┆ null       ┆ null       ┆ null       ┆ not        │\n",
       "│      ┆            ┆         ┆ DIALYSIS   ┆   ┆            ┆            ┆            ┆ Available  │\n",
       "│      ┆            ┆         ┆ CENTER,    ┆   ┆            ┆            ┆            ┆            │\n",
       "│      ┆            ┆         ┆ INC.       ┆   ┆            ┆            ┆            ┆            │\n",
       "│ 2018 ┆ 552838     ┆ 18      ┆ DAVITA -   ┆ … ┆ null       ┆ null       ┆ null       ┆ not        │\n",
       "│      ┆            ┆         ┆ REDHAWK    ┆   ┆            ┆            ┆            ┆ Available  │\n",
       "│      ┆            ┆         ┆ DIALYSIS   ┆   ┆            ┆            ┆            ┆            │\n",
       "└──────┴────────────┴─────────┴────────────┴───┴────────────┴────────────┴────────────┴────────────┘"
      ]
     },
     "execution_count": 60,
     "metadata": {},
     "output_type": "execute_result"
    }
   ],
   "source": [
    "cahps_df"
   ]
  },
  {
   "cell_type": "code",
   "execution_count": 61,
   "metadata": {},
   "outputs": [],
   "source": [
    "ballot_measures_df = ballot_measures_df.rename({\"county name\": \"county\"})\n",
    "\n",
    "ballot_measures_df = (\n",
    "    ballot_measures_df\n",
    "    .unpivot(\n",
    "        index = ['county'],\n",
    "        on = ['yes count 2022', 'no count 2022' ,'yes count 2020', 'no count 2020', 'yes count 2018', 'no count 2018'],\n",
    "        value_name = \"vote_count\"\n",
    "    )\n",
    "    .with_columns(\n",
    "    pl.col(\"variable\")\n",
    "    .str.split_exact(\" count \", 1)\n",
    "    .struct.rename_fields([\"vote_type\", \"year\"])\n",
    "    .alias(\"fields\")\n",
    "    ).unnest(\"fields\")\n",
    "    .drop(\"variable\")\n",
    ")\n",
    "\n"
   ]
  },
  {
   "cell_type": "code",
   "execution_count": 62,
   "metadata": {},
   "outputs": [
    {
     "data": {
      "text/html": [
       "<div><style>\n",
       ".dataframe > thead > tr,\n",
       ".dataframe > tbody > tr {\n",
       "  text-align: right;\n",
       "  white-space: pre-wrap;\n",
       "}\n",
       "</style>\n",
       "<small>shape: (348, 4)</small><table border=\"1\" class=\"dataframe\"><thead><tr><th>county</th><th>vote_count</th><th>vote_type</th><th>year</th></tr><tr><td>str</td><td>f64</td><td>str</td><td>date</td></tr></thead><tbody><tr><td>&quot;Alameda&quot;</td><td>182697.0</td><td>&quot;yes&quot;</td><td>2022-01-01</td></tr><tr><td>&quot;Alpine&quot;</td><td>272.0</td><td>&quot;yes&quot;</td><td>2022-01-01</td></tr><tr><td>&quot;Amador&quot;</td><td>3590.0</td><td>&quot;yes&quot;</td><td>2022-01-01</td></tr><tr><td>&quot;Butte&quot;</td><td>16478.0</td><td>&quot;yes&quot;</td><td>2022-01-01</td></tr><tr><td>&quot;Calaveras&quot;</td><td>4280.0</td><td>&quot;yes&quot;</td><td>2022-01-01</td></tr><tr><td>&hellip;</td><td>&hellip;</td><td>&hellip;</td><td>&hellip;</td></tr><tr><td>&quot;Tulare&quot;</td><td>69542.0</td><td>&quot;no&quot;</td><td>2018-01-01</td></tr><tr><td>&quot;Tuolumne&quot;</td><td>15546.0</td><td>&quot;no&quot;</td><td>2018-01-01</td></tr><tr><td>&quot;Ventura&quot;</td><td>187357.0</td><td>&quot;no&quot;</td><td>2018-01-01</td></tr><tr><td>&quot;Yolo&quot;</td><td>41882.0</td><td>&quot;no&quot;</td><td>2018-01-01</td></tr><tr><td>&quot;Yuba&quot;</td><td>12845.0</td><td>&quot;no&quot;</td><td>2018-01-01</td></tr></tbody></table></div>"
      ],
      "text/plain": [
       "shape: (348, 4)\n",
       "┌───────────┬────────────┬───────────┬────────────┐\n",
       "│ county    ┆ vote_count ┆ vote_type ┆ year       │\n",
       "│ ---       ┆ ---        ┆ ---       ┆ ---        │\n",
       "│ str       ┆ f64        ┆ str       ┆ date       │\n",
       "╞═══════════╪════════════╪═══════════╪════════════╡\n",
       "│ Alameda   ┆ 182697.0   ┆ yes       ┆ 2022-01-01 │\n",
       "│ Alpine    ┆ 272.0      ┆ yes       ┆ 2022-01-01 │\n",
       "│ Amador    ┆ 3590.0     ┆ yes       ┆ 2022-01-01 │\n",
       "│ Butte     ┆ 16478.0    ┆ yes       ┆ 2022-01-01 │\n",
       "│ Calaveras ┆ 4280.0     ┆ yes       ┆ 2022-01-01 │\n",
       "│ …         ┆ …          ┆ …         ┆ …          │\n",
       "│ Tulare    ┆ 69542.0    ┆ no        ┆ 2018-01-01 │\n",
       "│ Tuolumne  ┆ 15546.0    ┆ no        ┆ 2018-01-01 │\n",
       "│ Ventura   ┆ 187357.0   ┆ no        ┆ 2018-01-01 │\n",
       "│ Yolo      ┆ 41882.0    ┆ no        ┆ 2018-01-01 │\n",
       "│ Yuba      ┆ 12845.0    ┆ no        ┆ 2018-01-01 │\n",
       "└───────────┴────────────┴───────────┴────────────┘"
      ]
     },
     "execution_count": 62,
     "metadata": {},
     "output_type": "execute_result"
    }
   ],
   "source": [
    "ballot_measures_df = (\n",
    "    ballot_measures_df\n",
    "    .with_columns(\n",
    "        pl.col(\"year\")\n",
    "        .str.to_date(\"%Y\")\n",
    "    )\n",
    ")\n",
    "\n",
    "ballot_measures_df"
   ]
  },
  {
   "cell_type": "code",
   "execution_count": 63,
   "metadata": {},
   "outputs": [
    {
     "data": {
      "text/html": [
       "<div><style>\n",
       ".dataframe > thead > tr,\n",
       ".dataframe > tbody > tr {\n",
       "  text-align: right;\n",
       "  white-space: pre-wrap;\n",
       "}\n",
       "</style>\n",
       "<small>shape: (5, 155)</small><table border=\"1\" class=\"dataframe\"><thead><tr><th>provider_number</th><th>network</th><th>facility_name</th><th>five_star_date</th><th>five_star</th><th>five_star_data_availability_code</th><th>address_line_1</th><th>address_line_2</th><th>state</th><th>zip_code</th><th>profit_or_nonprofit</th><th>chain_owned</th><th>chain_organization</th><th>late_shift</th><th>_of_dialysis_stations</th><th>offers_incenter_hemodialysis</th><th>offers_peritoneal_dialysis</th><th>offers_home_hemodialysis_training</th><th>certification_date</th><th>claims_date</th><th>eqrs_date</th><th>smr_date</th><th>patient_survival_category_text</th><th>patient_survival_data_availability_code</th><th>number_of_patients_included_in_survival_summary</th><th>mortality_rate_facility</th><th>mortality_rate_upper_confidence_limit_975</th><th>mortality_rate_lower_confidence_limit_25</th><th>shr_date</th><th>patient_hospitalization_category_text</th><th>patient_hospitalization_data_availability_code</th><th>number_of_patients_included_in_hospitalization_summary</th><th>hospitalization_rate_upper_confidence_limit_975</th><th>hospitalization_rate_lower_confidence_limit_25</th><th>srr_date</th><th>patient_hospital_readmission_category</th><th>patient_hospital_readmission_data_availability_code</th><th>&hellip;</th><th>percentage_of_adult_patients_with_serum_phosphorus_between_5670_mgdl</th><th>percentage_of_adult_patients_with_serum_phosphorus_greater_than_70_mgdl</th><th>long_term_catheter_data_availability_code</th><th>number_of_patients_in_long_term_catheter_summary</th><th>number_of_patient_months_in_long_term_catheter_summary</th><th>percentage_of_adult_patients_with_long_term_catheter_in_use</th><th>npcr_data_availability_code</th><th>number_of_patients_in_npcr_summary</th><th>number_of_patientmonths_in_npcr_summary</th><th>percentage_of_pediatric_hd_patients_with_npcr</th><th>year</th><th>month</th><th>city</th><th>county</th><th>phone_number</th><th>certification_or_recertification_date</th><th>crownweb_date</th><th>serum_phosphorus_data_availability_code_</th><th>dateswr</th><th>offers_incenter_peritoneal_dialysis</th><th>rate_of_hospital_readmission_category_text</th><th>percentage_of_medicare_patients_with_hgb_10_gdl</th><th>number_of_patients_included_in_transfusion_summary</th><th>standard_infection_ratio_</th><th>percentage_of_adult_hd_patients_with_ktv_12</th><th>percentage_of_adult_pd_patients_with_ktv17</th><th>percentage_of_pediatric_hd_patents_with_ktv12</th><th>percentage_of_pediatric_pd_patents_with_ktv18</th><th>number_of_adult_patients_included_in_arterial_venous_fistula_and_catheter_summaries</th><th>number_of_adult_patientmonths_included_in_arterial_venous_fistula_and_catheter_summaries</th><th>arteriovenous_fistulae_in_use_data_availability_code</th><th>percentage_of_patients_with_arteriovenous_fistulae_in_use</th><th>vascular_catheter_data_availability_code</th><th>percentage_of_patients_with_vascular_catheter_in_use_for_90_days_or_longer</th><th>hospitalization_rate_facility_</th><th>patient_hospital_readmission_category_text</th><th>readmission_rate_facility_</th></tr><tr><td>str</td><td>str</td><td>str</td><td>str</td><td>str</td><td>str</td><td>str</td><td>str</td><td>str</td><td>str</td><td>str</td><td>str</td><td>str</td><td>str</td><td>str</td><td>str</td><td>str</td><td>str</td><td>str</td><td>str</td><td>str</td><td>str</td><td>str</td><td>str</td><td>str</td><td>str</td><td>str</td><td>str</td><td>str</td><td>str</td><td>str</td><td>str</td><td>str</td><td>str</td><td>str</td><td>str</td><td>str</td><td>&hellip;</td><td>str</td><td>str</td><td>str</td><td>str</td><td>str</td><td>str</td><td>str</td><td>str</td><td>str</td><td>str</td><td>str</td><td>str</td><td>str</td><td>str</td><td>str</td><td>str</td><td>str</td><td>str</td><td>str</td><td>str</td><td>str</td><td>str</td><td>str</td><td>str</td><td>str</td><td>str</td><td>str</td><td>str</td><td>str</td><td>str</td><td>str</td><td>str</td><td>str</td><td>str</td><td>str</td><td>str</td><td>str</td></tr></thead><tbody><tr><td>&quot;52305&quot;</td><td>&quot;17&quot;</td><td>&quot;SANTA CLARA VALLEY RENAL CARE …</td><td>&quot;01Jan2019-31Dec2022&quot;</td><td>&quot;3&quot;</td><td>&quot;1&quot;</td><td>&quot;2220 MOORPARK AVENUE&quot;</td><td>null</td><td>&quot;CA&quot;</td><td>&quot;95128&quot;</td><td>&quot;non-profit&quot;</td><td>&quot;no&quot;</td><td>&quot;Independent&quot;</td><td>&quot;yes&quot;</td><td>&quot;25&quot;</td><td>&quot;yes&quot;</td><td>&quot;yes&quot;</td><td>&quot;no&quot;</td><td>&quot;22AUG1977&quot;</td><td>&quot;01OCT2022-30SEP2023&quot;</td><td>&quot;01OCT2022-30SEP2023&quot;</td><td>&quot;01Jan2019-31Dec2022&quot;</td><td>&quot;As Expected&quot;</td><td>&quot;1&quot;</td><td>&quot;529&quot;</td><td>&quot;19.8&quot;</td><td>&quot;30.5&quot;</td><td>&quot;13.3&quot;</td><td>&quot;01Jan2022-31Dec2022&quot;</td><td>&quot;As Expected&quot;</td><td>&quot;1&quot;</td><td>&quot;117&quot;</td><td>&quot;205.7&quot;</td><td>&quot;97.9&quot;</td><td>&quot;01Jan2022-31Dec2022&quot;</td><td>&quot;As Expected&quot;</td><td>&quot;1&quot;</td><td>&hellip;</td><td>&quot;31&quot;</td><td>&quot;11&quot;</td><td>&quot;1&quot;</td><td>&quot;192&quot;</td><td>&quot;1771&quot;</td><td>&quot;22&quot;</td><td>&quot;259&quot;</td><td>&quot;0&quot;</td><td>null</td><td>null</td><td>&quot;2024&quot;</td><td>&quot;7&quot;</td><td>&quot;SAN JOSE&quot;</td><td>&quot;Santa Clara&quot;</td><td>&quot;(408) 885-5730&quot;</td><td>null</td><td>null</td><td>null</td><td>null</td><td>null</td><td>null</td><td>null</td><td>null</td><td>null</td><td>null</td><td>null</td><td>null</td><td>null</td><td>null</td><td>null</td><td>null</td><td>null</td><td>null</td><td>null</td><td>null</td><td>null</td><td>null</td></tr><tr><td>&quot;52311&quot;</td><td>&quot;18&quot;</td><td>&quot;St. Joseph Hospital Renal Cent…</td><td>&quot;01Jan2019-31Dec2022&quot;</td><td>&quot;3&quot;</td><td>&quot;1&quot;</td><td>&quot;Sr. Elizabeth Bldg. 1100 W. St…</td><td>null</td><td>&quot;CA&quot;</td><td>&quot;92868&quot;</td><td>&quot;non-profit&quot;</td><td>&quot;no&quot;</td><td>&quot;Independent&quot;</td><td>&quot;yes&quot;</td><td>&quot;39&quot;</td><td>&quot;yes&quot;</td><td>&quot;yes&quot;</td><td>&quot;yes&quot;</td><td>&quot;15AUG1977&quot;</td><td>&quot;01OCT2022-30SEP2023&quot;</td><td>&quot;01OCT2022-30SEP2023&quot;</td><td>&quot;01Jan2019-31Dec2022&quot;</td><td>&quot;As Expected&quot;</td><td>&quot;1&quot;</td><td>&quot;533&quot;</td><td>&quot;22.9&quot;</td><td>&quot;33.7&quot;</td><td>&quot;16.1&quot;</td><td>&quot;01Jan2022-31Dec2022&quot;</td><td>&quot;Better than Expected&quot;</td><td>&quot;1&quot;</td><td>&quot;111&quot;</td><td>&quot;129.0&quot;</td><td>&quot;49.7&quot;</td><td>&quot;01Jan2022-31Dec2022&quot;</td><td>&quot;As Expected&quot;</td><td>&quot;1&quot;</td><td>&hellip;</td><td>&quot;27&quot;</td><td>&quot;15&quot;</td><td>&quot;1&quot;</td><td>&quot;161&quot;</td><td>&quot;1437&quot;</td><td>&quot;14&quot;</td><td>&quot;1&quot;</td><td>&quot;14&quot;</td><td>&quot;78&quot;</td><td>&quot;97&quot;</td><td>&quot;2024&quot;</td><td>&quot;7&quot;</td><td>&quot;Orange&quot;</td><td>&quot;Orange&quot;</td><td>&quot;(714) 771-8037&quot;</td><td>null</td><td>null</td><td>null</td><td>null</td><td>null</td><td>null</td><td>null</td><td>null</td><td>null</td><td>null</td><td>null</td><td>null</td><td>null</td><td>null</td><td>null</td><td>null</td><td>null</td><td>null</td><td>null</td><td>null</td><td>null</td><td>null</td></tr><tr><td>&quot;52321&quot;</td><td>&quot;18&quot;</td><td>&quot;Childrens Hospital of Los Ange…</td><td>&quot;01Jan2019-31Dec2022&quot;</td><td>null</td><td>&quot;260&quot;</td><td>&quot;Division of Nephrology (Dialys…</td><td>null</td><td>&quot;CA&quot;</td><td>&quot;90027&quot;</td><td>&quot;non-profit&quot;</td><td>&quot;no&quot;</td><td>&quot;Independent&quot;</td><td>&quot;no&quot;</td><td>&quot;10&quot;</td><td>&quot;yes&quot;</td><td>&quot;yes&quot;</td><td>&quot;yes&quot;</td><td>&quot;28JUL1977&quot;</td><td>&quot;01OCT2022-30SEP2023&quot;</td><td>&quot;01OCT2022-30SEP2023&quot;</td><td>&quot;01Jan2019-31Dec2022&quot;</td><td>&quot;not Available&quot;</td><td>&quot;199&quot;</td><td>&quot;54&quot;</td><td>null</td><td>null</td><td>null</td><td>&quot;01Jan2022-31Dec2022&quot;</td><td>&quot;not Available&quot;</td><td>&quot;199&quot;</td><td>&quot;5&quot;</td><td>null</td><td>null</td><td>&quot;01Jan2022-31Dec2022&quot;</td><td>&quot;As Expected&quot;</td><td>&quot;1&quot;</td><td>&hellip;</td><td>null</td><td>null</td><td>&quot;199&quot;</td><td>&quot;3&quot;</td><td>&quot;28&quot;</td><td>null</td><td>&quot;1&quot;</td><td>&quot;54&quot;</td><td>&quot;456&quot;</td><td>&quot;81&quot;</td><td>&quot;2024&quot;</td><td>&quot;7&quot;</td><td>&quot;Los Angeles&quot;</td><td>&quot;Los Angeles&quot;</td><td>&quot;(323) 361-2560&quot;</td><td>null</td><td>null</td><td>null</td><td>null</td><td>null</td><td>null</td><td>null</td><td>null</td><td>null</td><td>null</td><td>null</td><td>null</td><td>null</td><td>null</td><td>null</td><td>null</td><td>null</td><td>null</td><td>null</td><td>null</td><td>null</td><td>null</td></tr><tr><td>&quot;52323&quot;</td><td>&quot;18&quot;</td><td>&quot;Kaiser Foundation Hospital Med…</td><td>&quot;01Jan2019-31Dec2022&quot;</td><td>&quot;4&quot;</td><td>&quot;1&quot;</td><td>&quot;Dialysis Unit 4700 Sunset Blvd…</td><td>null</td><td>&quot;CA&quot;</td><td>&quot;90027&quot;</td><td>&quot;non-profit&quot;</td><td>&quot;yes&quot;</td><td>&quot;Kaiser Permanente&quot;</td><td>&quot;yes&quot;</td><td>&quot;30&quot;</td><td>&quot;yes&quot;</td><td>&quot;yes&quot;</td><td>&quot;yes&quot;</td><td>&quot;25JUL1977&quot;</td><td>&quot;01OCT2022-30SEP2023&quot;</td><td>&quot;01OCT2022-30SEP2023&quot;</td><td>&quot;01Jan2019-31Dec2022&quot;</td><td>&quot;As Expected&quot;</td><td>&quot;1&quot;</td><td>&quot;793&quot;</td><td>&quot;18.9&quot;</td><td>&quot;27.4&quot;</td><td>&quot;13.6&quot;</td><td>&quot;01Jan2022-31Dec2022&quot;</td><td>&quot;As Expected&quot;</td><td>&quot;1&quot;</td><td>&quot;183&quot;</td><td>&quot;161.6&quot;</td><td>&quot;79.3&quot;</td><td>&quot;01Jan2022-31Dec2022&quot;</td><td>&quot;As Expected&quot;</td><td>&quot;1&quot;</td><td>&hellip;</td><td>&quot;30&quot;</td><td>&quot;13&quot;</td><td>&quot;1&quot;</td><td>&quot;133&quot;</td><td>&quot;1213&quot;</td><td>&quot;18&quot;</td><td>&quot;259&quot;</td><td>&quot;0&quot;</td><td>null</td><td>null</td><td>&quot;2024&quot;</td><td>&quot;7&quot;</td><td>&quot;Los Angeles&quot;</td><td>&quot;Los Angeles&quot;</td><td>&quot;(323) 783-5580&quot;</td><td>null</td><td>null</td><td>null</td><td>null</td><td>null</td><td>null</td><td>null</td><td>null</td><td>null</td><td>null</td><td>null</td><td>null</td><td>null</td><td>null</td><td>null</td><td>null</td><td>null</td><td>null</td><td>null</td><td>null</td><td>null</td><td>null</td></tr><tr><td>&quot;52334&quot;</td><td>&quot;18&quot;</td><td>&quot;Arrowhead Regional Medical Cen…</td><td>&quot;01Jan2019-31Dec2022&quot;</td><td>&quot;4&quot;</td><td>&quot;1&quot;</td><td>&quot;400 N. Pepper Avenue&quot;</td><td>null</td><td>&quot;CA&quot;</td><td>&quot;92324&quot;</td><td>&quot;non-profit&quot;</td><td>&quot;no&quot;</td><td>&quot;Independent&quot;</td><td>&quot;no&quot;</td><td>&quot;8&quot;</td><td>&quot;yes&quot;</td><td>&quot;no&quot;</td><td>&quot;no&quot;</td><td>&quot;28APR2006&quot;</td><td>&quot;01OCT2022-30SEP2023&quot;</td><td>&quot;01OCT2022-30SEP2023&quot;</td><td>&quot;01Jan2019-31Dec2022&quot;</td><td>&quot;As Expected&quot;</td><td>&quot;1&quot;</td><td>&quot;282&quot;</td><td>&quot;12.2&quot;</td><td>&quot;23.1&quot;</td><td>&quot;6.2&quot;</td><td>&quot;01Jan2022-31Dec2022&quot;</td><td>&quot;As Expected&quot;</td><td>&quot;1&quot;</td><td>&quot;68&quot;</td><td>&quot;165.7&quot;</td><td>&quot;52.7&quot;</td><td>&quot;01Jan2022-31Dec2022&quot;</td><td>&quot;As Expected&quot;</td><td>&quot;1&quot;</td><td>&hellip;</td><td>&quot;16&quot;</td><td>&quot;9&quot;</td><td>&quot;1&quot;</td><td>&quot;105&quot;</td><td>&quot;1073&quot;</td><td>&quot;9&quot;</td><td>&quot;259&quot;</td><td>&quot;0&quot;</td><td>null</td><td>null</td><td>&quot;2024&quot;</td><td>&quot;7&quot;</td><td>&quot;Colton&quot;</td><td>&quot;San Bernardino&quot;</td><td>&quot;(909) 580-3911&quot;</td><td>null</td><td>null</td><td>null</td><td>null</td><td>null</td><td>null</td><td>null</td><td>null</td><td>null</td><td>null</td><td>null</td><td>null</td><td>null</td><td>null</td><td>null</td><td>null</td><td>null</td><td>null</td><td>null</td><td>null</td><td>null</td><td>null</td></tr></tbody></table></div>"
      ],
      "text/plain": [
       "shape: (5, 155)\n",
       "┌────────────┬─────────┬───────────┬───────────┬───┬───────────┬───────────┬───────────┬───────────┐\n",
       "│ provider_n ┆ network ┆ facility_ ┆ five_star ┆ … ┆ percentag ┆ hospitali ┆ patient_h ┆ readmissi │\n",
       "│ umber      ┆ ---     ┆ name      ┆ _date     ┆   ┆ e_of_pati ┆ zation_ra ┆ ospital_r ┆ on_rate_f │\n",
       "│ ---        ┆ str     ┆ ---       ┆ ---       ┆   ┆ ents_with ┆ te_facili ┆ eadmissio ┆ acility_  │\n",
       "│ str        ┆         ┆ str       ┆ str       ┆   ┆ _va…      ┆ ty_       ┆ n_c…      ┆ ---       │\n",
       "│            ┆         ┆           ┆           ┆   ┆ ---       ┆ ---       ┆ ---       ┆ str       │\n",
       "│            ┆         ┆           ┆           ┆   ┆ str       ┆ str       ┆ str       ┆           │\n",
       "╞════════════╪═════════╪═══════════╪═══════════╪═══╪═══════════╪═══════════╪═══════════╪═══════════╡\n",
       "│ 52305      ┆ 17      ┆ SANTA     ┆ 01Jan2019 ┆ … ┆ null      ┆ null      ┆ null      ┆ null      │\n",
       "│            ┆         ┆ CLARA     ┆ -31Dec202 ┆   ┆           ┆           ┆           ┆           │\n",
       "│            ┆         ┆ VALLEY    ┆ 2         ┆   ┆           ┆           ┆           ┆           │\n",
       "│            ┆         ┆ RENAL     ┆           ┆   ┆           ┆           ┆           ┆           │\n",
       "│            ┆         ┆ CARE …    ┆           ┆   ┆           ┆           ┆           ┆           │\n",
       "│ 52311      ┆ 18      ┆ St.       ┆ 01Jan2019 ┆ … ┆ null      ┆ null      ┆ null      ┆ null      │\n",
       "│            ┆         ┆ Joseph    ┆ -31Dec202 ┆   ┆           ┆           ┆           ┆           │\n",
       "│            ┆         ┆ Hospital  ┆ 2         ┆   ┆           ┆           ┆           ┆           │\n",
       "│            ┆         ┆ Renal     ┆           ┆   ┆           ┆           ┆           ┆           │\n",
       "│            ┆         ┆ Cent…     ┆           ┆   ┆           ┆           ┆           ┆           │\n",
       "│ 52321      ┆ 18      ┆ Childrens ┆ 01Jan2019 ┆ … ┆ null      ┆ null      ┆ null      ┆ null      │\n",
       "│            ┆         ┆ Hospital  ┆ -31Dec202 ┆   ┆           ┆           ┆           ┆           │\n",
       "│            ┆         ┆ of Los    ┆ 2         ┆   ┆           ┆           ┆           ┆           │\n",
       "│            ┆         ┆ Ange…     ┆           ┆   ┆           ┆           ┆           ┆           │\n",
       "│ 52323      ┆ 18      ┆ Kaiser    ┆ 01Jan2019 ┆ … ┆ null      ┆ null      ┆ null      ┆ null      │\n",
       "│            ┆         ┆ Foundatio ┆ -31Dec202 ┆   ┆           ┆           ┆           ┆           │\n",
       "│            ┆         ┆ n         ┆ 2         ┆   ┆           ┆           ┆           ┆           │\n",
       "│            ┆         ┆ Hospital  ┆           ┆   ┆           ┆           ┆           ┆           │\n",
       "│            ┆         ┆ Med…      ┆           ┆   ┆           ┆           ┆           ┆           │\n",
       "│ 52334      ┆ 18      ┆ Arrowhead ┆ 01Jan2019 ┆ … ┆ null      ┆ null      ┆ null      ┆ null      │\n",
       "│            ┆         ┆ Regional  ┆ -31Dec202 ┆   ┆           ┆           ┆           ┆           │\n",
       "│            ┆         ┆ Medical   ┆ 2         ┆   ┆           ┆           ┆           ┆           │\n",
       "│            ┆         ┆ Cen…      ┆           ┆   ┆           ┆           ┆           ┆           │\n",
       "└────────────┴─────────┴───────────┴───────────┴───┴───────────┴───────────┴───────────┴───────────┘"
      ]
     },
     "execution_count": 63,
     "metadata": {},
     "output_type": "execute_result"
    }
   ],
   "source": [
    "facility_df.head()"
   ]
  },
  {
   "cell_type": "code",
   "execution_count": 64,
   "metadata": {},
   "outputs": [
    {
     "name": "stdout",
     "output_type": "stream",
     "text": [
      "Unique counties in ballot_measures_df:\n",
      "['alameda', 'alpine', 'amador', 'butte', 'calaveras', 'colusa', 'contra costa', 'del norte', 'el dorado', 'fresno', 'glenn', 'humboldt', 'imperial', 'inyo', 'kern', 'kings', 'lake', 'lassen', 'los angeles', 'madera', 'marin', 'mariposa', 'mendocino', 'merced', 'modoc', 'mono', 'monterey', 'napa', 'nevada', 'orange', 'placer', 'plumas', 'riverside', 'sacramento', 'san benito', 'san bernardino', 'san diego', 'san francisco', 'san joaquin', 'san luis obispo', 'san mateo', 'santa barbara', 'santa clara', 'santa cruz', 'shasta', 'sierra', 'siskiyou', 'solano', 'sonoma', 'stanislaus', 'sutter', 'tehama', 'trinity', 'tulare', 'tuolumne', 'ventura', 'yolo', 'yuba']\n",
      "\n",
      "Unique counties in facility_df:\n",
      "['', 'alameda', 'butte', 'columbia', 'colusa', 'contra costa', 'del norte', 'el dorado', 'fresno', 'humboldt', 'imperial', 'inyo', 'kern', 'kings', 'lake', 'los angeles', 'madera', 'marin', 'mendocino', 'merced', 'monterey', 'napa', 'nevada', 'orange', 'placer', 'riverside', 'sacramento', 'san benito', 'san bernardino', 'san diego', 'san francisco', 'san joaquin', 'san luis obispo', 'san mateo', 'santa barbara', 'santa clara', 'santa cruz', 'shasta', 'solano', 'sonoma', 'stanislaus', 'sutter', 'tehama', 'tulare', 'tuolumne', 'ventura', 'yolo', 'yuba']\n",
      "\n",
      "Unique counties in cahps_df:\n",
      "['', 'alameda', 'butte', 'columbia', 'contra costa', 'del norte', 'el dorado', 'fresno', 'humboldt', 'imperial', 'inyo', 'kern', 'kings', 'lake', 'los angeles', 'madera', 'marin', 'mendocino', 'merced', 'monterey', 'napa', 'nevada', 'orange', 'placer', 'riverside', 'sacramento', 'san benito', 'san bernardino', 'san diego', 'san francisco', 'san joaquin', 'san luis obispo', 'san mateo', 'santa barbara', 'santa clara', 'santa cruz', 'shasta', 'solano', 'sonoma', 'stanislaus', 'sutter', 'tehama', 'tulare', 'tuolumne', 'ventura', 'yolo', 'yuba']\n",
      "\n",
      "Counties only in ballot_measures_df:\n",
      "['alpine', 'amador', 'calaveras', 'glenn', 'lassen', 'mariposa', 'modoc', 'mono', 'plumas', 'sierra', 'siskiyou', 'trinity']\n",
      "\n",
      "Counties only in facility_df:\n",
      "[]\n",
      "\n",
      "Counties only in cahps_df:\n",
      "[]\n",
      "\n",
      "Potential county name mismatches:\n",
      "['']\n"
     ]
    }
   ],
   "source": [
    "\n",
    "# It seems like dialysis facilites aren't located in more rural parts of california\n",
    "\n",
    "\n",
    "# Lowercasing all county names in the dataframes\n",
    "\n",
    "facility_df = (\n",
    "    facility_df\n",
    "    .with_columns(\n",
    "        pl.col(\"county\")\n",
    "        .str.to_lowercase()\n",
    "        .alias(\"county\")\n",
    "    )\n",
    ")\n",
    "\n",
    "ballot_measures_df = (\n",
    "    ballot_measures_df\n",
    "    .with_columns(\n",
    "        pl.col(\"county\")\n",
    "        .str.to_lowercase()\n",
    "        .alias(\"county\")\n",
    "    )\n",
    ")\n",
    "\n",
    "cahps_df = (\n",
    "    cahps_df\n",
    "    .with_columns(\n",
    "        pl.col(\"county\")\n",
    "        .str.to_lowercase()\n",
    "        .alias(\"county\")\n",
    "    )\n",
    ")\n",
    "\n",
    "# Getting unique counties from all dataframes\n",
    "ballot_counties = set(ballot_measures_df['county'].unique())\n",
    "facility_counties = set(facility_df['county'].unique())\n",
    "cahps_counties = set(cahps_df['county'].unique())\n",
    "\n",
    "print(\"Unique counties in ballot_measures_df:\")\n",
    "print(sorted(ballot_counties))\n",
    "\n",
    "print(\"\\nUnique counties in facility_df:\")\n",
    "print(sorted(facility_counties))\n",
    "\n",
    "print(\"\\nUnique counties in cahps_df:\")\n",
    "print(sorted(cahps_counties))\n",
    "\n",
    "# Finding counties that are in one dataframe but not others\n",
    "counties_only_in_ballot = ballot_counties - facility_counties - cahps_counties\n",
    "counties_only_in_facility = facility_counties - ballot_counties - cahps_counties\n",
    "counties_only_in_cahps = cahps_counties - ballot_counties - facility_counties\n",
    "\n",
    "print(\"\\nCounties only in ballot_measures_df:\")\n",
    "print(sorted(counties_only_in_ballot))\n",
    "\n",
    "print(\"\\nCounties only in facility_df:\")\n",
    "print(sorted(counties_only_in_facility))\n",
    "\n",
    "print(\"\\nCounties only in cahps_df:\")\n",
    "print(sorted(counties_only_in_cahps))\n",
    "\n",
    "# Checking for potential mismatches due to formatting\n",
    "all_counties = ballot_counties.union(facility_counties).union(cahps_counties)\n",
    "potential_mismatches = [county for county in all_counties if any(\n",
    "    county != other_county and county in other_county\n",
    "    for other_county in all_counties\n",
    ")]\n",
    "\n",
    "print(\"\\nPotential county name mismatches:\")\n",
    "print(sorted(potential_mismatches))\n"
   ]
  },
  {
   "cell_type": "code",
   "execution_count": 65,
   "metadata": {},
   "outputs": [
    {
     "data": {
      "text/html": [
       "<div><style>\n",
       ".dataframe > thead > tr,\n",
       ".dataframe > tbody > tr {\n",
       "  text-align: right;\n",
       "  white-space: pre-wrap;\n",
       "}\n",
       "</style>\n",
       "<small>shape: (7_266, 143)</small><table border=\"1\" class=\"dataframe\"><thead><tr><th>FAC_NO</th><th>FAC_NAME</th><th>FAC_CITY</th><th>FAC_ZIP</th><th>FAC_PHONE</th><th>FAC_ADMIN_NAME</th><th>FAC_OPERATED_THIS_YR</th><th>FAC_OP_PER_BEGIN_DT</th><th>FAC_OP_PER_END_DT</th><th>FAC_PAR_CORP_NAME</th><th>FAC_PAR_CORP_CITY</th><th>FAC_PAR_CORP_STATE</th><th>FAC_PAR_CORP_ZIP</th><th>REPT_PREP_NAME</th><th>LICENSE_STATUS</th><th>LIC_STATUS_DATE</th><th>LIC_ORIG_DATE</th><th>REPORT_STATUS</th><th>MCAL_PROVIDER_NO</th><th>MCARE_PROVIDER_NO</th><th>ACLAIMS_NO</th><th>ASSEMBLY_DIST</th><th>SENATE_DIST</th><th>CONGRESS_DIST</th><th>CENS_TRACT</th><th>MED_SVC_STUDY_AREA</th><th>LA_COUNTY_SVC_PLAN_AREA</th><th>HEALTH_SVC_AREA</th><th>COUNTY</th><th>LICENSE_NO</th><th>LONGITUDE</th><th>LATITUDE</th><th>LIC_CAT</th><th>LICEE_TOC</th><th>TOT_UNDUPLICATED_PATIENTS</th><th>TOT_ENCOUNTERS</th><th>SURG_OPER_RMS_ON_DEC_31_CNT</th><th>&hellip;</th><th>EQUIP_VAL_10</th><th>DT_ACQUIRE_10</th><th>MEANS_FOR_ACQUISITION_10</th><th>PROJ_OVER_1M</th><th>DEPROJ_01</th><th>PROJ_EXPENDITURES_01</th><th>OSHPD_PROJ_NO_01</th><th>DEPROJ_02</th><th>PROJ_EXPENDITURES_02</th><th>OSHPD_PROJ_NO_02</th><th>DEPROJ_03</th><th>PROJ_EXPENDITURES_03</th><th>OSHPD_PROJ_NO_03</th><th>DEPROJ_04</th><th>PROJ_EXPENDITURES_04</th><th>OSHPD_PROJ_NO_04</th><th>DEPROJ_05</th><th>PROJ_EXPENDITURES_05</th><th>OSHPD_PROJ_NO_05</th><th>source_file</th><th>year</th><th>FAC_STR_ADDR</th><th>FAC_PAR_CORP_BUS_ADDR</th><th>Description</th><th>SUBMITTED_DT</th><th>REV_REPT_PREP_NAME</th><th>REVISED_DT</th><th>CORRECTED_DT</th><th>LICENSE_EFF_DATE</th><th>LICENSE_EXP_DATE</th><th>FACILITY_LEVEL</th><th>HCAI_PROJ_NO_01</th><th>HCAI_PROJ_NO_02</th><th>HCAI_PROJ_NO_03</th><th>HCAI_PROJ_NO_04</th><th>HCAI_PROJ_NO_05</th><th>__index_level_0__</th></tr><tr><td>f64</td><td>str</td><td>str</td><td>str</td><td>str</td><td>str</td><td>str</td><td>datetime[ns]</td><td>datetime[ns]</td><td>str</td><td>str</td><td>str</td><td>str</td><td>str</td><td>str</td><td>datetime[ns]</td><td>datetime[ns]</td><td>str</td><td>str</td><td>str</td><td>str</td><td>f64</td><td>f64</td><td>f64</td><td>str</td><td>str</td><td>str</td><td>str</td><td>str</td><td>f64</td><td>f64</td><td>f64</td><td>str</td><td>str</td><td>f64</td><td>f64</td><td>f64</td><td>&hellip;</td><td>f64</td><td>f64</td><td>f64</td><td>str</td><td>str</td><td>f64</td><td>f64</td><td>f64</td><td>f64</td><td>f64</td><td>f64</td><td>f64</td><td>f64</td><td>f64</td><td>f64</td><td>f64</td><td>f64</td><td>f64</td><td>f64</td><td>str</td><td>str</td><td>str</td><td>str</td><td>f64</td><td>datetime[ns]</td><td>str</td><td>str</td><td>str</td><td>datetime[ns]</td><td>datetime[ns]</td><td>str</td><td>f64</td><td>f64</td><td>f64</td><td>f64</td><td>f64</td><td>i64</td></tr></thead><tbody><tr><td>3.06540615e8</td><td>&quot;ARA KAWAEH DIALYSIS CENTER&quot;</td><td>&quot;VISALIA&quot;</td><td>&quot;93277&quot;</td><td>&quot;5597419263&quot;</td><td>&quot;Teresa Shaw&quot;</td><td>&quot;Yes&quot;</td><td>2023-01-01 00:00:00</td><td>2023-12-31 00:00:00</td><td>&quot;Teresa Shaw&quot;</td><td>&quot;Visalia&quot;</td><td>&quot;CA - California&quot;</td><td>&quot;93277&quot;</td><td>&quot;Teresa Shaw&quot;</td><td>&quot;Open&quot;</td><td>null</td><td>null</td><td>&quot;&quot;</td><td>&quot;&quot;</td><td>&quot;&quot;</td><td>&quot;&quot;</td><td>32.0</td><td>12.0</td><td>20.0</td><td>&quot;06107001902&quot;</td><td>&quot;233&quot;</td><td>&quot;&quot;</td><td>&quot;09 - Central&quot;</td><td>&quot;Tulare&quot;</td><td>5.50006398e8</td><td>-119.311749</td><td>36.298925</td><td>&quot;Chronic Dialysis Clinic&quot;</td><td>&quot;Investor - Limited Liability C…</td><td>102.0</td><td>1164.0</td><td>null</td><td>&hellip;</td><td>null</td><td>null</td><td>null</td><td>&quot;No&quot;</td><td>&quot;&quot;</td><td>null</td><td>null</td><td>null</td><td>null</td><td>null</td><td>null</td><td>null</td><td>null</td><td>null</td><td>null</td><td>null</td><td>null</td><td>null</td><td>null</td><td>&quot;file_1&quot;</td><td>&quot;23&quot;</td><td>&quot;3446 S. MOONEY BLVD&quot;</td><td>&quot;3446 S Mooney Blvd&quot;</td><td>null</td><td>2024-02-12 14:29:00</td><td>&quot;&quot;</td><td>&quot;&quot;</td><td>&quot;&quot;</td><td>2023-06-17 00:00:00</td><td>2024-06-16 00:00:00</td><td>&quot;Parent Facility&quot;</td><td>null</td><td>null</td><td>null</td><td>null</td><td>null</td><td>0</td></tr><tr><td>3.06197943e8</td><td>&quot;HIGH DESERT HEALTH SYSTEM AMBU…</td><td>&quot;LANCASTER&quot;</td><td>&quot;93535&quot;</td><td>&quot;661 471-4000&quot;</td><td>&quot;Lee Dunham&quot;</td><td>&quot;Yes&quot;</td><td>2023-01-01 00:00:00</td><td>2023-12-31 00:00:00</td><td>&quot;&quot;</td><td>&quot;&quot;</td><td>&quot;&quot;</td><td>&quot;&quot;</td><td>&quot;LINDA KEITH&quot;</td><td>&quot;Open&quot;</td><td>null</td><td>null</td><td>&quot;&quot;</td><td>&quot;&quot;</td><td>&quot;&quot;</td><td>&quot;&quot;</td><td>39.0</td><td>23.0</td><td>27.0</td><td>&quot;06037900602&quot;</td><td>&quot;77.1c&quot;</td><td>&quot;Antelope Valley&quot;</td><td>&quot;11 - Los Angeles&quot;</td><td>&quot;Los Angeles&quot;</td><td>6.0000872e7</td><td>-118.124835</td><td>34.704507</td><td>&quot;Surgical Clinic&quot;</td><td>&quot;City or County&quot;</td><td>1599.0</td><td>1599.0</td><td>3.0</td><td>&hellip;</td><td>null</td><td>null</td><td>null</td><td>&quot;No&quot;</td><td>&quot;&quot;</td><td>null</td><td>null</td><td>null</td><td>null</td><td>null</td><td>null</td><td>null</td><td>null</td><td>null</td><td>null</td><td>null</td><td>null</td><td>null</td><td>null</td><td>&quot;file_1&quot;</td><td>&quot;23&quot;</td><td>&quot;335 EAST AVENUE I&quot;</td><td>&quot;&quot;</td><td>null</td><td>2024-02-13 14:26:00</td><td>&quot;&quot;</td><td>&quot;&quot;</td><td>&quot;&quot;</td><td>2023-11-01 00:00:00</td><td>2024-10-31 00:00:00</td><td>&quot;Parent Facility&quot;</td><td>null</td><td>null</td><td>null</td><td>null</td><td>null</td><td>1</td></tr><tr><td>3.06198064e8</td><td>&quot;MARTIN LUTHER KING, JR. AMBULA…</td><td>&quot;LOS ANGELES&quot;</td><td>&quot;90059&quot;</td><td>&quot;213 699-7102&quot;</td><td>&quot;Michael mills&quot;</td><td>&quot;Yes&quot;</td><td>2023-01-01 00:00:00</td><td>2023-12-31 00:00:00</td><td>&quot;&quot;</td><td>&quot;&quot;</td><td>&quot;&quot;</td><td>&quot;&quot;</td><td>&quot;LINDA KEITH&quot;</td><td>&quot;Open&quot;</td><td>null</td><td>null</td><td>&quot;&quot;</td><td>&quot;&quot;</td><td>&quot;&quot;</td><td>&quot;&quot;</td><td>65.0</td><td>35.0</td><td>43.0</td><td>&quot;06037540700&quot;</td><td>&quot;78.2ooo&quot;</td><td>&quot;South&quot;</td><td>&quot;11 - Los Angeles&quot;</td><td>&quot;Los Angeles&quot;</td><td>5.50000727e8</td><td>-118.243764</td><td>33.923232</td><td>&quot;Surgical Clinic&quot;</td><td>&quot;City or County&quot;</td><td>3834.0</td><td>3834.0</td><td>5.0</td><td>&hellip;</td><td>null</td><td>null</td><td>null</td><td>&quot;No&quot;</td><td>&quot;&quot;</td><td>null</td><td>null</td><td>null</td><td>null</td><td>null</td><td>null</td><td>null</td><td>null</td><td>null</td><td>null</td><td>null</td><td>null</td><td>null</td><td>null</td><td>&quot;file_1&quot;</td><td>&quot;23&quot;</td><td>&quot;1670 E 120TH ST&quot;</td><td>&quot;&quot;</td><td>null</td><td>2024-02-13 14:56:00</td><td>&quot;&quot;</td><td>&quot;&quot;</td><td>&quot;&quot;</td><td>2023-05-28 00:00:00</td><td>2024-05-27 00:00:00</td><td>&quot;Parent Facility&quot;</td><td>null</td><td>null</td><td>null</td><td>null</td><td>null</td><td>2</td></tr><tr><td>3.06197915e8</td><td>&quot;SHRINERS FOR CHILDREN AMBULATO…</td><td>&quot;PASADENA&quot;</td><td>&quot;91105&quot;</td><td>&quot;626-389-9300&quot;</td><td>&quot;Kanayo Keri&quot;</td><td>&quot;Yes&quot;</td><td>2023-01-01 00:00:00</td><td>2023-12-31 00:00:00</td><td>&quot;Shriners Hospitals for Childre…</td><td>&quot;Tampa&quot;</td><td>&quot;FL - Florida&quot;</td><td>&quot;33607&quot;</td><td>&quot;Robert Montgomery&quot;</td><td>&quot;Open&quot;</td><td>null</td><td>null</td><td>&quot;&quot;</td><td>&quot;&quot;</td><td>&quot;&quot;</td><td>&quot;&quot;</td><td>41.0</td><td>25.0</td><td>28.0</td><td>&quot;06037463900&quot;</td><td>&quot;78.2mm&quot;</td><td>&quot;San Gabriel Valley&quot;</td><td>&quot;11 - Los Angeles&quot;</td><td>&quot;Los Angeles&quot;</td><td>5.50003965e8</td><td>-118.15076</td><td>34.130534</td><td>&quot;Surgical Clinic&quot;</td><td>&quot;Non-Profit Corporation (includ…</td><td>592.0</td><td>718.0</td><td>2.0</td><td>&hellip;</td><td>null</td><td>null</td><td>null</td><td>&quot;No&quot;</td><td>&quot;&quot;</td><td>null</td><td>null</td><td>null</td><td>null</td><td>null</td><td>null</td><td>null</td><td>null</td><td>null</td><td>null</td><td>null</td><td>null</td><td>null</td><td>null</td><td>&quot;file_1&quot;</td><td>&quot;23&quot;</td><td>&quot;909 S. FAIR OAKS AVE., STE 200&quot;</td><td>&quot;2900 N. Rocky Point Drive&quot;</td><td>null</td><td>2024-02-14 10:46:00</td><td>&quot;&quot;</td><td>&quot;&quot;</td><td>&quot;&quot;</td><td>2023-10-06 00:00:00</td><td>2024-10-05 00:00:00</td><td>&quot;Parent Facility&quot;</td><td>null</td><td>null</td><td>null</td><td>null</td><td>null</td><td>3</td></tr><tr><td>3.06196511e8</td><td>&quot;HIGH DESERT HEALTH SYSTEM AMBU…</td><td>&quot;LANCASTER&quot;</td><td>&quot;93536&quot;</td><td>&quot;661-948-8581&quot;</td><td>&quot;Beryl Brooks&quot;</td><td>&quot;Yes&quot;</td><td>2013-01-01 00:00:00</td><td>2013-12-31 00:00:00</td><td>&quot;&quot;</td><td>&quot;&quot;</td><td>&quot;&quot;</td><td>&quot;&quot;</td><td>&quot;Beryl Brooks&quot;</td><td>&quot;Closed&quot;</td><td>2014-07-21 00:00:00</td><td>null</td><td>&quot;&quot;</td><td>&quot;&quot;</td><td>&quot;&quot;</td><td>&quot;&quot;</td><td>36.0</td><td>21.0</td><td>23.0</td><td>&quot;6037900900&quot;</td><td>&quot;77.5&quot;</td><td>&quot;Antelope Valley&quot;</td><td>&quot;11 - Los Angeles&quot;</td><td>&quot;Los Angeles&quot;</td><td>6.0000872e7</td><td>-118.23668</td><td>34.70617</td><td>&quot;Surgical&quot;</td><td>&quot;City and/or County&quot;</td><td>1226.0</td><td>1226.0</td><td>2.0</td><td>&hellip;</td><td>null</td><td>null</td><td>null</td><td>&quot;No&quot;</td><td>&quot;&quot;</td><td>null</td><td>null</td><td>null</td><td>null</td><td>null</td><td>null</td><td>null</td><td>null</td><td>null</td><td>null</td><td>null</td><td>null</td><td>null</td><td>null</td><td>&quot;file_1&quot;</td><td>&quot;sx&quot;</td><td>&quot;44900 NORTH 60TH STREET WEST&quot;</td><td>&quot;&quot;</td><td>null</td><td>null</td><td>&quot;&quot;</td><td>&quot;&quot;</td><td>&quot;&quot;</td><td>null</td><td>null</td><td>&quot;&quot;</td><td>null</td><td>null</td><td>null</td><td>null</td><td>null</td><td>4</td></tr><tr><td>&hellip;</td><td>&hellip;</td><td>&hellip;</td><td>&hellip;</td><td>&hellip;</td><td>&hellip;</td><td>&hellip;</td><td>&hellip;</td><td>&hellip;</td><td>&hellip;</td><td>&hellip;</td><td>&hellip;</td><td>&hellip;</td><td>&hellip;</td><td>&hellip;</td><td>&hellip;</td><td>&hellip;</td><td>&hellip;</td><td>&hellip;</td><td>&hellip;</td><td>&hellip;</td><td>&hellip;</td><td>&hellip;</td><td>&hellip;</td><td>&hellip;</td><td>&hellip;</td><td>&hellip;</td><td>&hellip;</td><td>&hellip;</td><td>&hellip;</td><td>&hellip;</td><td>&hellip;</td><td>&hellip;</td><td>&hellip;</td><td>&hellip;</td><td>&hellip;</td><td>&hellip;</td><td>&hellip;</td><td>&hellip;</td><td>&hellip;</td><td>&hellip;</td><td>&hellip;</td><td>&hellip;</td><td>&hellip;</td><td>&hellip;</td><td>&hellip;</td><td>&hellip;</td><td>&hellip;</td><td>&hellip;</td><td>&hellip;</td><td>&hellip;</td><td>&hellip;</td><td>&hellip;</td><td>&hellip;</td><td>&hellip;</td><td>&hellip;</td><td>&hellip;</td><td>&hellip;</td><td>&hellip;</td><td>&hellip;</td><td>&hellip;</td><td>&hellip;</td><td>&hellip;</td><td>&hellip;</td><td>&hellip;</td><td>&hellip;</td><td>&hellip;</td><td>&hellip;</td><td>&hellip;</td><td>&hellip;</td><td>&hellip;</td><td>&hellip;</td><td>&hellip;</td><td>&hellip;</td><td>&hellip;</td></tr><tr><td>3.06312304e8</td><td>&quot;RAI - HARDING BLVD. - ROSEVILL…</td><td>&quot;ROSEVILLE&quot;</td><td>&quot;95678&quot;</td><td>&quot;916-786-2728&quot;</td><td>&quot;ERIC ANDERSON&quot;</td><td>&quot;No&quot;</td><td>2018-01-01 00:00:00</td><td>2018-03-31 00:00:00</td><td>&quot;RAI CARE CENTERS OF NORTHERN C…</td><td>&quot;Waltham&quot;</td><td>&quot;MA - Massachusetts&quot;</td><td>&quot;02451&quot;</td><td>&quot;Lisa Cockrell&quot;</td><td>&quot;Closed&quot;</td><td>null</td><td>null</td><td>&quot;&quot;</td><td>&quot;&quot;</td><td>&quot;&quot;</td><td>&quot;&quot;</td><td>6.0</td><td>4.0</td><td>4.0</td><td>&quot;06061020806&quot;</td><td>&quot;121.1&quot;</td><td>&quot;&quot;</td><td>&quot;02 - Golden Empire&quot;</td><td>&quot;Placer&quot;</td><td>1.10000449e8</td><td>-121.268616</td><td>38.748799</td><td>&quot;Chronic Dialysis Clinic&quot;</td><td>&quot;&quot;</td><td>null</td><td>null</td><td>null</td><td>&hellip;</td><td>null</td><td>null</td><td>null</td><td>&quot;&quot;</td><td>&quot;&quot;</td><td>null</td><td>null</td><td>null</td><td>null</td><td>null</td><td>null</td><td>null</td><td>null</td><td>null</td><td>null</td><td>null</td><td>null</td><td>null</td><td>null</td><td>&quot;file_6&quot;</td><td>&quot;18&quot;</td><td>&quot;218 HARDING BLVD&quot;</td><td>&quot;920 Winter Street&quot;</td><td>null</td><td>2019-02-15 14:05:00</td><td>&quot;Denard Uy (OSHPD)&quot;</td><td>&quot;02/22/2019 03:48 PM&quot;</td><td>&quot;&quot;</td><td>2017-04-01 00:00:00</td><td>2018-03-31 00:00:00</td><td>&quot;Parent Facility&quot;</td><td>null</td><td>null</td><td>null</td><td>null</td><td>null</td><td>7275</td></tr><tr><td>3.06190407e8</td><td>&quot;TORRANCE EMERALD DIALYSIS&quot;</td><td>&quot;TORRANCE&quot;</td><td>&quot;90503&quot;</td><td>&quot;2537334847&quot;</td><td>&quot;Vicki Kertzman&quot;</td><td>&quot;No&quot;</td><td>2018-01-01 00:00:00</td><td>2018-10-23 00:00:00</td><td>&quot;&quot;</td><td>&quot;&quot;</td><td>&quot;&quot;</td><td>&quot;&quot;</td><td>&quot;Lynn Webster&quot;</td><td>&quot;Open&quot;</td><td>null</td><td>null</td><td>&quot;&quot;</td><td>&quot;&quot;</td><td>&quot;&quot;</td><td>&quot;&quot;</td><td>66.0</td><td>26.0</td><td>33.0</td><td>&quot;06037650602&quot;</td><td>&quot;78.2u&quot;</td><td>&quot;South Bay&quot;</td><td>&quot;11 - Los Angeles&quot;</td><td>&quot;Los Angeles&quot;</td><td>5.50004413e8</td><td>-118.35387</td><td>33.84085</td><td>&quot;Chronic Dialysis Clinic&quot;</td><td>&quot;&quot;</td><td>null</td><td>null</td><td>null</td><td>&hellip;</td><td>null</td><td>null</td><td>null</td><td>&quot;&quot;</td><td>&quot;&quot;</td><td>null</td><td>null</td><td>null</td><td>null</td><td>null</td><td>null</td><td>null</td><td>null</td><td>null</td><td>null</td><td>null</td><td>null</td><td>null</td><td>null</td><td>&quot;file_6&quot;</td><td>&quot;18&quot;</td><td>&quot;20821 HAWTHORNE BLVD&quot;</td><td>&quot;&quot;</td><td>null</td><td>2019-02-14 14:33:00</td><td>&quot;&quot;</td><td>&quot;&quot;</td><td>&quot;10/29/2019 03:26 PM&quot;</td><td>2018-10-24 00:00:00</td><td>2019-04-23 00:00:00</td><td>&quot;Parent Facility&quot;</td><td>null</td><td>null</td><td>null</td><td>null</td><td>null</td><td>7276</td></tr><tr><td>3.0619035e8</td><td>&quot;PALMS VALLEY DIALYSIS&quot;</td><td>&quot;PALMDALE&quot;</td><td>&quot;93551&quot;</td><td>&quot;2537334847&quot;</td><td>&quot;Vicki Kertzman&quot;</td><td>&quot;No&quot;</td><td>2018-01-01 00:00:00</td><td>2018-04-09 00:00:00</td><td>&quot;&quot;</td><td>&quot;&quot;</td><td>&quot;&quot;</td><td>&quot;&quot;</td><td>&quot;Lynn Webster&quot;</td><td>&quot;Open&quot;</td><td>null</td><td>null</td><td>&quot;&quot;</td><td>&quot;&quot;</td><td>&quot;&quot;</td><td>&quot;&quot;</td><td>36.0</td><td>21.0</td><td>25.0</td><td>&quot;06037910401&quot;</td><td>&quot;77.1a&quot;</td><td>&quot;Antelope Valley&quot;</td><td>&quot;11 - Los Angeles&quot;</td><td>&quot;Los Angeles&quot;</td><td>5.50004227e8</td><td>-118.13845</td><td>34.58143</td><td>&quot;Chronic Dialysis Clinic&quot;</td><td>&quot;&quot;</td><td>null</td><td>null</td><td>null</td><td>&hellip;</td><td>null</td><td>null</td><td>null</td><td>&quot;&quot;</td><td>&quot;&quot;</td><td>null</td><td>null</td><td>null</td><td>null</td><td>null</td><td>null</td><td>null</td><td>null</td><td>null</td><td>null</td><td>null</td><td>null</td><td>null</td><td>null</td><td>&quot;file_6&quot;</td><td>&quot;18&quot;</td><td>&quot;38454 5TH ST W&quot;</td><td>&quot;&quot;</td><td>null</td><td>2019-02-14 14:29:00</td><td>&quot;&quot;</td><td>&quot;&quot;</td><td>&quot;10/29/2019 03:16 PM&quot;</td><td>2018-10-10 00:00:00</td><td>2019-04-09 00:00:00</td><td>&quot;Parent Facility&quot;</td><td>null</td><td>null</td><td>null</td><td>null</td><td>null</td><td>7277</td></tr><tr><td>3.06194003e8</td><td>&quot;PARAMOUNT DIALYSIS CENTER&quot;</td><td>&quot;PARAMOUNT&quot;</td><td>&quot;90723&quot;</td><td>&quot;2537334847&quot;</td><td>&quot;Vicki Kertzman&quot;</td><td>&quot;No&quot;</td><td>2018-01-01 00:00:00</td><td>2018-02-04 00:00:00</td><td>&quot;DAVITA INC&quot;</td><td>&quot;FEDERAL WAY&quot;</td><td>&quot;WA - Washington&quot;</td><td>&quot;98001&quot;</td><td>&quot;Lynn Webster&quot;</td><td>&quot;Closed&quot;</td><td>null</td><td>null</td><td>&quot;&quot;</td><td>&quot;&quot;</td><td>&quot;&quot;</td><td>&quot;&quot;</td><td>63.0</td><td>33.0</td><td>40.0</td><td>&quot;06037553901&quot;</td><td>&quot;78.2m&quot;</td><td>&quot;South&quot;</td><td>&quot;11 - Los Angeles&quot;</td><td>&quot;Los Angeles&quot;</td><td>9.30000393e8</td><td>-118.15385</td><td>33.88931</td><td>&quot;Chronic Dialysis Clinic&quot;</td><td>&quot;&quot;</td><td>null</td><td>null</td><td>null</td><td>&hellip;</td><td>null</td><td>null</td><td>null</td><td>&quot;&quot;</td><td>&quot;&quot;</td><td>null</td><td>null</td><td>null</td><td>null</td><td>null</td><td>null</td><td>null</td><td>null</td><td>null</td><td>null</td><td>null</td><td>null</td><td>null</td><td>null</td><td>&quot;file_6&quot;</td><td>&quot;18&quot;</td><td>&quot;8319 ALONDRA BLVD&quot;</td><td>&quot;32275 32ND AVE S&quot;</td><td>null</td><td>2019-02-14 08:06:00</td><td>&quot;&quot;</td><td>&quot;&quot;</td><td>&quot;&quot;</td><td>2017-02-05 00:00:00</td><td>2018-02-04 00:00:00</td><td>&quot;Parent Facility&quot;</td><td>null</td><td>null</td><td>null</td><td>null</td><td>null</td><td>7278</td></tr><tr><td>3.06424085e8</td><td>&quot;SHEPARD CHC SURGICAL CENTER&quot;</td><td>&quot;SANTA MARIA&quot;</td><td>&quot;93454&quot;</td><td>&quot;8053643900&quot;</td><td>&quot;RONALD E CASTLE&quot;</td><td>&quot;No&quot;</td><td>2018-01-01 00:00:00</td><td>2018-12-31 00:00:00</td><td>&quot;Community Health Centers of th…</td><td>&quot;Santa Maria&quot;</td><td>&quot;CA - California&quot;</td><td>&quot;93458&quot;</td><td>&quot;William Ivers&quot;</td><td>&quot;Open&quot;</td><td>null</td><td>null</td><td>&quot;&quot;</td><td>&quot;&quot;</td><td>&quot;&quot;</td><td>&quot;&quot;</td><td>35.0</td><td>19.0</td><td>24.0</td><td>&quot;06083002211&quot;</td><td>&quot;180.1&quot;</td><td>&quot;&quot;</td><td>&quot;10 - Santa Barbara/Ventura&quot;</td><td>&quot;Santa Barbara&quot;</td><td>5.50002038e8</td><td>-120.41364</td><td>34.95287</td><td>&quot;Surgical Clinic&quot;</td><td>&quot;&quot;</td><td>null</td><td>null</td><td>null</td><td>&hellip;</td><td>null</td><td>null</td><td>null</td><td>&quot;&quot;</td><td>&quot;&quot;</td><td>null</td><td>null</td><td>null</td><td>null</td><td>null</td><td>null</td><td>null</td><td>null</td><td>null</td><td>null</td><td>null</td><td>null</td><td>null</td><td>null</td><td>&quot;file_6&quot;</td><td>&quot;18&quot;</td><td>&quot;1418  E MAIN ST&quot;</td><td>&quot;2050 S Blosser Road&quot;</td><td>null</td><td>2019-02-19 09:50:00</td><td>&quot;&quot;</td><td>&quot;&quot;</td><td>&quot;&quot;</td><td>2018-09-05 00:00:00</td><td>2019-09-04 00:00:00</td><td>&quot;Parent Facility&quot;</td><td>null</td><td>null</td><td>null</td><td>null</td><td>null</td><td>7279</td></tr></tbody></table></div>"
      ],
      "text/plain": [
       "shape: (7_266, 143)\n",
       "┌────────────┬───────────┬───────────┬─────────┬───┬───────────┬───────────┬───────────┬───────────┐\n",
       "│ FAC_NO     ┆ FAC_NAME  ┆ FAC_CITY  ┆ FAC_ZIP ┆ … ┆ HCAI_PROJ ┆ HCAI_PROJ ┆ HCAI_PROJ ┆ __index_l │\n",
       "│ ---        ┆ ---       ┆ ---       ┆ ---     ┆   ┆ _NO_03    ┆ _NO_04    ┆ _NO_05    ┆ evel_0__  │\n",
       "│ f64        ┆ str       ┆ str       ┆ str     ┆   ┆ ---       ┆ ---       ┆ ---       ┆ ---       │\n",
       "│            ┆           ┆           ┆         ┆   ┆ f64       ┆ f64       ┆ f64       ┆ i64       │\n",
       "╞════════════╪═══════════╪═══════════╪═════════╪═══╪═══════════╪═══════════╪═══════════╪═══════════╡\n",
       "│ 3.06540615 ┆ ARA       ┆ VISALIA   ┆ 93277   ┆ … ┆ null      ┆ null      ┆ null      ┆ 0         │\n",
       "│ e8         ┆ KAWAEH    ┆           ┆         ┆   ┆           ┆           ┆           ┆           │\n",
       "│            ┆ DIALYSIS  ┆           ┆         ┆   ┆           ┆           ┆           ┆           │\n",
       "│            ┆ CENTER    ┆           ┆         ┆   ┆           ┆           ┆           ┆           │\n",
       "│ 3.06197943 ┆ HIGH      ┆ LANCASTER ┆ 93535   ┆ … ┆ null      ┆ null      ┆ null      ┆ 1         │\n",
       "│ e8         ┆ DESERT    ┆           ┆         ┆   ┆           ┆           ┆           ┆           │\n",
       "│            ┆ HEALTH    ┆           ┆         ┆   ┆           ┆           ┆           ┆           │\n",
       "│            ┆ SYSTEM    ┆           ┆         ┆   ┆           ┆           ┆           ┆           │\n",
       "│            ┆ AMBU…     ┆           ┆         ┆   ┆           ┆           ┆           ┆           │\n",
       "│ 3.06198064 ┆ MARTIN    ┆ LOS       ┆ 90059   ┆ … ┆ null      ┆ null      ┆ null      ┆ 2         │\n",
       "│ e8         ┆ LUTHER    ┆ ANGELES   ┆         ┆   ┆           ┆           ┆           ┆           │\n",
       "│            ┆ KING, JR. ┆           ┆         ┆   ┆           ┆           ┆           ┆           │\n",
       "│            ┆ AMBULA…   ┆           ┆         ┆   ┆           ┆           ┆           ┆           │\n",
       "│ 3.06197915 ┆ SHRINERS  ┆ PASADENA  ┆ 91105   ┆ … ┆ null      ┆ null      ┆ null      ┆ 3         │\n",
       "│ e8         ┆ FOR       ┆           ┆         ┆   ┆           ┆           ┆           ┆           │\n",
       "│            ┆ CHILDREN  ┆           ┆         ┆   ┆           ┆           ┆           ┆           │\n",
       "│            ┆ AMBULATO… ┆           ┆         ┆   ┆           ┆           ┆           ┆           │\n",
       "│ 3.06196511 ┆ HIGH      ┆ LANCASTER ┆ 93536   ┆ … ┆ null      ┆ null      ┆ null      ┆ 4         │\n",
       "│ e8         ┆ DESERT    ┆           ┆         ┆   ┆           ┆           ┆           ┆           │\n",
       "│            ┆ HEALTH    ┆           ┆         ┆   ┆           ┆           ┆           ┆           │\n",
       "│            ┆ SYSTEM    ┆           ┆         ┆   ┆           ┆           ┆           ┆           │\n",
       "│            ┆ AMBU…     ┆           ┆         ┆   ┆           ┆           ┆           ┆           │\n",
       "│ …          ┆ …         ┆ …         ┆ …       ┆ … ┆ …         ┆ …         ┆ …         ┆ …         │\n",
       "│ 3.06312304 ┆ RAI -     ┆ ROSEVILLE ┆ 95678   ┆ … ┆ null      ┆ null      ┆ null      ┆ 7275      │\n",
       "│ e8         ┆ HARDING   ┆           ┆         ┆   ┆           ┆           ┆           ┆           │\n",
       "│            ┆ BLVD. -   ┆           ┆         ┆   ┆           ┆           ┆           ┆           │\n",
       "│            ┆ ROSEVILL… ┆           ┆         ┆   ┆           ┆           ┆           ┆           │\n",
       "│ 3.06190407 ┆ TORRANCE  ┆ TORRANCE  ┆ 90503   ┆ … ┆ null      ┆ null      ┆ null      ┆ 7276      │\n",
       "│ e8         ┆ EMERALD   ┆           ┆         ┆   ┆           ┆           ┆           ┆           │\n",
       "│            ┆ DIALYSIS  ┆           ┆         ┆   ┆           ┆           ┆           ┆           │\n",
       "│ 3.0619035e ┆ PALMS     ┆ PALMDALE  ┆ 93551   ┆ … ┆ null      ┆ null      ┆ null      ┆ 7277      │\n",
       "│ 8          ┆ VALLEY    ┆           ┆         ┆   ┆           ┆           ┆           ┆           │\n",
       "│            ┆ DIALYSIS  ┆           ┆         ┆   ┆           ┆           ┆           ┆           │\n",
       "│ 3.06194003 ┆ PARAMOUNT ┆ PARAMOUNT ┆ 90723   ┆ … ┆ null      ┆ null      ┆ null      ┆ 7278      │\n",
       "│ e8         ┆ DIALYSIS  ┆           ┆         ┆   ┆           ┆           ┆           ┆           │\n",
       "│            ┆ CENTER    ┆           ┆         ┆   ┆           ┆           ┆           ┆           │\n",
       "│ 3.06424085 ┆ SHEPARD   ┆ SANTA     ┆ 93454   ┆ … ┆ null      ┆ null      ┆ null      ┆ 7279      │\n",
       "│ e8         ┆ CHC       ┆ MARIA     ┆         ┆   ┆           ┆           ┆           ┆           │\n",
       "│            ┆ SURGICAL  ┆           ┆         ┆   ┆           ┆           ┆           ┆           │\n",
       "│            ┆ CENTER    ┆           ┆         ┆   ┆           ┆           ┆           ┆           │\n",
       "└────────────┴───────────┴───────────┴─────────┴───┴───────────┴───────────┴───────────┴───────────┘"
      ]
     },
     "execution_count": 65,
     "metadata": {},
     "output_type": "execute_result"
    }
   ],
   "source": [
    "supp_facility_df"
   ]
  },
  {
   "cell_type": "code",
   "execution_count": null,
   "metadata": {},
   "outputs": [],
   "source": []
  }
 ],
 "metadata": {
  "kernelspec": {
   "display_name": "Python 3",
   "language": "python",
   "name": "python3"
  },
  "language_info": {
   "codemirror_mode": {
    "name": "ipython",
    "version": 3
   },
   "file_extension": ".py",
   "mimetype": "text/x-python",
   "name": "python",
   "nbconvert_exporter": "python",
   "pygments_lexer": "ipython3",
   "version": "3.11.10"
  }
 },
 "nbformat": 4,
 "nbformat_minor": 2
}
