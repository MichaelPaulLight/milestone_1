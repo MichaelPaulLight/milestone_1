{
 "cells": [
  {
   "cell_type": "code",
   "execution_count": 268,
   "metadata": {},
   "outputs": [],
   "source": [
    "import polars as pl"
   ]
  },
  {
   "cell_type": "code",
   "execution_count": 269,
   "metadata": {},
   "outputs": [],
   "source": [
    "cahps_df = pl.read_parquet('../../003_data/002_clean-data/national_cms_dialysis-facility_cahps-data.parquet')\n",
    "facility_df = pl.read_parquet('../../003_data/002_clean-data/national_cms_dialysis-facility_data.parquet')\n",
    "ballot_measures_df = pl.read_parquet('../../003_data/001_raw-data/2018-2022_ballot-measure_sub-county_data.parquet')\n",
    "supp_facility_df = pl.read_parquet('../../003_data/001_raw-data/2013-2023_CHHS_dialysis-facility_data.parquet')\n"
   ]
  },
  {
   "cell_type": "code",
   "execution_count": 270,
   "metadata": {},
   "outputs": [],
   "source": [
    "# Casting year columns to string to match the format in the other dataframes\n",
    "\n",
    "supp_facility_df = supp_facility_df.with_columns(pl.col(\"year\").cast(pl.Utf8))\n",
    "\n",
    "ballot_measures_df = ballot_measures_df.with_columns(pl.col(\"year\").cast(pl.Utf8))\n"
   ]
  },
  {
   "cell_type": "code",
   "execution_count": 273,
   "metadata": {},
   "outputs": [
    {
     "data": {
      "text/html": [
       "<div><style>\n",
       ".dataframe > thead > tr,\n",
       ".dataframe > tbody > tr {\n",
       "  text-align: right;\n",
       "  white-space: pre-wrap;\n",
       "}\n",
       "</style>\n",
       "<small>shape: (7_122, 6)</small><table border=\"1\" class=\"dataframe\"><thead><tr><th>year</th><th>county</th><th>sub_county</th><th>district_id</th><th>vote_type</th><th>vote_count</th></tr><tr><td>str</td><td>str</td><td>str</td><td>str</td><td>str</td><td>str</td></tr></thead><tbody><tr><td>&quot;2022&quot;</td><td>&quot;Alameda&quot;</td><td>&quot;county_supervisorial_district&quot;</td><td>&quot;1&quot;</td><td>&quot;yes&quot;</td><td>&quot;31161&quot;</td></tr><tr><td>&quot;2022&quot;</td><td>&quot;Alameda&quot;</td><td>&quot;county_supervisorial_district&quot;</td><td>&quot;2&quot;</td><td>&quot;yes&quot;</td><td>&quot;28778&quot;</td></tr><tr><td>&quot;2022&quot;</td><td>&quot;Alameda&quot;</td><td>&quot;county_supervisorial_district&quot;</td><td>&quot;3&quot;</td><td>&quot;yes&quot;</td><td>&quot;34338&quot;</td></tr><tr><td>&quot;2022&quot;</td><td>&quot;Alameda&quot;</td><td>&quot;county_supervisorial_district&quot;</td><td>&quot;4&quot;</td><td>&quot;yes&quot;</td><td>&quot;33897&quot;</td></tr><tr><td>&quot;2022&quot;</td><td>&quot;Alameda&quot;</td><td>&quot;county_supervisorial_district&quot;</td><td>&quot;5&quot;</td><td>&quot;yes&quot;</td><td>&quot;54523&quot;</td></tr><tr><td>&hellip;</td><td>&hellip;</td><td>&hellip;</td><td>&hellip;</td><td>&hellip;</td><td>&hellip;</td></tr><tr><td>&quot;2018&quot;</td><td>&quot;Yuba&quot;</td><td>&quot;state_assembly_district&quot;</td><td>&quot;3&quot;</td><td>&quot;no&quot;</td><td>&quot;12845&quot;</td></tr><tr><td>&quot;2018&quot;</td><td>&quot;Yuba&quot;</td><td>&quot;state_assembly_district&quot;</td><td>&quot;1&quot;</td><td>&quot;no&quot;</td><td>&quot;12845&quot;</td></tr><tr><td>&quot;2018&quot;</td><td>&quot;Yuba&quot;</td><td>&quot;city&quot;</td><td>null</td><td>&quot;no&quot;</td><td>&quot;1857&quot;</td></tr><tr><td>&quot;2018&quot;</td><td>&quot;Yuba&quot;</td><td>&quot;city&quot;</td><td>null</td><td>&quot;no&quot;</td><td>&quot;591&quot;</td></tr><tr><td>&quot;2018&quot;</td><td>&quot;Yuba&quot;</td><td>&quot;city&quot;</td><td>null</td><td>&quot;no&quot;</td><td>&quot;10397&quot;</td></tr></tbody></table></div>"
      ],
      "text/plain": [
       "shape: (7_122, 6)\n",
       "┌──────┬─────────┬───────────────────────────────┬─────────────┬───────────┬────────────┐\n",
       "│ year ┆ county  ┆ sub_county                    ┆ district_id ┆ vote_type ┆ vote_count │\n",
       "│ ---  ┆ ---     ┆ ---                           ┆ ---         ┆ ---       ┆ ---        │\n",
       "│ str  ┆ str     ┆ str                           ┆ str         ┆ str       ┆ str        │\n",
       "╞══════╪═════════╪═══════════════════════════════╪═════════════╪═══════════╪════════════╡\n",
       "│ 2022 ┆ Alameda ┆ county_supervisorial_district ┆ 1           ┆ yes       ┆ 31161      │\n",
       "│ 2022 ┆ Alameda ┆ county_supervisorial_district ┆ 2           ┆ yes       ┆ 28778      │\n",
       "│ 2022 ┆ Alameda ┆ county_supervisorial_district ┆ 3           ┆ yes       ┆ 34338      │\n",
       "│ 2022 ┆ Alameda ┆ county_supervisorial_district ┆ 4           ┆ yes       ┆ 33897      │\n",
       "│ 2022 ┆ Alameda ┆ county_supervisorial_district ┆ 5           ┆ yes       ┆ 54523      │\n",
       "│ …    ┆ …       ┆ …                             ┆ …           ┆ …         ┆ …          │\n",
       "│ 2018 ┆ Yuba    ┆ state_assembly_district       ┆ 3           ┆ no        ┆ 12845      │\n",
       "│ 2018 ┆ Yuba    ┆ state_assembly_district       ┆ 1           ┆ no        ┆ 12845      │\n",
       "│ 2018 ┆ Yuba    ┆ city                          ┆ null        ┆ no        ┆ 1857       │\n",
       "│ 2018 ┆ Yuba    ┆ city                          ┆ null        ┆ no        ┆ 591        │\n",
       "│ 2018 ┆ Yuba    ┆ city                          ┆ null        ┆ no        ┆ 10397      │\n",
       "└──────┴─────────┴───────────────────────────────┴─────────────┴───────────┴────────────┘"
      ]
     },
     "execution_count": 273,
     "metadata": {},
     "output_type": "execute_result"
    }
   ],
   "source": [
    "ballot_measures_df"
   ]
  },
  {
   "cell_type": "code",
   "execution_count": 274,
   "metadata": {},
   "outputs": [
    {
     "name": "stdout",
     "output_type": "stream",
     "text": [
      "Unique counties in ballot_measures_df:\n",
      "['alameda', 'alpine', 'amador', 'butte', 'calaveras', 'colusa', 'contra costa', 'del norte', 'el dorado', 'fresno', 'glenn', 'humboldt', 'imperial', 'inyo', 'kern', 'kings', 'lake', 'lassen', 'los angeles', 'madera', 'marin', 'mariposa', 'mendocino', 'merced', 'modoc', 'mono', 'monterey', 'napa', 'nevada', 'orange', 'placer', 'plumas', 'riverside', 'sacramento', 'san benito', 'san bernardino', 'san diego', 'san francisco', 'san joaquin', 'san luis obispo', 'san mateo', 'santa barbara', 'santa clara', 'santa cruz', 'shasta', 'sierra', 'siskiyou', 'solano', 'sonoma', 'stanislaus', 'sutter', 'tehama', 'trinity', 'tulare', 'tuolumne', 'ventura', 'yolo', 'yuba']\n",
      "\n",
      "Unique counties in facility_df:\n",
      "['', 'alameda', 'butte', 'columbia', 'colusa', 'contra costa', 'del norte', 'el dorado', 'fresno', 'humboldt', 'imperial', 'inyo', 'kern', 'kings', 'lake', 'los angeles', 'madera', 'marin', 'mendocino', 'merced', 'monterey', 'napa', 'nevada', 'orange', 'placer', 'riverside', 'sacramento', 'san benito', 'san bernardino', 'san diego', 'san francisco', 'san joaquin', 'san luis obispo', 'san mateo', 'santa barbara', 'santa clara', 'santa cruz', 'shasta', 'solano', 'sonoma', 'stanislaus', 'sutter', 'tehama', 'tulare', 'tuolumne', 'ventura', 'yolo', 'yuba']\n",
      "\n",
      "Unique counties in cahps_df:\n",
      "['', 'alameda', 'butte', 'columbia', 'contra costa', 'del norte', 'el dorado', 'fresno', 'humboldt', 'imperial', 'inyo', 'kern', 'kings', 'lake', 'los angeles', 'madera', 'marin', 'mendocino', 'merced', 'monterey', 'napa', 'nevada', 'orange', 'placer', 'riverside', 'sacramento', 'san benito', 'san bernardino', 'san diego', 'san francisco', 'san joaquin', 'san luis obispo', 'san mateo', 'santa barbara', 'santa clara', 'santa cruz', 'shasta', 'solano', 'sonoma', 'stanislaus', 'sutter', 'tehama', 'tulare', 'tuolumne', 'ventura', 'yolo', 'yuba']\n",
      "\n",
      "Counties only in ballot_measures_df:\n",
      "['alpine', 'amador', 'calaveras', 'glenn', 'lassen', 'mariposa', 'modoc', 'mono', 'plumas', 'sierra', 'siskiyou', 'trinity']\n",
      "\n",
      "Counties only in facility_df:\n",
      "[]\n",
      "\n",
      "Counties only in cahps_df:\n",
      "[]\n",
      "\n",
      "Potential county name mismatches:\n",
      "['']\n"
     ]
    }
   ],
   "source": [
    "# The counties unique to the ballot measures dataframe are all in rural areas\n",
    "# This tells us dialysis facilites aren't located in more rural parts of california\n",
    "\n",
    "# Lowercasing all county and city names in the CMS dataframes\n",
    "\n",
    "facility_df = (\n",
    "    facility_df\n",
    "    .with_columns(\n",
    "        pl.col(\"county\")\n",
    "        .str.to_lowercase()\n",
    "        .alias(\"county\"),\n",
    "        pl.col(\"city\")\n",
    "        .str.to_lowercase()\n",
    "        .alias(\"city\")\n",
    "    )\n",
    ")\n",
    "\n",
    "cahps_df = (\n",
    "    cahps_df\n",
    "    .with_columns(\n",
    "        pl.col(\"county\")\n",
    "        .str.to_lowercase()\n",
    "        .alias(\"county\"),\n",
    "        pl.col(\"city\")\n",
    "        .str.to_lowercase()\n",
    "        .alias(\"city\")\n",
    "    )\n",
    ")\n",
    "\n",
    "# Lowercasing all county names in the SOS ballot measures dataframe\n",
    "\n",
    "ballot_measures_df = (\n",
    "    ballot_measures_df\n",
    "    .with_columns(\n",
    "        pl.col(\"county\")\n",
    "        .str.to_lowercase()\n",
    "        .alias(\"county\")\n",
    "    )\n",
    ")\n",
    "\n",
    "# Getting unique counties from all dataframes\n",
    "ballot_counties = set(ballot_measures_df['county'].unique())\n",
    "facility_counties = set(facility_df['county'].unique())\n",
    "cahps_counties = set(cahps_df['county'].unique())\n",
    "\n",
    "print(\"Unique counties in ballot_measures_df:\")\n",
    "print(sorted(ballot_counties))\n",
    "\n",
    "print(\"\\nUnique counties in facility_df:\")\n",
    "print(sorted(facility_counties))\n",
    "\n",
    "print(\"\\nUnique counties in cahps_df:\")\n",
    "print(sorted(cahps_counties))\n",
    "\n",
    "# Finding counties that are in one dataframe but not others\n",
    "counties_only_in_ballot = ballot_counties - facility_counties - cahps_counties\n",
    "counties_only_in_facility = facility_counties - ballot_counties - cahps_counties\n",
    "counties_only_in_cahps = cahps_counties - ballot_counties - facility_counties\n",
    "\n",
    "print(\"\\nCounties only in ballot_measures_df:\")\n",
    "print(sorted(counties_only_in_ballot))\n",
    "\n",
    "print(\"\\nCounties only in facility_df:\")\n",
    "print(sorted(counties_only_in_facility))\n",
    "\n",
    "print(\"\\nCounties only in cahps_df:\")\n",
    "print(sorted(counties_only_in_cahps))\n",
    "\n",
    "# Checking for potential mismatches due to formatting\n",
    "all_counties = ballot_counties.union(facility_counties).union(cahps_counties)\n",
    "potential_mismatches = [county for county in all_counties if any(\n",
    "    county != other_county and county in other_county\n",
    "    for other_county in all_counties\n",
    ")]\n",
    "\n",
    "print(\"\\nPotential county name mismatches:\")\n",
    "print(sorted(potential_mismatches))"
   ]
  },
  {
   "cell_type": "code",
   "execution_count": 275,
   "metadata": {},
   "outputs": [],
   "source": [
    "# Filtering the supplemental facility information dataframe to include on dialysis clinics\n",
    "\n",
    "supp_facility_df = supp_facility_df.filter(pl.col(\"LIC_CAT\") == \"Chronic Dialysis Clinic\")"
   ]
  },
  {
   "cell_type": "code",
   "execution_count": 276,
   "metadata": {},
   "outputs": [],
   "source": [
    "# Selecting facility ids and geographic features to merge with CMS data\n",
    "# Stripping extraneous numbers from facility ids to match the id format in CMS data\n",
    "# Renaming FAC_NO provider_number to match the id format in CMS data\n",
    "\n",
    "supp_facility_df = (supp_facility_df\n",
    " .with_columns(\n",
    "     pl.col(\"FAC_NO\")\n",
    "     .alias(\"provider_number\"))\n",
    " .with_columns(\n",
    "     pl.col(\"COUNTY\")\n",
    "     .alias(\"county\"))\n",
    " .with_columns(\n",
    "     pl.col(\"FAC_NAME\")\n",
    "     .alias(\"facility_name\"))\n",
    " .with_columns(\n",
    "     pl.col(\"FAC_ZIP\")\n",
    "     .alias(\"zip_code\"))\n",
    " .select([\n",
    "     \"year\",\n",
    "    \"provider_number\",\n",
    "    \"facility_name\",\n",
    "    \"county\",\n",
    "    \"zip_code\",\n",
    "    \"ASSEMBLY_DIST\",\n",
    "    \"SENATE_DIST\",\n",
    "    \"CONGRESS_DIST\",\n",
    "    \"CENS_TRACT\",\n",
    "    \"LONGITUDE\",\n",
    "    \"LATITUDE\"\n",
    "    ])\n",
    ")"
   ]
  },
  {
   "cell_type": "code",
   "execution_count": 277,
   "metadata": {},
   "outputs": [
    {
     "name": "stdout",
     "output_type": "stream",
     "text": [
      "(7898, 43)\n",
      "(5045, 33)\n"
     ]
    }
   ],
   "source": [
    "merged_df = cahps_df.join(\n",
    "    supp_facility_df,\n",
    "    on=\"facility_name\",\n",
    "    how=\"left\"\n",
    ")\n",
    "\n",
    "print(merged_df.shape)\n",
    "print(cahps_df.shape)"
   ]
  },
  {
   "cell_type": "code",
   "execution_count": 278,
   "metadata": {},
   "outputs": [],
   "source": [
    "# Merging datasets using standardized facility names\n",
    "\n",
    "def standardize_facility(df):\n",
    "    \n",
    "    df = df.with_columns(\n",
    "        pl.col('facility_name')\n",
    "        .str.to_lowercase()\n",
    "        .str.replace_all(' ', '')\n",
    "        .str.replace_all('-', '')\n",
    "        .str.replace_all(',', '')\n",
    "        .str.replace_all('.', '')\n",
    "        .alias('std_facility_name')\n",
    "    )\n",
    "\n",
    "    return df\n",
    "\n",
    "supp_facility_df = standardize_facility(supp_facility_df)\n",
    "cahps_df = standardize_facility(cahps_df)\n",
    "facility_df = standardize_facility(facility_df)\n",
    "\n",
    "# Here we're using multiple columns for matching\n",
    "# This is important because some facilities are essentially chains, so they have the same name regardless of zip code\n",
    "# I also tried using a fuzzy merge to match the facility names, but decided that having an accurate merge was more important than using a more complicated, but  matching algorithm\n",
    "\n",
    "merged_cahps_df = cahps_df.join(\n",
    "    supp_facility_df,\n",
    "    on=['std_facility_name', 'zip_code'],\n",
    "    how='left'\n",
    ")\n",
    "\n",
    "merged_facility_df = facility_df.join(\n",
    "    supp_facility_df,\n",
    "    on=['std_facility_name', 'zip_code'],\n",
    "    how='left'\n",
    ")"
   ]
  },
  {
   "cell_type": "code",
   "execution_count": 279,
   "metadata": {},
   "outputs": [
    {
     "name": "stdout",
     "output_type": "stream",
     "text": [
      "Multi-column merge shape: (49139, 44)\n",
      "Multi-column merge shape: (55384, 166)\n"
     ]
    }
   ],
   "source": [
    "# Comparing approaches\n",
    "print(f\"Multi-column merge shape: {merged_cahps_df.shape}\")\n",
    "\n",
    "print(f\"Multi-column merge shape: {merged_facility_df.shape}\")"
   ]
  },
  {
   "cell_type": "code",
   "execution_count": 280,
   "metadata": {},
   "outputs": [
    {
     "data": {
      "text/html": [
       "<div><style>\n",
       ".dataframe > thead > tr,\n",
       ".dataframe > tbody > tr {\n",
       "  text-align: right;\n",
       "  white-space: pre-wrap;\n",
       "}\n",
       "</style>\n",
       "<small>shape: (5_684, 156)</small><table border=\"1\" class=\"dataframe\"><thead><tr><th>provider_number</th><th>network</th><th>facility_name</th><th>five_star_date</th><th>five_star</th><th>five_star_data_availability_code</th><th>address_line_1</th><th>address_line_2</th><th>state</th><th>zip_code</th><th>profit_or_nonprofit</th><th>chain_owned</th><th>chain_organization</th><th>late_shift</th><th>_of_dialysis_stations</th><th>offers_incenter_hemodialysis</th><th>offers_peritoneal_dialysis</th><th>offers_home_hemodialysis_training</th><th>certification_date</th><th>claims_date</th><th>eqrs_date</th><th>smr_date</th><th>patient_survival_category_text</th><th>patient_survival_data_availability_code</th><th>number_of_patients_included_in_survival_summary</th><th>mortality_rate_facility</th><th>mortality_rate_upper_confidence_limit_975</th><th>mortality_rate_lower_confidence_limit_25</th><th>shr_date</th><th>patient_hospitalization_category_text</th><th>patient_hospitalization_data_availability_code</th><th>number_of_patients_included_in_hospitalization_summary</th><th>hospitalization_rate_upper_confidence_limit_975</th><th>hospitalization_rate_lower_confidence_limit_25</th><th>srr_date</th><th>patient_hospital_readmission_category</th><th>patient_hospital_readmission_data_availability_code</th><th>&hellip;</th><th>percentage_of_adult_patients_with_serum_phosphorus_greater_than_70_mgdl</th><th>long_term_catheter_data_availability_code</th><th>number_of_patients_in_long_term_catheter_summary</th><th>number_of_patient_months_in_long_term_catheter_summary</th><th>percentage_of_adult_patients_with_long_term_catheter_in_use</th><th>npcr_data_availability_code</th><th>number_of_patients_in_npcr_summary</th><th>number_of_patientmonths_in_npcr_summary</th><th>percentage_of_pediatric_hd_patients_with_npcr</th><th>year</th><th>month</th><th>city</th><th>county</th><th>phone_number</th><th>certification_or_recertification_date</th><th>crownweb_date</th><th>serum_phosphorus_data_availability_code_</th><th>dateswr</th><th>offers_incenter_peritoneal_dialysis</th><th>rate_of_hospital_readmission_category_text</th><th>percentage_of_medicare_patients_with_hgb_10_gdl</th><th>number_of_patients_included_in_transfusion_summary</th><th>standard_infection_ratio_</th><th>percentage_of_adult_hd_patients_with_ktv_12</th><th>percentage_of_adult_pd_patients_with_ktv17</th><th>percentage_of_pediatric_hd_patents_with_ktv12</th><th>percentage_of_pediatric_pd_patents_with_ktv18</th><th>number_of_adult_patients_included_in_arterial_venous_fistula_and_catheter_summaries</th><th>number_of_adult_patientmonths_included_in_arterial_venous_fistula_and_catheter_summaries</th><th>arteriovenous_fistulae_in_use_data_availability_code</th><th>percentage_of_patients_with_arteriovenous_fistulae_in_use</th><th>vascular_catheter_data_availability_code</th><th>percentage_of_patients_with_vascular_catheter_in_use_for_90_days_or_longer</th><th>hospitalization_rate_facility_</th><th>patient_hospital_readmission_category_text</th><th>readmission_rate_facility_</th><th>std_facility_name</th></tr><tr><td>str</td><td>str</td><td>str</td><td>str</td><td>str</td><td>str</td><td>str</td><td>str</td><td>str</td><td>str</td><td>str</td><td>str</td><td>str</td><td>str</td><td>str</td><td>str</td><td>str</td><td>str</td><td>str</td><td>str</td><td>str</td><td>str</td><td>str</td><td>str</td><td>str</td><td>str</td><td>str</td><td>str</td><td>str</td><td>str</td><td>str</td><td>str</td><td>str</td><td>str</td><td>str</td><td>str</td><td>str</td><td>&hellip;</td><td>str</td><td>str</td><td>str</td><td>str</td><td>str</td><td>str</td><td>str</td><td>str</td><td>str</td><td>str</td><td>str</td><td>str</td><td>str</td><td>str</td><td>str</td><td>str</td><td>str</td><td>str</td><td>str</td><td>str</td><td>str</td><td>str</td><td>str</td><td>str</td><td>str</td><td>str</td><td>str</td><td>str</td><td>str</td><td>str</td><td>str</td><td>str</td><td>str</td><td>str</td><td>str</td><td>str</td><td>str</td></tr></thead><tbody><tr><td>&quot;52305&quot;</td><td>&quot;17&quot;</td><td>&quot;SANTA CLARA VALLEY RENAL CARE …</td><td>&quot;01Jan2019-31Dec2022&quot;</td><td>&quot;3&quot;</td><td>&quot;1&quot;</td><td>&quot;2220 MOORPARK AVENUE&quot;</td><td>null</td><td>&quot;CA&quot;</td><td>&quot;95128&quot;</td><td>&quot;non-profit&quot;</td><td>&quot;no&quot;</td><td>&quot;Independent&quot;</td><td>&quot;yes&quot;</td><td>&quot;25&quot;</td><td>&quot;yes&quot;</td><td>&quot;yes&quot;</td><td>&quot;no&quot;</td><td>&quot;22AUG1977&quot;</td><td>&quot;01OCT2022-30SEP2023&quot;</td><td>&quot;01OCT2022-30SEP2023&quot;</td><td>&quot;01Jan2019-31Dec2022&quot;</td><td>&quot;As Expected&quot;</td><td>&quot;1&quot;</td><td>&quot;529&quot;</td><td>&quot;19.8&quot;</td><td>&quot;30.5&quot;</td><td>&quot;13.3&quot;</td><td>&quot;01Jan2022-31Dec2022&quot;</td><td>&quot;As Expected&quot;</td><td>&quot;1&quot;</td><td>&quot;117&quot;</td><td>&quot;205.7&quot;</td><td>&quot;97.9&quot;</td><td>&quot;01Jan2022-31Dec2022&quot;</td><td>&quot;As Expected&quot;</td><td>&quot;1&quot;</td><td>&hellip;</td><td>&quot;11&quot;</td><td>&quot;1&quot;</td><td>&quot;192&quot;</td><td>&quot;1771&quot;</td><td>&quot;22&quot;</td><td>&quot;259&quot;</td><td>&quot;0&quot;</td><td>null</td><td>null</td><td>&quot;2024&quot;</td><td>&quot;7&quot;</td><td>&quot;san jose&quot;</td><td>&quot;santa clara&quot;</td><td>&quot;(408) 885-5730&quot;</td><td>null</td><td>null</td><td>null</td><td>null</td><td>null</td><td>null</td><td>null</td><td>null</td><td>null</td><td>null</td><td>null</td><td>null</td><td>null</td><td>null</td><td>null</td><td>null</td><td>null</td><td>null</td><td>null</td><td>null</td><td>null</td><td>null</td><td>&quot;&quot;</td></tr><tr><td>&quot;52311&quot;</td><td>&quot;18&quot;</td><td>&quot;St. Joseph Hospital Renal Cent…</td><td>&quot;01Jan2019-31Dec2022&quot;</td><td>&quot;3&quot;</td><td>&quot;1&quot;</td><td>&quot;Sr. Elizabeth Bldg. 1100 W. St…</td><td>null</td><td>&quot;CA&quot;</td><td>&quot;92868&quot;</td><td>&quot;non-profit&quot;</td><td>&quot;no&quot;</td><td>&quot;Independent&quot;</td><td>&quot;yes&quot;</td><td>&quot;39&quot;</td><td>&quot;yes&quot;</td><td>&quot;yes&quot;</td><td>&quot;yes&quot;</td><td>&quot;15AUG1977&quot;</td><td>&quot;01OCT2022-30SEP2023&quot;</td><td>&quot;01OCT2022-30SEP2023&quot;</td><td>&quot;01Jan2019-31Dec2022&quot;</td><td>&quot;As Expected&quot;</td><td>&quot;1&quot;</td><td>&quot;533&quot;</td><td>&quot;22.9&quot;</td><td>&quot;33.7&quot;</td><td>&quot;16.1&quot;</td><td>&quot;01Jan2022-31Dec2022&quot;</td><td>&quot;Better than Expected&quot;</td><td>&quot;1&quot;</td><td>&quot;111&quot;</td><td>&quot;129.0&quot;</td><td>&quot;49.7&quot;</td><td>&quot;01Jan2022-31Dec2022&quot;</td><td>&quot;As Expected&quot;</td><td>&quot;1&quot;</td><td>&hellip;</td><td>&quot;15&quot;</td><td>&quot;1&quot;</td><td>&quot;161&quot;</td><td>&quot;1437&quot;</td><td>&quot;14&quot;</td><td>&quot;1&quot;</td><td>&quot;14&quot;</td><td>&quot;78&quot;</td><td>&quot;97&quot;</td><td>&quot;2024&quot;</td><td>&quot;7&quot;</td><td>&quot;orange&quot;</td><td>&quot;orange&quot;</td><td>&quot;(714) 771-8037&quot;</td><td>null</td><td>null</td><td>null</td><td>null</td><td>null</td><td>null</td><td>null</td><td>null</td><td>null</td><td>null</td><td>null</td><td>null</td><td>null</td><td>null</td><td>null</td><td>null</td><td>null</td><td>null</td><td>null</td><td>null</td><td>null</td><td>null</td><td>&quot;&quot;</td></tr><tr><td>&quot;52321&quot;</td><td>&quot;18&quot;</td><td>&quot;Childrens Hospital of Los Ange…</td><td>&quot;01Jan2019-31Dec2022&quot;</td><td>null</td><td>&quot;260&quot;</td><td>&quot;Division of Nephrology (Dialys…</td><td>null</td><td>&quot;CA&quot;</td><td>&quot;90027&quot;</td><td>&quot;non-profit&quot;</td><td>&quot;no&quot;</td><td>&quot;Independent&quot;</td><td>&quot;no&quot;</td><td>&quot;10&quot;</td><td>&quot;yes&quot;</td><td>&quot;yes&quot;</td><td>&quot;yes&quot;</td><td>&quot;28JUL1977&quot;</td><td>&quot;01OCT2022-30SEP2023&quot;</td><td>&quot;01OCT2022-30SEP2023&quot;</td><td>&quot;01Jan2019-31Dec2022&quot;</td><td>&quot;not Available&quot;</td><td>&quot;199&quot;</td><td>&quot;54&quot;</td><td>null</td><td>null</td><td>null</td><td>&quot;01Jan2022-31Dec2022&quot;</td><td>&quot;not Available&quot;</td><td>&quot;199&quot;</td><td>&quot;5&quot;</td><td>null</td><td>null</td><td>&quot;01Jan2022-31Dec2022&quot;</td><td>&quot;As Expected&quot;</td><td>&quot;1&quot;</td><td>&hellip;</td><td>null</td><td>&quot;199&quot;</td><td>&quot;3&quot;</td><td>&quot;28&quot;</td><td>null</td><td>&quot;1&quot;</td><td>&quot;54&quot;</td><td>&quot;456&quot;</td><td>&quot;81&quot;</td><td>&quot;2024&quot;</td><td>&quot;7&quot;</td><td>&quot;los angeles&quot;</td><td>&quot;los angeles&quot;</td><td>&quot;(323) 361-2560&quot;</td><td>null</td><td>null</td><td>null</td><td>null</td><td>null</td><td>null</td><td>null</td><td>null</td><td>null</td><td>null</td><td>null</td><td>null</td><td>null</td><td>null</td><td>null</td><td>null</td><td>null</td><td>null</td><td>null</td><td>null</td><td>null</td><td>null</td><td>&quot;&quot;</td></tr><tr><td>&quot;52323&quot;</td><td>&quot;18&quot;</td><td>&quot;Kaiser Foundation Hospital Med…</td><td>&quot;01Jan2019-31Dec2022&quot;</td><td>&quot;4&quot;</td><td>&quot;1&quot;</td><td>&quot;Dialysis Unit 4700 Sunset Blvd…</td><td>null</td><td>&quot;CA&quot;</td><td>&quot;90027&quot;</td><td>&quot;non-profit&quot;</td><td>&quot;yes&quot;</td><td>&quot;Kaiser Permanente&quot;</td><td>&quot;yes&quot;</td><td>&quot;30&quot;</td><td>&quot;yes&quot;</td><td>&quot;yes&quot;</td><td>&quot;yes&quot;</td><td>&quot;25JUL1977&quot;</td><td>&quot;01OCT2022-30SEP2023&quot;</td><td>&quot;01OCT2022-30SEP2023&quot;</td><td>&quot;01Jan2019-31Dec2022&quot;</td><td>&quot;As Expected&quot;</td><td>&quot;1&quot;</td><td>&quot;793&quot;</td><td>&quot;18.9&quot;</td><td>&quot;27.4&quot;</td><td>&quot;13.6&quot;</td><td>&quot;01Jan2022-31Dec2022&quot;</td><td>&quot;As Expected&quot;</td><td>&quot;1&quot;</td><td>&quot;183&quot;</td><td>&quot;161.6&quot;</td><td>&quot;79.3&quot;</td><td>&quot;01Jan2022-31Dec2022&quot;</td><td>&quot;As Expected&quot;</td><td>&quot;1&quot;</td><td>&hellip;</td><td>&quot;13&quot;</td><td>&quot;1&quot;</td><td>&quot;133&quot;</td><td>&quot;1213&quot;</td><td>&quot;18&quot;</td><td>&quot;259&quot;</td><td>&quot;0&quot;</td><td>null</td><td>null</td><td>&quot;2024&quot;</td><td>&quot;7&quot;</td><td>&quot;los angeles&quot;</td><td>&quot;los angeles&quot;</td><td>&quot;(323) 783-5580&quot;</td><td>null</td><td>null</td><td>null</td><td>null</td><td>null</td><td>null</td><td>null</td><td>null</td><td>null</td><td>null</td><td>null</td><td>null</td><td>null</td><td>null</td><td>null</td><td>null</td><td>null</td><td>null</td><td>null</td><td>null</td><td>null</td><td>null</td><td>&quot;&quot;</td></tr><tr><td>&quot;52334&quot;</td><td>&quot;18&quot;</td><td>&quot;Arrowhead Regional Medical Cen…</td><td>&quot;01Jan2019-31Dec2022&quot;</td><td>&quot;4&quot;</td><td>&quot;1&quot;</td><td>&quot;400 N. Pepper Avenue&quot;</td><td>null</td><td>&quot;CA&quot;</td><td>&quot;92324&quot;</td><td>&quot;non-profit&quot;</td><td>&quot;no&quot;</td><td>&quot;Independent&quot;</td><td>&quot;no&quot;</td><td>&quot;8&quot;</td><td>&quot;yes&quot;</td><td>&quot;no&quot;</td><td>&quot;no&quot;</td><td>&quot;28APR2006&quot;</td><td>&quot;01OCT2022-30SEP2023&quot;</td><td>&quot;01OCT2022-30SEP2023&quot;</td><td>&quot;01Jan2019-31Dec2022&quot;</td><td>&quot;As Expected&quot;</td><td>&quot;1&quot;</td><td>&quot;282&quot;</td><td>&quot;12.2&quot;</td><td>&quot;23.1&quot;</td><td>&quot;6.2&quot;</td><td>&quot;01Jan2022-31Dec2022&quot;</td><td>&quot;As Expected&quot;</td><td>&quot;1&quot;</td><td>&quot;68&quot;</td><td>&quot;165.7&quot;</td><td>&quot;52.7&quot;</td><td>&quot;01Jan2022-31Dec2022&quot;</td><td>&quot;As Expected&quot;</td><td>&quot;1&quot;</td><td>&hellip;</td><td>&quot;9&quot;</td><td>&quot;1&quot;</td><td>&quot;105&quot;</td><td>&quot;1073&quot;</td><td>&quot;9&quot;</td><td>&quot;259&quot;</td><td>&quot;0&quot;</td><td>null</td><td>null</td><td>&quot;2024&quot;</td><td>&quot;7&quot;</td><td>&quot;colton&quot;</td><td>&quot;san bernardino&quot;</td><td>&quot;(909) 580-3911&quot;</td><td>null</td><td>null</td><td>null</td><td>null</td><td>null</td><td>null</td><td>null</td><td>null</td><td>null</td><td>null</td><td>null</td><td>null</td><td>null</td><td>null</td><td>null</td><td>null</td><td>null</td><td>null</td><td>null</td><td>null</td><td>null</td><td>null</td><td>&quot;&quot;</td></tr><tr><td>&hellip;</td><td>&hellip;</td><td>&hellip;</td><td>&hellip;</td><td>&hellip;</td><td>&hellip;</td><td>&hellip;</td><td>&hellip;</td><td>&hellip;</td><td>&hellip;</td><td>&hellip;</td><td>&hellip;</td><td>&hellip;</td><td>&hellip;</td><td>&hellip;</td><td>&hellip;</td><td>&hellip;</td><td>&hellip;</td><td>&hellip;</td><td>&hellip;</td><td>&hellip;</td><td>&hellip;</td><td>&hellip;</td><td>&hellip;</td><td>&hellip;</td><td>&hellip;</td><td>&hellip;</td><td>&hellip;</td><td>&hellip;</td><td>&hellip;</td><td>&hellip;</td><td>&hellip;</td><td>&hellip;</td><td>&hellip;</td><td>&hellip;</td><td>&hellip;</td><td>&hellip;</td><td>&hellip;</td><td>&hellip;</td><td>&hellip;</td><td>&hellip;</td><td>&hellip;</td><td>&hellip;</td><td>&hellip;</td><td>&hellip;</td><td>&hellip;</td><td>&hellip;</td><td>&hellip;</td><td>&hellip;</td><td>&hellip;</td><td>&hellip;</td><td>&hellip;</td><td>&hellip;</td><td>&hellip;</td><td>&hellip;</td><td>&hellip;</td><td>&hellip;</td><td>&hellip;</td><td>&hellip;</td><td>&hellip;</td><td>&hellip;</td><td>&hellip;</td><td>&hellip;</td><td>&hellip;</td><td>&hellip;</td><td>&hellip;</td><td>&hellip;</td><td>&hellip;</td><td>&hellip;</td><td>&hellip;</td><td>&hellip;</td><td>&hellip;</td><td>&hellip;</td><td>&hellip;</td><td>&hellip;</td></tr><tr><td>&quot;552607&quot;</td><td>&quot;17&quot;</td><td>&quot;NORTHGATE DIALYSIS CENTER&quot;</td><td>&quot;01Jan2012-31Dec2015&quot;</td><td>&quot;3&quot;</td><td>&quot;1&quot;</td><td>&quot;650 LAS GALLINAS ROAD&quot;</td><td>&quot;&quot;</td><td>&quot;CA&quot;</td><td>&quot;94903&quot;</td><td>&quot;profit&quot;</td><td>&quot;yes&quot;</td><td>&quot;DAVITA&quot;</td><td>&quot;no&quot;</td><td>&quot;12&quot;</td><td>&quot;yes&quot;</td><td>null</td><td>&quot;yes&quot;</td><td>null</td><td>&quot;01JAN2016-31DEC2016&quot;</td><td>null</td><td>&quot;01Jan2013-31Dec2016&quot;</td><td>&quot;As Expected&quot;</td><td>&quot;1&quot;</td><td>&quot;422&quot;</td><td>&quot;13.9&quot;</td><td>&quot;18.2&quot;</td><td>&quot;10.5&quot;</td><td>&quot;01Jan2016-31Dec2016&quot;</td><td>&quot;As Expected&quot;</td><td>&quot;1&quot;</td><td>&quot;56&quot;</td><td>&quot;326.6&quot;</td><td>&quot;105.3&quot;</td><td>&quot;01Jan2016-31Dec2016&quot;</td><td>null</td><td>&quot;1&quot;</td><td>&hellip;</td><td>&quot;9&quot;</td><td>null</td><td>null</td><td>null</td><td>null</td><td>null</td><td>null</td><td>null</td><td>null</td><td>&quot;2017&quot;</td><td>&quot;10&quot;</td><td>&quot;san rafael&quot;</td><td>&quot;marin&quot;</td><td>&quot;4154440376&quot;</td><td>&quot;23-Jan-09&quot;</td><td>&quot;01JAN2016-31DEC2016&quot;</td><td>null</td><td>null</td><td>&quot;yes&quot;</td><td>null</td><td>&quot;4&quot;</td><td>&quot;52&quot;</td><td>&quot;0.24&quot;</td><td>&quot;87&quot;</td><td>&quot;89&quot;</td><td>&quot;&quot;</td><td>&quot;&quot;</td><td>&quot;48&quot;</td><td>&quot;340&quot;</td><td>&quot;1&quot;</td><td>&quot;67&quot;</td><td>&quot;1&quot;</td><td>&quot;10&quot;</td><td>&quot;181.7&quot;</td><td>&quot;As Expected&quot;</td><td>&quot;34.2&quot;</td><td>&quot;&quot;</td></tr><tr><td>&quot;552608&quot;</td><td>&quot;17&quot;</td><td>&quot;CORNERHOUSE DIALYSIS CENTER&quot;</td><td>&quot;01Jan2012-31Dec2015&quot;</td><td>&quot;2&quot;</td><td>&quot;1&quot;</td><td>&quot;2005 NAGLEE AVENUE&quot;</td><td>&quot;&quot;</td><td>&quot;CA&quot;</td><td>&quot;95128&quot;</td><td>&quot;profit&quot;</td><td>&quot;yes&quot;</td><td>&quot;DAVITA&quot;</td><td>&quot;yes&quot;</td><td>&quot;16&quot;</td><td>&quot;yes&quot;</td><td>null</td><td>&quot;no&quot;</td><td>null</td><td>&quot;01JAN2016-31DEC2016&quot;</td><td>null</td><td>&quot;01Jan2013-31Dec2016&quot;</td><td>&quot;As Expected&quot;</td><td>&quot;1&quot;</td><td>&quot;529&quot;</td><td>&quot;15.4&quot;</td><td>&quot;19.8&quot;</td><td>&quot;11.9&quot;</td><td>&quot;01Jan2016-31Dec2016&quot;</td><td>&quot;As Expected&quot;</td><td>&quot;1&quot;</td><td>&quot;73&quot;</td><td>&quot;355.9&quot;</td><td>&quot;133.1&quot;</td><td>&quot;01Jan2016-31Dec2016&quot;</td><td>null</td><td>&quot;1&quot;</td><td>&hellip;</td><td>&quot;13&quot;</td><td>null</td><td>null</td><td>null</td><td>null</td><td>null</td><td>null</td><td>null</td><td>null</td><td>&quot;2017&quot;</td><td>&quot;10&quot;</td><td>&quot;san jose&quot;</td><td>&quot;santa clara&quot;</td><td>&quot;4089980183&quot;</td><td>&quot;26-nov-08&quot;</td><td>&quot;01JAN2016-31DEC2016&quot;</td><td>null</td><td>null</td><td>&quot;no&quot;</td><td>null</td><td>&quot;13&quot;</td><td>&quot;67&quot;</td><td>&quot;0.91&quot;</td><td>&quot;86&quot;</td><td>&quot;&quot;</td><td>&quot;&quot;</td><td>&quot;&quot;</td><td>&quot;67&quot;</td><td>&quot;449&quot;</td><td>&quot;1&quot;</td><td>&quot;78&quot;</td><td>&quot;1&quot;</td><td>&quot;12&quot;</td><td>&quot;214.7&quot;</td><td>&quot;Worse than Expected&quot;</td><td>&quot;39.3&quot;</td><td>&quot;&quot;</td></tr><tr><td>&quot;552609&quot;</td><td>&quot;18&quot;</td><td>&quot;SATELLITE HEALTHCARE ORANGE&quot;</td><td>&quot;01Jan2012-31Dec2015&quot;</td><td>&quot;5&quot;</td><td>&quot;1&quot;</td><td>&quot;1518 W. LA VETA AVENUE&quot;</td><td>&quot;&quot;</td><td>&quot;CA&quot;</td><td>&quot;92868&quot;</td><td>&quot;non_profit&quot;</td><td>&quot;yes&quot;</td><td>&quot;SATELLITE HEALTHCARE&quot;</td><td>&quot;yes&quot;</td><td>&quot;24&quot;</td><td>&quot;yes&quot;</td><td>null</td><td>&quot;no&quot;</td><td>null</td><td>&quot;01JAN2016-31DEC2016&quot;</td><td>null</td><td>&quot;01Jan2013-31Dec2016&quot;</td><td>&quot;As Expected&quot;</td><td>&quot;1&quot;</td><td>&quot;699&quot;</td><td>&quot;15.1&quot;</td><td>&quot;19&quot;</td><td>&quot;11.8&quot;</td><td>&quot;01Jan2016-31Dec2016&quot;</td><td>&quot;As Expected&quot;</td><td>&quot;1&quot;</td><td>&quot;146&quot;</td><td>&quot;206.3&quot;</td><td>&quot;80.2&quot;</td><td>&quot;01Jan2016-31Dec2016&quot;</td><td>null</td><td>&quot;1&quot;</td><td>&hellip;</td><td>&quot;11&quot;</td><td>null</td><td>null</td><td>null</td><td>null</td><td>null</td><td>null</td><td>null</td><td>null</td><td>&quot;2017&quot;</td><td>&quot;10&quot;</td><td>&quot;orange&quot;</td><td>&quot;orange&quot;</td><td>&quot;7142859675&quot;</td><td>&quot;29-Dec-08&quot;</td><td>&quot;01JAN2016-31DEC2016&quot;</td><td>null</td><td>null</td><td>&quot;yes&quot;</td><td>null</td><td>&quot;12&quot;</td><td>&quot;122&quot;</td><td>&quot;0.33&quot;</td><td>&quot;98&quot;</td><td>&quot;89&quot;</td><td>&quot;&quot;</td><td>&quot;&quot;</td><td>&quot;133&quot;</td><td>&quot;1009&quot;</td><td>&quot;1&quot;</td><td>&quot;77&quot;</td><td>&quot;1&quot;</td><td>&quot;8&quot;</td><td>&quot;123.7&quot;</td><td>&quot;As Expected&quot;</td><td>&quot;16.3&quot;</td><td>&quot;&quot;</td></tr><tr><td>&quot;552611&quot;</td><td>&quot;17&quot;</td><td>&quot;WALNUT CREEK AT HOME&quot;</td><td>&quot;01Jan2012-31Dec2015&quot;</td><td>&quot;3&quot;</td><td>&quot;1&quot;</td><td>&quot;400 N WIGET LANE&quot;</td><td>&quot;&quot;</td><td>&quot;CA&quot;</td><td>&quot;94598&quot;</td><td>&quot;profit&quot;</td><td>&quot;yes&quot;</td><td>&quot;DAVITA&quot;</td><td>&quot;no&quot;</td><td>&quot;3&quot;</td><td>&quot;yes&quot;</td><td>null</td><td>&quot;yes&quot;</td><td>null</td><td>&quot;01JAN2016-31DEC2016&quot;</td><td>null</td><td>&quot;01Jan2013-31Dec2016&quot;</td><td>&quot;As Expected&quot;</td><td>&quot;1&quot;</td><td>&quot;104&quot;</td><td>&quot;13.1&quot;</td><td>&quot;28.5&quot;</td><td>&quot;4.8&quot;</td><td>&quot;01Jan2016-31Dec2016&quot;</td><td>&quot;As Expected&quot;</td><td>&quot;1&quot;</td><td>&quot;17&quot;</td><td>&quot;538.4&quot;</td><td>&quot;78.1&quot;</td><td>&quot;01Jan2016-31Dec2016&quot;</td><td>null</td><td>&quot;1&quot;</td><td>&hellip;</td><td>&quot;17&quot;</td><td>null</td><td>null</td><td>null</td><td>null</td><td>null</td><td>null</td><td>null</td><td>null</td><td>&quot;2017&quot;</td><td>&quot;10&quot;</td><td>&quot;walnut creek&quot;</td><td>&quot;contra costa&quot;</td><td>&quot;9259799732&quot;</td><td>&quot;31-Oct-08&quot;</td><td>&quot;01JAN2016-31DEC2016&quot;</td><td>null</td><td>null</td><td>&quot;yes&quot;</td><td>null</td><td>&quot;&quot;</td><td>&quot;14&quot;</td><td>&quot;&quot;</td><td>&quot;&quot;</td><td>&quot;&quot;</td><td>&quot;&quot;</td><td>&quot;&quot;</td><td>&quot;9&quot;</td><td>&quot;82&quot;</td><td>&quot;199&quot;</td><td>&quot;&quot;</td><td>&quot;199&quot;</td><td>&quot;&quot;</td><td>&quot;197.1&quot;</td><td>&quot;As Expected&quot;</td><td>&quot;6.9&quot;</td><td>&quot;&quot;</td></tr><tr><td>&quot;552612&quot;</td><td>&quot;17&quot;</td><td>&quot;SUNSET DIALYSIS CENTER&quot;</td><td>&quot;01Jan2012-31Dec2015&quot;</td><td>&quot;3&quot;</td><td>&quot;1&quot;</td><td>&quot;3071 GOLD CANAL DRIVE&quot;</td><td>&quot;&quot;</td><td>&quot;CA&quot;</td><td>&quot;95670&quot;</td><td>&quot;profit&quot;</td><td>&quot;yes&quot;</td><td>&quot;DAVITA&quot;</td><td>&quot;yes&quot;</td><td>&quot;24&quot;</td><td>&quot;yes&quot;</td><td>null</td><td>&quot;no&quot;</td><td>null</td><td>&quot;01JAN2016-31DEC2016&quot;</td><td>null</td><td>&quot;01Jan2013-31Dec2016&quot;</td><td>&quot;As Expected&quot;</td><td>&quot;1&quot;</td><td>&quot;622&quot;</td><td>&quot;20&quot;</td><td>&quot;24.6&quot;</td><td>&quot;16.1&quot;</td><td>&quot;01Jan2016-31Dec2016&quot;</td><td>&quot;As Expected&quot;</td><td>&quot;1&quot;</td><td>&quot;92&quot;</td><td>&quot;375.7&quot;</td><td>&quot;155.2&quot;</td><td>&quot;01Jan2016-31Dec2016&quot;</td><td>null</td><td>&quot;1&quot;</td><td>&hellip;</td><td>&quot;16&quot;</td><td>null</td><td>null</td><td>null</td><td>null</td><td>null</td><td>null</td><td>null</td><td>null</td><td>&quot;2017&quot;</td><td>&quot;10&quot;</td><td>&quot;rancho cordova&quot;</td><td>&quot;sacramento&quot;</td><td>&quot;9166388429&quot;</td><td>&quot;7-Jan-09&quot;</td><td>&quot;01JAN2016-31DEC2016&quot;</td><td>null</td><td>null</td><td>&quot;no&quot;</td><td>null</td><td>&quot;12&quot;</td><td>&quot;83&quot;</td><td>&quot;1.21&quot;</td><td>&quot;92&quot;</td><td>&quot;&quot;</td><td>&quot;&quot;</td><td>&quot;&quot;</td><td>&quot;71&quot;</td><td>&quot;600&quot;</td><td>&quot;1&quot;</td><td>&quot;63&quot;</td><td>&quot;1&quot;</td><td>&quot;14&quot;</td><td>&quot;238.5&quot;</td><td>&quot;As Expected&quot;</td><td>&quot;27.4&quot;</td><td>&quot;&quot;</td></tr></tbody></table></div>"
      ],
      "text/plain": [
       "shape: (5_684, 156)\n",
       "┌────────────┬─────────┬───────────┬───────────┬───┬───────────┬───────────┬───────────┬───────────┐\n",
       "│ provider_n ┆ network ┆ facility_ ┆ five_star ┆ … ┆ hospitali ┆ patient_h ┆ readmissi ┆ std_facil │\n",
       "│ umber      ┆ ---     ┆ name      ┆ _date     ┆   ┆ zation_ra ┆ ospital_r ┆ on_rate_f ┆ ity_name  │\n",
       "│ ---        ┆ str     ┆ ---       ┆ ---       ┆   ┆ te_facili ┆ eadmissio ┆ acility_  ┆ ---       │\n",
       "│ str        ┆         ┆ str       ┆ str       ┆   ┆ ty_       ┆ n_c…      ┆ ---       ┆ str       │\n",
       "│            ┆         ┆           ┆           ┆   ┆ ---       ┆ ---       ┆ str       ┆           │\n",
       "│            ┆         ┆           ┆           ┆   ┆ str       ┆ str       ┆           ┆           │\n",
       "╞════════════╪═════════╪═══════════╪═══════════╪═══╪═══════════╪═══════════╪═══════════╪═══════════╡\n",
       "│ 52305      ┆ 17      ┆ SANTA     ┆ 01Jan2019 ┆ … ┆ null      ┆ null      ┆ null      ┆           │\n",
       "│            ┆         ┆ CLARA     ┆ -31Dec202 ┆   ┆           ┆           ┆           ┆           │\n",
       "│            ┆         ┆ VALLEY    ┆ 2         ┆   ┆           ┆           ┆           ┆           │\n",
       "│            ┆         ┆ RENAL     ┆           ┆   ┆           ┆           ┆           ┆           │\n",
       "│            ┆         ┆ CARE …    ┆           ┆   ┆           ┆           ┆           ┆           │\n",
       "│ 52311      ┆ 18      ┆ St.       ┆ 01Jan2019 ┆ … ┆ null      ┆ null      ┆ null      ┆           │\n",
       "│            ┆         ┆ Joseph    ┆ -31Dec202 ┆   ┆           ┆           ┆           ┆           │\n",
       "│            ┆         ┆ Hospital  ┆ 2         ┆   ┆           ┆           ┆           ┆           │\n",
       "│            ┆         ┆ Renal     ┆           ┆   ┆           ┆           ┆           ┆           │\n",
       "│            ┆         ┆ Cent…     ┆           ┆   ┆           ┆           ┆           ┆           │\n",
       "│ 52321      ┆ 18      ┆ Childrens ┆ 01Jan2019 ┆ … ┆ null      ┆ null      ┆ null      ┆           │\n",
       "│            ┆         ┆ Hospital  ┆ -31Dec202 ┆   ┆           ┆           ┆           ┆           │\n",
       "│            ┆         ┆ of Los    ┆ 2         ┆   ┆           ┆           ┆           ┆           │\n",
       "│            ┆         ┆ Ange…     ┆           ┆   ┆           ┆           ┆           ┆           │\n",
       "│ 52323      ┆ 18      ┆ Kaiser    ┆ 01Jan2019 ┆ … ┆ null      ┆ null      ┆ null      ┆           │\n",
       "│            ┆         ┆ Foundatio ┆ -31Dec202 ┆   ┆           ┆           ┆           ┆           │\n",
       "│            ┆         ┆ n         ┆ 2         ┆   ┆           ┆           ┆           ┆           │\n",
       "│            ┆         ┆ Hospital  ┆           ┆   ┆           ┆           ┆           ┆           │\n",
       "│            ┆         ┆ Med…      ┆           ┆   ┆           ┆           ┆           ┆           │\n",
       "│ 52334      ┆ 18      ┆ Arrowhead ┆ 01Jan2019 ┆ … ┆ null      ┆ null      ┆ null      ┆           │\n",
       "│            ┆         ┆ Regional  ┆ -31Dec202 ┆   ┆           ┆           ┆           ┆           │\n",
       "│            ┆         ┆ Medical   ┆ 2         ┆   ┆           ┆           ┆           ┆           │\n",
       "│            ┆         ┆ Cen…      ┆           ┆   ┆           ┆           ┆           ┆           │\n",
       "│ …          ┆ …       ┆ …         ┆ …         ┆ … ┆ …         ┆ …         ┆ …         ┆ …         │\n",
       "│ 552607     ┆ 17      ┆ NORTHGATE ┆ 01Jan2012 ┆ … ┆ 181.7     ┆ As        ┆ 34.2      ┆           │\n",
       "│            ┆         ┆ DIALYSIS  ┆ -31Dec201 ┆   ┆           ┆ Expected  ┆           ┆           │\n",
       "│            ┆         ┆ CENTER    ┆ 5         ┆   ┆           ┆           ┆           ┆           │\n",
       "│ 552608     ┆ 17      ┆ CORNERHOU ┆ 01Jan2012 ┆ … ┆ 214.7     ┆ Worse     ┆ 39.3      ┆           │\n",
       "│            ┆         ┆ SE        ┆ -31Dec201 ┆   ┆           ┆ than      ┆           ┆           │\n",
       "│            ┆         ┆ DIALYSIS  ┆ 5         ┆   ┆           ┆ Expected  ┆           ┆           │\n",
       "│            ┆         ┆ CENTER    ┆           ┆   ┆           ┆           ┆           ┆           │\n",
       "│ 552609     ┆ 18      ┆ SATELLITE ┆ 01Jan2012 ┆ … ┆ 123.7     ┆ As        ┆ 16.3      ┆           │\n",
       "│            ┆         ┆ HEALTHCAR ┆ -31Dec201 ┆   ┆           ┆ Expected  ┆           ┆           │\n",
       "│            ┆         ┆ E ORANGE  ┆ 5         ┆   ┆           ┆           ┆           ┆           │\n",
       "│ 552611     ┆ 17      ┆ WALNUT    ┆ 01Jan2012 ┆ … ┆ 197.1     ┆ As        ┆ 6.9       ┆           │\n",
       "│            ┆         ┆ CREEK AT  ┆ -31Dec201 ┆   ┆           ┆ Expected  ┆           ┆           │\n",
       "│            ┆         ┆ HOME      ┆ 5         ┆   ┆           ┆           ┆           ┆           │\n",
       "│ 552612     ┆ 17      ┆ SUNSET    ┆ 01Jan2012 ┆ … ┆ 238.5     ┆ As        ┆ 27.4      ┆           │\n",
       "│            ┆         ┆ DIALYSIS  ┆ -31Dec201 ┆   ┆           ┆ Expected  ┆           ┆           │\n",
       "│            ┆         ┆ CENTER    ┆ 5         ┆   ┆           ┆           ┆           ┆           │\n",
       "└────────────┴─────────┴───────────┴───────────┴───┴───────────┴───────────┴───────────┴───────────┘"
      ]
     },
     "execution_count": 280,
     "metadata": {},
     "output_type": "execute_result"
    }
   ],
   "source": [
    "facility_df"
   ]
  },
  {
   "cell_type": "code",
   "execution_count": null,
   "metadata": {},
   "outputs": [],
   "source": []
  }
 ],
 "metadata": {
  "kernelspec": {
   "display_name": "Python 3",
   "language": "python",
   "name": "python3"
  },
  "language_info": {
   "codemirror_mode": {
    "name": "ipython",
    "version": 3
   },
   "file_extension": ".py",
   "mimetype": "text/x-python",
   "name": "python",
   "nbconvert_exporter": "python",
   "pygments_lexer": "ipython3",
   "version": "3.11.10"
  }
 },
 "nbformat": 4,
 "nbformat_minor": 2
}
