{
 "cells": [
  {
   "cell_type": "markdown",
   "metadata": {},
   "source": [
    "# Database Playground\n",
    "\n",
    "This notebook demonstrates the functionalities of our improved Database class."
   ]
  },
  {
   "cell_type": "code",
   "execution_count": null,
   "metadata": {},
   "outputs": [],
   "source": [
    "import my_functions as mf\n",
    "import pandas as pd\n",
    "\n",
    "# Create a Database instance\n",
    "db = mf.Database()"
   ]
  },
  {
   "cell_type": "markdown",
   "metadata": {},
   "source": [
    "## 1. Accessing Tables and Views"
   ]
  },
  {
   "cell_type": "code",
   "execution_count": null,
   "metadata": {},
   "outputs": [],
   "source": [
    "# List all tables\n",
    "print(\"Available tables:\", list(db.tables.keys()))\n",
    "\n",
    "# Access a specific table\n",
    "voter_table = db.voter\n",
    "print(\"\\nVoter table shape:\", voter_table().shape)\n",
    "\n",
    "# List views for a table\n",
    "print(\"\\nViews in voter table:\", voter_table.list_views())\n",
    "\n",
    "# Access a specific view\n",
    "voter_2022 = voter_table.get_view('2022')\n",
    "print(\"\\nVoter 2022 view shape:\", voter_2022.shape)\n",
    "print(\"\\nVoter 2022 view columns:\", voter_2022.columns.tolist())"
   ]
  },
  {
   "cell_type": "markdown",
   "metadata": {},
   "source": [
    "## 2. Adding a New View"
   ]
  },
  {
   "cell_type": "code",
   "execution_count": null,
   "metadata": {},
   "outputs": [],
   "source": [
    "# Add a new view to the voter table\n",
    "db.add_view('voter', 'registered_voters', ['county_name', 'total_registered_2018', 'total_registered_2020', 'total_registered_2022'])\n",
    "\n",
    "# Verify the new view\n",
    "print(\"Updated views in voter table:\", db.voter.list_views())\n",
    "registered_voters = db.get_view('voter', 'registered_voters')\n",
    "print(\"\\nRegistered voters view:\")\n",
    "print(registered_voters.head())"
   ]
  },
  {
   "cell_type": "markdown",
   "metadata": {},
   "source": [
    "## 3. Merging Views"
   ]
  },
  {
   "cell_type": "code",
   "execution_count": null,
   "metadata": {},
   "outputs": [],
   "source": [
    "# Merge multiple views\n",
    "merged_views = db.merge_views([('demo', 'population'), ('voter', 'registered_voters')])\n",
    "print(\"Merged views shape:\", merged_views.shape)\n",
    "print(\"\\nMerged views columns:\", merged_views.columns.tolist())\n",
    "print(\"\\nSample of merged data:\")\n",
    "print(merged_views.head())"
   ]
  },
  {
   "cell_type": "markdown",
   "metadata": {},
   "source": [
    "## 4. Querying the Database"
   ]
  },
  {
   "cell_type": "code",
   "execution_count": null,
   "metadata": {},
   "outputs": [],
   "source": [
    "# Query for counties with population over 1 million\n",
    "large_counties = db.query({'population_january_2023': lambda x: x > 1000000}, \n",
    "                          ['county_name', 'population_january_2023', 'median_household_income_2021'])\n",
    "print(\"Large counties (population > 1 million):\")\n",
    "print(large_counties)\n",
    "\n",
    "# Query for counties with high median household income\n",
    "high_income_counties = db.query({'median_household_income_2021': lambda x: x > 100000}, \n",
    "                                ['county_name', 'population_january_2023', 'median_household_income_2021'])\n",
    "print(\"\\nHigh income counties (median household income > $100,000):\")\n",
    "print(high_income_counties)"
   ]
  },
  {
   "cell_type": "markdown",
   "metadata": {},
   "source": [
    "## 5. Advanced Analysis: Voter Registration Trends"
   ]
  },
  {
   "cell_type": "code",
   "execution_count": null,
   "metadata": {},
   "outputs": [],
   "source": [
    "# Get voter registration data\n",
    "voter_reg = db.get_view('voter', 'registered_voters')\n",
    "\n",
    "# Calculate percentage change in voter registration from 2018 to 2022\n",
    "voter_reg['pct_change_2018_2022'] = (voter_reg['total_registered_2022'] - voter_reg['total_registered_2018']) / voter_reg['total_registered_2018'] * 100\n",
    "\n",
    "# Sort by percentage change and display top 10 counties with highest increase\n",
    "top_increase = voter_reg.sort_values('pct_change_2018_2022', ascending=False).head(10)\n",
    "print(\"Top 10 counties with highest increase in voter registration (2018-2022):\")\n",
    "print(top_increase[['county_name', 'pct_change_2018_2022']])\n",
    "\n",
    "# Calculate and display average change across all counties\n",
    "avg_change = voter_reg['pct_change_2018_2022'].mean()\n",
    "print(f\"\\nAverage change in voter registration across all counties: {avg_change:.2f}%\")"
   ]
  },
  {
   "cell_type": "markdown",
   "metadata": {},
   "source": [
    "## 6. Error Handling"
   ]
  },
  {
   "cell_type": "code",
   "execution_count": null,
   "metadata": {},
   "outputs": [],
   "source": [
    "# Try to access a non-existent table\n",
    "try:\n",
    "    db.get_view('non_existent_table', 'some_view')\n",
    "except ValueError as e:\n",
    "    print(\"Error:\", str(e))\n",
    "\n",
    "# Try to access a non-existent view\n",
    "try:\n",
    "    db.get_view('voter', 'non_existent_view')\n",
    "except ValueError as e:\n",
    "    print(\"Error:\", str(e))"
   ]
  }
 ],
 "metadata": {
  "kernelspec": {
   "display_name": "Python 3",
   "language": "python",
   "name": "python3"
  },
  "language_info": {
   "codemirror_mode": {
    "name": "ipython",
    "version": 3
   },
   "file_extension": ".py",
   "mimetype": "text/x-python",
   "name": "python",
   "nbconvert_exporter": "python",
   "pygments_lexer": "ipython3",
   "version": "3.8.8"
  }
 },
 "nbformat": 4,
 "nbformat_minor": 4
}
