{
 "cells": [
  {
   "cell_type": "markdown",
   "metadata": {},
   "source": [
    "# Database Playground\n",
    "\n",
    "This notebook demonstrates the functionalities of our improved Database class."
   ]
  },
  {
   "cell_type": "code",
   "execution_count": 1,
   "metadata": {},
   "outputs": [],
   "source": [
    "import my_functions as mf\n",
    "import pandas as pd\n",
    "\n",
    "# Create a Database instance\n",
    "db = mf.Database()"
   ]
  },
  {
   "cell_type": "markdown",
   "metadata": {},
   "source": [
    "## 1. Accessing Tables and Views"
   ]
  },
  {
   "cell_type": "code",
   "execution_count": 2,
   "metadata": {},
   "outputs": [
    {
     "name": "stdout",
     "output_type": "stream",
     "text": [
      "Available tables: ['ballot', 'demo', 'facility', 'medicare', 'voter']\n",
      "\n",
      "Voter table shape: (58, 34)\n",
      "\n",
      "Views in voter table: ['2018', '2020', '2022']\n",
      "\n",
      "Voter 2022 view shape: (58, 12)\n",
      "\n",
      "Voter 2022 view columns: ['county_name', 'eligible_2022', 'total_registered_2022', 'democratic_2022', 'republican_2022', 'american_independent_2022', 'green_2022', 'libertarian_2022', 'peace_and_freedom_2022', 'unknown_2022', 'other_2022', 'no_party_preference_2022']\n"
     ]
    }
   ],
   "source": [
    "# List all tables\n",
    "print(\"Available tables:\", list(db.tables.keys()))\n",
    "\n",
    "# Access a specific table\n",
    "voter_table = db.voter\n",
    "print(\"\\nVoter table shape:\", voter_table().shape)\n",
    "\n",
    "# List views for a table\n",
    "print(\"\\nViews in voter table:\", voter_table.list_views())\n",
    "\n",
    "# Access a specific view\n",
    "voter_2022 = voter_table.get_view('2022')\n",
    "print(\"\\nVoter 2022 view shape:\", voter_2022.shape)\n",
    "print(\"\\nVoter 2022 view columns:\", voter_2022.columns.tolist())"
   ]
  },
  {
   "cell_type": "markdown",
   "metadata": {},
   "source": [
    "## 2. Adding a New View"
   ]
  },
  {
   "cell_type": "code",
   "execution_count": 5,
   "metadata": {},
   "outputs": [
    {
     "name": "stdout",
     "output_type": "stream",
     "text": [
      "Updated views in voter table: ['2018', '2020', '2022', 'registered_voters']\n",
      "\n",
      "Registered voters view:\n",
      "  county_name  total_registered_2018  total_registered_2020  \\\n",
      "0     Alameda                 881491                 881491   \n",
      "1      Alpine                    758                    758   \n",
      "2      Amador                  22305                  22305   \n",
      "3       Butte                 122741                 122741   \n",
      "4   Calaveras                  29591                  29591   \n",
      "\n",
      "   total_registered_2022  \n",
      "0                 881491  \n",
      "1                    758  \n",
      "2                  22305  \n",
      "3                 122741  \n",
      "4                  29591  \n"
     ]
    }
   ],
   "source": [
    "# Add a new view to the voter table\n",
    "db.add_view('voter', 'registered_voters', ['county_name', 'total_registered_2018', 'total_registered_2020', 'total_registered_2022'])\n",
    "\n",
    "# Verify the new view\n",
    "print(\"Updated views in voter table:\", db.voter.list_views())\n",
    "registered_voters = db.get_view('voter', 'registered_voters')\n",
    "print(\"\\nRegistered voters view:\")\n",
    "print(registered_voters.head())"
   ]
  },
  {
   "cell_type": "markdown",
   "metadata": {},
   "source": [
    "## 3. Merging Views"
   ]
  },
  {
   "cell_type": "code",
   "execution_count": 6,
   "metadata": {},
   "outputs": [
    {
     "name": "stdout",
     "output_type": "stream",
     "text": [
      "Merged views shape: (58, 6)\n",
      "\n",
      "Merged views columns: ['county_name', 'population_january_2023', 'median_household_income_2021', 'total_registered_2018', 'total_registered_2020', 'total_registered_2022']\n",
      "\n",
      "Sample of merged data:\n",
      "  county_name  population_january_2023  median_household_income_2021  \\\n",
      "0     Alameda                  1636194                        108971   \n",
      "1      Alpine                     1184                         87570   \n",
      "2      Amador                    39837                         68159   \n",
      "3       Butte                   205592                         62982   \n",
      "4   Calaveras                    44890                         68298   \n",
      "\n",
      "   total_registered_2018  total_registered_2020  total_registered_2022  \n",
      "0                 881491                 881491                 881491  \n",
      "1                    758                    758                    758  \n",
      "2                  22305                  22305                  22305  \n",
      "3                 122741                 122741                 122741  \n",
      "4                  29591                  29591                  29591  \n"
     ]
    }
   ],
   "source": [
    "# Merge multiple views\n",
    "merged_views = db.merge_views([('demo', 'population'), ('voter', 'registered_voters')])\n",
    "print(\"Merged views shape:\", merged_views.shape)\n",
    "print(\"\\nMerged views columns:\", merged_views.columns.tolist())\n",
    "print(\"\\nSample of merged data:\")\n",
    "print(merged_views.head())"
   ]
  },
  {
   "cell_type": "markdown",
   "metadata": {},
   "source": [
    "## 4. Querying the Database"
   ]
  },
  {
   "cell_type": "code",
   "execution_count": 7,
   "metadata": {},
   "outputs": [
    {
     "name": "stdout",
     "output_type": "stream",
     "text": [
      "Large counties (population > 1 million):\n",
      "       county_name  population_january_2023  median_household_income_2021\n",
      "0          Alameda                1636194.0                      108971.0\n",
      "6     Contra Costa                1147653.0                      110595.0\n",
      "9           Fresno                1011499.0                       63140.0\n",
      "18     Los Angeles                9761210.0                       77356.0\n",
      "29          Orange                3137164.0                      100210.0\n",
      "32       Riverside                2439234.0                       78690.0\n",
      "33      Sacramento                1572453.0                       79611.0\n",
      "35  San Bernardino                2182056.0                       74218.0\n",
      "36       San Diego                3269755.0                       90756.0\n",
      "42     Santa Clara                1886079.0                      141161.0\n",
      "\n",
      "High income counties (median household income > $100,000):\n",
      "      county_name  population_january_2023  median_household_income_2021\n",
      "0         Alameda                1636194.0                      108971.0\n",
      "6    Contra Costa                1147653.0                      110595.0\n",
      "20          Marin                 252959.0                      118472.0\n",
      "29         Orange                3137164.0                      100210.0\n",
      "30         Placer                 410305.0                      103588.0\n",
      "37  San Francisco                 831703.0                      119776.0\n",
      "40      San Mateo                 737644.0                      131151.0\n",
      "42    Santa Clara                1886079.0                      141161.0\n"
     ]
    }
   ],
   "source": [
    "# Query for counties with population over 1 million\n",
    "large_counties = db.query({'population_january_2023': lambda x: x > 1000000}, \n",
    "                          ['county_name', 'population_january_2023', 'median_household_income_2021'])\n",
    "print(\"Large counties (population > 1 million):\")\n",
    "print(large_counties)\n",
    "\n",
    "# Query for counties with high median household income\n",
    "high_income_counties = db.query({'median_household_income_2021': lambda x: x > 100000}, \n",
    "                                ['county_name', 'population_january_2023', 'median_household_income_2021'])\n",
    "print(\"\\nHigh income counties (median household income > $100,000):\")\n",
    "print(high_income_counties)"
   ]
  },
  {
   "cell_type": "markdown",
   "metadata": {},
   "source": [
    "## 5. Advanced Analysis: Voter Registration Trends"
   ]
  },
  {
   "cell_type": "code",
   "execution_count": 9,
   "metadata": {},
   "outputs": [
    {
     "name": "stdout",
     "output_type": "stream",
     "text": [
      "Top 10 counties with highest increase in voter registration (2018-2022):\n",
      "       county_name  pct_change_2018_2022\n",
      "0          Alameda                   0.0\n",
      "43      Santa Cruz                   0.0\n",
      "31          Plumas                   0.0\n",
      "32       Riverside                   0.0\n",
      "33      Sacramento                   0.0\n",
      "34      San Benito                   0.0\n",
      "35  San Bernardino                   0.0\n",
      "36       San Diego                   0.0\n",
      "37   San Francisco                   0.0\n",
      "38     San Joaquin                   0.0\n",
      "\n",
      "Average change in voter registration across all counties: 0.00%\n"
     ]
    },
    {
     "name": "stderr",
     "output_type": "stream",
     "text": [
      "C:\\Users\\kasra\\AppData\\Local\\Temp\\ipykernel_34332\\2320644015.py:5: SettingWithCopyWarning: \n",
      "A value is trying to be set on a copy of a slice from a DataFrame.\n",
      "Try using .loc[row_indexer,col_indexer] = value instead\n",
      "\n",
      "See the caveats in the documentation: https://pandas.pydata.org/pandas-docs/stable/user_guide/indexing.html#returning-a-view-versus-a-copy\n",
      "  voter_reg['pct_change_2018_2022'] = (voter_reg['total_registered_2022'] - voter_reg['total_registered_2018']) / voter_reg['total_registered_2018'] * 100\n"
     ]
    }
   ],
   "source": [
    "# Get voter registration data\n",
    "voter_reg = db.get_view('voter', 'registered_voters')\n",
    "\n",
    "# Calculate percentage change in voter registration from 2018 to 2022\n",
    "voter_reg['pct_change_2018_2022'] = (voter_reg['total_registered_2022'] - voter_reg['total_registered_2018']) / voter_reg['total_registered_2018'] * 100\n",
    "\n",
    "# Sort by percentage change and display top 10 counties with highest increase\n",
    "top_increase = voter_reg.sort_values('pct_change_2018_2022', ascending=False).head(10)\n",
    "print(\"Top 10 counties with highest increase in voter registration (2018-2022):\")\n",
    "print(top_increase[['county_name', 'pct_change_2018_2022']])\n",
    "\n",
    "# Calculate and display average change across all counties\n",
    "avg_change = voter_reg['pct_change_2018_2022'].mean()\n",
    "print(f\"\\nAverage change in voter registration across all counties: {avg_change:.2f}%\")"
   ]
  },
  {
   "cell_type": "markdown",
   "metadata": {},
   "source": [
    "## 6. Error Handling"
   ]
  },
  {
   "cell_type": "code",
   "execution_count": 10,
   "metadata": {},
   "outputs": [
    {
     "name": "stdout",
     "output_type": "stream",
     "text": [
      "Error: Table 'non_existent_table' not found\n",
      "Error: View 'non_existent_view' not found\n"
     ]
    }
   ],
   "source": [
    "# Try to access a non-existent table\n",
    "try:\n",
    "    db.get_view('non_existent_table', 'some_view')\n",
    "except ValueError as e:\n",
    "    print(\"Error:\", str(e))\n",
    "\n",
    "# Try to access a non-existent view\n",
    "try:\n",
    "    db.get_view('voter', 'non_existent_view')\n",
    "except ValueError as e:\n",
    "    print(\"Error:\", str(e))"
   ]
  },
  {
   "cell_type": "code",
   "execution_count": null,
   "metadata": {},
   "outputs": [],
   "source": []
  }
 ],
 "metadata": {
  "kernelspec": {
   "display_name": "Python 3",
   "language": "python",
   "name": "python3"
  },
  "language_info": {
   "codemirror_mode": {
    "name": "ipython",
    "version": 3
   },
   "file_extension": ".py",
   "mimetype": "text/x-python",
   "name": "python",
   "nbconvert_exporter": "python",
   "pygments_lexer": "ipython3",
   "version": "3.11.9"
  }
 },
 "nbformat": 4,
 "nbformat_minor": 4
}
