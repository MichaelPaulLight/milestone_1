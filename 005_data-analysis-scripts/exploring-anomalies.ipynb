{
 "cells": [
  {
   "cell_type": "code",
   "execution_count": 19,
   "metadata": {},
   "outputs": [],
   "source": [
    "import polars as pl\n",
    "from datetime import datetime\n",
    "import pyarrow.parquet as pq\n",
    "import polars.selectors as cs"
   ]
  },
  {
   "cell_type": "code",
   "execution_count": 16,
   "metadata": {},
   "outputs": [],
   "source": [
    "\n",
    "facility_df = pl.read_parquet('../003_data/002_clean-data/national_cms_dialysis-facility_data.parquet')\n",
    "cahps_df = pl.read_parquet('../003_data/002_clean-data/national_cms_dialysis-facility_cahps-data.parquet')\n"
   ]
  },
  {
   "cell_type": "code",
   "execution_count": 18,
   "metadata": {},
   "outputs": [
    {
     "data": {
      "text/html": [
       "<div><style>\n",
       ".dataframe > thead > tr,\n",
       ".dataframe > tbody > tr {\n",
       "  text-align: right;\n",
       "  white-space: pre-wrap;\n",
       "}\n",
       "</style>\n",
       "<small>shape: (7, 3)</small><table border=\"1\" class=\"dataframe\"><thead><tr><th>year</th><th>linear_score_nulls</th><th>star_rating_nulls</th></tr><tr><td>str</td><td>u32</td><td>u32</td></tr></thead><tbody><tr><td>&quot;2021&quot;</td><td>287</td><td>287</td></tr><tr><td>&quot;2024&quot;</td><td>317</td><td>317</td></tr><tr><td>&quot;2022&quot;</td><td>402</td><td>402</td></tr><tr><td>&quot;2018&quot;</td><td>0</td><td>0</td></tr><tr><td>&quot;2019&quot;</td><td>0</td><td>0</td></tr><tr><td>&quot;2020&quot;</td><td>287</td><td>287</td></tr><tr><td>&quot;2023&quot;</td><td>326</td><td>326</td></tr></tbody></table></div>"
      ],
      "text/plain": [
       "shape: (7, 3)\n",
       "┌──────┬────────────────────┬───────────────────┐\n",
       "│ year ┆ linear_score_nulls ┆ star_rating_nulls │\n",
       "│ ---  ┆ ---                ┆ ---               │\n",
       "│ str  ┆ u32                ┆ u32               │\n",
       "╞══════╪════════════════════╪═══════════════════╡\n",
       "│ 2021 ┆ 287                ┆ 287               │\n",
       "│ 2024 ┆ 317                ┆ 317               │\n",
       "│ 2022 ┆ 402                ┆ 402               │\n",
       "│ 2018 ┆ 0                  ┆ 0                 │\n",
       "│ 2019 ┆ 0                  ┆ 0                 │\n",
       "│ 2020 ┆ 287                ┆ 287               │\n",
       "│ 2023 ┆ 326                ┆ 326               │\n",
       "└──────┴────────────────────┴───────────────────┘"
      ]
     },
     "execution_count": 18,
     "metadata": {},
     "output_type": "execute_result"
    }
   ],
   "source": [
    "\n",
    "cahps_df.group_by(\"year\").agg([\n",
    "    pl.col(\"linearized_score_of_rating_of_the_dialysis_center_staff\").null_count().alias(\"linear_score_nulls\"),\n",
    "    pl.col(\"star_rating_of_the_dialysis_center_staff\").null_count().alias(\"star_rating_nulls\")\n",
    "])"
   ]
  },
  {
   "cell_type": "code",
   "execution_count": 32,
   "metadata": {},
   "outputs": [
    {
     "data": {
      "text/html": [
       "<div><style>\n",
       ".dataframe > thead > tr,\n",
       ".dataframe > tbody > tr {\n",
       "  text-align: right;\n",
       "  white-space: pre-wrap;\n",
       "}\n",
       "</style>\n",
       "<small>shape: (7, 2)</small><table border=\"1\" class=\"dataframe\"><thead><tr><th>year</th><th>non_null_counts</th></tr><tr><td>str</td><td>u32</td></tr></thead><tbody><tr><td>&quot;2019&quot;</td><td>692</td></tr><tr><td>&quot;2021&quot;</td><td>443</td></tr><tr><td>&quot;2023&quot;</td><td>416</td></tr><tr><td>&quot;2018&quot;</td><td>0</td></tr><tr><td>&quot;2020&quot;</td><td>443</td></tr><tr><td>&quot;2024&quot;</td><td>419</td></tr><tr><td>&quot;2022&quot;</td><td>350</td></tr></tbody></table></div>"
      ],
      "text/plain": [
       "shape: (7, 2)\n",
       "┌──────┬─────────────────┐\n",
       "│ year ┆ non_null_counts │\n",
       "│ ---  ┆ ---             │\n",
       "│ str  ┆ u32             │\n",
       "╞══════╪═════════════════╡\n",
       "│ 2019 ┆ 692             │\n",
       "│ 2021 ┆ 443             │\n",
       "│ 2023 ┆ 416             │\n",
       "│ 2018 ┆ 0               │\n",
       "│ 2020 ┆ 443             │\n",
       "│ 2024 ┆ 419             │\n",
       "│ 2022 ┆ 350             │\n",
       "└──────┴─────────────────┘"
      ]
     },
     "execution_count": 32,
     "metadata": {},
     "output_type": "execute_result"
    }
   ],
   "source": [
    "cahps_df.select(\"year\", cs.contains(\"experience\")).group_by(\"year\").agg(pl.col(\"*\").null_count().alias(\"nulls\"))\n",
    "\n",
    "cahps_df.select(\"year\", cs.contains(\"experience\")).group_by(\"year\").agg(\n",
    "    pl.exclude(\"year\").count().alias(\"non_null_counts\")\n",
    ")"
   ]
  },
  {
   "cell_type": "code",
   "execution_count": 34,
   "metadata": {},
   "outputs": [],
   "source": [
    "raw_cahps_df = pl.read_parquet('../003_data/001_raw-data/2017-2024_national_cms_dialysis-facility_cahps-data.parquet')"
   ]
  },
  {
   "cell_type": "code",
   "execution_count": 37,
   "metadata": {},
   "outputs": [
    {
     "data": {
      "text/html": [
       "<div><style>\n",
       ".dataframe > thead > tr,\n",
       ".dataframe > tbody > tr {\n",
       "  text-align: right;\n",
       "  white-space: pre-wrap;\n",
       "}\n",
       "</style>\n",
       "<small>shape: (8, 4)</small><table border=\"1\" class=\"dataframe\"><thead><tr><th>year</th><th>ich_cahps_survey_of_patients_experiences_star_rating</th><th>ich_cahps_survey_of_patients_experiences_star_rating_</th><th>overall_ich_cahps_survey_of_patients_experiences_star_rating</th></tr><tr><td>str</td><td>u32</td><td>u32</td><td>u32</td></tr></thead><tbody><tr><td>&quot;2017&quot;</td><td>0</td><td>0</td><td>0</td></tr><tr><td>&quot;2022&quot;</td><td>0</td><td>1497</td><td>0</td></tr><tr><td>&quot;2021&quot;</td><td>0</td><td>2809</td><td>0</td></tr><tr><td>&quot;2024&quot;</td><td>2074</td><td>0</td><td>0</td></tr><tr><td>&quot;2020&quot;</td><td>0</td><td>2809</td><td>0</td></tr><tr><td>&quot;2019&quot;</td><td>0</td><td>0</td><td>7566</td></tr><tr><td>&quot;2018&quot;</td><td>0</td><td>0</td><td>0</td></tr><tr><td>&quot;2023&quot;</td><td>1996</td><td>0</td><td>0</td></tr></tbody></table></div>"
      ],
      "text/plain": [
       "shape: (8, 4)\n",
       "┌──────┬──────────────────────────────┬──────────────────────────────┬─────────────────────────────┐\n",
       "│ year ┆ ich_cahps_survey_of_patients ┆ ich_cahps_survey_of_patients ┆ overall_ich_cahps_survey_of │\n",
       "│ ---  ┆ _e…                          ┆ _e…                          ┆ _pa…                        │\n",
       "│ str  ┆ ---                          ┆ ---                          ┆ ---                         │\n",
       "│      ┆ u32                          ┆ u32                          ┆ u32                         │\n",
       "╞══════╪══════════════════════════════╪══════════════════════════════╪═════════════════════════════╡\n",
       "│ 2017 ┆ 0                            ┆ 0                            ┆ 0                           │\n",
       "│ 2022 ┆ 0                            ┆ 1497                         ┆ 0                           │\n",
       "│ 2021 ┆ 0                            ┆ 2809                         ┆ 0                           │\n",
       "│ 2024 ┆ 2074                         ┆ 0                            ┆ 0                           │\n",
       "│ 2020 ┆ 0                            ┆ 2809                         ┆ 0                           │\n",
       "│ 2019 ┆ 0                            ┆ 0                            ┆ 7566                        │\n",
       "│ 2018 ┆ 0                            ┆ 0                            ┆ 0                           │\n",
       "│ 2023 ┆ 1996                         ┆ 0                            ┆ 0                           │\n",
       "└──────┴──────────────────────────────┴──────────────────────────────┴─────────────────────────────┘"
      ]
     },
     "execution_count": 37,
     "metadata": {},
     "output_type": "execute_result"
    }
   ],
   "source": [
    "raw_cahps_df.select(\"year\", cs.contains(\"experience\")).group_by(\"year\").agg(\n",
    "    pl.exclude(\"year\").count()\n",
    ")\n"
   ]
  },
  {
   "cell_type": "code",
   "execution_count": 38,
   "metadata": {},
   "outputs": [
    {
     "data": {
      "text/html": [
       "<div><style>\n",
       ".dataframe > thead > tr,\n",
       ".dataframe > tbody > tr {\n",
       "  text-align: right;\n",
       "  white-space: pre-wrap;\n",
       "}\n",
       "</style>\n",
       "<small>shape: (5_045, 2)</small><table border=\"1\" class=\"dataframe\"><thead><tr><th>year</th><th>ich_cahps_survey_of_patients_experiences_star_rating</th></tr><tr><td>str</td><td>str</td></tr></thead><tbody><tr><td>&quot;2024&quot;</td><td>&quot;4&quot;</td></tr><tr><td>&quot;2024&quot;</td><td>null</td></tr><tr><td>&quot;2024&quot;</td><td>null</td></tr><tr><td>&quot;2024&quot;</td><td>&quot;4&quot;</td></tr><tr><td>&quot;2024&quot;</td><td>null</td></tr><tr><td>&hellip;</td><td>&hellip;</td></tr><tr><td>&quot;2018&quot;</td><td>null</td></tr><tr><td>&quot;2018&quot;</td><td>null</td></tr><tr><td>&quot;2018&quot;</td><td>null</td></tr><tr><td>&quot;2018&quot;</td><td>null</td></tr><tr><td>&quot;2018&quot;</td><td>null</td></tr></tbody></table></div>"
      ],
      "text/plain": [
       "shape: (5_045, 2)\n",
       "┌──────┬─────────────────────────────────┐\n",
       "│ year ┆ ich_cahps_survey_of_patients_e… │\n",
       "│ ---  ┆ ---                             │\n",
       "│ str  ┆ str                             │\n",
       "╞══════╪═════════════════════════════════╡\n",
       "│ 2024 ┆ 4                               │\n",
       "│ 2024 ┆ null                            │\n",
       "│ 2024 ┆ null                            │\n",
       "│ 2024 ┆ 4                               │\n",
       "│ 2024 ┆ null                            │\n",
       "│ …    ┆ …                               │\n",
       "│ 2018 ┆ null                            │\n",
       "│ 2018 ┆ null                            │\n",
       "│ 2018 ┆ null                            │\n",
       "│ 2018 ┆ null                            │\n",
       "│ 2018 ┆ null                            │\n",
       "└──────┴─────────────────────────────────┘"
      ]
     },
     "execution_count": 38,
     "metadata": {},
     "output_type": "execute_result"
    }
   ],
   "source": [
    "cahps_df.select(\"year\", cs.contains(\"experience\"))"
   ]
  },
  {
   "cell_type": "code",
   "execution_count": 41,
   "metadata": {},
   "outputs": [
    {
     "data": {
      "text/html": [
       "<div><style>\n",
       ".dataframe > thead > tr,\n",
       ".dataframe > tbody > tr {\n",
       "  text-align: right;\n",
       "  white-space: pre-wrap;\n",
       "}\n",
       "</style>\n",
       "<small>shape: (60_476, 4)</small><table border=\"1\" class=\"dataframe\"><thead><tr><th>year</th><th>ich_cahps_survey_of_patients_experiences_star_rating</th><th>ich_cahps_survey_of_patients_experiences_star_rating_</th><th>overall_ich_cahps_survey_of_patients_experiences_star_rating</th></tr><tr><td>str</td><td>str</td><td>str</td><td>str</td></tr></thead><tbody><tr><td>&quot;2024&quot;</td><td>null</td><td>null</td><td>null</td></tr><tr><td>&quot;2024&quot;</td><td>&quot;3&quot;</td><td>null</td><td>null</td></tr><tr><td>&quot;2024&quot;</td><td>null</td><td>null</td><td>null</td></tr><tr><td>&quot;2024&quot;</td><td>&quot;3&quot;</td><td>null</td><td>null</td></tr><tr><td>&quot;2024&quot;</td><td>null</td><td>null</td><td>null</td></tr><tr><td>&hellip;</td><td>&hellip;</td><td>&hellip;</td><td>&hellip;</td></tr><tr><td>&quot;2017&quot;</td><td>null</td><td>null</td><td>null</td></tr><tr><td>&quot;2017&quot;</td><td>null</td><td>null</td><td>null</td></tr><tr><td>&quot;2017&quot;</td><td>null</td><td>null</td><td>null</td></tr><tr><td>&quot;2017&quot;</td><td>null</td><td>null</td><td>null</td></tr><tr><td>&quot;2017&quot;</td><td>null</td><td>null</td><td>null</td></tr></tbody></table></div>"
      ],
      "text/plain": [
       "shape: (60_476, 4)\n",
       "┌──────┬──────────────────────────────┬──────────────────────────────┬─────────────────────────────┐\n",
       "│ year ┆ ich_cahps_survey_of_patients ┆ ich_cahps_survey_of_patients ┆ overall_ich_cahps_survey_of │\n",
       "│ ---  ┆ _e…                          ┆ _e…                          ┆ _pa…                        │\n",
       "│ str  ┆ ---                          ┆ ---                          ┆ ---                         │\n",
       "│      ┆ str                          ┆ str                          ┆ str                         │\n",
       "╞══════╪══════════════════════════════╪══════════════════════════════╪═════════════════════════════╡\n",
       "│ 2024 ┆ null                         ┆ null                         ┆ null                        │\n",
       "│ 2024 ┆ 3                            ┆ null                         ┆ null                        │\n",
       "│ 2024 ┆ null                         ┆ null                         ┆ null                        │\n",
       "│ 2024 ┆ 3                            ┆ null                         ┆ null                        │\n",
       "│ 2024 ┆ null                         ┆ null                         ┆ null                        │\n",
       "│ …    ┆ …                            ┆ …                            ┆ …                           │\n",
       "│ 2017 ┆ null                         ┆ null                         ┆ null                        │\n",
       "│ 2017 ┆ null                         ┆ null                         ┆ null                        │\n",
       "│ 2017 ┆ null                         ┆ null                         ┆ null                        │\n",
       "│ 2017 ┆ null                         ┆ null                         ┆ null                        │\n",
       "│ 2017 ┆ null                         ┆ null                         ┆ null                        │\n",
       "└──────┴──────────────────────────────┴──────────────────────────────┴─────────────────────────────┘"
      ]
     },
     "execution_count": 41,
     "metadata": {},
     "output_type": "execute_result"
    }
   ],
   "source": [
    "raw_cahps_df.select(\"year\", cs.contains(\"experience\"))"
   ]
  },
  {
   "cell_type": "code",
   "execution_count": null,
   "metadata": {},
   "outputs": [],
   "source": []
  }
 ],
 "metadata": {
  "kernelspec": {
   "display_name": "Python 3",
   "language": "python",
   "name": "python3"
  },
  "language_info": {
   "codemirror_mode": {
    "name": "ipython",
    "version": 3
   },
   "file_extension": ".py",
   "mimetype": "text/x-python",
   "name": "python",
   "nbconvert_exporter": "python",
   "pygments_lexer": "ipython3",
   "version": "3.11.10"
  }
 },
 "nbformat": 4,
 "nbformat_minor": 2
}
