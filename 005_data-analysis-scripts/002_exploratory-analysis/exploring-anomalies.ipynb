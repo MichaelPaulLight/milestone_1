{
 "cells": [
  {
   "cell_type": "code",
   "execution_count": 2,
   "metadata": {},
   "outputs": [],
   "source": [
    "import polars as pl\n",
    "from datetime import datetime\n",
    "import pyarrow.parquet as pq\n",
    "import polars.selectors as cs"
   ]
  },
  {
   "cell_type": "code",
   "execution_count": 4,
   "metadata": {},
   "outputs": [],
   "source": [
    "\n",
    "facility_df = pl.read_parquet('../../003_data/002_clean-data/national_cms_dialysis-facility_data.parquet')\n",
    "cahps_df = pl.read_parquet('../../003_data/002_clean-data/national_cms_dialysis-facility_cahps-data.parquet')\n"
   ]
  },
  {
   "cell_type": "code",
   "execution_count": 5,
   "metadata": {},
   "outputs": [
    {
     "data": {
      "text/html": [
       "<div><style>\n",
       ".dataframe > thead > tr,\n",
       ".dataframe > tbody > tr {\n",
       "  text-align: right;\n",
       "  white-space: pre-wrap;\n",
       "}\n",
       "</style>\n",
       "<small>shape: (7, 3)</small><table border=\"1\" class=\"dataframe\"><thead><tr><th>year</th><th>linear_score_nulls</th><th>star_rating_nulls</th></tr><tr><td>str</td><td>u32</td><td>u32</td></tr></thead><tbody><tr><td>&quot;2021&quot;</td><td>287</td><td>287</td></tr><tr><td>&quot;2020&quot;</td><td>287</td><td>287</td></tr><tr><td>&quot;2024&quot;</td><td>317</td><td>317</td></tr><tr><td>&quot;2023&quot;</td><td>326</td><td>326</td></tr><tr><td>&quot;2022&quot;</td><td>402</td><td>402</td></tr><tr><td>&quot;2018&quot;</td><td>0</td><td>0</td></tr><tr><td>&quot;2019&quot;</td><td>0</td><td>0</td></tr></tbody></table></div>"
      ],
      "text/plain": [
       "shape: (7, 3)\n",
       "┌──────┬────────────────────┬───────────────────┐\n",
       "│ year ┆ linear_score_nulls ┆ star_rating_nulls │\n",
       "│ ---  ┆ ---                ┆ ---               │\n",
       "│ str  ┆ u32                ┆ u32               │\n",
       "╞══════╪════════════════════╪═══════════════════╡\n",
       "│ 2021 ┆ 287                ┆ 287               │\n",
       "│ 2020 ┆ 287                ┆ 287               │\n",
       "│ 2024 ┆ 317                ┆ 317               │\n",
       "│ 2023 ┆ 326                ┆ 326               │\n",
       "│ 2022 ┆ 402                ┆ 402               │\n",
       "│ 2018 ┆ 0                  ┆ 0                 │\n",
       "│ 2019 ┆ 0                  ┆ 0                 │\n",
       "└──────┴────────────────────┴───────────────────┘"
      ]
     },
     "execution_count": 5,
     "metadata": {},
     "output_type": "execute_result"
    }
   ],
   "source": [
    "\n",
    "cahps_df.group_by(\"year\").agg([\n",
    "    pl.col(\"linearized_score_of_rating_of_the_dialysis_center_staff\").null_count().alias(\"linear_score_nulls\"),\n",
    "    pl.col(\"star_rating_of_the_dialysis_center_staff\").null_count().alias(\"star_rating_nulls\")\n",
    "])"
   ]
  },
  {
   "cell_type": "code",
   "execution_count": 6,
   "metadata": {},
   "outputs": [
    {
     "data": {
      "text/html": [
       "<div><style>\n",
       ".dataframe > thead > tr,\n",
       ".dataframe > tbody > tr {\n",
       "  text-align: right;\n",
       "  white-space: pre-wrap;\n",
       "}\n",
       "</style>\n",
       "<small>shape: (7, 2)</small><table border=\"1\" class=\"dataframe\"><thead><tr><th>year</th><th>non_null_counts</th></tr><tr><td>str</td><td>u32</td></tr></thead><tbody><tr><td>&quot;2021&quot;</td><td>443</td></tr><tr><td>&quot;2022&quot;</td><td>350</td></tr><tr><td>&quot;2019&quot;</td><td>692</td></tr><tr><td>&quot;2024&quot;</td><td>419</td></tr><tr><td>&quot;2020&quot;</td><td>443</td></tr><tr><td>&quot;2018&quot;</td><td>0</td></tr><tr><td>&quot;2023&quot;</td><td>416</td></tr></tbody></table></div>"
      ],
      "text/plain": [
       "shape: (7, 2)\n",
       "┌──────┬─────────────────┐\n",
       "│ year ┆ non_null_counts │\n",
       "│ ---  ┆ ---             │\n",
       "│ str  ┆ u32             │\n",
       "╞══════╪═════════════════╡\n",
       "│ 2021 ┆ 443             │\n",
       "│ 2022 ┆ 350             │\n",
       "│ 2019 ┆ 692             │\n",
       "│ 2024 ┆ 419             │\n",
       "│ 2020 ┆ 443             │\n",
       "│ 2018 ┆ 0               │\n",
       "│ 2023 ┆ 416             │\n",
       "└──────┴─────────────────┘"
      ]
     },
     "execution_count": 6,
     "metadata": {},
     "output_type": "execute_result"
    }
   ],
   "source": [
    "cahps_df.select(\"year\", cs.contains(\"experience\")).group_by(\"year\").agg(pl.col(\"*\").null_count().alias(\"nulls\"))\n",
    "\n",
    "cahps_df.select(\"year\", cs.contains(\"experience\")).group_by(\"year\").agg(\n",
    "    pl.exclude(\"year\").count().alias(\"non_null_counts\")\n",
    ")"
   ]
  },
  {
   "cell_type": "code",
   "execution_count": 34,
   "metadata": {},
   "outputs": [],
   "source": [
    "raw_cahps_df = pl.read_parquet('../003_data/001_raw-data/2017-2024_national_cms_dialysis-facility_cahps-data.parquet')"
   ]
  },
  {
   "cell_type": "code",
   "execution_count": 37,
   "metadata": {},
   "outputs": [
    {
     "data": {
      "text/html": [
       "<div><style>\n",
       ".dataframe > thead > tr,\n",
       ".dataframe > tbody > tr {\n",
       "  text-align: right;\n",
       "  white-space: pre-wrap;\n",
       "}\n",
       "</style>\n",
       "<small>shape: (8, 4)</small><table border=\"1\" class=\"dataframe\"><thead><tr><th>year</th><th>ich_cahps_survey_of_patients_experiences_star_rating</th><th>ich_cahps_survey_of_patients_experiences_star_rating_</th><th>overall_ich_cahps_survey_of_patients_experiences_star_rating</th></tr><tr><td>str</td><td>u32</td><td>u32</td><td>u32</td></tr></thead><tbody><tr><td>&quot;2017&quot;</td><td>0</td><td>0</td><td>0</td></tr><tr><td>&quot;2022&quot;</td><td>0</td><td>1497</td><td>0</td></tr><tr><td>&quot;2021&quot;</td><td>0</td><td>2809</td><td>0</td></tr><tr><td>&quot;2024&quot;</td><td>2074</td><td>0</td><td>0</td></tr><tr><td>&quot;2020&quot;</td><td>0</td><td>2809</td><td>0</td></tr><tr><td>&quot;2019&quot;</td><td>0</td><td>0</td><td>7566</td></tr><tr><td>&quot;2018&quot;</td><td>0</td><td>0</td><td>0</td></tr><tr><td>&quot;2023&quot;</td><td>1996</td><td>0</td><td>0</td></tr></tbody></table></div>"
      ],
      "text/plain": [
       "shape: (8, 4)\n",
       "┌──────┬──────────────────────────────┬──────────────────────────────┬─────────────────────────────┐\n",
       "│ year ┆ ich_cahps_survey_of_patients ┆ ich_cahps_survey_of_patients ┆ overall_ich_cahps_survey_of │\n",
       "│ ---  ┆ _e…                          ┆ _e…                          ┆ _pa…                        │\n",
       "│ str  ┆ ---                          ┆ ---                          ┆ ---                         │\n",
       "│      ┆ u32                          ┆ u32                          ┆ u32                         │\n",
       "╞══════╪══════════════════════════════╪══════════════════════════════╪═════════════════════════════╡\n",
       "│ 2017 ┆ 0                            ┆ 0                            ┆ 0                           │\n",
       "│ 2022 ┆ 0                            ┆ 1497                         ┆ 0                           │\n",
       "│ 2021 ┆ 0                            ┆ 2809                         ┆ 0                           │\n",
       "│ 2024 ┆ 2074                         ┆ 0                            ┆ 0                           │\n",
       "│ 2020 ┆ 0                            ┆ 2809                         ┆ 0                           │\n",
       "│ 2019 ┆ 0                            ┆ 0                            ┆ 7566                        │\n",
       "│ 2018 ┆ 0                            ┆ 0                            ┆ 0                           │\n",
       "│ 2023 ┆ 1996                         ┆ 0                            ┆ 0                           │\n",
       "└──────┴──────────────────────────────┴──────────────────────────────┴─────────────────────────────┘"
      ]
     },
     "execution_count": 37,
     "metadata": {},
     "output_type": "execute_result"
    }
   ],
   "source": [
    "raw_cahps_df.select(\"year\", cs.contains(\"experience\")).group_by(\"year\").agg(\n",
    "    pl.exclude(\"year\").count()\n",
    ")\n"
   ]
  },
  {
   "cell_type": "code",
   "execution_count": 38,
   "metadata": {},
   "outputs": [
    {
     "data": {
      "text/html": [
       "<div><style>\n",
       ".dataframe > thead > tr,\n",
       ".dataframe > tbody > tr {\n",
       "  text-align: right;\n",
       "  white-space: pre-wrap;\n",
       "}\n",
       "</style>\n",
       "<small>shape: (5_045, 2)</small><table border=\"1\" class=\"dataframe\"><thead><tr><th>year</th><th>ich_cahps_survey_of_patients_experiences_star_rating</th></tr><tr><td>str</td><td>str</td></tr></thead><tbody><tr><td>&quot;2024&quot;</td><td>&quot;4&quot;</td></tr><tr><td>&quot;2024&quot;</td><td>null</td></tr><tr><td>&quot;2024&quot;</td><td>null</td></tr><tr><td>&quot;2024&quot;</td><td>&quot;4&quot;</td></tr><tr><td>&quot;2024&quot;</td><td>null</td></tr><tr><td>&hellip;</td><td>&hellip;</td></tr><tr><td>&quot;2018&quot;</td><td>null</td></tr><tr><td>&quot;2018&quot;</td><td>null</td></tr><tr><td>&quot;2018&quot;</td><td>null</td></tr><tr><td>&quot;2018&quot;</td><td>null</td></tr><tr><td>&quot;2018&quot;</td><td>null</td></tr></tbody></table></div>"
      ],
      "text/plain": [
       "shape: (5_045, 2)\n",
       "┌──────┬─────────────────────────────────┐\n",
       "│ year ┆ ich_cahps_survey_of_patients_e… │\n",
       "│ ---  ┆ ---                             │\n",
       "│ str  ┆ str                             │\n",
       "╞══════╪═════════════════════════════════╡\n",
       "│ 2024 ┆ 4                               │\n",
       "│ 2024 ┆ null                            │\n",
       "│ 2024 ┆ null                            │\n",
       "│ 2024 ┆ 4                               │\n",
       "│ 2024 ┆ null                            │\n",
       "│ …    ┆ …                               │\n",
       "│ 2018 ┆ null                            │\n",
       "│ 2018 ┆ null                            │\n",
       "│ 2018 ┆ null                            │\n",
       "│ 2018 ┆ null                            │\n",
       "│ 2018 ┆ null                            │\n",
       "└──────┴─────────────────────────────────┘"
      ]
     },
     "execution_count": 38,
     "metadata": {},
     "output_type": "execute_result"
    }
   ],
   "source": [
    "cahps_df.select(\"year\", cs.contains(\"experience\"))"
   ]
  },
  {
   "cell_type": "code",
   "execution_count": 41,
   "metadata": {},
   "outputs": [
    {
     "data": {
      "text/html": [
       "<div><style>\n",
       ".dataframe > thead > tr,\n",
       ".dataframe > tbody > tr {\n",
       "  text-align: right;\n",
       "  white-space: pre-wrap;\n",
       "}\n",
       "</style>\n",
       "<small>shape: (60_476, 4)</small><table border=\"1\" class=\"dataframe\"><thead><tr><th>year</th><th>ich_cahps_survey_of_patients_experiences_star_rating</th><th>ich_cahps_survey_of_patients_experiences_star_rating_</th><th>overall_ich_cahps_survey_of_patients_experiences_star_rating</th></tr><tr><td>str</td><td>str</td><td>str</td><td>str</td></tr></thead><tbody><tr><td>&quot;2024&quot;</td><td>null</td><td>null</td><td>null</td></tr><tr><td>&quot;2024&quot;</td><td>&quot;3&quot;</td><td>null</td><td>null</td></tr><tr><td>&quot;2024&quot;</td><td>null</td><td>null</td><td>null</td></tr><tr><td>&quot;2024&quot;</td><td>&quot;3&quot;</td><td>null</td><td>null</td></tr><tr><td>&quot;2024&quot;</td><td>null</td><td>null</td><td>null</td></tr><tr><td>&hellip;</td><td>&hellip;</td><td>&hellip;</td><td>&hellip;</td></tr><tr><td>&quot;2017&quot;</td><td>null</td><td>null</td><td>null</td></tr><tr><td>&quot;2017&quot;</td><td>null</td><td>null</td><td>null</td></tr><tr><td>&quot;2017&quot;</td><td>null</td><td>null</td><td>null</td></tr><tr><td>&quot;2017&quot;</td><td>null</td><td>null</td><td>null</td></tr><tr><td>&quot;2017&quot;</td><td>null</td><td>null</td><td>null</td></tr></tbody></table></div>"
      ],
      "text/plain": [
       "shape: (60_476, 4)\n",
       "┌──────┬──────────────────────────────┬──────────────────────────────┬─────────────────────────────┐\n",
       "│ year ┆ ich_cahps_survey_of_patients ┆ ich_cahps_survey_of_patients ┆ overall_ich_cahps_survey_of │\n",
       "│ ---  ┆ _e…                          ┆ _e…                          ┆ _pa…                        │\n",
       "│ str  ┆ ---                          ┆ ---                          ┆ ---                         │\n",
       "│      ┆ str                          ┆ str                          ┆ str                         │\n",
       "╞══════╪══════════════════════════════╪══════════════════════════════╪═════════════════════════════╡\n",
       "│ 2024 ┆ null                         ┆ null                         ┆ null                        │\n",
       "│ 2024 ┆ 3                            ┆ null                         ┆ null                        │\n",
       "│ 2024 ┆ null                         ┆ null                         ┆ null                        │\n",
       "│ 2024 ┆ 3                            ┆ null                         ┆ null                        │\n",
       "│ 2024 ┆ null                         ┆ null                         ┆ null                        │\n",
       "│ …    ┆ …                            ┆ …                            ┆ …                           │\n",
       "│ 2017 ┆ null                         ┆ null                         ┆ null                        │\n",
       "│ 2017 ┆ null                         ┆ null                         ┆ null                        │\n",
       "│ 2017 ┆ null                         ┆ null                         ┆ null                        │\n",
       "│ 2017 ┆ null                         ┆ null                         ┆ null                        │\n",
       "│ 2017 ┆ null                         ┆ null                         ┆ null                        │\n",
       "└──────┴──────────────────────────────┴──────────────────────────────┴─────────────────────────────┘"
      ]
     },
     "execution_count": 41,
     "metadata": {},
     "output_type": "execute_result"
    }
   ],
   "source": [
    "raw_cahps_df.select(\"year\", cs.contains(\"experience\"))"
   ]
  },
  {
   "cell_type": "code",
   "execution_count": 44,
   "metadata": {},
   "outputs": [
    {
     "data": {
      "text/html": [
       "<div><style>\n",
       ".dataframe > thead > tr,\n",
       ".dataframe > tbody > tr {\n",
       "  text-align: right;\n",
       "  white-space: pre-wrap;\n",
       "}\n",
       "</style>\n",
       "<small>shape: (4, 33)</small><table border=\"1\" class=\"dataframe\"><thead><tr><th>year</th><th>provider_number</th><th>network</th><th>facility_name</th><th>address_line_1</th><th>address_line_2</th><th>city</th><th>state</th><th>zip_code</th><th>county</th><th>profit_or_nonprofit</th><th>phone_number</th><th>chain_owned</th><th>chain_organization</th><th>ichcahps_date</th><th>ichcahps_data_availability_code</th><th>linearized_score_of_nephrologists_communication_and_caring</th><th>star_rating_of_nephrologists_communication_and_caring</th><th>linearized_score_of_quality_of_dialysis_center_care_and_operations</th><th>star_rating_of_quality_of_dialysis_center_care_and_operations</th><th>linearized_score_of_providing_information_to_patients</th><th>star_rating_of_providing_information_to_patients</th><th>linearized_score_of_rating_of_the_nephrologist</th><th>star_rating_of_the_nephrologist</th><th>linearized_score_of_rating_of_the_dialysis_center_staff</th><th>star_rating_of_the_dialysis_center_staff</th><th>linearized_score_of_rating_of_the_dialysis_facility</th><th>star_rating_of_the_dialysis_facility</th><th>total_number_of_completed_interviews_from_the_fall_and_spring_surveys</th><th>ich_cahps_survey_of_patients_experiences_star_rating</th><th>survey_response_rate</th><th>ichcahps_survey_response_rate</th><th>ich_cahps_quality_of_patient_care_star_rating</th></tr><tr><td>str</td><td>str</td><td>str</td><td>str</td><td>str</td><td>str</td><td>str</td><td>str</td><td>str</td><td>str</td><td>str</td><td>str</td><td>str</td><td>str</td><td>str</td><td>str</td><td>str</td><td>str</td><td>str</td><td>str</td><td>str</td><td>str</td><td>str</td><td>str</td><td>str</td><td>str</td><td>str</td><td>str</td><td>str</td><td>str</td><td>str</td><td>str</td><td>str</td></tr></thead><tbody><tr><td>&quot;2021&quot;</td><td>&quot;552821&quot;</td><td>&quot;18&quot;</td><td>&quot;DAVITA SOUTH GATE DIALYSIS&quot;</td><td>&quot;9848 ATLANTIC AVENUE&quot;</td><td>&quot;&quot;</td><td>&quot;SOUTH GATE&quot;</td><td>&quot;CA&quot;</td><td>&quot;90280&quot;</td><td>&quot;LOS ANGELES&quot;</td><td>&quot;profit&quot;</td><td>&quot;(323) 569-1035&quot;</td><td>&quot;yes&quot;</td><td>&quot;DALLAS COUNTY HOSPITAL DISTRIC…</td><td>&quot;04/19/2019-01/10/2020&quot;</td><td>&quot;1&quot;</td><td>&quot;79&quot;</td><td>&quot;3&quot;</td><td>&quot;80&quot;</td><td>&quot;3&quot;</td><td>&quot;85&quot;</td><td>&quot;4&quot;</td><td>&quot;88&quot;</td><td>&quot;4&quot;</td><td>&quot;91&quot;</td><td>&quot;5&quot;</td><td>&quot;93&quot;</td><td>&quot;5&quot;</td><td>&quot;50&quot;</td><td>&quot;4&quot;</td><td>null</td><td>&quot;31&quot;</td><td>null</td></tr><tr><td>&quot;2020&quot;</td><td>&quot;552821&quot;</td><td>&quot;18&quot;</td><td>&quot;DAVITA SOUTH GATE DIALYSIS&quot;</td><td>&quot;9848 ATLANTIC AVENUE&quot;</td><td>&quot;&quot;</td><td>&quot;SOUTH GATE&quot;</td><td>&quot;CA&quot;</td><td>&quot;90280&quot;</td><td>&quot;LOS ANGELES&quot;</td><td>&quot;profit&quot;</td><td>&quot;(323) 569-1035&quot;</td><td>&quot;yes&quot;</td><td>&quot;DALLAS COUNTY HOSPITAL DISTRIC…</td><td>&quot;04/19/2019-01/10/2020&quot;</td><td>&quot;1&quot;</td><td>&quot;79&quot;</td><td>&quot;3&quot;</td><td>&quot;80&quot;</td><td>&quot;3&quot;</td><td>&quot;85&quot;</td><td>&quot;4&quot;</td><td>&quot;88&quot;</td><td>&quot;4&quot;</td><td>&quot;91&quot;</td><td>&quot;5&quot;</td><td>&quot;93&quot;</td><td>&quot;5&quot;</td><td>&quot;50&quot;</td><td>&quot;4&quot;</td><td>null</td><td>&quot;31&quot;</td><td>null</td></tr><tr><td>&quot;2019&quot;</td><td>&quot;552821&quot;</td><td>&quot;18&quot;</td><td>&quot;DAVITA-SOUTH GATE DIALYSIS&quot;</td><td>&quot;9848 ATLANTIC AVENUE&quot;</td><td>null</td><td>&quot;SOUTH GATE&quot;</td><td>&quot;CA&quot;</td><td>&quot;90280&quot;</td><td>&quot;LOS ANGELES&quot;</td><td>&quot;profit&quot;</td><td>&quot;(323) 569-1035&quot;</td><td>&quot;yes&quot;</td><td>&quot;DALLAS COUNTY HOSPITAL DISTRIC…</td><td>&quot;04/20/2018 - 01/11/2019&quot;</td><td>&quot;102&quot;</td><td>&quot;not Available&quot;</td><td>&quot;not Available&quot;</td><td>&quot;not Available&quot;</td><td>&quot;not Available&quot;</td><td>&quot;not Available&quot;</td><td>&quot;not Available&quot;</td><td>&quot;not Available&quot;</td><td>&quot;not Available&quot;</td><td>&quot;not Available&quot;</td><td>&quot;not Available&quot;</td><td>&quot;not Available&quot;</td><td>&quot;not Available&quot;</td><td>&quot;not Available&quot;</td><td>&quot;not Available&quot;</td><td>null</td><td>&quot;not Available&quot;</td><td>null</td></tr><tr><td>&quot;2018&quot;</td><td>&quot;552821&quot;</td><td>&quot;18&quot;</td><td>&quot;DAVITA-SOUTH GATE DIALYSIS&quot;</td><td>&quot;9848 ATLANTIC AVENUE&quot;</td><td>&quot;&quot;</td><td>&quot;SOUTH GATE&quot;</td><td>&quot;CA&quot;</td><td>&quot;90280&quot;</td><td>&quot;LOS ANGELES&quot;</td><td>&quot;profit&quot;</td><td>&quot;(323) 569-1035&quot;</td><td>&quot;yes&quot;</td><td>&quot;DALLAS COUNTY HOSPITAL DISTRIC…</td><td>&quot;04/21/2017 - 01/17/2018&quot;</td><td>&quot;103&quot;</td><td>&quot;not Available&quot;</td><td>&quot;not Available&quot;</td><td>&quot;not Available&quot;</td><td>&quot;not Available&quot;</td><td>&quot;not Available&quot;</td><td>&quot;not Available&quot;</td><td>&quot;not Available&quot;</td><td>&quot;not Available&quot;</td><td>&quot;not Available&quot;</td><td>&quot;not Available&quot;</td><td>&quot;not Available&quot;</td><td>&quot;not Available&quot;</td><td>&quot;not Available&quot;</td><td>null</td><td>null</td><td>null</td><td>&quot;not Available&quot;</td></tr></tbody></table></div>"
      ],
      "text/plain": [
       "shape: (4, 33)\n",
       "┌──────┬────────────┬─────────┬────────────┬───┬────────────┬────────────┬────────────┬────────────┐\n",
       "│ year ┆ provider_n ┆ network ┆ facility_n ┆ … ┆ ich_cahps_ ┆ survey_res ┆ ichcahps_s ┆ ich_cahps_ │\n",
       "│ ---  ┆ umber      ┆ ---     ┆ ame        ┆   ┆ survey_of_ ┆ ponse_rate ┆ urvey_resp ┆ quality_of │\n",
       "│ str  ┆ ---        ┆ str     ┆ ---        ┆   ┆ patients_e ┆ ---        ┆ onse_rate  ┆ _patient_c │\n",
       "│      ┆ str        ┆         ┆ str        ┆   ┆ …          ┆ str        ┆ ---        ┆ …          │\n",
       "│      ┆            ┆         ┆            ┆   ┆ ---        ┆            ┆ str        ┆ ---        │\n",
       "│      ┆            ┆         ┆            ┆   ┆ str        ┆            ┆            ┆ str        │\n",
       "╞══════╪════════════╪═════════╪════════════╪═══╪════════════╪════════════╪════════════╪════════════╡\n",
       "│ 2021 ┆ 552821     ┆ 18      ┆ DAVITA     ┆ … ┆ 4          ┆ null       ┆ 31         ┆ null       │\n",
       "│      ┆            ┆         ┆ SOUTH GATE ┆   ┆            ┆            ┆            ┆            │\n",
       "│      ┆            ┆         ┆ DIALYSIS   ┆   ┆            ┆            ┆            ┆            │\n",
       "│ 2020 ┆ 552821     ┆ 18      ┆ DAVITA     ┆ … ┆ 4          ┆ null       ┆ 31         ┆ null       │\n",
       "│      ┆            ┆         ┆ SOUTH GATE ┆   ┆            ┆            ┆            ┆            │\n",
       "│      ┆            ┆         ┆ DIALYSIS   ┆   ┆            ┆            ┆            ┆            │\n",
       "│ 2019 ┆ 552821     ┆ 18      ┆ DAVITA-SOU ┆ … ┆ not        ┆ null       ┆ not        ┆ null       │\n",
       "│      ┆            ┆         ┆ TH GATE    ┆   ┆ Available  ┆            ┆ Available  ┆            │\n",
       "│      ┆            ┆         ┆ DIALYSIS   ┆   ┆            ┆            ┆            ┆            │\n",
       "│ 2018 ┆ 552821     ┆ 18      ┆ DAVITA-SOU ┆ … ┆ null       ┆ null       ┆ null       ┆ not        │\n",
       "│      ┆            ┆         ┆ TH GATE    ┆   ┆            ┆            ┆            ┆ Available  │\n",
       "│      ┆            ┆         ┆ DIALYSIS   ┆   ┆            ┆            ┆            ┆            │\n",
       "└──────┴────────────┴─────────┴────────────┴───┴────────────┴────────────┴────────────┴────────────┘"
      ]
     },
     "execution_count": 44,
     "metadata": {},
     "output_type": "execute_result"
    }
   ],
   "source": [
    "\n",
    "cahps_df.filter(pl.col(\"chain_organization\").str.contains(\"Dallas|dallas|DALLAS\"))"
   ]
  },
  {
   "cell_type": "code",
   "execution_count": 45,
   "metadata": {},
   "outputs": [
    {
     "data": {
      "text/html": [
       "<div><style>\n",
       ".dataframe > thead > tr,\n",
       ".dataframe > tbody > tr {\n",
       "  text-align: right;\n",
       "  white-space: pre-wrap;\n",
       "}\n",
       "</style>\n",
       "<small>shape: (4, 154)</small><table border=\"1\" class=\"dataframe\"><thead><tr><th>provider_number</th><th>network</th><th>facility_name</th><th>five_star_date</th><th>five_star</th><th>five_star_data_availability_code</th><th>address_line_1</th><th>address_line_2</th><th>state</th><th>zip_code</th><th>profit_or_nonprofit</th><th>chain_owned</th><th>chain_organization</th><th>late_shift</th><th>_of_dialysis_stations</th><th>offers_incenter_hemodialysis</th><th>offers_peritoneal_dialysis</th><th>offers_home_hemodialysis_training</th><th>certification_date</th><th>claims_date</th><th>eqrs_date</th><th>smr_date</th><th>patient_survival_category_text</th><th>patient_survival_data_availability_code</th><th>number_of_patients_included_in_survival_summary</th><th>mortality_rate_facility</th><th>mortality_rate_upper_confidence_limit_975</th><th>mortality_rate_lower_confidence_limit_25</th><th>shr_date</th><th>patient_hospitalization_category_text</th><th>patient_hospitalization_data_availability_code</th><th>number_of_patients_included_in_hospitalization_summary</th><th>hospitalization_rate_facility</th><th>hospitalization_rate_upper_confidence_limit_975</th><th>hospitalization_rate_lower_confidence_limit_25</th><th>srr_date</th><th>patient_hospital_readmission_category</th><th>&hellip;</th><th>number_of_patientmonths_in_serum_phosphorus_summary</th><th>percentage_of_adult_patients_with_serum_phosphorus_less_than_35_mgdl</th><th>percentage_of_adult_patients_with_serum_phosphorus_between_3545_mgdl</th><th>percentage_of_adult_patients_with_serum_phosphorus_between_4655_mgdl</th><th>percentage_of_adult_patients_with_serum_phosphorus_between_5670_mgdl</th><th>percentage_of_adult_patients_with_serum_phosphorus_greater_than_70_mgdl</th><th>long_term_catheter_data_availability_code</th><th>number_of_patients_in_long_term_catheter_summary</th><th>number_of_patient_months_in_long_term_catheter_summary</th><th>percentage_of_adult_patients_with_long_term_catheter_in_use</th><th>npcr_data_availability_code</th><th>number_of_patients_in_npcr_summary</th><th>number_of_patientmonths_in_npcr_summary</th><th>percentage_of_pediatric_hd_patients_with_npcr</th><th>year</th><th>month</th><th>city</th><th>county</th><th>phone_number</th><th>certification_or_recertification_date</th><th>crownweb_date</th><th>serum_phosphorus_data_availability_code_</th><th>dateswr</th><th>offers_incenter_peritoneal_dialysis</th><th>rate_of_hospital_readmission_category_text</th><th>percentage_of_medicare_patients_with_hgb_10_gdl</th><th>number_of_patients_included_in_transfusion_summary</th><th>percentage_of_adult_hd_patients_with_ktv_12</th><th>percentage_of_adult_pd_patients_with_ktv17</th><th>percentage_of_pediatric_hd_patents_with_ktv12</th><th>percentage_of_pediatric_pd_patents_with_ktv18</th><th>number_of_adult_patients_included_in_arterial_venous_fistula_and_catheter_summaries</th><th>number_of_adult_patientmonths_included_in_arterial_venous_fistula_and_catheter_summaries</th><th>arteriovenous_fistulae_in_use_data_availability_code</th><th>percentage_of_patients_with_arteriovenous_fistulae_in_use</th><th>vascular_catheter_data_availability_code</th><th>percentage_of_patients_with_vascular_catheter_in_use_for_90_days_or_longer</th></tr><tr><td>str</td><td>str</td><td>str</td><td>str</td><td>str</td><td>str</td><td>str</td><td>str</td><td>str</td><td>str</td><td>str</td><td>str</td><td>str</td><td>str</td><td>str</td><td>str</td><td>str</td><td>str</td><td>str</td><td>str</td><td>str</td><td>str</td><td>str</td><td>str</td><td>str</td><td>str</td><td>str</td><td>str</td><td>str</td><td>str</td><td>str</td><td>str</td><td>str</td><td>str</td><td>str</td><td>str</td><td>str</td><td>&hellip;</td><td>str</td><td>str</td><td>str</td><td>str</td><td>str</td><td>str</td><td>str</td><td>str</td><td>str</td><td>str</td><td>str</td><td>str</td><td>str</td><td>str</td><td>str</td><td>str</td><td>str</td><td>str</td><td>str</td><td>str</td><td>str</td><td>str</td><td>str</td><td>str</td><td>str</td><td>str</td><td>str</td><td>str</td><td>str</td><td>str</td><td>str</td><td>str</td><td>str</td><td>str</td><td>str</td><td>str</td><td>str</td></tr></thead><tbody><tr><td>&quot;552821&quot;</td><td>&quot;18&quot;</td><td>&quot;DAVITA SOUTH GATE DIALYSIS&quot;</td><td>&quot;01/01/2016-12/31/2019&quot;</td><td>&quot;5&quot;</td><td>&quot;1&quot;</td><td>&quot;9848 ATLANTIC AVENUE&quot;</td><td>&quot;&quot;</td><td>&quot;CA&quot;</td><td>&quot;90280&quot;</td><td>&quot;profit&quot;</td><td>&quot;yes&quot;</td><td>&quot;DALLAS COUNTY HOSPITAL DISTRIC…</td><td>&quot;0&quot;</td><td>&quot;25&quot;</td><td>&quot;1&quot;</td><td>&quot;1&quot;</td><td>&quot;0&quot;</td><td>null</td><td>&quot;01/01/2019-12/31/2019&quot;</td><td>null</td><td>&quot;01/01/2016-12/31/2019&quot;</td><td>&quot;As Expected&quot;</td><td>&quot;1&quot;</td><td>&quot;184&quot;</td><td>&quot;13.8&quot;</td><td>&quot;24.8&quot;</td><td>&quot;6.9&quot;</td><td>&quot;01/01/2019-12/31/2019&quot;</td><td>&quot;As Expected&quot;</td><td>&quot;1&quot;</td><td>&quot;96&quot;</td><td>&quot;168.6&quot;</td><td>&quot;287.3&quot;</td><td>&quot;107.3&quot;</td><td>&quot;01/01/2019-12/31/2019&quot;</td><td>&quot;As Expected&quot;</td><td>&hellip;</td><td>&quot;1331&quot;</td><td>&quot;8&quot;</td><td>&quot;21&quot;</td><td>&quot;37&quot;</td><td>&quot;19&quot;</td><td>&quot;14&quot;</td><td>&quot;1&quot;</td><td>&quot;130&quot;</td><td>&quot;1171&quot;</td><td>&quot;8&quot;</td><td>&quot;259&quot;</td><td>&quot;0&quot;</td><td>null</td><td>null</td><td>&quot;2021&quot;</td><td>&quot;4&quot;</td><td>&quot;SOUTH GATE&quot;</td><td>&quot;LOS ANGELES&quot;</td><td>&quot;(323) 569-1035&quot;</td><td>&quot;10/18/2017&quot;</td><td>&quot;01/01/2019-12/31/2019&quot;</td><td>&quot;1&quot;</td><td>null</td><td>null</td><td>null</td><td>null</td><td>null</td><td>null</td><td>null</td><td>null</td><td>null</td><td>null</td><td>null</td><td>null</td><td>null</td><td>null</td><td>null</td></tr><tr><td>&quot;552821&quot;</td><td>&quot;18&quot;</td><td>&quot;DAVITA SOUTH GATE DIALYSIS&quot;</td><td>&quot;01/01/2016-12/31/2019&quot;</td><td>&quot;5&quot;</td><td>&quot;1&quot;</td><td>&quot;9848 ATLANTIC AVENUE&quot;</td><td>&quot;&quot;</td><td>&quot;CA&quot;</td><td>&quot;90280&quot;</td><td>&quot;profit&quot;</td><td>&quot;yes&quot;</td><td>&quot;DALLAS COUNTY HOSPITAL DISTRIC…</td><td>&quot;0&quot;</td><td>&quot;25&quot;</td><td>&quot;1&quot;</td><td>&quot;1&quot;</td><td>&quot;0&quot;</td><td>null</td><td>&quot;01/01/2019-12/31/2019&quot;</td><td>null</td><td>&quot;01/01/2016-12/31/2019&quot;</td><td>&quot;As Expected&quot;</td><td>&quot;1&quot;</td><td>&quot;184&quot;</td><td>&quot;13.8&quot;</td><td>&quot;24.8&quot;</td><td>&quot;6.9&quot;</td><td>&quot;01/01/2019-12/31/2019&quot;</td><td>&quot;As Expected&quot;</td><td>&quot;1&quot;</td><td>&quot;96&quot;</td><td>&quot;168.6&quot;</td><td>&quot;287.3&quot;</td><td>&quot;107.3&quot;</td><td>&quot;01/01/2019-12/31/2019&quot;</td><td>&quot;As Expected&quot;</td><td>&hellip;</td><td>&quot;1331&quot;</td><td>&quot;8&quot;</td><td>&quot;21&quot;</td><td>&quot;37&quot;</td><td>&quot;19&quot;</td><td>&quot;14&quot;</td><td>&quot;1&quot;</td><td>&quot;130&quot;</td><td>&quot;1171&quot;</td><td>&quot;8&quot;</td><td>&quot;259&quot;</td><td>&quot;0&quot;</td><td>null</td><td>null</td><td>&quot;2020&quot;</td><td>&quot;10&quot;</td><td>&quot;SOUTH GATE&quot;</td><td>&quot;LOS ANGELES&quot;</td><td>&quot;(323) 569-1035&quot;</td><td>&quot;10/18/2017&quot;</td><td>&quot;01/01/2019-12/31/2019&quot;</td><td>&quot;1&quot;</td><td>null</td><td>null</td><td>null</td><td>null</td><td>null</td><td>null</td><td>null</td><td>null</td><td>null</td><td>null</td><td>null</td><td>null</td><td>null</td><td>null</td><td>null</td></tr><tr><td>&quot;552821&quot;</td><td>&quot;18&quot;</td><td>&quot;DAVITA-SOUTH GATE DIALYSIS&quot;</td><td>&quot;01/01/2015 - 12/31/2018&quot;</td><td>&quot;5&quot;</td><td>&quot;1&quot;</td><td>&quot;9848 ATLANTIC AVENUE&quot;</td><td>null</td><td>&quot;CA&quot;</td><td>&quot;90280&quot;</td><td>&quot;profit&quot;</td><td>&quot;yes&quot;</td><td>&quot;DALLAS COUNTY HOSPITAL DISTRIC…</td><td>&quot;0&quot;</td><td>&quot;25&quot;</td><td>&quot;1&quot;</td><td>&quot;1&quot;</td><td>&quot;0&quot;</td><td>null</td><td>&quot;01/01/2018 - 12/31/2018&quot;</td><td>null</td><td>&quot;01/01/2015 - 12/31/2018&quot;</td><td>&quot;As Expected&quot;</td><td>&quot;1&quot;</td><td>&quot;88&quot;</td><td>&quot;10.7&quot;</td><td>&quot;27.3&quot;</td><td>&quot;2.9&quot;</td><td>&quot;01/01/2018 - 12/31/2018&quot;</td><td>&quot;As Expected&quot;</td><td>&quot;1&quot;</td><td>&quot;67&quot;</td><td>&quot;145.5&quot;</td><td>&quot;254.7&quot;</td><td>&quot;85.5&quot;</td><td>&quot;01/01/2018 - 12/31/2018&quot;</td><td>&quot;As Expected&quot;</td><td>&hellip;</td><td>&quot;917&quot;</td><td>&quot;9&quot;</td><td>&quot;27&quot;</td><td>&quot;34&quot;</td><td>&quot;17&quot;</td><td>&quot;13&quot;</td><td>&quot;1&quot;</td><td>&quot;97&quot;</td><td>&quot;841&quot;</td><td>&quot;6&quot;</td><td>&quot;259&quot;</td><td>&quot;0&quot;</td><td>&quot;not Available&quot;</td><td>&quot;not Available&quot;</td><td>&quot;2019&quot;</td><td>&quot;10&quot;</td><td>&quot;SOUTH GATE&quot;</td><td>&quot;LOS ANGELES&quot;</td><td>&quot;(323) 569-1035&quot;</td><td>&quot;10/18/2017&quot;</td><td>&quot;01/01/2018 - 12/31/2018&quot;</td><td>null</td><td>&quot;01/01/2015 - 12/31/2017&quot;</td><td>null</td><td>null</td><td>null</td><td>null</td><td>null</td><td>null</td><td>null</td><td>null</td><td>null</td><td>null</td><td>null</td><td>null</td><td>null</td><td>null</td></tr><tr><td>&quot;552821&quot;</td><td>&quot;18&quot;</td><td>&quot;DAVITA-SOUTH GATE DIALYSIS&quot;</td><td>&quot;01/01/2014-12/31/2017&quot;</td><td>&quot;3&quot;</td><td>&quot;1&quot;</td><td>&quot;9848 ATLANTIC AVENUE&quot;</td><td>&quot;&quot;</td><td>&quot;CA&quot;</td><td>&quot;90280&quot;</td><td>&quot;profit&quot;</td><td>&quot;yes&quot;</td><td>&quot;DALLAS COUNTY HOSPITAL DISTRIC…</td><td>&quot;0&quot;</td><td>&quot;25&quot;</td><td>&quot;1&quot;</td><td>null</td><td>&quot;0&quot;</td><td>null</td><td>&quot;01/01/2017-12/31/2017&quot;</td><td>null</td><td>&quot;01/01/2014-12/31/2017&quot;</td><td>&quot;not Available&quot;</td><td>&quot;258&quot;</td><td>&quot;21&quot;</td><td>&quot;&quot;</td><td>&quot;&quot;</td><td>&quot;&quot;</td><td>&quot;01/01/2017-12/31/2017&quot;</td><td>&quot;not Available&quot;</td><td>&quot;258&quot;</td><td>&quot;20&quot;</td><td>&quot;&quot;</td><td>&quot;&quot;</td><td>&quot;&quot;</td><td>&quot;01/01/2017-12/31/2017&quot;</td><td>null</td><td>&hellip;</td><td>&quot;55&quot;</td><td>&quot;16&quot;</td><td>&quot;31&quot;</td><td>&quot;36&quot;</td><td>&quot;13&quot;</td><td>&quot;4&quot;</td><td>&quot;1&quot;</td><td>&quot;31&quot;</td><td>&quot;60&quot;</td><td>&quot;15&quot;</td><td>&quot;259&quot;</td><td>&quot;0&quot;</td><td>&quot;0&quot;</td><td>&quot;&quot;</td><td>&quot;2018&quot;</td><td>&quot;10&quot;</td><td>&quot;SOUTH GATE&quot;</td><td>&quot;LOS ANGELES&quot;</td><td>&quot;(323) 569-1035&quot;</td><td>&quot;2017-10-18 00:00:00&quot;</td><td>&quot;01/01/2017-12/31/2017&quot;</td><td>null</td><td>null</td><td>&quot;1&quot;</td><td>&quot;As Expected&quot;</td><td>null</td><td>null</td><td>null</td><td>null</td><td>null</td><td>null</td><td>null</td><td>null</td><td>null</td><td>null</td><td>null</td><td>null</td></tr></tbody></table></div>"
      ],
      "text/plain": [
       "shape: (4, 154)\n",
       "┌────────────┬─────────┬───────────┬───────────┬───┬───────────┬───────────┬───────────┬───────────┐\n",
       "│ provider_n ┆ network ┆ facility_ ┆ five_star ┆ … ┆ arteriove ┆ percentag ┆ vascular_ ┆ percentag │\n",
       "│ umber      ┆ ---     ┆ name      ┆ _date     ┆   ┆ nous_fist ┆ e_of_pati ┆ catheter_ ┆ e_of_pati │\n",
       "│ ---        ┆ str     ┆ ---       ┆ ---       ┆   ┆ ulae_in_u ┆ ents_with ┆ data_avai ┆ ents_with │\n",
       "│ str        ┆         ┆ str       ┆ str       ┆   ┆ se_…      ┆ _ar…      ┆ lab…      ┆ _va…      │\n",
       "│            ┆         ┆           ┆           ┆   ┆ ---       ┆ ---       ┆ ---       ┆ ---       │\n",
       "│            ┆         ┆           ┆           ┆   ┆ str       ┆ str       ┆ str       ┆ str       │\n",
       "╞════════════╪═════════╪═══════════╪═══════════╪═══╪═══════════╪═══════════╪═══════════╪═══════════╡\n",
       "│ 552821     ┆ 18      ┆ DAVITA    ┆ 01/01/201 ┆ … ┆ null      ┆ null      ┆ null      ┆ null      │\n",
       "│            ┆         ┆ SOUTH     ┆ 6-12/31/2 ┆   ┆           ┆           ┆           ┆           │\n",
       "│            ┆         ┆ GATE      ┆ 019       ┆   ┆           ┆           ┆           ┆           │\n",
       "│            ┆         ┆ DIALYSIS  ┆           ┆   ┆           ┆           ┆           ┆           │\n",
       "│ 552821     ┆ 18      ┆ DAVITA    ┆ 01/01/201 ┆ … ┆ null      ┆ null      ┆ null      ┆ null      │\n",
       "│            ┆         ┆ SOUTH     ┆ 6-12/31/2 ┆   ┆           ┆           ┆           ┆           │\n",
       "│            ┆         ┆ GATE      ┆ 019       ┆   ┆           ┆           ┆           ┆           │\n",
       "│            ┆         ┆ DIALYSIS  ┆           ┆   ┆           ┆           ┆           ┆           │\n",
       "│ 552821     ┆ 18      ┆ DAVITA-SO ┆ 01/01/201 ┆ … ┆ null      ┆ null      ┆ null      ┆ null      │\n",
       "│            ┆         ┆ UTH GATE  ┆ 5 - 12/31 ┆   ┆           ┆           ┆           ┆           │\n",
       "│            ┆         ┆ DIALYSIS  ┆ /2018     ┆   ┆           ┆           ┆           ┆           │\n",
       "│ 552821     ┆ 18      ┆ DAVITA-SO ┆ 01/01/201 ┆ … ┆ null      ┆ null      ┆ null      ┆ null      │\n",
       "│            ┆         ┆ UTH GATE  ┆ 4-12/31/2 ┆   ┆           ┆           ┆           ┆           │\n",
       "│            ┆         ┆ DIALYSIS  ┆ 017       ┆   ┆           ┆           ┆           ┆           │\n",
       "└────────────┴─────────┴───────────┴───────────┴───┴───────────┴───────────┴───────────┴───────────┘"
      ]
     },
     "execution_count": 45,
     "metadata": {},
     "output_type": "execute_result"
    }
   ],
   "source": [
    "facility_df.filter(pl.col(\"chain_organization\").str.contains(\"Dallas|dallas|DALLAS\"))"
   ]
  },
  {
   "cell_type": "code",
   "execution_count": null,
   "metadata": {},
   "outputs": [],
   "source": []
  }
 ],
 "metadata": {
  "kernelspec": {
   "display_name": "Python 3",
   "language": "python",
   "name": "python3"
  },
  "language_info": {
   "codemirror_mode": {
    "name": "ipython",
    "version": 3
   },
   "file_extension": ".py",
   "mimetype": "text/x-python",
   "name": "python",
   "nbconvert_exporter": "python",
   "pygments_lexer": "ipython3",
   "version": "3.11.10"
  }
 },
 "nbformat": 4,
 "nbformat_minor": 2
}
