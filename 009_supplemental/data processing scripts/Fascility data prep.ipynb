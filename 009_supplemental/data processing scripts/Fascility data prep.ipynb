{
 "cells": [
  {
   "cell_type": "markdown",
   "id": "d1393591",
   "metadata": {},
   "source": [
    "# Data Preparation Notebook\n",
    "\n",
    "This notebook performs data preparation and exploratory analysis on the dialysis facilities dataset. It includes data loading, merging, summary statistics, and visualization steps."
   ]
  },
  {
   "cell_type": "markdown",
   "id": "4419c69d",
   "metadata": {},
   "source": [
    "# I. Environment Setup"
   ]
  },
  {
   "cell_type": "code",
   "execution_count": 2,
   "metadata": {},
   "outputs": [],
   "source": [
    "import pandas as pd\n",
    "import scripts as func\n",
    "import numpy as np\n",
    "import os\n"
   ]
  },
  {
   "cell_type": "markdown",
   "metadata": {},
   "source": [
    "# II. DFC AND CHAPS Datasets"
   ]
  },
  {
   "cell_type": "markdown",
   "metadata": {},
   "source": [
    "## 1. DATA Descritpion"
   ]
  },
  {
   "cell_type": "markdown",
   "id": "d6a7d208",
   "metadata": {},
   "source": [
    "## 2. Load Datasets\n",
    "This section loads raw data from various CSV files."
   ]
  },
  {
   "cell_type": "markdown",
   "id": "c5ffc69a",
   "metadata": {},
   "source": [
    "### 2.1 Load DFC Facility Data"
   ]
  },
  {
   "cell_type": "code",
   "execution_count": 4,
   "id": "df43669a",
   "metadata": {},
   "outputs": [
    {
     "name": "stderr",
     "output_type": "stream",
     "text": [
      "C:\\Users\\kasra\\AppData\\Local\\Temp\\ipykernel_2184\\3334128368.py:36: SettingWithCopyWarning: \n",
      "A value is trying to be set on a copy of a slice from a DataFrame.\n",
      "Try using .loc[row_indexer,col_indexer] = value instead\n",
      "\n",
      "See the caveats in the documentation: https://pandas.pydata.org/pandas-docs/stable/user_guide/indexing.html#returning-a-view-versus-a-copy\n",
      "  df_dfc['provider_number'] = pd.to_numeric(df_dfc['provider_number'], errors='coerce').astype('Int64')\n"
     ]
    }
   ],
   "source": [
    "# Define the path to the data file\n",
    "notebook_dir = os.path.dirname(os.path.abspath('__file__'))  # Get the directory of the current notebook\n",
    "project_root = os.path.abspath(os.path.join(notebook_dir, '..', '..'))  # Navigate up two levels to project root\n",
    "data_dir = os.path.join(project_root, '003_data', '002_clean-data')\n",
    "file_name = 'national_cms_dialysis-facility_data.parquet'\n",
    "path_dfc = os.path.join(data_dir, file_name)\n",
    "\n",
    "# Check if the file exists\n",
    "if not os.path.exists(path_dfc):\n",
    "    raise FileNotFoundError(f\"The file {path_dfc} does not exist. Please check the file path.\")\n",
    "\n",
    "# Load DFC Facility Data\n",
    "df_dfc_raw = pd.read_parquet(path_dfc)\n",
    "\n",
    "# Filter for California\n",
    "df_dfc_raw_CA = df_dfc_raw[df_dfc_raw['state'] == 'CA']\n",
    "\n",
    "# Select specific columns\n",
    "dfc_columns = [\n",
    "    'provider_number',\n",
    "    'facility_name',\n",
    "    'county',\n",
    "    '_of_dialysis_stations',\n",
    "    'profit_or_nonprofit',\n",
    "    'chain_owned',\n",
    "    'chain_organization',\n",
    "    'mortality_rate_facility',\n",
    "    'readmission_rate_facility',\n",
    "    'patient_hospital_readmission_category'\n",
    "]\n",
    "\n",
    "# Create DataFrame with selected columns\n",
    "df_dfc = df_dfc_raw_CA[dfc_columns]\n",
    "\n",
    "# Convert CCN to integer, handling any non-numeric values\n",
    "df_dfc['provider_number'] = pd.to_numeric(df_dfc['provider_number'], errors='coerce').astype('Int64')\n"
   ]
  },
  {
   "cell_type": "markdown",
   "id": "15ccca00",
   "metadata": {},
   "source": [
    "### 2.2 Load ICH CAHPS Facility Data"
   ]
  },
  {
   "cell_type": "code",
   "execution_count": 5,
   "id": "3b7a2181",
   "metadata": {},
   "outputs": [
    {
     "name": "stderr",
     "output_type": "stream",
     "text": [
      "C:\\Users\\kasra\\AppData\\Local\\Temp\\ipykernel_2184\\1189730666.py:43: SettingWithCopyWarning: \n",
      "A value is trying to be set on a copy of a slice from a DataFrame.\n",
      "Try using .loc[row_indexer,col_indexer] = value instead\n",
      "\n",
      "See the caveats in the documentation: https://pandas.pydata.org/pandas-docs/stable/user_guide/indexing.html#returning-a-view-versus-a-copy\n",
      "  df_chaps[col] = to_int64(df_chaps[col])\n",
      "C:\\Users\\kasra\\AppData\\Local\\Temp\\ipykernel_2184\\1189730666.py:56: SettingWithCopyWarning: \n",
      "A value is trying to be set on a copy of a slice from a DataFrame.\n",
      "Try using .loc[row_indexer,col_indexer] = value instead\n",
      "\n",
      "See the caveats in the documentation: https://pandas.pydata.org/pandas-docs/stable/user_guide/indexing.html#returning-a-view-versus-a-copy\n",
      "  df_chaps[col] = pd.to_numeric(df_chaps[col], errors='coerce')\n"
     ]
    }
   ],
   "source": [
    "\n",
    "# Load ICH CAHPS Facility Data# Define the path to the data file\n",
    "notebook_dir = os.path.dirname(os.path.abspath('__file__'))  # Get the directory of the current notebook\n",
    "project_root = os.path.abspath(os.path.join(notebook_dir, '..', '..'))  # Navigate up two levels to project root\n",
    "data_dir = os.path.join(project_root, '003_data', '001_raw-data')\n",
    "file_name = '2017-2024_national_cms_dialysis-facility_cahps-data.parquet'\n",
    "path_chaps = os.path.join(data_dir, file_name)\n",
    "\n",
    "df_chaps_raw = pd.read_parquet(path_chaps)\n",
    "df_chaps_RAW_CA = df_chaps_raw[df_chaps_raw['state'] == 'CA']\n",
    "\n",
    "chaps_columns = [\n",
    "    \"provider_number\",\n",
    "    \"total_number_of_completed_interviews_from_the_fall_and_spring_surveys\",\n",
    "    \"survey_response_rate\",\n",
    "    \"star_rating_of_the_dialysis_facility\",\n",
    "    \"ich_cahps_survey_of_patients_experiences_star_rating\",\n",
    "    \"linearized_score_of_nephrologists_communication_and_caring\",\n",
    "    \"linearized_score_of_quality_of_dialysis_center_care_and_operations\",\n",
    "    \"linearized_score_of_providing_information_to_patients\",\n",
    "    \"linearized_score_of_rating_of_the_nephrologist\",\n",
    "    \"linearized_score_of_rating_of_the_dialysis_center_staff\",\n",
    "    \"linearized_score_of_rating_of_the_dialysis_facility\",\n",
    "    'year'\n",
    "]\n",
    "\n",
    "df_chaps = df_chaps_RAW_CA[chaps_columns]\n",
    "\n",
    "# Function to convert to float first, then to Int64\n",
    "def to_int64(series):\n",
    "    return pd.to_numeric(series, errors='coerce').astype('Int64')\n",
    "\n",
    "# Convert columns to Int64\n",
    "int_columns = [\n",
    "    \"provider_number\",\n",
    "    \"total_number_of_completed_interviews_from_the_fall_and_spring_surveys\",\n",
    "    \"survey_response_rate\",\n",
    "    \"star_rating_of_the_dialysis_facility\",\n",
    "    \"ich_cahps_survey_of_patients_experiences_star_rating\",\n",
    "    'year'\n",
    "]\n",
    "\n",
    "for col in int_columns:\n",
    "    df_chaps[col] = to_int64(df_chaps[col])\n",
    "\n",
    "# Convert score columns to float\n",
    "score_columns = [\n",
    "    \"linearized_score_of_nephrologists_communication_and_caring\",\n",
    "    \"linearized_score_of_quality_of_dialysis_center_care_and_operations\",\n",
    "    \"linearized_score_of_providing_information_to_patients\",\n",
    "    \"linearized_score_of_rating_of_the_nephrologist\",\n",
    "    \"linearized_score_of_rating_of_the_dialysis_center_staff\",\n",
    "    \"linearized_score_of_rating_of_the_dialysis_facility\"\n",
    "]\n",
    "\n",
    "for col in score_columns:\n",
    "    df_chaps[col] = pd.to_numeric(df_chaps[col], errors='coerce')\n",
    "\n"
   ]
  },
  {
   "cell_type": "markdown",
   "id": "86ec9d7f",
   "metadata": {},
   "source": [
    "## 3. Data Merging\n",
    "This section merges the loaded datasets based on common columns."
   ]
  },
  {
   "cell_type": "code",
   "execution_count": 6,
   "id": "6cd229f4",
   "metadata": {},
   "outputs": [],
   "source": [
    "# Merge DFC and CHAPS data\n",
    "df_fasc = df_dfc.merge(df_chaps, on='provider_number', how='left')\n",
    "\n",
    "# Update data dictionary with new column names\n",
    "data_dict = {\n",
    "    'provider_number': 'CNN',\n",
    "    'facility_name': 'FAC_NAME',\n",
    "    'county': 'COUNTY',\n",
    "    '_of_dialysis_stations': 'STATIONS',\n",
    "    'profit_or_nonprofit': 'PROF_NP',\n",
    "    'chain_owned': 'CHAIN_OWN',\n",
    "    'chain_organization': 'CHAIN_ORG',\n",
    "    'linearized_score_of_nephrologists_communication_and_caring': 'COMM_SCR',\n",
    "    'linearized_score_of_quality_of_dialysis_center_care_and_operations': 'QUALITY_SCR',\n",
    "    'linearized_score_of_providing_information_to_patients': 'INFO_SCR',\n",
    "    'linearized_score_of_rating_of_the_nephrologist': 'PHYS_SCR',\n",
    "    'linearized_score_of_rating_of_the_dialysis_center_staff': 'STAFF_SCR',\n",
    "    'linearized_score_of_rating_of_the_dialysis_facility': 'FAC_SCR',\n",
    "    'star_rating_of_the_dialysis_facility': 'FAC_STAR',\n",
    "    'total_number_of_completed_interviews_from_the_fall_and_spring_surveys': 'SURVEY_COUNT',\n",
    "    'ich_cahps_survey_of_patients_experiences_star_rating': 'XP_STAR',\n",
    "    'survey_response_rate': 'SURVEY_RATE',\n",
    "    'year': 'YEAR'\n",
    "}\n",
    "\n",
    "df_fasc.rename(columns=data_dict, inplace=True)\n",
    "\n",
    "\n",
    "# Function to clean county names\n",
    "def clean_county_name(name):\n",
    "    if pd.isna(name) or name.strip() == '':\n",
    "        return None\n",
    "    name = name.strip().title()\n",
    "    if name == 'Del Norte':\n",
    "        return 'Del Norte'\n",
    "    return name\n",
    "\n",
    "# Clean county names\n",
    "df_fasc['COUNTY'] = df_fasc['COUNTY'].apply(clean_county_name)\n",
    "\n",
    "\n",
    "# Convert numeric columns to appropriate data type\n",
    "numeric_columns = ['STATIONS', 'SURVEY_COUNT', 'SURVEY_RATE', 'FAC_STAR', 'XP_STAR', \n",
    "                   'COMM_SCR', 'QUALITY_SCR', 'INFO_SCR', 'PHYS_SCR', 'STAFF_SCR', 'FAC_SCR', 'YEAR']\n",
    "for col in numeric_columns:\n",
    "    df_fasc[col] = pd.to_numeric(df_fasc[col], errors='coerce')\n",
    "\n",
    "# Move 'YEAR' column to the leftmost position\n",
    "columns = df_fasc.columns.tolist()\n",
    "columns.remove('YEAR')\n",
    "df_fasc = df_fasc[['YEAR'] + columns]\n"
   ]
  },
  {
   "cell_type": "markdown",
   "id": "81061acc",
   "metadata": {},
   "source": [
    "## 4. Basic Data Exploration\n",
    "This section provides a brief overview of the merged dataset, including data types, summary statistics, and missing values."
   ]
  },
  {
   "cell_type": "code",
   "execution_count": null,
   "metadata": {},
   "outputs": [],
   "source": [
    "print(df_fasc.COUNTY.unique())"
   ]
  },
  {
   "cell_type": "code",
   "execution_count": null,
   "id": "bbe9264c",
   "metadata": {},
   "outputs": [],
   "source": [
    "# Display dataset information\n",
    "df_fasc.info()"
   ]
  },
  {
   "cell_type": "code",
   "execution_count": null,
   "id": "7b4ebee3",
   "metadata": {},
   "outputs": [],
   "source": [
    "# Summary statistics for numerical columns\n",
    "# Summary statistics for numerical columns\n",
    "df_fasc.describe().T"
   ]
  },
  {
   "cell_type": "code",
   "execution_count": null,
   "id": "91c2b9bf",
   "metadata": {},
   "outputs": [],
   "source": [
    "# Value counts for 'CHAIN_ORG' column\n",
    "\n",
    "# Value counts for categorical columns\n",
    "df_fasc['CHAIN_ORG'].value_counts()\n"
   ]
  },
  {
   "cell_type": "code",
   "execution_count": 7,
   "id": "eda56cd2",
   "metadata": {},
   "outputs": [
    {
     "name": "stdout",
     "output_type": "stream",
     "text": [
      "YEAR                                         3\n",
      "CNN                                          0\n",
      "FAC_NAME                                     0\n",
      "COUNTY                                     800\n",
      "STATIONS                                     0\n",
      "PROF_NP                                      0\n",
      "CHAIN_OWN                                    0\n",
      "CHAIN_ORG                                    0\n",
      "mortality_rate_facility                   1340\n",
      "readmission_rate_facility                 1521\n",
      "patient_hospital_readmission_category     4448\n",
      "SURVEY_COUNT                             14237\n",
      "SURVEY_RATE                              31177\n",
      "FAC_STAR                                 14237\n",
      "XP_STAR                                  31177\n",
      "COMM_SCR                                 14237\n",
      "QUALITY_SCR                              14237\n",
      "INFO_SCR                                 14237\n",
      "PHYS_SCR                                 14237\n",
      "STAFF_SCR                                14237\n",
      "FAC_SCR                                  14237\n",
      "dtype: int64\n"
     ]
    },
    {
     "data": {
      "text/plain": [
       "<Axes: >"
      ]
     },
     "execution_count": 7,
     "metadata": {},
     "output_type": "execute_result"
    },
    {
     "data": {
      "image/png": "[encoded data removed]",
      "text/plain": [
       "<Figure size 1200x600 with 1 Axes>"
      ]
     },
     "metadata": {},
     "output_type": "display_data"
    }
   ],
   "source": [
    "# Count missing values in each column\n",
    "# Count missing values in each column\n",
    "missing_counts = df_fasc.isnull().sum()\n",
    "print(missing_counts)\n",
    "# Visualizing missing data using seaborn\n",
    "import seaborn as sns\n",
    "import matplotlib.pyplot as plt\n",
    "plt.figure(figsize=(12, 6))\n",
    "sns.heatmap(df_fasc.isnull(), cbar=False, cmap='viridis')\n"
   ]
  },
  {
   "cell_type": "code",
   "execution_count": null,
   "id": "3662a5e2",
   "metadata": {},
   "outputs": [],
   "source": [
    "# List all columns in the dataset\n",
    "df_fasc.info()"
   ]
  },
  {
   "cell_type": "markdown",
   "id": "f6665034",
   "metadata": {},
   "source": [
    "## 5. Data Visualization\n",
    "This section includes visualizations to explore data distributions and relationships between variables."
   ]
  },
  {
   "cell_type": "code",
   "execution_count": null,
   "id": "aad67a08",
   "metadata": {},
   "outputs": [],
   "source": [
    "# Plot distributions for selected columns by chain ownership\n",
    "import seaborn as sns\n",
    "\n",
    "columns = ['STATIONS', 'SURVEY_COUNT', 'SURVEY_RATE', 'FAC_STAR', 'XP_STAR', 'COMM_SCR', 'QUALITY_SCR', 'INFO_SCR', 'PHYS_SCR', 'STAFF_SCR', 'FAC_SCR']\n",
    "# Create the pairplot with the filtered columns\n",
    "sns.pairplot(data=df_fasc, vars = columns, hue='CHAIN_OWN')\n"
   ]
  },
  {
   "cell_type": "code",
   "execution_count": null,
   "id": "22f2bea9",
   "metadata": {},
   "outputs": [],
   "source": [
    "# Further visualizations for selected columns by profit or non-profit:\n",
    "columns = ['STATIONS', 'SURVEY_COUNT', 'SURVEY_RATE', 'FAC_STAR', 'XP_STAR', 'COMM_SCR', 'QUALITY_SCR', 'INFO_SCR', 'PHYS_SCR', 'STAFF_SCR', 'FAC_SCR']\n",
    "sns.pairplot(data=df_fasc, vars = columns, hue='PROF_NP')\n"
   ]
  },
  {
   "cell_type": "markdown",
   "id": "497377d0",
   "metadata": {},
   "source": [
    "## 6. Data Aggregation\n",
    "This section performs aggregation on the dataset, grouping by specific columns."
   ]
  },
  {
   "cell_type": "code",
   "execution_count": 8,
   "id": "fdeebde6",
   "metadata": {},
   "outputs": [
    {
     "data": {
      "text/html": [
       "<div>\n",
       "<style scoped>\n",
       "    .dataframe tbody tr th:only-of-type {\n",
       "        vertical-align: middle;\n",
       "    }\n",
       "\n",
       "    .dataframe tbody tr th {\n",
       "        vertical-align: top;\n",
       "    }\n",
       "\n",
       "    .dataframe thead th {\n",
       "        text-align: right;\n",
       "    }\n",
       "</style>\n",
       "<table border=\"1\" class=\"dataframe\">\n",
       "  <thead>\n",
       "    <tr style=\"text-align: right;\">\n",
       "      <th></th>\n",
       "      <th>COUNTY</th>\n",
       "      <th>YEAR</th>\n",
       "      <th>FAC_COUNT</th>\n",
       "      <th>STATIONS</th>\n",
       "      <th>PROF_NP</th>\n",
       "      <th>CHAIN_OWN</th>\n",
       "      <th>SURVEY_COUNT</th>\n",
       "      <th>SURVEY_RATE</th>\n",
       "      <th>FAC_STAR</th>\n",
       "      <th>XP_STAR</th>\n",
       "      <th>COMM_SCR</th>\n",
       "      <th>QUALITY_SCR</th>\n",
       "      <th>INFO_SCR</th>\n",
       "      <th>PHYS_SCR</th>\n",
       "      <th>STAFF_SCR</th>\n",
       "      <th>FAC_SCR</th>\n",
       "    </tr>\n",
       "  </thead>\n",
       "  <tbody>\n",
       "    <tr>\n",
       "      <th>0</th>\n",
       "      <td>Alameda</td>\n",
       "      <td>2018</td>\n",
       "      <td>240</td>\n",
       "      <td>4733</td>\n",
       "      <td>0.820833</td>\n",
       "      <td>1.0</td>\n",
       "      <td>8426</td>\n",
       "      <td>&lt;NA&gt;</td>\n",
       "      <td>3.44586</td>\n",
       "      <td>&lt;NA&gt;</td>\n",
       "      <td>81.248408</td>\n",
       "      <td>81.433121</td>\n",
       "      <td>79.757962</td>\n",
       "      <td>84.738854</td>\n",
       "      <td>86.522293</td>\n",
       "      <td>87.980892</td>\n",
       "    </tr>\n",
       "    <tr>\n",
       "      <th>1</th>\n",
       "      <td>Butte</td>\n",
       "      <td>2018</td>\n",
       "      <td>32</td>\n",
       "      <td>584</td>\n",
       "      <td>0.75</td>\n",
       "      <td>1.0</td>\n",
       "      <td>1040</td>\n",
       "      <td>&lt;NA&gt;</td>\n",
       "      <td>3.666667</td>\n",
       "      <td>&lt;NA&gt;</td>\n",
       "      <td>80.666667</td>\n",
       "      <td>83.000000</td>\n",
       "      <td>84.000000</td>\n",
       "      <td>86.333333</td>\n",
       "      <td>87.666667</td>\n",
       "      <td>89.333333</td>\n",
       "    </tr>\n",
       "    <tr>\n",
       "      <th>2</th>\n",
       "      <td>Columbia</td>\n",
       "      <td>2018</td>\n",
       "      <td>2</td>\n",
       "      <td>26</td>\n",
       "      <td>1.0</td>\n",
       "      <td>1.0</td>\n",
       "      <td>80</td>\n",
       "      <td>&lt;NA&gt;</td>\n",
       "      <td>4.0</td>\n",
       "      <td>&lt;NA&gt;</td>\n",
       "      <td>84.000000</td>\n",
       "      <td>88.000000</td>\n",
       "      <td>75.000000</td>\n",
       "      <td>89.000000</td>\n",
       "      <td>93.000000</td>\n",
       "      <td>90.000000</td>\n",
       "    </tr>\n",
       "    <tr>\n",
       "      <th>3</th>\n",
       "      <td>Contra Costa</td>\n",
       "      <td>2018</td>\n",
       "      <td>137</td>\n",
       "      <td>2690</td>\n",
       "      <td>0.985401</td>\n",
       "      <td>1.0</td>\n",
       "      <td>6096</td>\n",
       "      <td>&lt;NA&gt;</td>\n",
       "      <td>3.071429</td>\n",
       "      <td>&lt;NA&gt;</td>\n",
       "      <td>79.928571</td>\n",
       "      <td>79.571429</td>\n",
       "      <td>77.428571</td>\n",
       "      <td>82.642857</td>\n",
       "      <td>85.857143</td>\n",
       "      <td>86.928571</td>\n",
       "    </tr>\n",
       "    <tr>\n",
       "      <th>4</th>\n",
       "      <td>El Dorado</td>\n",
       "      <td>2018</td>\n",
       "      <td>8</td>\n",
       "      <td>185</td>\n",
       "      <td>1.0</td>\n",
       "      <td>1.0</td>\n",
       "      <td>632</td>\n",
       "      <td>&lt;NA&gt;</td>\n",
       "      <td>4.0</td>\n",
       "      <td>&lt;NA&gt;</td>\n",
       "      <td>87.000000</td>\n",
       "      <td>86.000000</td>\n",
       "      <td>84.000000</td>\n",
       "      <td>85.000000</td>\n",
       "      <td>88.000000</td>\n",
       "      <td>90.000000</td>\n",
       "    </tr>\n",
       "  </tbody>\n",
       "</table>\n",
       "</div>"
      ],
      "text/plain": [
       "         COUNTY  YEAR  FAC_COUNT  STATIONS   PROF_NP  CHAIN_OWN  SURVEY_COUNT  \\\n",
       "0       Alameda  2018        240      4733  0.820833        1.0          8426   \n",
       "1         Butte  2018         32       584      0.75        1.0          1040   \n",
       "2      Columbia  2018          2        26       1.0        1.0            80   \n",
       "3  Contra Costa  2018        137      2690  0.985401        1.0          6096   \n",
       "4     El Dorado  2018          8       185       1.0        1.0           632   \n",
       "\n",
       "   SURVEY_RATE  FAC_STAR  XP_STAR   COMM_SCR  QUALITY_SCR   INFO_SCR  \\\n",
       "0         <NA>   3.44586     <NA>  81.248408    81.433121  79.757962   \n",
       "1         <NA>  3.666667     <NA>  80.666667    83.000000  84.000000   \n",
       "2         <NA>       4.0     <NA>  84.000000    88.000000  75.000000   \n",
       "3         <NA>  3.071429     <NA>  79.928571    79.571429  77.428571   \n",
       "4         <NA>       4.0     <NA>  87.000000    86.000000  84.000000   \n",
       "\n",
       "    PHYS_SCR  STAFF_SCR    FAC_SCR  \n",
       "0  84.738854  86.522293  87.980892  \n",
       "1  86.333333  87.666667  89.333333  \n",
       "2  89.000000  93.000000  90.000000  \n",
       "3  82.642857  85.857143  86.928571  \n",
       "4  85.000000  88.000000  90.000000  "
      ]
     },
     "execution_count": 8,
     "metadata": {},
     "output_type": "execute_result"
    }
   ],
   "source": [
    "# Create a copy of the dataframe for aggregation\n",
    "df_agg = df_fasc.copy()\n",
    "\n",
    "# Convert PROF_NP and CHAIN_OWN to numeric if they're not already\n",
    "df_agg['PROF_NP'] = df_agg['PROF_NP'].map({'profit': 1, 'non_profit': 0}).astype('Int64')\n",
    "df_agg['CHAIN_OWN'] = df_agg['CHAIN_OWN'].map({'yes': 1, 'no': 0}).astype('Int64')\n",
    "\n",
    "# Aggregate data by county\n",
    "agg_funcs = {\n",
    "    'CNN': 'count',  # Changed from 'CCN' to 'CNN'\n",
    "    'STATIONS': 'sum',\n",
    "    'PROF_NP': 'mean',\n",
    "    'CHAIN_OWN': 'mean',\n",
    "    'SURVEY_COUNT': 'sum',\n",
    "    'SURVEY_RATE': 'mean',\n",
    "    'FAC_STAR': 'mean',\n",
    "    'XP_STAR': 'mean',\n",
    "    'COMM_SCR': 'mean',\n",
    "    'QUALITY_SCR': 'mean',\n",
    "    'INFO_SCR': 'mean',\n",
    "    'PHYS_SCR': 'mean',\n",
    "    'STAFF_SCR': 'mean',\n",
    "    'FAC_SCR': 'mean'\n",
    "}\n",
    "\n",
    "# List of columns to keep after aggregation\n",
    "agg_col = ['COUNTY', 'YEAR', 'FAC_COUNT', 'STATIONS', 'PROF_NP', 'CHAIN_OWN', 'SURVEY_COUNT',\n",
    "           'SURVEY_RATE', 'FAC_STAR', 'XP_STAR', 'COMM_SCR', 'QUALITY_SCR',\n",
    "           'INFO_SCR', 'PHYS_SCR', 'STAFF_SCR', 'FAC_SCR']\n",
    "\n",
    "# Perform the aggregation\n",
    "df_agg = df_agg.groupby(['YEAR', 'COUNTY']).agg(agg_funcs).reset_index()\n",
    "\n",
    "# Rename the count column\n",
    "df_agg.rename(columns={'CNN': 'FAC_COUNT'}, inplace=True)\n",
    "\n",
    "# Select only the columns we want to keep\n",
    "df_agg = df_agg[agg_col]\n",
    "\n",
    "# Display the first few rows of the aggregated dataframe\n",
    "df_agg.head()\n"
   ]
  },
  {
   "cell_type": "code",
   "execution_count": null,
   "id": "ffe46ffd",
   "metadata": {},
   "outputs": [],
   "source": [
    "# Display aggregated dataset information\n",
    "df_agg.info()"
   ]
  },
  {
   "cell_type": "code",
   "execution_count": null,
   "metadata": {},
   "outputs": [],
   "source": [
    "import plotly.express as px\n",
    "\n",
    "def plot_treemap(df, year):\n",
    "    # Filter data for the specified year\n",
    "    df_agg_treemap = df[df['YEAR'] == year]\n",
    "    \n",
    "    # Check if there's any data for the specified year\n",
    "    if df_agg_treemap.empty:\n",
    "        print(f\"No data available for year {year}\")\n",
    "        return\n",
    "    \n",
    "    # Remove rows with null values in FAC_STAR or STATIONS\n",
    "    df_agg_treemap = df_agg_treemap.dropna(subset=['FAC_STAR', 'STATIONS'])\n",
    "    \n",
    "    # Check if there's any data left after removing null values\n",
    "    if df_agg_treemap.empty:\n",
    "        print(f\"No valid data available for year {year} after removing null values\")\n",
    "        return\n",
    "    \n",
    "    # Calculate the average FAC_STAR, handling potential division by zero\n",
    "    total_stations = df_agg_treemap['STATIONS'].sum()\n",
    "    if total_stations > 0:\n",
    "        avg_fac_star = np.average(df_agg_treemap['FAC_STAR'], weights=df_agg_treemap['STATIONS'])\n",
    "    else:\n",
    "        avg_fac_star = df_agg_treemap['FAC_STAR'].mean()  # Unweighted average if no stations\n",
    "    \n",
    "    # Create the treemap\n",
    "    fig = px.treemap(df_agg_treemap, \n",
    "                     path=['COUNTY'], \n",
    "                     values='STATIONS',\n",
    "                     color='FAC_STAR', \n",
    "                     hover_data=df_agg_treemap.columns,\n",
    "                     color_continuous_scale='RdBu',\n",
    "                     color_continuous_midpoint=avg_fac_star)\n",
    "    \n",
    "    # Update layout\n",
    "    fig.update_layout(\n",
    "        title_text=f\"County-Level Facility Data Treemap for Year {year}\",\n",
    "        coloraxis_colorbar=dict(title=\"Facility Star Rating\"),\n",
    "    )\n",
    "    \n",
    "    # Show the plot\n",
    "    fig.show()\n",
    "\n",
    "# Example usage:\n",
    "plot_treemap(df_agg, 2020)"
   ]
  },
  {
   "cell_type": "code",
   "execution_count": null,
   "id": "582fe3f6",
   "metadata": {},
   "outputs": [],
   "source": [
    "# Pairplot for aggregated data\n",
    "df_plot = df_agg[df_agg['YEAR']==2020]\n",
    "sns.pairplot(data=df_plot)"
   ]
  },
  {
   "cell_type": "markdown",
   "metadata": {},
   "source": [
    "## 7. Export Cleaned Data"
   ]
  },
  {
   "cell_type": "code",
   "execution_count": 9,
   "metadata": {},
   "outputs": [],
   "source": [
    "base_dir = os.path.dirname(os.path.dirname(os.getcwd()))\n",
    "agg_output_file = os.path.join(base_dir, '009_supplemental', 'cleaned data', 'FASCILITY_CLEANED.csv')\n",
    "\n",
    "# Save the aggregated data to CSV\n",
    "df_agg.to_csv(agg_output_file, index=False)\n",
    "\n",
    "base_dir = os.path.dirname(os.path.dirname(os.getcwd()))\n",
    "non_agg_output_file = os.path.join(base_dir, '009_supplemental', 'cleaned data', 'FASCILITY_RECORDS_CLEANED.csv')\n",
    "\n",
    "# Save the aggregated data to CSV\n",
    "df_fasc.to_csv(non_agg_output_file, index=False)\n"
   ]
  },
  {
   "cell_type": "markdown",
   "metadata": {},
   "source": [
    "# III. Medicare Dataset"
   ]
  },
  {
   "cell_type": "markdown",
   "metadata": {},
   "source": [
    "## 1. DATA Descritpion"
   ]
  },
  {
   "cell_type": "markdown",
   "metadata": {},
   "source": [
    "## 2. Load Datasets\n",
    "This section loads raw data from various CSV files."
   ]
  },
  {
   "cell_type": "markdown",
   "metadata": {},
   "source": [
    "### 2.1 Load Medicare Data:"
   ]
  },
  {
   "cell_type": "code",
   "execution_count": null,
   "metadata": {},
   "outputs": [],
   "source": [
    "# Load DFC Facility Data\n",
    "path_medicare = r'003_data\\001_raw-data\\MEDICARE\\Medicare.csv'\n",
    "df_medicare_raw = pd.read_csv(path_medicare, low_memory=False)\n",
    "df_medicare_raw_COUNTY = df_medicare_raw[df_medicare_raw['BENE_GEO_LVL'] == 'County']\n",
    "df_medicare_raw_CA = df_medicare_raw_COUNTY[df_medicare_raw_COUNTY['BENE_GEO_DESC'].str.startswith('CA-')]\n",
    "df_medicare_raw_CA['COUNTY'] = df_medicare_raw_CA['BENE_GEO_DESC'].str.split('-').str[1]\n",
    "df_medicare = df_medicare_raw_CA.copy()\n",
    "\n",
    "def medicare_filter(df, year_range, columns):\n",
    "    years = range(year_range[0], year_range[1]+1)\n",
    "    df = df[df['YEAR'].isin(years)]\n",
    "    df = df[columns]\n",
    "    return df\n",
    "\n",
    "year_range = (2014, 2022)\n",
    "columns = [\n",
    "    'YEAR',\n",
    "    'COUNTY',\n",
    "    'OP_DLYS_MDCR_PYMT_AMT',\n",
    "    'OP_DLYS_MDCR_PYMT_PCT',\n",
    "    'OP_DLYS_MDCR_PYMT_PC',\n",
    "    'OP_DLYS_MDCR_PYMT_PER_USER',\n",
    "    'OP_DLYS_MDCR_STDZD_PYMT_AMT',\n",
    "    'OP_DLYS_MDCR_STDZD_PYMT_PCT',\n",
    "    'OP_DLYS_MDCR_STDZD_PYMT_PC',\n",
    "    'OP_DLYS_MDCR_STDZD_PYMT_PER_USER',\n",
    "    'BENES_OP_DLYS_CNT',\n",
    "    'BENES_OP_DLYS_PCT',\n",
    "    'OP_DLYS_VISITS_PER_1000_BENES'\n",
    "]\n",
    "\n",
    "\n",
    "df_dial = medicare_filter(df_medicare, year_range, columns)\n",
    "\n",
    "df_dial.head()"
   ]
  },
  {
   "cell_type": "markdown",
   "metadata": {},
   "source": [
    "## 2. Basic Data Exploration\n",
    "This section provides a brief overview of the Medicare dataset, including data types, summary statistics, and missing values."
   ]
  },
  {
   "cell_type": "code",
   "execution_count": null,
   "metadata": {},
   "outputs": [],
   "source": [
    "df_dial.replace('*', np.nan, inplace=True)\n",
    "df_dial['COUNTY'].replace('UNKNOWN', np.nan, inplace=True)\n",
    "# Display dataset information\n",
    "column_name_mapping = {\n",
    "    'YEAR': 'YEAR',\n",
    "    'COUNTY': 'COUNTY',\n",
    "    'OP_DLYS_MDCR_PYMT_AMT': 'PYMT_AMT',\n",
    "    'OP_DLYS_MDCR_PYMT_PCT': 'PYMT_PCT',\n",
    "    'OP_DLYS_MDCR_PYMT_PC': 'PYMT_PC',\n",
    "    'OP_DLYS_MDCR_PYMT_PER_USER': 'PYMT_PER_USER',\n",
    "    'OP_DLYS_MDCR_STDZD_PYMT_AMT': 'STDZ_PYMT_AMT',\n",
    "    'OP_DLYS_MDCR_STDZD_PYMT_PCT': 'STDZ_PYMT_PCT',\n",
    "    'OP_DLYS_MDCR_STDZD_PYMT_PC': 'STDZ_PYMT_PC',\n",
    "    'OP_DLYS_MDCR_STDZD_PYMT_PER_USER': 'STDZ_PYMT_PER_USER',\n",
    "    'BENES_OP_DLYS_CNT': 'USER_CNT',\n",
    "    'BENES_OP_DLYS_PCT': 'USER_PCT',\n",
    "    'OP_DLYS_VISITS_PER_1000_BENES': 'VISITS_PER_1000'\n",
    "}\n",
    "\n",
    "column_description_mapping = {\n",
    "    'YEAR': 'Year of the Medicare data',\n",
    "    'COUNTY': 'Geographical region (County)',\n",
    "    'PYMT_AMT': 'Total Medicare Payment Amount for Outpatient Dialysis',\n",
    "    'PYMT_PCT': 'Medicare Payment as Percentage of Total Payment for Outpatient Dialysis',\n",
    "    'PYMT_PC': 'Per Capita Medicare Payment for Outpatient Dialysis',\n",
    "    'PYMT_PER_USER': 'Medicare Payment per User for Outpatient Dialysis',\n",
    "    'STDZ_PYMT_AMT': 'Standardized Medicare Payment Amount for Outpatient Dialysis',\n",
    "    'STDZ_PYMT_PCT': 'Standardized Payment as Percentage of Total Payment for Outpatient Dialysis',\n",
    "    'STDZ_PYMT_PC': 'Per Capita Standardized Medicare Payment for Outpatient Dialysis',\n",
    "    'STDZ_PYMT_PER_USER': 'Standardized Payment per User for Outpatient Dialysis',\n",
    "    'USER_CNT': 'Number of Users of Outpatient Dialysis Services',\n",
    "    'USER_PCT': 'Percentage of Beneficiaries Using Outpatient Dialysis',\n",
    "    'VISITS_PER_1000': 'Outpatient Dialysis Visits per 1,000 Beneficiaries'\n",
    "}\n",
    "df_dial.rename(columns=column_name_mapping, inplace=True)\n",
    "\n",
    "\n",
    "# Convert specified columns to int and str, handling NaN values\n",
    "df_dial['YEAR'] = pd.to_numeric(df_dial['YEAR'], errors='coerce').fillna(0).astype(int)\n",
    "df_dial['COUNTY'] = df_dial['COUNTY'].astype(str)\n",
    "df_dial['USER_CNT'] = pd.to_numeric(df_dial['USER_CNT'], errors='coerce').fillna(0).astype(int)\n",
    "\n",
    "# Convert all other columns to float, ignoring NaN values\n",
    "float_columns = [col for col in df_dial.columns if col not in ['YEAR', 'COUNTY', 'USER_CNT']]\n",
    "df_dial[float_columns] = df_dial[float_columns].apply(pd.to_numeric, errors='coerce')\n",
    "\n",
    "df_dial.info()"
   ]
  },
  {
   "cell_type": "code",
   "execution_count": null,
   "metadata": {},
   "outputs": [],
   "source": [
    "# Create a mask of missing values, grouping by COUNTY\n",
    "missing_data = df_dial.isnull()\n",
    "\n",
    "# Plot the heatmap with COUNTY on the y-axis\n",
    "plt.figure(figsize=(12, 8))\n",
    "sns.heatmap(missing_data, cbar=False, cmap='viridis')\n",
    "plt.title('Missing Values by County')\n",
    "plt.xlabel('Columns')\n",
    "plt.show()"
   ]
  },
  {
   "cell_type": "code",
   "execution_count": null,
   "metadata": {},
   "outputs": [],
   "source": [
    "# Aggregate by 'COUNTY' and compute the mean of all other numerical columns, excluding 'YEAR'\n",
    "df_dial_agg = df_dial.groupby(['YEAR', 'COUNTY']).mean(numeric_only=True).reset_index()\n",
    "\n",
    "# Display the first few rows of the aggregated dataframe\n",
    "df_dial_agg.head()"
   ]
  },
  {
   "cell_type": "code",
   "execution_count": null,
   "metadata": {},
   "outputs": [],
   "source": [
    "# Create a mask of missing values, grouping by COUNTY\n",
    "missing_data = df_dial_agg.set_index('COUNTY').isnull()\n",
    "\n",
    "# Plot the heatmap with COUNTY on the y-axis\n",
    "plt.figure(figsize=(12, 8))\n",
    "sns.heatmap(missing_data, cbar=False, cmap='viridis', yticklabels=True)\n",
    "plt.title('Missing Values by County')\n",
    "plt.xlabel('Columns')\n",
    "plt.show()"
   ]
  },
  {
   "cell_type": "markdown",
   "metadata": {},
   "source": [
    "## 5. Data Visualization\n",
    "This section includes visualizations to explore data distributions and relationships between variables."
   ]
  },
  {
   "cell_type": "code",
   "execution_count": null,
   "metadata": {},
   "outputs": [],
   "source": [
    "# Plot distributions for selected columns\n",
    "import seaborn as sns\n",
    "df_ploy = df_dial_agg[df_dial_agg['YEAR'] == 2020]\n",
    "sns.pairplot(data=df_dial_agg)\n"
   ]
  },
  {
   "cell_type": "code",
   "execution_count": null,
   "metadata": {},
   "outputs": [],
   "source": [
    "df_agg_treemap = df_dial_agg.dropna()\n",
    "df_agg_treemap.drop(df_agg_treemap[df_agg_treemap['USER_CNT'] == 0].index, inplace=True)\n",
    "\n",
    "fig = px.treemap(df_agg_treemap, path=['COUNTY'], values='USER_CNT',\n",
    "                  color='STDZ_PYMT_PC', hover_data=df_dial_agg.columns,\n",
    "                  color_continuous_scale='RdBu',\n",
    "                  color_continuous_midpoint=np.average(df_agg_treemap['STDZ_PYMT_PC'], weights=df_agg_treemap['USER_CNT']))\n",
    "fig.show()"
   ]
  },
  {
   "cell_type": "markdown",
   "metadata": {},
   "source": [
    "## 6. Export Cleaned Data"
   ]
  },
  {
   "cell_type": "code",
   "execution_count": null,
   "metadata": {},
   "outputs": [],
   "source": [
    "df_dial_agg_export = df_dial_agg.reset_index(drop=True)\n",
    "df_dial_agg_export.to_csv(r'009_supplemental\\cleaned data\\MEDICARE_CLEANED.csv', index=False)"
   ]
  },
  {
   "cell_type": "code",
   "execution_count": null,
   "metadata": {},
   "outputs": [],
   "source": []
  }
 ],
 "metadata": {
  "kernelspec": {
   "display_name": "Python 3",
   "language": "python",
   "name": "python3"
  },
  "language_info": {
   "codemirror_mode": {
    "name": "ipython",
    "version": 3
   },
   "file_extension": ".py",
   "mimetype": "text/x-python",
   "name": "python",
   "nbconvert_exporter": "python",
   "pygments_lexer": "ipython3",
   "version": "3.11.9"
  }
 },
 "nbformat": 4,
 "nbformat_minor": 2
}
