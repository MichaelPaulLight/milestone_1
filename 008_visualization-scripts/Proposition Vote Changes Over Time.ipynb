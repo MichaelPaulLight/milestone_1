{
 "cells": [
  {
   "cell_type": "markdown",
   "metadata": {},
   "source": [
    "Import Packages"
   ]
  },
  {
   "cell_type": "code",
   "execution_count": 2,
   "metadata": {},
   "outputs": [],
   "source": [
    "import pandas as pd\n",
    "import plotly.graph_objects as go\n",
    "import polars as pl\n",
    "import pyarrow.parquet as pq"
   ]
  },
  {
   "cell_type": "markdown",
   "metadata": {},
   "source": [
    "Data Ingestion"
   ]
  },
  {
   "cell_type": "code",
   "execution_count": 3,
   "metadata": {},
   "outputs": [],
   "source": [
    "ballot_measures_df = pd.read_parquet('../003_data/001_raw-data/2018-2022_ballot-measure_sub-county_data.parquet')\n",
    "\n",
    "# select congressional district sub county for state summary\n",
    "ballot_measures_county_df = ballot_measures_df[ballot_measures_df['sub_county'].str.contains('Congressional')].copy()"
   ]
  },
  {
   "cell_type": "code",
   "execution_count": 11,
   "metadata": {},
   "outputs": [],
   "source": [
    "# convert vote_count to int from string\n",
    "ballot_measures_county_df['vote_count'] = ballot_measures_county_df['vote_count'].astype(int)\n",
    "# split vote counts by year and vote type\n",
    "year_vote_count_summary = ballot_measures_county_df.groupby(['year', 'vote_type']).agg({'vote_count':'sum'}).reset_index()"
   ]
  },
  {
   "cell_type": "code",
   "execution_count": null,
   "metadata": {},
   "outputs": [],
   "source": [
    "year_vote_count_summary"
   ]
  },
  {
   "cell_type": "code",
   "execution_count": 12,
   "metadata": {},
   "outputs": [],
   "source": [
    "# calculates the percentage of yes votes for a given year\n",
    "def get_yes_percent(df_in, year_in):\n",
    "    df_temp = df_in[df_in['year']==year_in]\n",
    "    vote_sum = df_temp['vote_count'].sum(axis=0)\n",
    "    return (df_temp[df_temp['vote_type']=='yes']['vote_count'].values[0]/vote_sum)*100"
   ]
  },
  {
   "cell_type": "markdown",
   "metadata": {},
   "source": [
    "Data Manipulation"
   ]
  },
  {
   "cell_type": "code",
   "execution_count": 13,
   "metadata": {},
   "outputs": [],
   "source": [
    "# calls yes percentage vote method for each year and stores in dictionary\n",
    "vote_change_over_time_dict = {2018: get_yes_percent(year_vote_count_summary, 2018),\n",
    "                              2020: get_yes_percent(year_vote_count_summary, 2020),\n",
    "                              2022: get_yes_percent(year_vote_count_summary, 2022)}\n",
    "\n",
    "# calculates the % drop in yes vote percentage between the three years\n",
    "vote_diff_between = {2019: round(vote_change_over_time_dict[2020]-vote_change_over_time_dict[2018]),\n",
    "                     2021: round(vote_change_over_time_dict[2022]-vote_change_over_time_dict[2020])}"
   ]
  },
  {
   "cell_type": "markdown",
   "metadata": {},
   "source": [
    "Plotting Yes Vote Over Time Figure"
   ]
  },
  {
   "cell_type": "code",
   "execution_count": null,
   "metadata": {},
   "outputs": [],
   "source": [
    "# plotly source: https://plotly.com/python/line-and-scatter/, https://plotly.com/python/text-and-annotations/,\n",
    "# https://python-graph-gallery.com/523-plotly-add-annotation/\n",
    "\n",
    "\n",
    "fig = go.Figure()\n",
    "\n",
    "\n",
    "yes_percentages = [x for x in list(vote_change_over_time_dict.values())]\n",
    "# rounds yes percentages and adds % for plot labeling\n",
    "yes_percentages_str = [' '+str(round(x))+'%' for x in list(vote_change_over_time_dict.values())]\n",
    "\n",
    "# rounds yes percentage changes and adds % for plot labeling\n",
    "diff_btwn_years = [str(x)+'%' for x in list(vote_diff_between.values())]\n",
    "\n",
    "fig.add_trace(go.Scatter( \n",
    "    x=list(vote_change_over_time_dict.keys()),\n",
    "    y= yes_percentages, \n",
    "    mode='markers+text', \n",
    "    text=yes_percentages_str,\n",
    "    textposition='middle right',\n",
    "\n",
    "    marker=dict(\n",
    "        size=10, \n",
    "        color='black'\n",
    "    ),\n",
    "    textfont=dict(\n",
    "        size=16,\n",
    "        color='black'\n",
    "    ),\n",
    "    showlegend=False,\n",
    "    name='percent yes'\n",
    "))\n",
    "\n",
    "fig.add_trace(go.Scatter(\n",
    "    x=[2019, 2021],\n",
    "    y=[39, 35],\n",
    "    mode=\"markers+text\",\n",
    "    marker=dict(symbol='triangle-down', \n",
    "                size=10, \n",
    "                color='red'\n",
    "    ),\n",
    "    text=diff_btwn_years,\n",
    "    textposition=\"bottom right\",\n",
    "    showlegend=False,\n",
    "    name='percent change',\n",
    "))\n",
    "\n",
    "fig.update_yaxes(range=[25, 45])\n",
    "fig.update_xaxes(range=[2017, 2023])\n",
    "\n",
    "fig.update_layout(\n",
    "    title='Percentage of Yes Votes for Dialysis Clinic Requirements Propositions in California',\n",
    "    yaxis_title=\"Percentage of Yes Votes\",\n",
    "    xaxis_title=\"Dialysis Clinic Requirements Proposition Year\",\n",
    "    width=850,\n",
    "    xaxis=dict(nticks=4,\n",
    "               showgrid=False\n",
    "    )\n",
    ")\n",
    "\n",
    "fig.show()"
   ]
  },
  {
   "cell_type": "markdown",
   "metadata": {},
   "source": [
    "Download Image"
   ]
  },
  {
   "cell_type": "code",
   "execution_count": 9,
   "metadata": {},
   "outputs": [],
   "source": [
    "#fig.write_html(\"../007_visualizations/Yes Vote Percentages Propositions in Californa.html\")"
   ]
  }
 ],
 "metadata": {
  "kernelspec": {
   "display_name": "base",
   "language": "python",
   "name": "python3"
  },
  "language_info": {
   "codemirror_mode": {
    "name": "ipython",
    "version": 3
   },
   "file_extension": ".py",
   "mimetype": "text/x-python",
   "name": "python",
   "nbconvert_exporter": "python",
   "pygments_lexer": "ipython3",
   "version": "3.11.5"
  }
 },
 "nbformat": 4,
 "nbformat_minor": 2
}
